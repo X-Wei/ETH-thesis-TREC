{
 "cells": [
  {
   "cell_type": "code",
   "execution_count": null,
   "metadata": {
    "collapsed": true
   },
   "outputs": [],
   "source": [
    "from settings import * "
   ]
  },
  {
   "cell_type": "code",
   "execution_count": null,
   "metadata": {
    "collapsed": true
   },
   "outputs": [],
   "source": [
    "with open(DRMM_PK_FPATH) as f:\n",
    "    data_pickle = pk.load(f)"
   ]
  },
  {
   "cell_type": "code",
   "execution_count": null,
   "metadata": {
    "collapsed": false,
    "scrolled": true
   },
   "outputs": [],
   "source": [
    "data_pickle.keys()"
   ]
  },
  {
   "cell_type": "code",
   "execution_count": null,
   "metadata": {
    "collapsed": true
   },
   "outputs": [],
   "source": [
    "QUERIES = data_pickle['QUERIES']\n",
    "instances = data_pickle['instances']\n",
    "candidates = data_pickle['candidates']\n",
    "qid_docid2histvec = data_pickle['qid_docid2histvec']\n",
    "relevance = data_pickle['relevance']\n",
    "IDFs = data_pickle['IDFs']"
   ]
  },
  {
   "cell_type": "code",
   "execution_count": null,
   "metadata": {
    "collapsed": true
   },
   "outputs": [],
   "source": [
    "instances2 = gen_instances(QUERIES, relevance, candidates, n_pos, mode = 'uniform')"
   ]
  },
  {
   "cell_type": "code",
   "execution_count": null,
   "metadata": {
    "collapsed": true
   },
   "outputs": [],
   "source": [
    "MAX_QLEN = 12"
   ]
  },
  {
   "cell_type": "code",
   "execution_count": null,
   "metadata": {
    "collapsed": false
   },
   "outputs": [],
   "source": [
    "import DRMM\n",
    "reload(DRMM)\n",
    "from DRMM import *"
   ]
  },
  {
   "cell_type": "code",
   "execution_count": null,
   "metadata": {
    "collapsed": false
   },
   "outputs": [],
   "source": [
    "ffwd_3layer = Sequential(\n",
    "    [Dense(input_dim= N_HISTBINS, output_dim=10, activation='relu'),\n",
    "     Dense(input_dim= N_HISTBINS, output_dim=5, activation='relu'),\n",
    "     Dense(output_dim=1, activation='tanh'),\n",
    "     ], \n",
    "    name='ffwd_3layer')"
   ]
  },
  {
   "cell_type": "code",
   "execution_count": null,
   "metadata": {
    "collapsed": true
   },
   "outputs": [],
   "source": [
    "ffwd_4layer = Sequential(\n",
    "    [Dense(input_dim= N_HISTBINS, output_dim=10, activation='relu'),\n",
    "     Dense(input_dim= N_HISTBINS, output_dim=6, activation='relu'),\n",
    "     Dense(input_dim= N_HISTBINS, output_dim=3, activation='relu'),\n",
    "     Dense(output_dim=1, activation='tanh'),\n",
    "     ], \n",
    "    name='ffwd_4layer')"
   ]
  },
  {
   "cell_type": "code",
   "execution_count": null,
   "metadata": {
    "collapsed": true
   },
   "outputs": [],
   "source": [
    "from utils import KFold"
   ]
  },
  {
   "cell_type": "code",
   "execution_count": null,
   "metadata": {
    "collapsed": false
   },
   "outputs": [],
   "source": [
    "def tune_ffwd(feed_forward, suffix = '', instances = instances):\n",
    "    scoring_model, ranking_model = gen_DRMM_model(MAX_QLEN, feed_forward)\n",
    "    initial_weights = ranking_model.get_weights()\n",
    "    KFold(ranking_model=ranking_model, scoring_model=scoring_model, data_pickle=data_pickle,\n",
    "          initial_weights = initial_weights, verbose=0,\n",
    "          fpath = '../data/trec-output/0209_5fold_%s.rankedlist' % suffix, \n",
    "          instances = instances)\n",
    "    KFold(ranking_model=ranking_model, scoring_model=scoring_model, data_pickle=data_pickle,\n",
    "          initial_weights = initial_weights, verbose=0, K = 30,\n",
    "          fpath = '../data/trec-output/0209_LOO_%s.rankedlist' % suffix, \n",
    "          instances = instances)"
   ]
  },
  {
   "cell_type": "code",
   "execution_count": null,
   "metadata": {
    "collapsed": true
   },
   "outputs": [],
   "source": [
    "tune_ffwd(feed_forward, 'orignial')"
   ]
  },
  {
   "cell_type": "code",
   "execution_count": null,
   "metadata": {
    "collapsed": false,
    "scrolled": true
   },
   "outputs": [],
   "source": [
    "tune_ffwd(ffwd_3layer, 'ffwd3layer')"
   ]
  },
  {
   "cell_type": "code",
   "execution_count": null,
   "metadata": {
    "collapsed": false,
    "scrolled": true
   },
   "outputs": [],
   "source": [
    "tune_ffwd(ffwd_4layer, 'ffwd4layer')"
   ]
  },
  {
   "cell_type": "code",
   "execution_count": null,
   "metadata": {
    "collapsed": true
   },
   "outputs": [],
   "source": [
    "tune_ffwd(feed_forward, 'orignial_unif', instances=instances2)"
   ]
  },
  {
   "cell_type": "code",
   "execution_count": null,
   "metadata": {
    "collapsed": false
   },
   "outputs": [],
   "source": [
    "tune_ffwd(ffwd_3layer, 'ffwd3layer_unif', instances=instances2)"
   ]
  },
  {
   "cell_type": "code",
   "execution_count": null,
   "metadata": {
    "collapsed": false
   },
   "outputs": [],
   "source": [
    "tune_ffwd(ffwd_4layer, 'ffwd4layer_unif', instances=instances2)"
   ]
  }
 ],
 "metadata": {
  "anaconda-cloud": {},
  "kernelspec": {
   "display_name": "Python [conda env:thesis_nb]",
   "language": "python",
   "name": "conda-env-thesis_nb-py"
  },
  "language_info": {
   "codemirror_mode": {
    "name": "ipython",
    "version": 2
   },
   "file_extension": ".py",
   "mimetype": "text/x-python",
   "name": "python",
   "nbconvert_exporter": "python",
   "pygments_lexer": "ipython2",
   "version": "2.7.12"
  }
 },
 "nbformat": 4,
 "nbformat_minor": 1
}
