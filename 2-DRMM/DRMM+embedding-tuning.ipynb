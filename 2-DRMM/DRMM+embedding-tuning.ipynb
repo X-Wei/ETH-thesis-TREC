{
 "cells": [
  {
   "cell_type": "code",
   "execution_count": 2,
   "metadata": {
    "collapsed": true
   },
   "outputs": [],
   "source": [
    "from settings import * "
   ]
  },
  {
   "cell_type": "code",
   "execution_count": 3,
   "metadata": {
    "collapsed": true
   },
   "outputs": [],
   "source": [
    "with open(DRMM_PK_FPATH) as f:\n",
    "    data_pickle = pk.load(f)"
   ]
  },
  {
   "cell_type": "code",
   "execution_count": 4,
   "metadata": {
    "collapsed": false,
    "scrolled": true
   },
   "outputs": [
    {
     "data": {
      "text/plain": [
       "['qid_docid2histvec',\n",
       " 'n_pos',\n",
       " 'instances',\n",
       " 'candidates',\n",
       " 'QUERIES',\n",
       " 'relevance']"
      ]
     },
     "execution_count": 4,
     "metadata": {},
     "output_type": "execute_result"
    }
   ],
   "source": [
    "data_pickle.keys()"
   ]
  },
  {
   "cell_type": "code",
   "execution_count": 5,
   "metadata": {
    "collapsed": true
   },
   "outputs": [],
   "source": [
    "QUERIES = data_pickle['QUERIES']\n",
    "instances = data_pickle['instances']\n",
    "candidates = data_pickle['candidates']\n",
    "qid_docid2histvec = data_pickle['qid_docid2histvec']"
   ]
  },
  {
   "cell_type": "code",
   "execution_count": 22,
   "metadata": {
    "collapsed": true
   },
   "outputs": [],
   "source": [
    "relevance = data_pickle['relevance']"
   ]
  },
  {
   "cell_type": "code",
   "execution_count": 6,
   "metadata": {
    "collapsed": false
   },
   "outputs": [],
   "source": [
    "def idf(para):\n",
    "    return -10 if para==PARA_PLACEHOLDER else 1.0 \n",
    "IDFs = {}\n",
    "for qid in QUERIES.keys(): \n",
    "    IDFs[qid] = np.array([idf(para) for para in QUERIES[qid]])"
   ]
  },
  {
   "cell_type": "code",
   "execution_count": 7,
   "metadata": {
    "collapsed": true
   },
   "outputs": [],
   "source": [
    "data_pickle['IDFs'] = IDFs"
   ]
  },
  {
   "cell_type": "code",
   "execution_count": 8,
   "metadata": {
    "collapsed": false
   },
   "outputs": [
    {
     "name": "stderr",
     "output_type": "stream",
     "text": [
      "Using TensorFlow backend.\n"
     ]
    }
   ],
   "source": [
    "import DRMM\n",
    "reload(DRMM)\n",
    "from DRMM import *"
   ]
  },
  {
   "cell_type": "code",
   "execution_count": 9,
   "metadata": {
    "collapsed": false
   },
   "outputs": [],
   "source": [
    "ffwd_3layer = Sequential(\n",
    "    [Dense(input_dim= N_HISTBINS, output_dim=10, activation='relu'),\n",
    "     Dense(input_dim= N_HISTBINS, output_dim=5, activation='relu'),\n",
    "     Dense(output_dim=1, activation='tanh'),\n",
    "     ], \n",
    "    name='ffwd_3layer')"
   ]
  },
  {
   "cell_type": "code",
   "execution_count": 10,
   "metadata": {
    "collapsed": true
   },
   "outputs": [],
   "source": [
    "ffwd_4layer = Sequential(\n",
    "    [Dense(input_dim= N_HISTBINS, output_dim=10, activation='relu'),\n",
    "     Dense(input_dim= N_HISTBINS, output_dim=6, activation='relu'),\n",
    "     Dense(input_dim= N_HISTBINS, output_dim=3, activation='relu'),\n",
    "     Dense(output_dim=1, activation='tanh'),\n",
    "     ], \n",
    "    name='ffwd_4layer')"
   ]
  },
  {
   "cell_type": "code",
   "execution_count": 11,
   "metadata": {
    "collapsed": true
   },
   "outputs": [],
   "source": [
    "from utils import KFold"
   ]
  },
  {
   "cell_type": "code",
   "execution_count": 12,
   "metadata": {
    "collapsed": true
   },
   "outputs": [],
   "source": [
    "MAX_QLEN = 12"
   ]
  },
  {
   "cell_type": "code",
   "execution_count": 15,
   "metadata": {
    "collapsed": false
   },
   "outputs": [],
   "source": [
    "def tune_ffwd(feed_forward, suffix = '', instances = instances):\n",
    "    scoring_model, ranking_model = gen_DRMM_model(MAX_QLEN, feed_forward)\n",
    "    initial_weights = ranking_model.get_weights()\n",
    "    KFold(ranking_model=ranking_model, scoring_model=scoring_model, data_pickle=data_pickle,\n",
    "          initial_weights = initial_weights, verbose=0,\n",
    "          fpath = '../data/trec-output/0203_5fold_%s.rankedlist' % suffix, \n",
    "          instances = instances)\n",
    "    KFold(ranking_model=ranking_model, scoring_model=scoring_model, data_pickle=data_pickle,\n",
    "          initial_weights = initial_weights, verbose=0, K = 30,\n",
    "          fpath = '../data/trec-output/0203_LOO_%s.rankedlist' % suffix, \n",
    "          instances = instances)"
   ]
  },
  {
   "cell_type": "code",
   "execution_count": 16,
   "metadata": {
    "collapsed": false,
    "scrolled": true
   },
   "outputs": [
    {
     "name": "stdout",
     "output_type": "stream",
     "text": [
      "fold 0 [14, 16, 15, 6, 1, 26]\n",
      "fold 0 complete, outputting to ../data/trec-output/0203_5fold_ffwd3layer.rankedlist...\n",
      "fold 1 [22, 17, 30, 10, 25, 2]\n",
      "fold 1 complete, outputting to ../data/trec-output/0203_5fold_ffwd3layer.rankedlist...\n",
      "fold 2 [18, 24, 8, 19, 29, 13]\n",
      "fold 2 complete, outputting to ../data/trec-output/0203_5fold_ffwd3layer.rankedlist...\n",
      "fold 3 [28, 27, 7, 5, 23, 12]\n",
      "fold 3 complete, outputting to ../data/trec-output/0203_5fold_ffwd3layer.rankedlist...\n",
      "fold 4 [4, 11, 3, 20, 21, 9]\n",
      "fold 4 complete, outputting to ../data/trec-output/0203_5fold_ffwd3layer.rankedlist...\n",
      "fold 0 [15]\n",
      "fold 0 complete, outputting to ../data/trec-output/0203_LOO_ffwd3layer.rankedlist...\n",
      "fold 1 [21]\n",
      "fold 1 complete, outputting to ../data/trec-output/0203_LOO_ffwd3layer.rankedlist...\n",
      "fold 2 [24]\n",
      "fold 2 complete, outputting to ../data/trec-output/0203_LOO_ffwd3layer.rankedlist...\n",
      "fold 3 [25]\n",
      "fold 3 complete, outputting to ../data/trec-output/0203_LOO_ffwd3layer.rankedlist...\n",
      "fold 4 [3]\n",
      "fold 4 complete, outputting to ../data/trec-output/0203_LOO_ffwd3layer.rankedlist...\n",
      "fold 5 [4]\n",
      "fold 5 complete, outputting to ../data/trec-output/0203_LOO_ffwd3layer.rankedlist...\n",
      "fold 6 [20]\n",
      "fold 6 complete, outputting to ../data/trec-output/0203_LOO_ffwd3layer.rankedlist...\n",
      "fold 7 [2]\n",
      "fold 7 complete, outputting to ../data/trec-output/0203_LOO_ffwd3layer.rankedlist...\n",
      "fold 8 [13]\n",
      "fold 8 complete, outputting to ../data/trec-output/0203_LOO_ffwd3layer.rankedlist...\n",
      "fold 9 [23]\n",
      "fold 9 complete, outputting to ../data/trec-output/0203_LOO_ffwd3layer.rankedlist...\n",
      "fold 10 [26]\n",
      "fold 10 complete, outputting to ../data/trec-output/0203_LOO_ffwd3layer.rankedlist...\n",
      "fold 11 [29]\n",
      "fold 11 complete, outputting to ../data/trec-output/0203_LOO_ffwd3layer.rankedlist...\n",
      "fold 12 [30]\n",
      "fold 12 complete, outputting to ../data/trec-output/0203_LOO_ffwd3layer.rankedlist...\n",
      "fold 13 [8]\n",
      "fold 13 complete, outputting to ../data/trec-output/0203_LOO_ffwd3layer.rankedlist...\n",
      "fold 14 [12]\n",
      "fold 14 complete, outputting to ../data/trec-output/0203_LOO_ffwd3layer.rankedlist...\n",
      "fold 15 [7]\n",
      "fold 15 complete, outputting to ../data/trec-output/0203_LOO_ffwd3layer.rankedlist...\n",
      "fold 16 [16]\n",
      "fold 16 complete, outputting to ../data/trec-output/0203_LOO_ffwd3layer.rankedlist...\n",
      "fold 17 [9]\n",
      "fold 17 complete, outputting to ../data/trec-output/0203_LOO_ffwd3layer.rankedlist...\n",
      "fold 18 [22]\n",
      "fold 18 complete, outputting to ../data/trec-output/0203_LOO_ffwd3layer.rankedlist...\n",
      "fold 19 [1]\n",
      "fold 19 complete, outputting to ../data/trec-output/0203_LOO_ffwd3layer.rankedlist...\n",
      "fold 20 [28]\n",
      "fold 20 complete, outputting to ../data/trec-output/0203_LOO_ffwd3layer.rankedlist...\n",
      "fold 21 [27]\n",
      "fold 21 complete, outputting to ../data/trec-output/0203_LOO_ffwd3layer.rankedlist...\n",
      "fold 22 [10]\n",
      "fold 22 complete, outputting to ../data/trec-output/0203_LOO_ffwd3layer.rankedlist...\n",
      "fold 23 [17]\n",
      "fold 23 complete, outputting to ../data/trec-output/0203_LOO_ffwd3layer.rankedlist...\n",
      "fold 24 [11]\n",
      "fold 24 complete, outputting to ../data/trec-output/0203_LOO_ffwd3layer.rankedlist...\n",
      "fold 25 [6]\n",
      "fold 25 complete, outputting to ../data/trec-output/0203_LOO_ffwd3layer.rankedlist...\n",
      "fold 26 [14]\n",
      "fold 26 complete, outputting to ../data/trec-output/0203_LOO_ffwd3layer.rankedlist...\n",
      "fold 27 [5]\n",
      "fold 27 complete, outputting to ../data/trec-output/0203_LOO_ffwd3layer.rankedlist...\n",
      "fold 28 [19]\n",
      "fold 28 complete, outputting to ../data/trec-output/0203_LOO_ffwd3layer.rankedlist...\n",
      "fold 29 [18]\n",
      "fold 29 complete, outputting to ../data/trec-output/0203_LOO_ffwd3layer.rankedlist...\n"
     ]
    }
   ],
   "source": [
    "tune_ffwd(ffwd_3layer, 'ffwd3layer')"
   ]
  },
  {
   "cell_type": "code",
   "execution_count": 17,
   "metadata": {
    "collapsed": false,
    "scrolled": true
   },
   "outputs": [
    {
     "name": "stdout",
     "output_type": "stream",
     "text": [
      "fold 0 [24, 19, 8, 26, 14, 11]\n",
      "fold 0 complete, outputting to ../data/trec-output/0203_5fold_ffwd4layer.rankedlist...\n",
      "fold 1 [5, 29, 9, 10, 4, 16]\n",
      "fold 1 complete, outputting to ../data/trec-output/0203_5fold_ffwd4layer.rankedlist...\n",
      "fold 2 [13, 12, 17, 28, 21, 18]\n",
      "fold 2 complete, outputting to ../data/trec-output/0203_5fold_ffwd4layer.rankedlist...\n",
      "fold 3 [20, 3, 22, 1, 23, 2]\n",
      "fold 3 complete, outputting to ../data/trec-output/0203_5fold_ffwd4layer.rankedlist...\n",
      "fold 4 [6, 25, 15, 27, 7, 30]\n",
      "fold 4 complete, outputting to ../data/trec-output/0203_5fold_ffwd4layer.rankedlist...\n",
      "fold 0 [8]\n",
      "fold 0 complete, outputting to ../data/trec-output/0203_LOO_ffwd4layer.rankedlist...\n",
      "fold 1 [7]\n",
      "fold 1 complete, outputting to ../data/trec-output/0203_LOO_ffwd4layer.rankedlist...\n",
      "fold 2 [12]\n",
      "fold 2 complete, outputting to ../data/trec-output/0203_LOO_ffwd4layer.rankedlist...\n",
      "fold 3 [4]\n",
      "fold 3 complete, outputting to ../data/trec-output/0203_LOO_ffwd4layer.rankedlist...\n",
      "fold 4 [15]\n",
      "fold 4 complete, outputting to ../data/trec-output/0203_LOO_ffwd4layer.rankedlist...\n",
      "fold 5 [6]\n",
      "fold 5 complete, outputting to ../data/trec-output/0203_LOO_ffwd4layer.rankedlist...\n",
      "fold 6 [27]\n",
      "fold 6 complete, outputting to ../data/trec-output/0203_LOO_ffwd4layer.rankedlist...\n",
      "fold 7 [16]\n",
      "fold 7 complete, outputting to ../data/trec-output/0203_LOO_ffwd4layer.rankedlist...\n",
      "fold 8 [18]\n",
      "fold 8 complete, outputting to ../data/trec-output/0203_LOO_ffwd4layer.rankedlist...\n",
      "fold 9 [23]\n",
      "fold 9 complete, outputting to ../data/trec-output/0203_LOO_ffwd4layer.rankedlist...\n",
      "fold 10 [11]\n",
      "fold 10 complete, outputting to ../data/trec-output/0203_LOO_ffwd4layer.rankedlist...\n",
      "fold 11 [21]\n",
      "fold 11 complete, outputting to ../data/trec-output/0203_LOO_ffwd4layer.rankedlist...\n",
      "fold 12 [9]\n",
      "fold 12 complete, outputting to ../data/trec-output/0203_LOO_ffwd4layer.rankedlist...\n",
      "fold 13 [17]\n",
      "fold 13 complete, outputting to ../data/trec-output/0203_LOO_ffwd4layer.rankedlist...\n",
      "fold 14 [2]\n",
      "fold 14 complete, outputting to ../data/trec-output/0203_LOO_ffwd4layer.rankedlist...\n",
      "fold 15 [22]\n",
      "fold 15 complete, outputting to ../data/trec-output/0203_LOO_ffwd4layer.rankedlist...\n",
      "fold 16 [19]\n",
      "fold 16 complete, outputting to ../data/trec-output/0203_LOO_ffwd4layer.rankedlist...\n",
      "fold 17 [30]\n",
      "fold 17 complete, outputting to ../data/trec-output/0203_LOO_ffwd4layer.rankedlist...\n",
      "fold 18 [5]\n",
      "fold 18 complete, outputting to ../data/trec-output/0203_LOO_ffwd4layer.rankedlist...\n",
      "fold 19 [14]\n",
      "fold 19 complete, outputting to ../data/trec-output/0203_LOO_ffwd4layer.rankedlist...\n",
      "fold 20 [20]\n",
      "fold 20 complete, outputting to ../data/trec-output/0203_LOO_ffwd4layer.rankedlist...\n",
      "fold 21 [3]\n",
      "fold 21 complete, outputting to ../data/trec-output/0203_LOO_ffwd4layer.rankedlist...\n",
      "fold 22 [10]\n",
      "fold 22 complete, outputting to ../data/trec-output/0203_LOO_ffwd4layer.rankedlist...\n",
      "fold 23 [29]\n",
      "fold 23 complete, outputting to ../data/trec-output/0203_LOO_ffwd4layer.rankedlist...\n",
      "fold 24 [25]\n",
      "fold 24 complete, outputting to ../data/trec-output/0203_LOO_ffwd4layer.rankedlist...\n",
      "fold 25 [26]\n",
      "fold 25 complete, outputting to ../data/trec-output/0203_LOO_ffwd4layer.rankedlist...\n",
      "fold 26 [24]\n",
      "fold 26 complete, outputting to ../data/trec-output/0203_LOO_ffwd4layer.rankedlist...\n",
      "fold 27 [1]\n",
      "fold 27 complete, outputting to ../data/trec-output/0203_LOO_ffwd4layer.rankedlist...\n",
      "fold 28 [28]\n",
      "fold 28 complete, outputting to ../data/trec-output/0203_LOO_ffwd4layer.rankedlist...\n",
      "fold 29 [13]\n",
      "fold 29 complete, outputting to ../data/trec-output/0203_LOO_ffwd4layer.rankedlist...\n"
     ]
    }
   ],
   "source": [
    "tune_ffwd(ffwd_4layer, 'ffwd4layer')"
   ]
  },
  {
   "cell_type": "code",
   "execution_count": 23,
   "metadata": {
    "collapsed": true
   },
   "outputs": [
    {
     "name": "stdout",
     "output_type": "stream",
     "text": [
      "scores = [2, 1, 0] got 8000 instances out of 163263 for query 1\n",
      "scores = [2, 1, 0] got 8000 instances out of 42372 for query 2\n",
      "scores = [2, 1, 0] got 8000 instances out of 192356 for query 3\n",
      "scores = [2, 1, 0] got 8000 instances out of 24345 for query 4\n",
      "scores = [2, 1, 0] got 8000 instances out of 126691 for query 5\n",
      "scores = [2, 1, 0] got 8000 instances out of 97817 for query 6\n",
      "scores = [2, 1, 0] got 8000 instances out of 72479 for query 7\n",
      "scores = [2, 1, 0] got 8000 instances out of 435854 for query 8\n",
      "scores = [2, 1, 0] got 8000 instances out of 126334 for query 9\n",
      "scores = [2, 0] got 8000 instances out of 21318 for query 10\n",
      "scores = [2, 1, 0] got 8000 instances out of 255176 for query 11\n",
      "scores = [2, 1, 0] got 8000 instances out of 117927 for query 12\n",
      "scores = [2, 1, 0] got 8000 instances out of 189428 for query 13\n",
      "scores = [2, 1, 0] got 8000 instances out of 124466 for query 14\n",
      "scores = [2, 1, 0] got 8000 instances out of 68651 for query 15\n",
      "scores = [2, 1, 0] got 8000 instances out of 250340 for query 16\n",
      "scores = [2, 1, 0] got 8000 instances out of 161175 for query 17\n",
      "scores = [2, 1, 0] got 8000 instances out of 71502 for query 18\n",
      "scores = [2, 1, 0] got 8000 instances out of 219438 for query 19\n",
      "scores = [2, 1, 0] got 8000 instances out of 356988 for query 20\n",
      "scores = [2, 1, 0] got 8000 instances out of 64822 for query 21\n",
      "scores = [2, 0] got 8000 instances out of 9296 for query 22\n",
      "scores = [2, 1, 0] got 8000 instances out of 161688 for query 23\n",
      "scores = [2, 1, 0] got 8000 instances out of 615971 for query 24\n",
      "scores = [2, 1, 0] got 8000 instances out of 205871 for query 25\n",
      "scores = [2, 1, 0] got 8000 instances out of 103127 for query 26\n",
      "scores = [2, 0] got 8000 instances out of 11400 for query 27\n",
      "scores = [2, 1, 0] got 8000 instances out of 307502 for query 28\n",
      "scores = [2, 1, 0] got 8000 instances out of 76023 for query 29\n",
      "scores = [2, 1, 0] got 8000 instances out of 49700 for query 30\n"
     ]
    }
   ],
   "source": [
    "N_PAIRS_PER_QUERY = 8000 # the smallest query (22) have 8816 possible pairs \n",
    "from numpy.random import choice \n",
    "from collections import defaultdict\n",
    "instances2 = {} # mapping qid to list, instances[qid] = list (pos_docid, neg_docid) pairs for qid, \n",
    "\n",
    "np.random.seed(1)\n",
    "for qid in QUERIES.keys():\n",
    "    rel_scores = defaultdict(list) # mapping a rel score to list of docids\n",
    "    for docid in candidates[qid]:\n",
    "        rel = relevance[(qid,docid)]\n",
    "        rel_scores[rel].append(docid)\n",
    "    scores = sorted( rel_scores.keys(), reverse=True ) # scores are sorted in desc order\n",
    "    print 'scores =',scores, \n",
    "    \n",
    "    all_instances = []\n",
    "    for i in xrange(len(scores)): \n",
    "        pos_score = scores[i]\n",
    "        for j in xrange(i+1, len(scores)): \n",
    "            neg_score = scores[j]\n",
    "            for posid in rel_scores[pos_score]:\n",
    "                for negid in rel_scores[neg_score]: \n",
    "                    all_instances.append( (posid, negid) )\n",
    "    \n",
    "    instances_for_q = []\n",
    "    for i in choice(len(all_instances), N_PAIRS_PER_QUERY, replace=False):\n",
    "        instances_for_q.append(all_instances[i])\n",
    "    \n",
    "    print 'got %d instances out of %d for query %d' % (len(instances_for_q), len(all_instances), qid)\n",
    "    instances2[qid] = instances_for_q"
   ]
  },
  {
   "cell_type": "code",
   "execution_count": 25,
   "metadata": {
    "collapsed": false
   },
   "outputs": [
    {
     "name": "stdout",
     "output_type": "stream",
     "text": [
      "fold 0 [12, 28, 17, 11, 24, 25]\n",
      "fold 0 complete, outputting to ../data/trec-output/0203_5fold_ffwd3layer_unif.rankedlist...\n",
      "fold 1 [1, 21, 30, 10, 6, 19]\n",
      "fold 1 complete, outputting to ../data/trec-output/0203_5fold_ffwd3layer_unif.rankedlist...\n",
      "fold 2 [18, 2, 29, 20, 7, 13]\n",
      "fold 2 complete, outputting to ../data/trec-output/0203_5fold_ffwd3layer_unif.rankedlist...\n",
      "fold 3 [27, 15, 5, 14, 23, 16]\n",
      "fold 3 complete, outputting to ../data/trec-output/0203_5fold_ffwd3layer_unif.rankedlist...\n",
      "fold 4 [26, 4, 8, 3, 22, 9]\n",
      "fold 4 complete, outputting to ../data/trec-output/0203_5fold_ffwd3layer_unif.rankedlist...\n",
      "fold 0 [17]\n",
      "fold 0 complete, outputting to ../data/trec-output/0203_LOO_ffwd3layer_unif.rankedlist...\n",
      "fold 1 [22]\n",
      "fold 1 complete, outputting to ../data/trec-output/0203_LOO_ffwd3layer_unif.rankedlist...\n",
      "fold 2 [2]\n",
      "fold 2 complete, outputting to ../data/trec-output/0203_LOO_ffwd3layer_unif.rankedlist...\n",
      "fold 3 [6]\n",
      "fold 3 complete, outputting to ../data/trec-output/0203_LOO_ffwd3layer_unif.rankedlist...\n",
      "fold 4 [8]\n",
      "fold 4 complete, outputting to ../data/trec-output/0203_LOO_ffwd3layer_unif.rankedlist...\n",
      "fold 5 [26]\n",
      "fold 5 complete, outputting to ../data/trec-output/0203_LOO_ffwd3layer_unif.rankedlist...\n",
      "fold 6 [3]\n",
      "fold 6 complete, outputting to ../data/trec-output/0203_LOO_ffwd3layer_unif.rankedlist...\n",
      "fold 7 [19]\n",
      "fold 7 complete, outputting to ../data/trec-output/0203_LOO_ffwd3layer_unif.rankedlist...\n",
      "fold 8 [13]\n",
      "fold 8 complete, outputting to ../data/trec-output/0203_LOO_ffwd3layer_unif.rankedlist...\n",
      "fold 9 [23]\n",
      "fold 9 complete, outputting to ../data/trec-output/0203_LOO_ffwd3layer_unif.rankedlist...\n",
      "fold 10 [25]\n",
      "fold 10 complete, outputting to ../data/trec-output/0203_LOO_ffwd3layer_unif.rankedlist...\n",
      "fold 11 [7]\n",
      "fold 11 complete, outputting to ../data/trec-output/0203_LOO_ffwd3layer_unif.rankedlist...\n",
      "fold 12 [30]\n",
      "fold 12 complete, outputting to ../data/trec-output/0203_LOO_ffwd3layer_unif.rankedlist...\n",
      "fold 13 [29]\n",
      "fold 13 complete, outputting to ../data/trec-output/0203_LOO_ffwd3layer_unif.rankedlist...\n",
      "fold 14 [16]\n",
      "fold 14 complete, outputting to ../data/trec-output/0203_LOO_ffwd3layer_unif.rankedlist...\n",
      "fold 15 [5]\n",
      "fold 15 complete, outputting to ../data/trec-output/0203_LOO_ffwd3layer_unif.rankedlist...\n",
      "fold 16 [28]\n",
      "fold 16 complete, outputting to ../data/trec-output/0203_LOO_ffwd3layer_unif.rankedlist...\n",
      "fold 17 [9]\n",
      "fold 17 complete, outputting to ../data/trec-output/0203_LOO_ffwd3layer_unif.rankedlist...\n",
      "fold 18 [1]\n",
      "fold 18 complete, outputting to ../data/trec-output/0203_LOO_ffwd3layer_unif.rankedlist...\n",
      "fold 19 [24]\n",
      "fold 19 complete, outputting to ../data/trec-output/0203_LOO_ffwd3layer_unif.rankedlist...\n",
      "fold 20 [27]\n",
      "fold 20 complete, outputting to ../data/trec-output/0203_LOO_ffwd3layer_unif.rankedlist...\n",
      "fold 21 [15]\n",
      "fold 21 complete, outputting to ../data/trec-output/0203_LOO_ffwd3layer_unif.rankedlist...\n",
      "fold 22 [10]\n",
      "fold 22 complete, outputting to ../data/trec-output/0203_LOO_ffwd3layer_unif.rankedlist...\n",
      "fold 23 [21]\n",
      "fold 23 complete, outputting to ../data/trec-output/0203_LOO_ffwd3layer_unif.rankedlist...\n",
      "fold 24 [4]\n",
      "fold 24 complete, outputting to ../data/trec-output/0203_LOO_ffwd3layer_unif.rankedlist...\n",
      "fold 25 [11]\n",
      "fold 25 complete, outputting to ../data/trec-output/0203_LOO_ffwd3layer_unif.rankedlist...\n",
      "fold 26 [12]\n",
      "fold 26 complete, outputting to ../data/trec-output/0203_LOO_ffwd3layer_unif.rankedlist...\n",
      "fold 27 [14]\n",
      "fold 27 complete, outputting to ../data/trec-output/0203_LOO_ffwd3layer_unif.rankedlist...\n",
      "fold 28 [20]\n",
      "fold 28 complete, outputting to ../data/trec-output/0203_LOO_ffwd3layer_unif.rankedlist...\n",
      "fold 29 [18]\n",
      "fold 29 complete, outputting to ../data/trec-output/0203_LOO_ffwd3layer_unif.rankedlist...\n"
     ]
    }
   ],
   "source": [
    "tune_ffwd(ffwd_3layer, 'ffwd3layer_unif', instances=instances2)"
   ]
  },
  {
   "cell_type": "code",
   "execution_count": 26,
   "metadata": {
    "collapsed": false
   },
   "outputs": [
    {
     "name": "stdout",
     "output_type": "stream",
     "text": [
      "fold 0 [2, 20, 29, 25, 12, 4]\n",
      "fold 0 complete, outputting to ../data/trec-output/0203_5fold_ffwd4layer_unif.rankedlist...\n",
      "fold 1 [14, 7, 9, 10, 26, 28]\n",
      "fold 1 complete, outputting to ../data/trec-output/0203_5fold_ffwd4layer_unif.rankedlist...\n",
      "fold 2 [13, 16, 21, 27, 22, 18]\n",
      "fold 2 complete, outputting to ../data/trec-output/0203_5fold_ffwd4layer_unif.rankedlist...\n",
      "fold 3 [3, 8, 1, 24, 23, 19]\n",
      "fold 3 complete, outputting to ../data/trec-output/0203_5fold_ffwd4layer_unif.rankedlist...\n",
      "fold 4 [11, 6, 17, 15, 5, 30]\n",
      "fold 4 complete, outputting to ../data/trec-output/0203_5fold_ffwd4layer_unif.rankedlist...\n",
      "fold 0 [29]\n",
      "fold 0 complete, outputting to ../data/trec-output/0203_LOO_ffwd4layer_unif.rankedlist...\n",
      "fold 1 [5]\n",
      "fold 1 complete, outputting to ../data/trec-output/0203_LOO_ffwd4layer_unif.rankedlist...\n",
      "fold 2 [16]\n",
      "fold 2 complete, outputting to ../data/trec-output/0203_LOO_ffwd4layer_unif.rankedlist...\n",
      "fold 3 [26]\n",
      "fold 3 complete, outputting to ../data/trec-output/0203_LOO_ffwd4layer_unif.rankedlist...\n",
      "fold 4 [17]\n",
      "fold 4 complete, outputting to ../data/trec-output/0203_LOO_ffwd4layer_unif.rankedlist...\n",
      "fold 5 [11]\n",
      "fold 5 complete, outputting to ../data/trec-output/0203_LOO_ffwd4layer_unif.rankedlist...\n",
      "fold 6 [15]\n",
      "fold 6 complete, outputting to ../data/trec-output/0203_LOO_ffwd4layer_unif.rankedlist...\n",
      "fold 7 [28]\n",
      "fold 7 complete, outputting to ../data/trec-output/0203_LOO_ffwd4layer_unif.rankedlist...\n",
      "fold 8 [18]\n",
      "fold 8 complete, outputting to ../data/trec-output/0203_LOO_ffwd4layer_unif.rankedlist...\n",
      "fold 9 [23]\n",
      "fold 9 complete, outputting to ../data/trec-output/0203_LOO_ffwd4layer_unif.rankedlist...\n",
      "fold 10 [4]\n",
      "fold 10 complete, outputting to ../data/trec-output/0203_LOO_ffwd4layer_unif.rankedlist...\n",
      "fold 11 [22]\n",
      "fold 11 complete, outputting to ../data/trec-output/0203_LOO_ffwd4layer_unif.rankedlist...\n",
      "fold 12 [9]\n",
      "fold 12 complete, outputting to ../data/trec-output/0203_LOO_ffwd4layer_unif.rankedlist...\n",
      "fold 13 [21]\n",
      "fold 13 complete, outputting to ../data/trec-output/0203_LOO_ffwd4layer_unif.rankedlist...\n",
      "fold 14 [19]\n",
      "fold 14 complete, outputting to ../data/trec-output/0203_LOO_ffwd4layer_unif.rankedlist...\n",
      "fold 15 [1]\n",
      "fold 15 complete, outputting to ../data/trec-output/0203_LOO_ffwd4layer_unif.rankedlist...\n",
      "fold 16 [20]\n",
      "fold 16 complete, outputting to ../data/trec-output/0203_LOO_ffwd4layer_unif.rankedlist...\n",
      "fold 17 [30]\n",
      "fold 17 complete, outputting to ../data/trec-output/0203_LOO_ffwd4layer_unif.rankedlist...\n",
      "fold 18 [14]\n",
      "fold 18 complete, outputting to ../data/trec-output/0203_LOO_ffwd4layer_unif.rankedlist...\n",
      "fold 19 [12]\n",
      "fold 19 complete, outputting to ../data/trec-output/0203_LOO_ffwd4layer_unif.rankedlist...\n",
      "fold 20 [3]\n",
      "fold 20 complete, outputting to ../data/trec-output/0203_LOO_ffwd4layer_unif.rankedlist...\n",
      "fold 21 [8]\n",
      "fold 21 complete, outputting to ../data/trec-output/0203_LOO_ffwd4layer_unif.rankedlist...\n",
      "fold 22 [10]\n",
      "fold 22 complete, outputting to ../data/trec-output/0203_LOO_ffwd4layer_unif.rankedlist...\n",
      "fold 23 [7]\n",
      "fold 23 complete, outputting to ../data/trec-output/0203_LOO_ffwd4layer_unif.rankedlist...\n",
      "fold 24 [6]\n",
      "fold 24 complete, outputting to ../data/trec-output/0203_LOO_ffwd4layer_unif.rankedlist...\n",
      "fold 25 [25]\n",
      "fold 25 complete, outputting to ../data/trec-output/0203_LOO_ffwd4layer_unif.rankedlist...\n",
      "fold 26 [2]\n",
      "fold 26 complete, outputting to ../data/trec-output/0203_LOO_ffwd4layer_unif.rankedlist...\n",
      "fold 27 [24]\n",
      "fold 27 complete, outputting to ../data/trec-output/0203_LOO_ffwd4layer_unif.rankedlist...\n",
      "fold 28 [27]\n",
      "fold 28 complete, outputting to ../data/trec-output/0203_LOO_ffwd4layer_unif.rankedlist...\n",
      "fold 29 [13]\n",
      "fold 29 complete, outputting to ../data/trec-output/0203_LOO_ffwd4layer_unif.rankedlist...\n"
     ]
    }
   ],
   "source": [
    "tune_ffwd(ffwd_4layer, 'ffwd4layer_unif', instances=instances2)"
   ]
  }
 ],
 "metadata": {
  "anaconda-cloud": {},
  "kernelspec": {
   "display_name": "Python [conda env:thesis_nb]",
   "language": "python",
   "name": "conda-env-thesis_nb-py"
  },
  "language_info": {
   "codemirror_mode": {
    "name": "ipython",
    "version": 2
   },
   "file_extension": ".py",
   "mimetype": "text/x-python",
   "name": "python",
   "nbconvert_exporter": "python",
   "pygments_lexer": "ipython2",
   "version": "2.7.12"
  }
 },
 "nbformat": 4,
 "nbformat_minor": 1
}
