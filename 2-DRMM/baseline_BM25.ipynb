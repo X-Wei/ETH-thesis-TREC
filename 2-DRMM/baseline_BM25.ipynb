{
 "cells": [
  {
   "cell_type": "code",
   "execution_count": 62,
   "metadata": {
    "collapsed": true
   },
   "outputs": [],
   "source": [
    "import gensim\n",
    "from gensim import corpora\n",
    "import math, os, sys\n",
    "from lxml import etree\n",
    "from tqdm import tqdm"
   ]
  },
  {
   "cell_type": "code",
   "execution_count": 2,
   "metadata": {
    "collapsed": true
   },
   "outputs": [],
   "source": [
    "topic_tree = etree.parse('data/topics2016.xml')\n",
    "\n",
    "def get_topic(i):# returns the summary string of the ith topic\n",
    "    summary = topic_tree.xpath('//topic[@number=\"%d\"]/summary/text()'%i)[0]\n",
    "    return str(summary).lower()"
   ]
  },
  {
   "cell_type": "code",
   "execution_count": 15,
   "metadata": {
    "collapsed": false
   },
   "outputs": [],
   "source": [
    "# get_topic(1)"
   ]
  },
  {
   "cell_type": "code",
   "execution_count": 6,
   "metadata": {
    "collapsed": true
   },
   "outputs": [],
   "source": [
    "PMC_PATH = '/local/XW/DATA/TREC/PMCs/'\n",
    "pmcid2fpath = {}\n",
    "\n",
    "for subdir1 in os.listdir(PMC_PATH):\n",
    "    for subdir2 in os.listdir(os.path.join(PMC_PATH, subdir1)):\n",
    "        diry = os.path.join(PMC_PATH, subdir1, subdir2)\n",
    "        for fn in os.listdir(diry):\n",
    "            pmcid = fn[:-5]\n",
    "            fpath = os.path.join(diry, fn)\n",
    "            pmcid2fpath[pmcid] = fpath"
   ]
  },
  {
   "cell_type": "code",
   "execution_count": 7,
   "metadata": {
    "collapsed": true
   },
   "outputs": [],
   "source": [
    "def get_article_abstract(pmcid):\n",
    "    fpath = pmcid2fpath[pmcid]\n",
    "    tree = etree.parse(fpath)\n",
    "    ret = u'' + tree.xpath('string(//article-title)') + '\\n'\n",
    "    abstracts = tree.xpath('//abstract')\n",
    "#     abstracts = tree.xpath('//p')\n",
    "    ret += u' '.join( [abstract.xpath('string(.)') for abstract in abstracts] )\n",
    "    if len(ret.split())<20: \n",
    "        raise Exception(u'abstraction too short: '+ pmcid + ret)\n",
    "    return ret.lower()    "
   ]
  },
  {
   "cell_type": "code",
   "execution_count": 22,
   "metadata": {
    "collapsed": false
   },
   "outputs": [],
   "source": [
    "documents = [[] for _ in xrange(31)] # documents[i] are pmcids for topic i\n",
    "with open('data/qrels.txt') as f:\n",
    "    for line in f: \n",
    "        topicid, _, pmcid, relevance = line.split()\n",
    "        topicid = int(topicid)\n",
    "        documents[topicid].append(pmcid)"
   ]
  },
  {
   "cell_type": "code",
   "execution_count": 16,
   "metadata": {
    "collapsed": false
   },
   "outputs": [],
   "source": [
    "# print get_article_abstract('107838')"
   ]
  },
  {
   "cell_type": "code",
   "execution_count": 17,
   "metadata": {
    "collapsed": true
   },
   "outputs": [],
   "source": [
    "def get_corpus(t): # get raw data for topic t\n",
    "    corpus = []\n",
    "    pmcids = []\n",
    "    for pmcid in tqdm(documents[t]):\n",
    "        try:\n",
    "            abstract = get_article_abstract(pmcid)\n",
    "            corpus.append( abstract.split() )\n",
    "            pmcids.append(pmcid)\n",
    "        except:\n",
    "            pass\n",
    "    return pmcids, corpus"
   ]
  },
  {
   "cell_type": "code",
   "execution_count": 33,
   "metadata": {
    "collapsed": false
   },
   "outputs": [],
   "source": [
    "class BM25 :\n",
    "    def __init__(self, corpus) :\n",
    "        self.dictionary = corpora.Dictionary()\n",
    "        self.DF = {}\n",
    "        self.DocTF = []\n",
    "        self.DocIDF = {}\n",
    "        self.N = 0\n",
    "        self.DocAvgLen = 0\n",
    "        self.DocLen = []\n",
    "        self.buildDictionary(corpus)\n",
    "        self.TFIDF_Generator(corpus)\n",
    "\n",
    "    def buildDictionary(self, corpus) :\n",
    "        self.dictionary.add_documents(corpus)\n",
    "\n",
    "    def TFIDF_Generator(self, corpus, base=math.e) :\n",
    "        docTotalLen = 0\n",
    "        for doc in corpus:\n",
    "            docTotalLen += len(doc)\n",
    "            self.DocLen.append(len(doc))\n",
    "            #print self.dictionary.doc2bow(doc)\n",
    "            bow = dict([(term, freq*1.0/len(doc)) for term, freq in self.dictionary.doc2bow(doc)])\n",
    "            for term, tf in bow.items() :\n",
    "                if term not in self.DF :\n",
    "                    self.DF[term] = 0\n",
    "                self.DF[term] += 1\n",
    "            self.DocTF.append(bow)\n",
    "            self.N = self.N + 1\n",
    "        for term in self.DF:\n",
    "            self.DocIDF[term] = math.log((self.N - self.DF[term] +0.5) / (self.DF[term] + 0.5), base)\n",
    "        self.DocAvgLen = docTotalLen / self.N\n",
    "\n",
    "    def BM25Score(self, Query=[], k1=1.5, b=0.75) :\n",
    "        query_bow = self.dictionary.doc2bow(Query)\n",
    "        scores = []\n",
    "        for idx, doc in enumerate(self.DocTF) :\n",
    "            commonTerms = set(dict(query_bow).keys()) & set(doc.keys())\n",
    "            tmp_score = []\n",
    "            doc_terms_len = self.DocLen[idx]\n",
    "            for term in commonTerms :\n",
    "                upper = (doc[term] * (k1+1))\n",
    "                below = ((doc[term]) + k1*(1 - b + b*doc_terms_len/self.DocAvgLen))\n",
    "                tmp_score.append(self.DocIDF[term] * upper / below)\n",
    "            scores.append(sum(tmp_score))\n",
    "        return scores\n",
    "\n",
    "    def TFIDF(self) :\n",
    "        tfidf = []\n",
    "        for doc in self.DocTF :\n",
    "            doc_tfidf  = [(term, tf*self.DocIDF[term]) for term, tf in doc.items()]\n",
    "            doc_tfidf.sort()\n",
    "            tfidf.append(doc_tfidf)\n",
    "        return tfidf\n",
    "\n",
    "    def Items(self) :\n",
    "        # Return a list [(term_idx, term_desc),]\n",
    "        items = self.dictionary.items()\n",
    "        items.sort()\n",
    "        return items"
   ]
  },
  {
   "cell_type": "code",
   "execution_count": 78,
   "metadata": {
    "collapsed": true
   },
   "outputs": [],
   "source": [
    "def TREC_output(topic_id, run_name = 'bm25', fpath = None):\n",
    "    ids, corp = get_corpus(topic_id)\n",
    "    bm25 = BM25(corp)\n",
    "    query = get_topic(topic_id).split()\n",
    "    scores = bm25.BM25Score(query)\n",
    "    score_id_pairs = zip(scores, ids) # list of (score, pmcid) tuples\n",
    "    ranked_pairs = sorted(score_id_pairs, reverse=False)\n",
    "#     print ranked_pairs[:10]\n",
    "    fout = sys.stdout if fpath==None else open(fpath, 'a')\n",
    "    for rank, (score, pmcid) in enumerate(ranked_pairs[:1000], 1):\n",
    "        print >>fout, '%d  Q0  %s  %d  %f  %s' % (topic_id, pmcid, rank, score, run_name)"
   ]
  },
  {
   "cell_type": "code",
   "execution_count": 79,
   "metadata": {
    "collapsed": false,
    "scrolled": true
   },
   "outputs": [
    {
     "name": "stderr",
     "output_type": "stream",
     "text": [
      "100%|██████████| 30/30 [01:06<00:00,  2.18s/it]\n"
     ]
    }
   ],
   "source": [
    "fpath = 'data/Trec_eval/bm25.txt'\n",
    "open(fpath, 'w') # clear previous results\n",
    "for t in tqdm(xrange(1,31)):\n",
    "    TREC_output(t, fpath=fpath)"
   ]
  },
  {
   "cell_type": "code",
   "execution_count": 82,
   "metadata": {
    "collapsed": true
   },
   "outputs": [],
   "source": [
    "def get_topic_desc(i):# returns the summary string of the ith topic\n",
    "    summary = topic_tree.xpath('//topic[@number=\"%d\"]/description/text()'%i)[0]\n",
    "    return str(summary).lower()"
   ]
  },
  {
   "cell_type": "code",
   "execution_count": 84,
   "metadata": {
    "collapsed": false
   },
   "outputs": [],
   "source": [
    "def TREC_output_desc(topic_id, run_name = 'bm25', fpath = None):\n",
    "    ids, corp = get_corpus(topic_id)\n",
    "    bm25 = BM25(corp)\n",
    "    query = get_topic_desc(topic_id).split()\n",
    "    scores = bm25.BM25Score(query)\n",
    "    score_id_pairs = zip(scores, ids) # list of (score, pmcid) tuples\n",
    "    ranked_pairs = sorted(score_id_pairs, reverse=False)\n",
    "#     print ranked_pairs[:10]\n",
    "    fout = sys.stdout if fpath==None else open(fpath, 'a')\n",
    "    for rank, (score, pmcid) in enumerate(ranked_pairs[:1000], 1):\n",
    "        print >>fout, '%d  Q0  %s  %d  %f  %s' % (topic_id, pmcid, rank, score, run_name)"
   ]
  },
  {
   "cell_type": "code",
   "execution_count": 85,
   "metadata": {
    "collapsed": false
   },
   "outputs": [
    {
     "name": "stderr",
     "output_type": "stream",
     "text": [
      "100%|██████████| 30/30 [01:03<00:00,  2.08s/it]\n"
     ]
    }
   ],
   "source": [
    "fpath = 'data/Trec_eval/bm25_desc.txt'\n",
    "open(fpath, 'w') # clear previous results\n",
    "for t in tqdm(xrange(1,31)):\n",
    "    TREC_output(t, fpath=fpath)"
   ]
  },
  {
   "cell_type": "code",
   "execution_count": null,
   "metadata": {
    "collapsed": true
   },
   "outputs": [],
   "source": [
    "#  trec_eval/trec_eval -q -c qrels.txt bm25_desc.txt > bm25_desc.eval"
   ]
  }
 ],
 "metadata": {
  "anaconda-cloud": {},
  "kernelspec": {
   "display_name": "Python [conda env:thesis_nb]",
   "language": "python",
   "name": "conda-env-thesis_nb-py"
  },
  "language_info": {
   "codemirror_mode": {
    "name": "ipython",
    "version": 2
   },
   "file_extension": ".py",
   "mimetype": "text/x-python",
   "name": "python",
   "nbconvert_exporter": "python",
   "pygments_lexer": "ipython2",
   "version": "2.7.12"
  }
 },
 "nbformat": 4,
 "nbformat_minor": 1
}
