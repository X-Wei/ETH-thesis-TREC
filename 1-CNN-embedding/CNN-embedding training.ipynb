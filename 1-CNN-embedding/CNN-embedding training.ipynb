{
 "cells": [
  {
   "cell_type": "markdown",
   "metadata": {},
   "source": [
    "## Load data"
   ]
  },
  {
   "cell_type": "code",
   "execution_count": 15,
   "metadata": {
    "collapsed": false
   },
   "outputs": [],
   "source": [
    "import os, sys, time\n",
    "import numpy as np\n",
    "from tqdm import tqdm\n",
    "import cPickle as pk\n",
    "from keras.layers import Dense, Input, Flatten, Dropout, Merge, Activation\n",
    "from keras.layers import Conv1D, MaxPooling1D, Embedding\n",
    "from keras.models import Sequential, load_model, Model\n",
    "\n",
    "import keras.backend as K"
   ]
  },
  {
   "cell_type": "code",
   "execution_count": 2,
   "metadata": {
    "collapsed": false
   },
   "outputs": [],
   "source": [
    "np.random.seed(1)\n",
    "from settings import * "
   ]
  },
  {
   "cell_type": "code",
   "execution_count": 3,
   "metadata": {
    "collapsed": false
   },
   "outputs": [
    {
     "name": "stdout",
     "output_type": "stream",
     "text": [
      "(46663, 1000) (46663, 50)\n",
      "(11665, 1000) (11665, 50)\n"
     ]
    }
   ],
   "source": [
    "pk_data = pk.load(open(PK_FPATH, 'rb'))\n",
    "# print pk_data.keys()\n",
    "\n",
    "embedding_w2v = pk_data['embedding_w2v']\n",
    "embedding_glove = pk_data['embedding_glove']\n",
    "\n",
    "X_train, Y_train = pk_data['X_train'], pk_data['Y_train']\n",
    "X_val, Y_val = pk_data['X_val'], pk_data['Y_val']\n",
    "\n",
    "INPUT_SEQ_LEN = X_train.shape[1]\n",
    "EMBEDDING_INPUT_DIM = embedding_w2v.shape[0]\n",
    "\n",
    "print X_train.shape, Y_train.shape\n",
    "print X_val.shape, Y_val.shape"
   ]
  },
  {
   "cell_type": "markdown",
   "metadata": {},
   "source": [
    "### Modify sample weight, and use larger batch size"
   ]
  },
  {
   "cell_type": "code",
   "execution_count": 4,
   "metadata": {
    "collapsed": false
   },
   "outputs": [
    {
     "name": "stdout",
     "output_type": "stream",
     "text": [
      "(46663,)\n"
     ]
    },
    {
     "data": {
      "text/plain": [
       "array([ 12.01673109,  17.46144513,   0.1048649 , ...,  15.49525083,\n",
       "        14.95808575,  43.77665432])"
      ]
     },
     "execution_count": 4,
     "metadata": {},
     "output_type": "execute_result"
    }
   ],
   "source": [
    "inv_freq = 1e6*Y_train.sum(axis=0)**(-1.5)\n",
    "sample_weight = (inv_freq * Y_train).sum(axis=1)\n",
    "print sample_weight.shape\n",
    "sample_weight\n",
    "# y_n_poslabels = Y_train_noother.sum(axis=1)"
   ]
  },
  {
   "cell_type": "markdown",
   "metadata": {},
   "source": [
    "## Define evaluation metrics"
   ]
  },
  {
   "cell_type": "code",
   "execution_count": 7,
   "metadata": {
    "collapsed": false
   },
   "outputs": [],
   "source": [
    "import utils\n",
    "reload(utils)\n",
    "from utils import multlabel_prec, multlabel_recall, multlabel_F1, multlabel_acc "
   ]
  },
  {
   "cell_type": "code",
   "execution_count": 10,
   "metadata": {
    "collapsed": false
   },
   "outputs": [],
   "source": [
    "def evaluate_model(model):\n",
    "    print 'evaluation on training set:'\n",
    "    print model.evaluate(X_train, Y_train, batch_size=128)\n",
    "    print 'evaluation on validation set:'\n",
    "    print model.evaluate(X_val, Y_val, batch_size=128)\n",
    "\n",
    "# wraps up operations on models\n",
    "def compile_fit_evaluate(model, quick_test=False, print_summary=True,\n",
    "                         save_log=True, save_model=True, del_model=False):\n",
    "    \n",
    "    model.compile(loss='binary_crossentropy',\n",
    "             optimizer='rmsprop',\n",
    "             metrics=[multlabel_prec, multlabel_recall, multlabel_F1, multlabel_acc])\n",
    "    if print_summary:\n",
    "        print model.summary()\n",
    "        \n",
    "    if quick_test: # use tiny data for quick testing\n",
    "        print '(quick test mode)'\n",
    "        model.fit(X_train[:100], Y_train[:100], nb_epoch=1)\n",
    "        return  \n",
    "    \n",
    "    _callbacks = [EarlyStopping(monitor='val_loss', patience=2)] \n",
    "    if save_log:\n",
    "        logdir = os.path.join( LOG_PATH, time.strftime('%m%d')+'_'+str(model.name) )\n",
    "        if not os.path.exists(logdir):\n",
    "            os.makedirs(logdir)\n",
    "        _callbacks.append(TensorBoard(log_dir=logdir))\n",
    "        print 'run \"tensorboard --logdir=%s\" to launch tensorboard'%logdir\n",
    "    \n",
    "    model.fit( X_train, Y_train, \n",
    "              validation_data=(X_val, Y_val), \n",
    "              nb_epoch=N_EPOCHS, batch_size=BATCH_SZ, \n",
    "              sample_weight = sample_weight, \n",
    "              callbacks=_callbacks )\n",
    "    \n",
    "    print 'evaluating model...'\n",
    "    evaluate_model(model)\n",
    "    \n",
    "    if save_model: \n",
    "        model_fpath = os.path.join( MODEL_PATH, time.strftime('%m%d')+'_%s.h5'% str(model.name) )\n",
    "        model.save(model_fpath)\n",
    "        print 'model is saved at %s' % model_fpath\n",
    "    \n",
    "    if del_model:\n",
    "        del model # delete the model to save memory"
   ]
  },
  {
   "cell_type": "markdown",
   "metadata": {},
   "source": [
    "## Best model: 2 conv layers and 2 FC "
   ]
  },
  {
   "cell_type": "code",
   "execution_count": 12,
   "metadata": {
    "collapsed": true
   },
   "outputs": [],
   "source": [
    "flag_quick_test = 1"
   ]
  },
  {
   "cell_type": "code",
   "execution_count": 16,
   "metadata": {
    "collapsed": false,
    "scrolled": true
   },
   "outputs": [
    {
     "name": "stdout",
     "output_type": "stream",
     "text": [
      "____________________________________________________________________________________________________\n",
      "Layer (type)                     Output Shape          Param #     Connected to                     \n",
      "====================================================================================================\n",
      "main_input (InputLayer)          (None, 1000)          0                                            \n",
      "____________________________________________________________________________________________________\n",
      "embedding_5 (Embedding)          (None, 1000, 200)     4000200     main_input[0][0]                 \n",
      "____________________________________________________________________________________________________\n",
      "embedding_6 (Embedding)          (None, 1000, 200)     4000200     main_input[0][0]                 \n",
      "____________________________________________________________________________________________________\n",
      "convolution1d_7 (Convolution1D)  (None, 996, 128)      128128      embedding_5[0][0]                \n",
      "____________________________________________________________________________________________________\n",
      "convolution1d_8 (Convolution1D)  (None, 996, 128)      128128      embedding_6[0][0]                \n",
      "____________________________________________________________________________________________________\n",
      "merge_3 (Merge)                  (None, 996, 128)      0           convolution1d_7[0][0]            \n",
      "                                                                   convolution1d_8[0][0]            \n",
      "____________________________________________________________________________________________________\n",
      "maxpooling1d_5 (MaxPooling1D)    (None, 199, 128)      0           merge_3[0][0]                    \n",
      "____________________________________________________________________________________________________\n",
      "convolution1d_9 (Convolution1D)  (None, 195, 128)      82048       maxpooling1d_5[0][0]             \n",
      "____________________________________________________________________________________________________\n",
      "maxpooling1d_6 (MaxPooling1D)    (None, 39, 128)       0           convolution1d_9[0][0]            \n",
      "____________________________________________________________________________________________________\n",
      "flatten_3 (Flatten)              (None, 4992)          0           maxpooling1d_6[0][0]             \n",
      "____________________________________________________________________________________________________\n",
      "dropout_5 (Dropout)              (None, 4992)          0           flatten_3[0][0]                  \n",
      "____________________________________________________________________________________________________\n",
      "dense_5 (Dense)                  (None, 500)           2496500     dropout_5[0][0]                  \n",
      "____________________________________________________________________________________________________\n",
      "activation_1 (Activation)        (None, 500)           0           dense_5[0][0]                    \n",
      "____________________________________________________________________________________________________\n",
      "dropout_6 (Dropout)              (None, 500)           0           activation_1[0][0]               \n",
      "____________________________________________________________________________________________________\n",
      "dense_6 (Dense)                  (None, 50)            25050       dropout_6[0][0]                  \n",
      "====================================================================================================\n",
      "Total params: 10,860,254\n",
      "Trainable params: 2,859,854\n",
      "Non-trainable params: 8,000,400\n",
      "____________________________________________________________________________________________________\n",
      "None\n",
      "(quick test mode)\n",
      "Epoch 1/1\n",
      "100/100 [==============================] - 4s - loss: 0.5902 - multlabel_prec: 0.0964 - multlabel_recall: 0.2975 - multlabel_F1: 0.1249 - multlabel_acc: 0.0738     \n"
     ]
    }
   ],
   "source": [
    "embed1_w2v = Embedding(input_dim=EMBEDDING_INPUT_DIM ,output_dim=EMBEDDING_DIM, \n",
    "              weights=[embedding_w2v],input_length=INPUT_SEQ_LEN, trainable=False )\n",
    "embed2_glove = Embedding(input_dim=EMBEDDING_INPUT_DIM ,output_dim=EMBEDDING_DIM, \n",
    "              weights=[embedding_glove],input_length=INPUT_SEQ_LEN, trainable=False )\n",
    "\n",
    "input_layer = Input(shape=(INPUT_SEQ_LEN,), dtype='int32', name='main_input')\n",
    "\n",
    "embed1 = embed1_w2v(input_layer)\n",
    "conv_embed1 = Conv1D(128, 5, activation='relu')(embed1)\n",
    "\n",
    "embed2 = embed2_glove(input_layer)\n",
    "conv_embed2 = Conv1D(128, 5, activation='relu')(embed2)\n",
    "\n",
    "from keras.layers import merge # `Merge` is for model, while `merge` is for tensor.\n",
    "merge_layer = merge([conv_embed1, conv_embed2], mode='sum')\n",
    "\n",
    "x = MaxPooling1D(5)(merge_layer)\n",
    "x = Conv1D(128, 5, activation='relu')(x)\n",
    "x = MaxPooling1D(5)(x)\n",
    "x = Flatten()(x)\n",
    "x = Dropout(p=0.5)(x)\n",
    "x = Dense(500)(x)\n",
    "x = Activation('relu')(x)\n",
    "x = Dropout(p=0.5)(x)\n",
    "output_layer = Dense(N_LABELS, activation='sigmoid')(x)\n",
    "\n",
    "model_2embed_2conv1d_2FC = Model(input=input_layer, output=output_layer, \n",
    "                                 name = 'model_2embed_2conv1d_2FC')\n",
    "\n",
    "compile_fit_evaluate(model_2embed_2conv1d_2FC, flag_quick_test)"
   ]
  },
  {
   "cell_type": "code",
   "execution_count": 11,
   "metadata": {
    "collapsed": false,
    "scrolled": true
   },
   "outputs": [
    {
     "name": "stdout",
     "output_type": "stream",
     "text": [
      "____________________________________________________________________________________________________\n",
      "Layer (type)                     Output Shape          Param #     Connected to                     \n",
      "====================================================================================================\n",
      "embedding_3 (Embedding)          (None, 1000, 200)     0           embedding_input_1[0][0]          \n",
      "____________________________________________________________________________________________________\n",
      "convolution1d_4 (Convolution1D)  (None, 996, 128)      128128      embedding_3[0][0]                \n",
      "____________________________________________________________________________________________________\n",
      "maxpooling1d_3 (MaxPooling1D)    (None, 199, 128)      0           convolution1d_4[0][0]            \n",
      "____________________________________________________________________________________________________\n",
      "convolution1d_5 (Convolution1D)  (None, 195, 128)      82048       maxpooling1d_3[0][0]             \n",
      "____________________________________________________________________________________________________\n",
      "maxpooling1d_4 (MaxPooling1D)    (None, 39, 128)       0           convolution1d_5[0][0]            \n",
      "____________________________________________________________________________________________________\n",
      "flatten_2 (Flatten)              (None, 4992)          0           maxpooling1d_4[0][0]             \n",
      "____________________________________________________________________________________________________\n",
      "dropout_3 (Dropout)              (None, 4992)          0           flatten_2[0][0]                  \n",
      "____________________________________________________________________________________________________\n",
      "dense_3 (Dense)                  (None, 500)           2496500     dropout_3[0][0]                  \n",
      "____________________________________________________________________________________________________\n",
      "dropout_4 (Dropout)              (None, 500)           0           dense_3[0][0]                    \n",
      "____________________________________________________________________________________________________\n",
      "dense_4 (Dense)                  (None, 50)            25050       dropout_4[0][0]                  \n",
      "====================================================================================================\n",
      "Total params: 2731726\n",
      "____________________________________________________________________________________________________\n",
      "None\n",
      "run \"tensorboard --logdir=./logs/1129_model_2conv1d_2FC\" to launch tensorboard\n",
      "Train on 46663 samples, validate on 11665 samples\n",
      "Epoch 1/20\n",
      "46663/46663 [==============================] - 793s - loss: 7.3299 - multlabel_prec: 0.1485 - multlabel_recall: 0.0829 - multlabel_F1: 0.0880 - multlabel_acc: 0.0634 - val_loss: 0.2900 - val_multlabel_prec: 0.0286 - val_multlabel_recall: 0.0059 - val_multlabel_F1: 0.0094 - val_multlabel_acc: 0.0056\n",
      "Epoch 2/20\n",
      "46663/46663 [==============================] - 794s - loss: 6.3061 - multlabel_prec: 0.2225 - multlabel_recall: 0.1561 - multlabel_F1: 0.1611 - multlabel_acc: 0.1235 - val_loss: 0.2793 - val_multlabel_prec: 0.2120 - val_multlabel_recall: 0.0805 - val_multlabel_F1: 0.1078 - val_multlabel_acc: 0.0704\n",
      "Epoch 3/20\n",
      "46663/46663 [==============================] - 796s - loss: 5.9937 - multlabel_prec: 0.2997 - multlabel_recall: 0.1978 - multlabel_F1: 0.2114 - multlabel_acc: 0.1601 - val_loss: 0.2626 - val_multlabel_prec: 0.2682 - val_multlabel_recall: 0.1052 - val_multlabel_F1: 0.1403 - val_multlabel_acc: 0.0940\n",
      "Epoch 4/20\n",
      "46663/46663 [==============================] - 791s - loss: 5.8012 - multlabel_prec: 0.3470 - multlabel_recall: 0.2208 - multlabel_F1: 0.2409 - multlabel_acc: 0.1824 - val_loss: 0.2601 - val_multlabel_prec: 0.2215 - val_multlabel_recall: 0.0789 - val_multlabel_F1: 0.1071 - val_multlabel_acc: 0.0709\n",
      "Epoch 5/20\n",
      "46663/46663 [==============================] - 790s - loss: 5.6862 - multlabel_prec: 0.3755 - multlabel_recall: 0.2348 - multlabel_F1: 0.2582 - multlabel_acc: 0.1951 - val_loss: 0.2596 - val_multlabel_prec: 0.3182 - val_multlabel_recall: 0.1148 - val_multlabel_F1: 0.1577 - val_multlabel_acc: 0.1044\n",
      "Epoch 6/20\n",
      "46663/46663 [==============================] - 791s - loss: 5.5736 - multlabel_prec: 0.3972 - multlabel_recall: 0.2457 - multlabel_F1: 0.2722 - multlabel_acc: 0.2059 - val_loss: 0.2502 - val_multlabel_prec: 0.3481 - val_multlabel_recall: 0.1347 - val_multlabel_F1: 0.1804 - val_multlabel_acc: 0.1245\n",
      "Epoch 7/20\n",
      "46663/46663 [==============================] - 792s - loss: 5.4915 - multlabel_prec: 0.4130 - multlabel_recall: 0.2547 - multlabel_F1: 0.2835 - multlabel_acc: 0.2146 - val_loss: 0.2480 - val_multlabel_prec: 0.3589 - val_multlabel_recall: 0.1269 - val_multlabel_F1: 0.1757 - val_multlabel_acc: 0.1187\n",
      "Epoch 8/20\n",
      "46663/46663 [==============================] - 791s - loss: 5.4044 - multlabel_prec: 0.4277 - multlabel_recall: 0.2624 - multlabel_F1: 0.2930 - multlabel_acc: 0.2218 - val_loss: 0.2622 - val_multlabel_prec: 0.3647 - val_multlabel_recall: 0.1624 - val_multlabel_F1: 0.2097 - val_multlabel_acc: 0.1409\n",
      "Epoch 9/20\n",
      "46663/46663 [==============================] - 794s - loss: 5.3230 - multlabel_prec: 0.4392 - multlabel_recall: 0.2722 - multlabel_F1: 0.3033 - multlabel_acc: 0.2295 - val_loss: 0.2537 - val_multlabel_prec: 0.4117 - val_multlabel_recall: 0.1573 - val_multlabel_F1: 0.2121 - val_multlabel_acc: 0.1444\n",
      "Epoch 10/20\n",
      "46663/46663 [==============================] - 789s - loss: 5.2486 - multlabel_prec: 0.4485 - multlabel_recall: 0.2796 - multlabel_F1: 0.3115 - multlabel_acc: 0.2361 - val_loss: 0.2482 - val_multlabel_prec: 0.4033 - val_multlabel_recall: 0.1775 - val_multlabel_F1: 0.2285 - val_multlabel_acc: 0.1572\n",
      "evaluating model...\n",
      "evaluation on training set:\n",
      "46663/46663 [==============================] - 327s   \n",
      "[0.18360787302825965, 0.46829564513121014, 0.29140081706428317, 0.32704235805234916, 0.2496942447007981]\n",
      "evaluation on validation set:\n",
      "11665/11665 [==============================] - 81s    \n",
      "[0.24815692502160569, 0.40333048068961003, 0.17750735236399684, 0.22847659846155419, 0.15721142977488894]\n"
     ]
    }
   ],
   "source": [
    "model_2conv1d_2FC = Sequential(\n",
    "       [Embedding(input_dim=EMBEDDING_INPUT_DIM ,output_dim=EMBEDDING_DIM, \n",
    "              weights=[embedding_w2v],input_length=INPUT_SEQ_LEN, trainable=False ),\n",
    "        Conv1D(128, 5, activation='relu'),\n",
    "        MaxPooling1D(5),\n",
    "        Conv1D(128, 5, activation='relu'),\n",
    "        MaxPooling1D(5),\n",
    "        Flatten(),\n",
    "        Dropout(p=0.5),\n",
    "        Dense(500),\n",
    "        Activation('relu'),\n",
    "        Dropout(p=0.5),\n",
    "        Dense(N_LABELS, activation='sigmoid') \n",
    "       ], name = 'model_2conv1d_2FC')\n",
    "compile_fit_evaluate(model_2conv1d_2FC, flag_quick_test)"
   ]
  },
  {
   "cell_type": "code",
   "execution_count": 12,
   "metadata": {
    "collapsed": false,
    "scrolled": true
   },
   "outputs": [
    {
     "name": "stdout",
     "output_type": "stream",
     "text": [
      "____________________________________________________________________________________________________\n",
      "Layer (type)                     Output Shape          Param #     Connected to                     \n",
      "====================================================================================================\n",
      "embedding_4 (Embedding)          (None, 1000, 200)     0           embedding_input_2[0][0]          \n",
      "____________________________________________________________________________________________________\n",
      "convolution1d_6 (Convolution1D)  (None, 996, 128)      128128      embedding_4[0][0]                \n",
      "____________________________________________________________________________________________________\n",
      "maxpooling1d_5 (MaxPooling1D)    (None, 199, 128)      0           convolution1d_6[0][0]            \n",
      "____________________________________________________________________________________________________\n",
      "convolution1d_7 (Convolution1D)  (None, 195, 128)      82048       maxpooling1d_5[0][0]             \n",
      "____________________________________________________________________________________________________\n",
      "maxpooling1d_6 (MaxPooling1D)    (None, 39, 128)       0           convolution1d_7[0][0]            \n",
      "____________________________________________________________________________________________________\n",
      "flatten_3 (Flatten)              (None, 4992)          0           maxpooling1d_6[0][0]             \n",
      "____________________________________________________________________________________________________\n",
      "dropout_5 (Dropout)              (None, 4992)          0           flatten_3[0][0]                  \n",
      "____________________________________________________________________________________________________\n",
      "dense_5 (Dense)                  (None, 500)           2496500     dropout_5[0][0]                  \n",
      "____________________________________________________________________________________________________\n",
      "dropout_6 (Dropout)              (None, 500)           0           dense_5[0][0]                    \n",
      "____________________________________________________________________________________________________\n",
      "dense_6 (Dense)                  (None, 50)            25050       dropout_6[0][0]                  \n",
      "====================================================================================================\n",
      "Total params: 2731726\n",
      "____________________________________________________________________________________________________\n",
      "None\n",
      "run \"tensorboard --logdir=./logs/1129_model_2conv1d_2FC_glove\" to launch tensorboard\n",
      "Train on 46663 samples, validate on 11665 samples\n",
      "Epoch 1/20\n",
      "46663/46663 [==============================] - 793s - loss: 7.4296 - multlabel_prec: 0.1627 - multlabel_recall: 0.0940 - multlabel_F1: 0.0993 - multlabel_acc: 0.0720 - val_loss: 0.2893 - val_multlabel_prec: 0.0012 - val_multlabel_recall: 2.1901e-04 - val_multlabel_F1: 3.6590e-04 - val_multlabel_acc: 2.1901e-04\n",
      "Epoch 2/20\n",
      "46663/46663 [==============================] - 793s - loss: 6.3555 - multlabel_prec: 0.2143 - multlabel_recall: 0.1484 - multlabel_F1: 0.1529 - multlabel_acc: 0.1177 - val_loss: 0.2910 - val_multlabel_prec: 0.0270 - val_multlabel_recall: 0.0088 - val_multlabel_F1: 0.0126 - val_multlabel_acc: 0.0083\n",
      "Epoch 3/20\n",
      "46663/46663 [==============================] - 790s - loss: 6.0854 - multlabel_prec: 0.2604 - multlabel_recall: 0.1785 - multlabel_F1: 0.1876 - multlabel_acc: 0.1439 - val_loss: 0.2683 - val_multlabel_prec: 0.2022 - val_multlabel_recall: 0.0744 - val_multlabel_F1: 0.1020 - val_multlabel_acc: 0.0668\n",
      "Epoch 4/20\n",
      "46663/46663 [==============================] - 790s - loss: 5.8971 - multlabel_prec: 0.3131 - multlabel_recall: 0.2060 - multlabel_F1: 0.2219 - multlabel_acc: 0.1685 - val_loss: 0.2639 - val_multlabel_prec: 0.2906 - val_multlabel_recall: 0.1098 - val_multlabel_F1: 0.1492 - val_multlabel_acc: 0.0987\n",
      "Epoch 5/20\n",
      "46663/46663 [==============================] - 790s - loss: 5.7659 - multlabel_prec: 0.3450 - multlabel_recall: 0.2223 - multlabel_F1: 0.2424 - multlabel_acc: 0.1839 - val_loss: 0.2731 - val_multlabel_prec: 0.2591 - val_multlabel_recall: 0.1016 - val_multlabel_F1: 0.1364 - val_multlabel_acc: 0.0891\n",
      "Epoch 6/20\n",
      "46663/46663 [==============================] - 792s - loss: 5.6500 - multlabel_prec: 0.3681 - multlabel_recall: 0.2334 - multlabel_F1: 0.2559 - multlabel_acc: 0.1935 - val_loss: 0.2556 - val_multlabel_prec: 0.2613 - val_multlabel_recall: 0.0821 - val_multlabel_F1: 0.1178 - val_multlabel_acc: 0.0776\n",
      "Epoch 7/20\n",
      "46663/46663 [==============================] - 791s - loss: 5.5571 - multlabel_prec: 0.3880 - multlabel_recall: 0.2426 - multlabel_F1: 0.2680 - multlabel_acc: 0.2026 - val_loss: 0.2574 - val_multlabel_prec: 0.2845 - val_multlabel_recall: 0.1179 - val_multlabel_F1: 0.1547 - val_multlabel_acc: 0.1038\n",
      "Epoch 8/20\n",
      "46663/46663 [==============================] - 790s - loss: 5.4729 - multlabel_prec: 0.4001 - multlabel_recall: 0.2502 - multlabel_F1: 0.2766 - multlabel_acc: 0.2093 - val_loss: 0.2624 - val_multlabel_prec: 0.3063 - val_multlabel_recall: 0.1412 - val_multlabel_F1: 0.1787 - val_multlabel_acc: 0.1204\n",
      "Epoch 9/20\n",
      "46663/46663 [==============================] - 790s - loss: 5.3929 - multlabel_prec: 0.4125 - multlabel_recall: 0.2575 - multlabel_F1: 0.2854 - multlabel_acc: 0.2159 - val_loss: 0.2619 - val_multlabel_prec: 0.3646 - val_multlabel_recall: 0.1771 - val_multlabel_F1: 0.2205 - val_multlabel_acc: 0.1517\n",
      "evaluating model...\n",
      "evaluation on training set:\n",
      "46663/46663 [==============================] - 328s   \n",
      "[0.19777813819593212, 0.44691549627012922, 0.30360357611531591, 0.32866910366883983, 0.24926008316855791]\n",
      "evaluation on validation set:\n",
      "11665/11665 [==============================] - 81s    \n",
      "[0.2619033445118325, 0.36459770299721012, 0.17708627738975119, 0.22046224352274132, 0.15170867275742059]\n"
     ]
    }
   ],
   "source": [
    "model_2conv1d_2FC_glove = Sequential(\n",
    "       [Embedding(input_dim=EMBEDDING_INPUT_DIM ,output_dim=EMBEDDING_DIM, \n",
    "              weights=[embedding_glove],input_length=INPUT_SEQ_LEN, trainable=False ),\n",
    "        Conv1D(128, 5, activation='relu'),\n",
    "        MaxPooling1D(5),\n",
    "        Conv1D(128, 5, activation='relu'),\n",
    "        MaxPooling1D(5),\n",
    "        Flatten(),\n",
    "        Dropout(p=0.5),\n",
    "        Dense(500),\n",
    "        Activation('relu'),\n",
    "        Dropout(p=0.5),\n",
    "        Dense(N_LABELS, activation='sigmoid') \n",
    "       ], name = 'model_2conv1d_2FC_glove')\n",
    "compile_fit_evaluate(model_2conv1d_2FC_glove, flag_quick_test)"
   ]
  },
  {
   "cell_type": "code",
   "execution_count": 20,
   "metadata": {
    "collapsed": false,
    "scrolled": true
   },
   "outputs": [
    {
     "name": "stdout",
     "output_type": "stream",
     "text": [
      "____________________________________________________________________________________________________\n",
      "Layer (type)                     Output Shape          Param #     Connected to                     \n",
      "====================================================================================================\n",
      "embedding_10 (Embedding)         (None, 1000, 200)     4000200     embedding_input_4[0][0]          \n",
      "____________________________________________________________________________________________________\n",
      "convolution1d_19 (Convolution1D) (None, 996, 256)      256256      embedding_10[0][0]               \n",
      "____________________________________________________________________________________________________\n",
      "maxpooling1d_16 (MaxPooling1D)   (None, 199, 256)      0           convolution1d_19[0][0]           \n",
      "____________________________________________________________________________________________________\n",
      "convolution1d_20 (Convolution1D) (None, 195, 128)      163968      maxpooling1d_16[0][0]            \n",
      "____________________________________________________________________________________________________\n",
      "maxpooling1d_17 (MaxPooling1D)   (None, 39, 128)       0           convolution1d_20[0][0]           \n",
      "____________________________________________________________________________________________________\n",
      "convolution1d_21 (Convolution1D) (None, 38, 64)        16448       maxpooling1d_17[0][0]            \n",
      "____________________________________________________________________________________________________\n",
      "maxpooling1d_18 (MaxPooling1D)   (None, 7, 64)         0           convolution1d_21[0][0]           \n",
      "____________________________________________________________________________________________________\n",
      "flatten_7 (Flatten)              (None, 448)           0           maxpooling1d_18[0][0]            \n",
      "____________________________________________________________________________________________________\n",
      "dropout_10 (Dropout)             (None, 448)           0           flatten_7[0][0]                  \n",
      "____________________________________________________________________________________________________\n",
      "dense_10 (Dense)                 (None, 50)            22450       dropout_10[0][0]                 \n",
      "====================================================================================================\n",
      "Total params: 4,459,322\n",
      "Trainable params: 459,122\n",
      "Non-trainable params: 4,000,200\n",
      "____________________________________________________________________________________________________\n",
      "None\n",
      "(quick test mode)\n",
      "Epoch 1/1\n",
      "100/100 [==============================] - 3s - loss: 0.5522 - multlabel_prec: 0.0552 - multlabel_recall: 0.1725 - multlabel_F1: 0.0723 - multlabel_acc: 0.0415     \n"
     ]
    }
   ],
   "source": [
    "model_3conv1d_dropout =Sequential(\n",
    "        [ Embedding(input_dim=EMBEDDING_INPUT_DIM ,output_dim=EMBEDDING_DIM, \n",
    "                  weights=[embedding_w2v],input_length=INPUT_SEQ_LEN, trainable=False ),\n",
    "            Conv1D(256, 5, activation='relu'),\n",
    "            MaxPooling1D(5),\n",
    "            Conv1D(128, 5, activation='relu'),\n",
    "            MaxPooling1D(5),\n",
    "            Conv1D(64, 2, activation='relu'),\n",
    "            MaxPooling1D(5),\n",
    "            Flatten(),\n",
    "            Dropout(p=0.5),\n",
    "            Dense(N_LABELS, activation='sigmoid') ],\n",
    "        name = 'model_3conv1d_dropout')\n",
    "\n",
    "compile_fit_evaluate(model_3conv1d_dropout, flag_quick_test)"
   ]
  }
 ],
 "metadata": {
  "anaconda-cloud": {},
  "kernelspec": {
   "display_name": "Python [conda env:thesis_nb]",
   "language": "python",
   "name": "conda-env-thesis_nb-py"
  },
  "language_info": {
   "codemirror_mode": {
    "name": "ipython",
    "version": 2
   },
   "file_extension": ".py",
   "mimetype": "text/x-python",
   "name": "python",
   "nbconvert_exporter": "python",
   "pygments_lexer": "ipython2",
   "version": "2.7.12"
  }
 },
 "nbformat": 4,
 "nbformat_minor": 1
}
