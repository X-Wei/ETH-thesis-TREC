{
 "cells": [
  {
   "cell_type": "code",
   "execution_count": 2,
   "metadata": {
    "collapsed": false
   },
   "outputs": [],
   "source": [
    "import os,sys\n",
    "import numpy as np\n",
    "import pandas as pd\n",
    "from tqdm import tqdm\n",
    "import cPickle as pk\n",
    "np.random.seed(1) # to be reproductive"
   ]
  },
  {
   "cell_type": "code",
   "execution_count": 33,
   "metadata": {
    "collapsed": true
   },
   "outputs": [],
   "source": [
    "# paths\n",
    "NOTE_DATA_DIR = '/local/XW/DATA/MIMIC/noteevents_by_sid/'\n",
    "ICD_FPATH = 'data/subject_diag_icds.txt'\n",
    "PK_FPATH = 'data/diag_processed_data.pk' # './processed_data_small.pk'\n",
    "N_LABELS = 50"
   ]
  },
  {
   "cell_type": "code",
   "execution_count": 4,
   "metadata": {
    "collapsed": false
   },
   "outputs": [],
   "source": [
    "# read k-hot labels data\n",
    "pk_data = pk.load(open(PK_FPATH, 'rb'))\n",
    "Y_train = pk_data['Y_train']\n",
    "Y_val = pk_data['Y_val']"
   ]
  },
  {
   "cell_type": "code",
   "execution_count": 5,
   "metadata": {
    "collapsed": false
   },
   "outputs": [
    {
     "data": {
      "text/plain": [
       "['embedding_matrix',\n",
       " 'X_train',\n",
       " 'X_val',\n",
       " 'Y_val',\n",
       " 'Y_train',\n",
       " 'sid2khot',\n",
       " 'sid2seq']"
      ]
     },
     "execution_count": 5,
     "metadata": {},
     "output_type": "execute_result"
    }
   ],
   "source": [
    "pk_data.keys()"
   ]
  },
  {
   "cell_type": "code",
   "execution_count": 52,
   "metadata": {
    "collapsed": true
   },
   "outputs": [],
   "source": [
    "def multilabel_evaluate(y_pred, y_true=Y_val):\n",
    "    tp = np.sum(y_true * y_pred, axis=-1)\n",
    "    sum_true = np.sum(y_true, axis=-1)\n",
    "    sum_pred = np.sum(y_pred, axis=-1)\n",
    "    union = np.sum(np.clip(y_true+y_pred, 0, 1), axis=-1)\n",
    "    print 'precision =', np.mean(tp/(sum_pred+1e-10))\n",
    "    print 'recall = ', np.mean(tp/(sum_true+1e-10))\n",
    "    print 'F1 = ', 2*np.mean(tp/(sum_true+sum_pred))\n",
    "    print 'acc = ', np.mean(tp/union)"
   ]
  },
  {
   "cell_type": "markdown",
   "metadata": {},
   "source": [
    "# Naive baseline"
   ]
  },
  {
   "cell_type": "code",
   "execution_count": 6,
   "metadata": {
    "collapsed": false
   },
   "outputs": [
    {
     "name": "stdout",
     "output_type": "stream",
     "text": [
      "(36917, 50) (9229, 50)\n"
     ]
    }
   ],
   "source": [
    "print Y_train.shape, Y_val.shape"
   ]
  },
  {
   "cell_type": "code",
   "execution_count": 7,
   "metadata": {
    "collapsed": false
   },
   "outputs": [
    {
     "name": "stdout",
     "output_type": "stream",
     "text": [
      "[[ 1.  0.  0.  1.  0.  0.  0.  0.  1.  0.  0.  0.  0.  0.  1.  1.  0.  0.\n",
      "   0.  0.  0.  0.  0.  0.  0.  0.  0.  0.  0.  1.  0.  0.  0.  0.  1.  0.\n",
      "   0.  0.  0.  0.  0.  0.  0.  0.  0.  0.  1.  0.  0.  1.]\n",
      " [ 0.  0.  0.  0.  0.  0.  0.  0.  0.  0.  1.  0.  0.  0.  0.  0.  0.  0.\n",
      "   0.  0.  1.  0.  0.  0.  0.  0.  0.  0.  0.  0.  0.  0.  0.  0.  0.  0.\n",
      "   0.  0.  0.  0.  0.  0.  0.  0.  0.  0.  0.  0.  1.  0.]]\n"
     ]
    }
   ],
   "source": [
    "print Y_train[:2,]"
   ]
  },
  {
   "cell_type": "code",
   "execution_count": 10,
   "metadata": {
    "collapsed": false
   },
   "outputs": [
    {
     "name": "stdout",
     "output_type": "stream",
     "text": [
      "[ 14021.   8595.   8119.   7855.   6168.   5990.   5872.   5258.   4578.\n",
      "   4558.   4390.   4220.   4196.   3952.   3483.   3409.   3296.   3015.\n",
      "   2882.   2810.   2829.   2718.   2670.   2539.   2362.   2304.   2348.\n",
      "   2286.   2225.   2198.   2226.   2214.   2175.   2128.   2028.   2020.\n",
      "   1897.   1852.   1854.   1866.   1847.   1815.   1787.   1713.   1642.\n",
      "   1642.   1638.   1591.   1599.  35142.]\n"
     ]
    }
   ],
   "source": [
    "# naive algo just find which label is most common, then always predict this label\n",
    "stat = Y_train.sum(axis=0)\n",
    "print stat"
   ]
  },
  {
   "cell_type": "code",
   "execution_count": 15,
   "metadata": {
    "collapsed": false
   },
   "outputs": [
    {
     "name": "stdout",
     "output_type": "stream",
     "text": [
      "[ 0.  0.  0.  0.  0.  0.  0.  0.  0.  0.  0.  0.  0.  0.  0.  0.  0.  0.\n",
      "  0.  0.  0.  0.  0.  0.  0.  0.  0.  0.  0.  0.  0.  0.  0.  0.  0.  0.\n",
      "  0.  0.  0.  0.  0.  0.  0.  0.  0.  0.  0.  0.  0.  1.]\n",
      "(9229, 50)\n"
     ]
    }
   ],
   "source": [
    "pred_naive = stat > Y_train.shape[0]/2\n",
    "pred_naive = np.array(pred_naive, dtype=np.float64)\n",
    "print pred_naive\n",
    "pred_naive = np.tile(pred_naive, (Y_val.shape[0],1))\n",
    "print pred_naive.shape"
   ]
  },
  {
   "cell_type": "code",
   "execution_count": 23,
   "metadata": {
    "collapsed": false
   },
   "outputs": [
    {
     "name": "stdout",
     "output_type": "stream",
     "text": [
      "precision = 0.952107487173\n",
      "recall =  0.265610235902\n",
      "F1 =  0.378717632882\n",
      "acc =  0.265610235902\n"
     ]
    }
   ],
   "source": [
    "multilabel_evaluate(pred_naive)"
   ]
  },
  {
   "cell_type": "markdown",
   "metadata": {},
   "source": [
    "# SVM baseline"
   ]
  },
  {
   "cell_type": "markdown",
   "metadata": {},
   "source": [
    "** The problem with SVM is that for each instance, there are several labels, so I split each instance into several (instance, one-label) pairs... NOT SURE IF THIS MAKES SENSE. **\n",
    "\n",
    "This baseline use the method described at: http://scikit-learn.org/stable/tutorial/text_analytics/working_with_text_data.html"
   ]
  },
  {
   "cell_type": "code",
   "execution_count": 5,
   "metadata": {
    "collapsed": false
   },
   "outputs": [
    {
     "name": "stderr",
     "output_type": "stream",
     "text": [
      "100%|██████████| 46146/46146 [00:00<00:00, 81862.25it/s]\n"
     ]
    }
   ],
   "source": [
    "# prepare label data\n",
    "N_LABELS = 50\n",
    "K_ICDS_TOKEEP = N_LABELS - 1 # predict only on top K frequent icd codes\n",
    "N_SUBJECTS = 46146\n",
    "from collections import Counter\n",
    "sid2icds = {} # map subject_id ---> icd codes of this patient\n",
    "icd_ctr = Counter()\n",
    "with open(ICD_FPATH) as f: \n",
    "    for line in tqdm(f, total=N_SUBJECTS): \n",
    "        sid, _icds = line.split(',')\n",
    "        _icds = _icds.split()\n",
    "        icd_ctr.update(_icds)\n",
    "        sid2icds[sid] = set(_icds)"
   ]
  },
  {
   "cell_type": "code",
   "execution_count": 6,
   "metadata": {
    "collapsed": false
   },
   "outputs": [
    {
     "name": "stdout",
     "output_type": "stream",
     "text": [
      "[('4019', 17510), ('41401', 10736), ('42731', 10193), ('4280', 9802), ('5849', 7634), ('2724', 7421), ('25000', 7332), ('51881', 6632), ('5990', 5746), ('V053', 5678), ('V290', 5440), ('2720', 5320), ('53081', 5246), ('2859', 4967), ('486', 4391), ('2851', 4231), ('2762', 4120), ('2449', 3789), ('496', 3572), ('99592', 3504), ('V3000', 3503), ('0389', 3387), ('5070', 3362), ('V5861', 3184), ('3051', 2982), ('311', 2907), ('41071', 2902), ('5859', 2889), ('40390', 2814), ('2761', 2789), ('2875', 2783), ('412', 2775), ('V3001', 2707), ('4240', 2643), ('5119', 2554), ('V1582', 2534), ('78552', 2376), ('V4581', 2318), ('4241', 2302), ('9971', 2299), ('42789', 2297), ('V4582', 2247), ('7742', 2241), ('5845', 2154), ('2760', 2077), ('5180', 2072), ('45829', 2055), ('V5867', 2009), ('V502', 1978)]\n"
     ]
    }
   ],
   "source": [
    "print icd_ctr.most_common(K_ICDS_TOKEEP)\n",
    "icds = zip( *icd_ctr.most_common(K_ICDS_TOKEEP) )[0] + ('other',)\n",
    "sid2khot = {} # map subject_id to k-hot vector\n",
    "for sid in sid2icds.keys():\n",
    "    _khot = np.zeros(N_LABELS)\n",
    "    for _icd in sid2icds[sid]:\n",
    "        if _icd in icds: \n",
    "            _khot[icds.index(_icd)] = 1\n",
    "        else: # label 'other icds'\n",
    "            _khot[-1] = 1\n",
    "    sid2khot[sid] = _khot"
   ]
  },
  {
   "cell_type": "code",
   "execution_count": 7,
   "metadata": {
    "collapsed": false
   },
   "outputs": [],
   "source": [
    "sids = sid2icds.keys()\n",
    "np.random.shuffle(sids)\n",
    "VALIDATION_SPLIT = 0.2\n",
    "validset_sz = int(VALIDATION_SPLIT*len(sids))\n",
    "train_sids = sids[:-validset_sz] \n",
    "val_sids = sids[-validset_sz:]"
   ]
  },
  {
   "cell_type": "code",
   "execution_count": 8,
   "metadata": {
    "collapsed": true
   },
   "outputs": [],
   "source": [
    "Y_train = np.array([sid2khot[sid] for sid in train_sids])\n",
    "Y_val = np.array([sid2khot[sid] for sid in val_sids])"
   ]
  },
  {
   "cell_type": "code",
   "execution_count": 9,
   "metadata": {
    "collapsed": false
   },
   "outputs": [
    {
     "data": {
      "text/plain": [
       "((36917, 50), (9229, 50))"
      ]
     },
     "execution_count": 9,
     "metadata": {},
     "output_type": "execute_result"
    }
   ],
   "source": [
    "Y_train.shape, Y_val.shape"
   ]
  },
  {
   "cell_type": "markdown",
   "metadata": {},
   "source": [
    "**Train 50 independent SVM classifiers**.   \n",
    "To prepare training data for svm, need to write our own **generator** of documents. "
   ]
  },
  {
   "cell_type": "code",
   "execution_count": 10,
   "metadata": {
    "collapsed": false
   },
   "outputs": [],
   "source": [
    "def notes_generator(fpaths):\n",
    "    for fpath in tqdm(fpaths):\n",
    "        df = pd.read_csv(fpath)\n",
    "        yield '\\n=======\\n\\n\\n'.join(df['text'])"
   ]
  },
  {
   "cell_type": "code",
   "execution_count": 11,
   "metadata": {
    "collapsed": true
   },
   "outputs": [],
   "source": [
    "from sklearn.feature_extraction.text import CountVectorizer\n",
    "MAX_NB_WORDS = 20000 # top 20k most freq words\n",
    "cnt_vect = CountVectorizer(max_features=MAX_NB_WORDS)"
   ]
  },
  {
   "cell_type": "code",
   "execution_count": 12,
   "metadata": {
    "collapsed": false,
    "scrolled": true
   },
   "outputs": [
    {
     "name": "stderr",
     "output_type": "stream",
     "text": [
      "100%|██████████| 36917/36917 [09:01<00:00, 68.24it/s]\n"
     ]
    },
    {
     "name": "stdout",
     "output_type": "stream",
     "text": [
      "(36917, 20000)\n",
      "(36917, 20000)\n"
     ]
    }
   ],
   "source": [
    "train_files = [os.path.join(NOTE_DATA_DIR, '%s.csv'%sid) for sid in train_sids]\n",
    "X_train_counts = cnt_vect.fit_transform(notes_generator(train_files))\n",
    "print X_train_counts.shape\n",
    "from sklearn.feature_extraction.text import TfidfTransformer\n",
    "tfidf_transformer = TfidfTransformer()\n",
    "X_train_tfidf = tfidf_transformer.fit_transform(X_train_counts)\n",
    "print X_train_tfidf.shape"
   ]
  },
  {
   "cell_type": "code",
   "execution_count": 13,
   "metadata": {
    "collapsed": false,
    "scrolled": true
   },
   "outputs": [
    {
     "name": "stderr",
     "output_type": "stream",
     "text": [
      "100%|██████████| 9229/9229 [03:02<00:00, 50.49it/s]\n"
     ]
    },
    {
     "name": "stdout",
     "output_type": "stream",
     "text": [
      "(9229, 20000)\n",
      "(9229, 20000)\n"
     ]
    }
   ],
   "source": [
    "val_files = [os.path.join(NOTE_DATA_DIR, '%s.csv'%sid) for sid in val_sids]\n",
    "X_val_counts = cnt_vect.fit_transform(notes_generator(val_files))\n",
    "print X_val_counts.shape\n",
    "tfidf_transformer = TfidfTransformer()\n",
    "X_val_tfidf = tfidf_transformer.fit_transform(X_val_counts)\n",
    "print X_val_tfidf.shape"
   ]
  },
  {
   "cell_type": "code",
   "execution_count": 14,
   "metadata": {
    "collapsed": false
   },
   "outputs": [
    {
     "name": "stdout",
     "output_type": "stream",
     "text": [
      "(36917, 20000) (36917, 50)\n"
     ]
    }
   ],
   "source": [
    "print X_train_tfidf.shape, Y_train.shape"
   ]
  },
  {
   "cell_type": "markdown",
   "metadata": {},
   "source": [
    "** generate 0/1 label for each class ** "
   ]
  },
  {
   "cell_type": "code",
   "execution_count": 15,
   "metadata": {
    "collapsed": false
   },
   "outputs": [],
   "source": [
    "Y_train_labels = [Y_train[:,i] for i in xrange(Y_train.shape[1])]"
   ]
  },
  {
   "cell_type": "code",
   "execution_count": 33,
   "metadata": {
    "collapsed": false
   },
   "outputs": [
    {
     "name": "stderr",
     "output_type": "stream",
     "text": [
      "100%|██████████| 50/50 [21:22<00:00, 21.17s/it]\n"
     ]
    }
   ],
   "source": [
    "from sklearn.linear_model import SGDClassifier\n",
    "from sklearn.svm import SVC\n",
    "clfs = []\n",
    "for i in tqdm(range(N_LABELS)):\n",
    "#     clf = SVC(class_weight='balanced',random_state=1)\n",
    "    clf =  SGDClassifier(loss='hinge', penalty='l2', \n",
    "                   class_weight='balanced',\n",
    "                   alpha=1e-3, n_iter=200, random_state=1)\n",
    "    clf.fit(X_train_tfidf, Y_train_labels[i]) \n",
    "    clfs.append(clf)"
   ]
  },
  {
   "cell_type": "markdown",
   "metadata": {},
   "source": [
    "** predict and evaluate **"
   ]
  },
  {
   "cell_type": "code",
   "execution_count": 34,
   "metadata": {
    "collapsed": false
   },
   "outputs": [
    {
     "name": "stdout",
     "output_type": "stream",
     "text": [
      "(9229, 50)\n"
     ]
    }
   ],
   "source": [
    "preds = [clfs[i].predict(X_val_tfidf) for i in xrange(N_LABELS)]    \n",
    "pred_svm = np.vstack(preds).T\n",
    "print pred_svm.shape"
   ]
  },
  {
   "cell_type": "code",
   "execution_count": 35,
   "metadata": {
    "collapsed": false
   },
   "outputs": [
    {
     "name": "stdout",
     "output_type": "stream",
     "text": [
      "[[ 0.  0.  0.  0.  0.  0.  0.  0.  0.  0.  0.  0.  0.  0.  0.  0.  0.  0.\n",
      "   0.  0.  0.  0.  0.  0.  1.  0.  0.  0.  0.  0.  0.  0.  0.  0.  0.  0.\n",
      "   0.  0.  0.  0.  0.  0.  0.  0.  0.  0.  0.  0.  0.  1.]\n",
      " [ 0.  0.  0.  0.  0.  0.  0.  0.  0.  0.  0.  0.  0.  0.  0.  0.  0.  0.\n",
      "   0.  0.  0.  0.  0.  0.  1.  0.  0.  0.  0.  0.  0.  0.  0.  0.  0.  0.\n",
      "   0.  0.  0.  0.  0.  0.  0.  0.  0.  0.  0.  0.  0.  1.]\n",
      " [ 0.  0.  0.  0.  0.  0.  0.  0.  0.  0.  0.  0.  0.  0.  0.  0.  0.  0.\n",
      "   0.  0.  0.  0.  0.  0.  1.  0.  0.  0.  0.  0.  0.  0.  0.  0.  0.  0.\n",
      "   0.  0.  0.  0.  0.  0.  0.  0.  0.  0.  0.  0.  0.  1.]\n",
      " [ 0.  0.  0.  0.  0.  0.  0.  0.  0.  0.  0.  0.  0.  0.  0.  0.  0.  0.\n",
      "   0.  0.  0.  0.  0.  0.  1.  0.  0.  0.  0.  0.  0.  0.  0.  0.  0.  0.\n",
      "   0.  0.  0.  0.  0.  0.  0.  0.  0.  0.  0.  0.  0.  1.]\n",
      " [ 0.  0.  0.  0.  0.  0.  0.  0.  0.  0.  0.  0.  0.  0.  0.  0.  0.  0.\n",
      "   0.  0.  0.  0.  0.  0.  0.  0.  0.  0.  0.  0.  0.  0.  0.  0.  0.  0.\n",
      "   0.  0.  0.  0.  0.  0.  0.  0.  0.  0.  0.  0.  0.  1.]\n",
      " [ 0.  0.  0.  0.  0.  0.  0.  0.  0.  0.  0.  0.  1.  0.  0.  0.  0.  0.\n",
      "   0.  0.  0.  0.  0.  0.  1.  0.  0.  0.  0.  0.  0.  0.  0.  0.  0.  0.\n",
      "   0.  0.  0.  0.  0.  0.  0.  0.  0.  0.  0.  0.  0.  1.]\n",
      " [ 0.  0.  0.  0.  0.  0.  0.  0.  0.  0.  0.  0.  0.  0.  0.  0.  0.  0.\n",
      "   0.  0.  0.  0.  0.  0.  1.  0.  0.  0.  0.  0.  0.  0.  0.  0.  0.  0.\n",
      "   0.  0.  0.  0.  0.  0.  0.  0.  0.  0.  0.  0.  0.  1.]\n",
      " [ 0.  0.  0.  0.  0.  0.  0.  0.  0.  0.  0.  0.  0.  0.  0.  0.  0.  0.\n",
      "   0.  0.  0.  0.  0.  0.  1.  0.  0.  0.  0.  0.  0.  0.  0.  0.  0.  0.\n",
      "   0.  0.  0.  0.  0.  0.  0.  0.  0.  0.  0.  0.  0.  1.]\n",
      " [ 0.  0.  0.  0.  0.  0.  0.  0.  0.  0.  0.  0.  0.  0.  0.  0.  0.  0.\n",
      "   0.  0.  0.  0.  0.  0.  1.  0.  0.  0.  0.  0.  0.  0.  0.  0.  0.  0.\n",
      "   0.  0.  0.  0.  0.  0.  0.  0.  0.  0.  0.  0.  0.  1.]\n",
      " [ 0.  0.  0.  0.  0.  0.  0.  0.  0.  0.  0.  0.  0.  0.  0.  0.  0.  0.\n",
      "   0.  0.  0.  0.  0.  0.  0.  0.  0.  0.  0.  0.  0.  0.  0.  0.  0.  0.\n",
      "   0.  0.  0.  0.  0.  0.  0.  0.  0.  0.  0.  0.  0.  1.]]\n"
     ]
    }
   ],
   "source": [
    "print pred_svm[:10]"
   ]
  },
  {
   "cell_type": "code",
   "execution_count": 36,
   "metadata": {
    "collapsed": false
   },
   "outputs": [
    {
     "name": "stdout",
     "output_type": "stream",
     "text": [
      "precision = 0.609780763494\n",
      "recall =  0.27759335575\n",
      "F1 =  0.335145619096\n",
      "acc =  0.219569032631\n"
     ]
    }
   ],
   "source": [
    "multilabel_evaluate(pred_svm)"
   ]
  },
  {
   "cell_type": "code",
   "execution_count": 38,
   "metadata": {
    "collapsed": false
   },
   "outputs": [
    {
     "name": "stderr",
     "output_type": "stream",
     "text": [
      "100%|██████████| 50/50 [21:06<00:00, 21.40s/it]\n"
     ]
    },
    {
     "name": "stdout",
     "output_type": "stream",
     "text": [
      "(9229, 50)\n",
      "precision = 0.934626358848\n",
      "recall =  0.263854597276\n",
      "F1 =  0.374515908556\n",
      "acc =  0.262168750158\n"
     ]
    }
   ],
   "source": [
    "clfs2 = []\n",
    "for i in tqdm(range(N_LABELS)):\n",
    "#     clf = SVC(class_weight='balanced',random_state=1)\n",
    "    clf =  SGDClassifier(loss='hinge', penalty='l2', \n",
    "                   class_weight='balanced',\n",
    "                   alpha=5e-4, n_iter=200, random_state=1)\n",
    "    clf.fit(X_train_tfidf, Y_train_labels[i]) \n",
    "    clfs2.append(clf)\n",
    "preds = [clfs2[i].predict(X_val_tfidf) for i in xrange(N_LABELS)]    \n",
    "pred_svm2 = np.vstack(preds).T\n",
    "print pred_svm2.shape\n",
    "multilabel_evaluate(pred_svm2)"
   ]
  },
  {
   "cell_type": "markdown",
   "metadata": {},
   "source": [
    "** dump file for later use ** "
   ]
  },
  {
   "cell_type": "code",
   "execution_count": 21,
   "metadata": {
    "collapsed": true
   },
   "outputs": [],
   "source": [
    "data_svm = {\n",
    "    'X_train': X_train_tfidf,\n",
    "    'Y_train': Y_train,\n",
    "    'X_val': X_val_tfidf,\n",
    "    'Y_val': Y_val,\n",
    "    'train_sids': train_sids,\n",
    "    'val_sids': val_sids\n",
    "}"
   ]
  },
  {
   "cell_type": "code",
   "execution_count": 22,
   "metadata": {
    "collapsed": true
   },
   "outputs": [],
   "source": [
    "pk.dump(data_svm, open('./diag_data_svm_new.pk','wb'), pk.HIGHEST_PROTOCOL)"
   ]
  },
  {
   "cell_type": "markdown",
   "metadata": {},
   "source": [
    "# Deep patient baseline"
   ]
  },
  {
   "cell_type": "code",
   "execution_count": 25,
   "metadata": {
    "collapsed": true
   },
   "outputs": [],
   "source": [
    "VALIDATION_SPLIT = 0.2"
   ]
  },
  {
   "cell_type": "code",
   "execution_count": 6,
   "metadata": {
    "collapsed": true
   },
   "outputs": [],
   "source": [
    "sid2khot = pk_data['sid2khot'] # maps sid(int) to khot encoding of Y_true"
   ]
  },
  {
   "cell_type": "code",
   "execution_count": 11,
   "metadata": {
    "collapsed": false
   },
   "outputs": [
    {
     "data": {
      "text/plain": [
       "array([ 0.,  0.,  0.,  0.,  0.,  0.,  0.,  0.,  0.,  1.,  1.,  0.,  0.,\n",
       "        0.,  0.,  0.,  0.,  0.,  0.,  0.,  0.,  0.,  0.,  0.,  0.,  0.,\n",
       "        0.,  0.,  0.,  0.,  0.,  0.,  1.,  0.,  0.,  0.,  0.,  0.,  0.,\n",
       "        0.,  0.,  0.,  0.,  0.,  0.,  0.,  0.,  0.,  0.,  0.])"
      ]
     },
     "execution_count": 11,
     "metadata": {},
     "output_type": "execute_result"
    }
   ],
   "source": [
    "sid2khot[2]"
   ]
  },
  {
   "cell_type": "code",
   "execution_count": 15,
   "metadata": {
    "collapsed": false
   },
   "outputs": [],
   "source": [
    "data = pk.load(open('./data/deep_patient_vec.pk'))\n",
    "dpvecs = data['dpvecs']\n",
    "sid2rowidx = data['sid2rowidx'] # map sid(int) to row index in deep patient feature matrix"
   ]
  },
  {
   "cell_type": "code",
   "execution_count": 17,
   "metadata": {
    "collapsed": false
   },
   "outputs": [
    {
     "data": {
      "text/plain": [
       "(46146, 46146)"
      ]
     },
     "execution_count": 17,
     "metadata": {},
     "output_type": "execute_result"
    }
   ],
   "source": [
    "len(sid2rowidx), len(sid2khot)"
   ]
  },
  {
   "cell_type": "code",
   "execution_count": 24,
   "metadata": {
    "collapsed": false
   },
   "outputs": [
    {
     "name": "stdout",
     "output_type": "stream",
     "text": [
      "[32441 69537 19904 ..., 21795 12247 10963]\n"
     ]
    }
   ],
   "source": [
    "sids = np.array(sid2rowidx.keys())\n",
    "np.random.shuffle(sids)\n",
    "print sids"
   ]
  },
  {
   "cell_type": "code",
   "execution_count": 26,
   "metadata": {
    "collapsed": true
   },
   "outputs": [],
   "source": [
    "sid_train, sid_val = sids[int(len(sids)*VALIDATION_SPLIT):], sids[:int(len(sids)*VALIDATION_SPLIT)]"
   ]
  },
  {
   "cell_type": "code",
   "execution_count": 27,
   "metadata": {
    "collapsed": false
   },
   "outputs": [
    {
     "data": {
      "text/plain": [
       "(36917, 9229)"
      ]
     },
     "execution_count": 27,
     "metadata": {},
     "output_type": "execute_result"
    }
   ],
   "source": [
    "len(sid_train), len(sid_val)"
   ]
  },
  {
   "cell_type": "code",
   "execution_count": 30,
   "metadata": {
    "collapsed": false
   },
   "outputs": [
    {
     "name": "stdout",
     "output_type": "stream",
     "text": [
      "(36917, 500) (36917, 50)\n",
      "(9229, 500) (9229, 50)\n"
     ]
    }
   ],
   "source": [
    "X_train, Y_train = [],[]\n",
    "for sid in sid_train:\n",
    "    X_train.append(dpvecs[sid2rowidx[sid]])\n",
    "    Y_train.append(sid2khot[sid])\n",
    "X_train = np.vstack(X_train)\n",
    "Y_train = np.vstack(Y_train)\n",
    "print X_train.shape, Y_train.shape\n",
    "\n",
    "X_val, Y_val = [],[]\n",
    "for sid in sid_val:\n",
    "    X_val.append(dpvecs[sid2rowidx[sid]])\n",
    "    Y_val.append(sid2khot[sid])\n",
    "X_val = np.vstack(X_val)\n",
    "Y_val = np.vstack(Y_val)\n",
    "print X_val.shape, Y_val.shape"
   ]
  },
  {
   "cell_type": "code",
   "execution_count": 60,
   "metadata": {
    "collapsed": false
   },
   "outputs": [
    {
     "data": {
      "text/plain": [
       "array([ 14020.,   8628.,   8187.,   7810.,   6091.,   5945.,   5861.,\n",
       "         5292.,   4610.,   4541.,   4394.,   4234.,   4227.,   3952.,\n",
       "         3530.,   3368.,   3278.,   3034.,   2817.,   2817.,   2773.,\n",
       "         2715.,   2710.,   2524.,   2397.,   2293.,   2355.,   2303.,\n",
       "         2267.,   2214.,   2219.,   2194.,   2190.,   2124.,   2062.,\n",
       "         2044.,   1919.,   1839.,   1870.,   1865.,   1833.,   1803.,\n",
       "         1818.,   1743.,   1640.,   1639.,   1651.,   1608.,   1588.,\n",
       "        35142.])"
      ]
     },
     "execution_count": 60,
     "metadata": {},
     "output_type": "execute_result"
    }
   ],
   "source": [
    "Y_train.sum(axis=0)"
   ]
  },
  {
   "cell_type": "code",
   "execution_count": 61,
   "metadata": {
    "collapsed": false,
    "scrolled": true
   },
   "outputs": [
    {
     "data": {
      "text/plain": [
       "array([ 3490.,  2108.,  2006.,  1992.,  1543.,  1476.,  1471.,  1340.,\n",
       "        1136.,  1137.,  1046.,  1086.,  1019.,  1015.,   861.,   863.,\n",
       "         842.,   755.,   755.,   687.,   730.,   672.,   652.,   660.,\n",
       "         585.,   614.,   547.,   586.,   547.,   575.,   564.,   581.,\n",
       "         517.,   519.,   492.,   490.,   457.,   479.,   432.,   434.,\n",
       "         464.,   444.,   423.,   411.,   437.,   433.,   404.,   401.,\n",
       "         390.,  8787.])"
      ]
     },
     "execution_count": 61,
     "metadata": {},
     "output_type": "execute_result"
    }
   ],
   "source": [
    "Y_val.sum(axis=0)"
   ]
  },
  {
   "cell_type": "code",
   "execution_count": 69,
   "metadata": {
    "collapsed": false
   },
   "outputs": [
    {
     "name": "stdout",
     "output_type": "stream",
     "text": [
      "[63, 0, 0, 0, 768, 0, 0, 3117, 2824, 88, 347, 0, 26, 0, 0, 0, 0, 0, 0, 3, 0, 0, 0, 0, 0, 0, 0, 0, 0, 0, 0, 0, 0, 0, 0, 0, 0, 0, 0, 0, 0, 0, 0, 0, 0, 0, 0, 0, 0, 9229]\n"
     ]
    }
   ],
   "source": [
    "print map(int, pred_svm_dp.sum(axis=0))"
   ]
  },
  {
   "cell_type": "code",
   "execution_count": 70,
   "metadata": {
    "collapsed": false
   },
   "outputs": [
    {
     "name": "stderr",
     "output_type": "stream",
     "text": [
      "100%|██████████| 50/50 [8:45:24<00:00, 467.98s/it]\n"
     ]
    }
   ],
   "source": [
    "clfs = []\n",
    "from sklearn.linear_model import SGDClassifier\n",
    "from sklearn.svm import SVC\n",
    "for i in tqdm(range(N_LABELS)):\n",
    "    clf = SVC(class_weight='balanced',random_state=1)\n",
    "#     clf =  SGDClassifier(loss='hinge', penalty='l2', \n",
    "# #                    class_weight='balanced',\n",
    "#                    alpha=1e-2, n_iter=200, random_state=1)\n",
    "    clf.fit(X_train, Y_train[:,i]) \n",
    "    clfs.append(clf)"
   ]
  },
  {
   "cell_type": "code",
   "execution_count": 67,
   "metadata": {
    "collapsed": false
   },
   "outputs": [
    {
     "name": "stdout",
     "output_type": "stream",
     "text": [
      "(9229, 50)\n",
      "precision = 0.785121175938\n",
      "recall =  0.301476883694\n",
      "F1 =  0.392286694427\n",
      "acc =  0.272933425004\n"
     ]
    }
   ],
   "source": [
    "preds = [clfs[i].predict(X_val) for i in xrange(N_LABELS)]    \n",
    "pred_svm_dp = np.vstack(preds).T\n",
    "print pred_svm_dp.shape\n",
    "multilabel_evaluate(y_pred=pred_svm_dp,y_true=Y_val)"
   ]
  },
  {
   "cell_type": "code",
   "execution_count": null,
   "metadata": {
    "collapsed": true
   },
   "outputs": [],
   "source": []
  }
 ],
 "metadata": {
  "anaconda-cloud": {},
  "kernelspec": {
   "display_name": "Python [conda env:thesis_nb]",
   "language": "python",
   "name": "conda-env-thesis_nb-py"
  },
  "language_info": {
   "codemirror_mode": {
    "name": "ipython",
    "version": 2
   },
   "file_extension": ".py",
   "mimetype": "text/x-python",
   "name": "python",
   "nbconvert_exporter": "python",
   "pygments_lexer": "ipython2",
   "version": "2.7.12"
  }
 },
 "nbformat": 4,
 "nbformat_minor": 1
}
