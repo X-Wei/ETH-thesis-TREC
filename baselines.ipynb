{
 "cells": [
  {
   "cell_type": "code",
   "execution_count": 1,
   "metadata": {
    "collapsed": true
   },
   "outputs": [],
   "source": [
    "import os,sys\n",
    "import numpy as np\n",
    "import pandas as pd\n",
    "from tqdm import tqdm\n",
    "import cPickle as pk\n",
    "np.random.seed(1) # to be reproductive"
   ]
  },
  {
   "cell_type": "code",
   "execution_count": 4,
   "metadata": {
    "collapsed": true
   },
   "outputs": [],
   "source": [
    "# paths\n",
    "NOTE_DATA_DIR = '/local/XW/DATA/MIMIC/noteevents_by_sid/'\n",
    "ICD_FPATH = './subject_icds.txt'\n",
    "PK_FPATH = './processed_data.pk' # './processed_data_small.pk'"
   ]
  },
  {
   "cell_type": "code",
   "execution_count": 5,
   "metadata": {
    "collapsed": false
   },
   "outputs": [],
   "source": [
    "# read k-hot labels data\n",
    "pk_data = pk.load(open(PK_FPATH, 'rb'))\n",
    "Y_train = pk_data['Y_train']\n",
    "Y_val = pk_data['Y_val']"
   ]
  },
  {
   "cell_type": "markdown",
   "metadata": {},
   "source": [
    "# Naive baseline"
   ]
  },
  {
   "cell_type": "code",
   "execution_count": 8,
   "metadata": {
    "collapsed": false
   },
   "outputs": [
    {
     "name": "stdout",
     "output_type": "stream",
     "text": [
      "(33509, 40) (8377, 40)\n"
     ]
    }
   ],
   "source": [
    "print Y_train.shape, Y_val.shape"
   ]
  },
  {
   "cell_type": "code",
   "execution_count": 33,
   "metadata": {
    "collapsed": false
   },
   "outputs": [
    {
     "name": "stdout",
     "output_type": "stream",
     "text": [
      "[[ 0.  0.  0.  0.  0.  0.  0.  0.  0.  0.  0.  0.  0.  0.  0.  0.  1.  0.\n",
      "   0.  0.  0.  0.  0.  0.  0.  0.  0.  0.  0.  0.  0.  0.  0.  0.  0.  0.\n",
      "   0.  0.  0.  1.]\n",
      " [ 0.  0.  0.  0.  0.  1.  0.  0.  1.  0.  0.  0.  1.  0.  0.  0.  0.  0.\n",
      "   1.  0.  0.  0.  1.  0.  0.  0.  0.  0.  0.  0.  0.  0.  0.  0.  0.  0.\n",
      "   0.  0.  0.  1.]]\n"
     ]
    }
   ],
   "source": [
    "print Y_train[:2,]"
   ]
  },
  {
   "cell_type": "code",
   "execution_count": 10,
   "metadata": {
    "collapsed": false
   },
   "outputs": [
    {
     "name": "stdout",
     "output_type": "stream",
     "text": [
      "[  8820.   7283.   6563.   6642.   5054.   5369.   4284.   4618.   3908.\n",
      "   3463.   3512.   3140.   2512.   2458.   1720.   1961.   1905.   2053.\n",
      "   2071.   1929.   1027.   1602.   1655.   1684.   1516.   1515.   1203.\n",
      "   1063.   1375.   1344.   1205.   1113.   1197.    977.   1206.   1191.\n",
      "   1107.    970.    937.  22061.]\n"
     ]
    }
   ],
   "source": [
    "# naive algo just find which label is most common, then always predict this label\n",
    "stat = Y_train.sum(axis=0)\n",
    "print stat"
   ]
  },
  {
   "cell_type": "code",
   "execution_count": 12,
   "metadata": {
    "collapsed": false
   },
   "outputs": [
    {
     "name": "stdout",
     "output_type": "stream",
     "text": [
      "39\n"
     ]
    }
   ],
   "source": [
    "pred_naive = np.argmax(stat)\n",
    "print pred_naive"
   ]
  },
  {
   "cell_type": "code",
   "execution_count": 15,
   "metadata": {
    "collapsed": false
   },
   "outputs": [
    {
     "name": "stdout",
     "output_type": "stream",
     "text": [
      "niave baseline is: 0.662528351\n"
     ]
    }
   ],
   "source": [
    "acc_naive = Y_val.sum(axis=0)[pred_naive]*1.0 / Y_val.shape[0]\n",
    "print 'niave baseline is: %.9f' % acc_naive"
   ]
  },
  {
   "cell_type": "markdown",
   "metadata": {},
   "source": [
    "# SVM baseline"
   ]
  },
  {
   "cell_type": "markdown",
   "metadata": {},
   "source": [
    "** The problem with SVM is that for each instance, there are several labels, so I split each instance into several (instance, one-label) pairs... NOT SURE IF THIS MAKES SENSE. **\n",
    "\n",
    "This baseline use the method described at: http://scikit-learn.org/stable/tutorial/text_analytics/working_with_text_data.html"
   ]
  },
  {
   "cell_type": "code",
   "execution_count": 23,
   "metadata": {
    "collapsed": false
   },
   "outputs": [
    {
     "name": "stderr",
     "output_type": "stream",
     "text": [
      "100%|██████████| 41886/41886 [00:00<00:00, 117835.04it/s]\n"
     ]
    }
   ],
   "source": [
    "# prepare label data\n",
    "N_LABELS = 40\n",
    "K_ICDS_TOKEEP = N_LABELS - 1 # predict only on top K frequent icd codes\n",
    "N_SUBJECTS = 41886\n",
    "from collections import Counter\n",
    "sid2icds = {} # map subject_id ---> icd codes of this patient\n",
    "icd_ctr = Counter()\n",
    "with open(ICD_FPATH) as f: \n",
    "    for line in tqdm(f, total=N_SUBJECTS): \n",
    "        codes = map(int, line.split())\n",
    "        sid, _icds = codes[0], codes[1:]\n",
    "        icd_ctr.update(_icds)\n",
    "        sid2icds[sid] = set(_icds)"
   ]
  },
  {
   "cell_type": "code",
   "execution_count": 31,
   "metadata": {
    "collapsed": false
   },
   "outputs": [
    {
     "name": "stdout",
     "output_type": "stream",
     "text": [
      "[(3893, 14631), (9604, 10234), (966, 9245), (9671, 8983), (9904, 7235), (3961, 6831), (9672, 5973), (9955, 5748), (8856, 5324), (3891, 4669), (3615, 4397), (9915, 4228), (8872, 3536), (3722, 3306), (3995, 3235), (3324, 3222), (4513, 2911), (9390, 2721), (3723, 2702), (9983, 2391), (5491, 2209), (331, 2198), (8853, 2112), (640, 2084), (9907, 2026), (3612, 1901), (3491, 1825), (3895, 1812), (311, 1768), (9920, 1737), (3404, 1705), (3897, 1667), (40, 1646), (8841, 1564), (4311, 1530), (3613, 1502), (3521, 1419), (66, 1321), (3606, 1255)]\n"
     ]
    }
   ],
   "source": [
    "print icd_ctr.most_common(K_ICDS_TOKEEP)\n",
    "icds = zip( *icd_ctr.most_common(K_ICDS_TOKEEP) )[0] + ('other',)\n",
    "sid2khot = {} # map subject_id to k-hot vector\n",
    "for sid in sid2icds.keys():\n",
    "    _khot = np.zeros(N_LABELS)\n",
    "    for _icd in sid2icds[sid]:\n",
    "        if _icd in icds: \n",
    "            _khot[icds.index(_icd)] = 1\n",
    "        else: # label 'other icds'\n",
    "            _khot[-1] = 1\n",
    "    sid2khot[sid] = _khot"
   ]
  },
  {
   "cell_type": "code",
   "execution_count": 28,
   "metadata": {
    "collapsed": false
   },
   "outputs": [],
   "source": [
    "sids = sid2icds.keys()\n",
    "np.random.shuffle(sids)\n",
    "VALIDATION_SPLIT = 0.2\n",
    "validset_sz = int(VALIDATION_SPLIT*len(sids))\n",
    "train_sids = sids[:-validset_sz]\n",
    "val_sids = sids[-validset_sz:]"
   ]
  },
  {
   "cell_type": "code",
   "execution_count": 93,
   "metadata": {
    "collapsed": true
   },
   "outputs": [],
   "source": [
    "Y_train = [sid2khot[sid] for sid in train_sids]\n",
    "Y_val = [sid2khot[sid] for sid in val_sids]"
   ]
  },
  {
   "cell_type": "markdown",
   "metadata": {},
   "source": [
    "To prepare data for svm, need to write our own **generator** of documents. "
   ]
  },
  {
   "cell_type": "code",
   "execution_count": 44,
   "metadata": {
    "collapsed": false
   },
   "outputs": [],
   "source": [
    "def notes_generator(fpaths):\n",
    "    for fpath in tqdm(fpaths):\n",
    "        df = pd.read_csv(fpath)\n",
    "        yield '\\n=======\\n\\n\\n'.join(df['text'])"
   ]
  },
  {
   "cell_type": "code",
   "execution_count": 102,
   "metadata": {
    "collapsed": false
   },
   "outputs": [],
   "source": [
    "train_files = [os.path.join(NOTE_DATA_DIR, '%d.csv'%sid) for sid in train_sids]\n",
    "val_files = [os.path.join(NOTE_DATA_DIR, '%d.csv'%sid) for sid in val_sids]"
   ]
  },
  {
   "cell_type": "code",
   "execution_count": 103,
   "metadata": {
    "collapsed": true
   },
   "outputs": [],
   "source": [
    "from sklearn.feature_extraction.text import CountVectorizer\n",
    "MAX_NB_WORDS = 20000 # top 20k most freq words\n",
    "cnt_vect = CountVectorizer(max_features=MAX_NB_WORDS)"
   ]
  },
  {
   "cell_type": "code",
   "execution_count": 104,
   "metadata": {
    "collapsed": false
   },
   "outputs": [
    {
     "name": "stderr",
     "output_type": "stream",
     "text": [
      "100%|██████████| 33509/33509 [10:40<00:00, 52.30it/s]\n"
     ]
    }
   ],
   "source": [
    "X_train_counts = cnt_vect.fit_transform(notes_generator(train_files))"
   ]
  },
  {
   "cell_type": "code",
   "execution_count": 105,
   "metadata": {
    "collapsed": false,
    "scrolled": true
   },
   "outputs": [
    {
     "name": "stdout",
     "output_type": "stream",
     "text": [
      "(33509, 20000)\n",
      "(33509, 20000)\n"
     ]
    }
   ],
   "source": [
    "print X_train_counts.shape\n",
    "from sklearn.feature_extraction.text import TfidfTransformer\n",
    "tfidf_transformer = TfidfTransformer()\n",
    "X_train_tfidf = tfidf_transformer.fit_transform(X_train_counts)\n",
    "print X_train_tfidf.shape"
   ]
  },
  {
   "cell_type": "markdown",
   "metadata": {},
   "source": [
    "** generate (instance, one_label) pairs ** "
   ]
  },
  {
   "cell_type": "code",
   "execution_count": 106,
   "metadata": {
    "collapsed": false
   },
   "outputs": [
    {
     "data": {
      "text/plain": [
       "125627"
      ]
     },
     "execution_count": 106,
     "metadata": {},
     "output_type": "execute_result"
    }
   ],
   "source": [
    "X_train_idx = []\n",
    "Y_train_1label = []\n",
    "for i,y in enumerate(Y_train):\n",
    "    for label in np.where(y==1)[0]:\n",
    "#         X_train.append(X_train_tfidf[i,:])\n",
    "        X_train_idx.append(i)\n",
    "        Y_train_1label.append(label)\n",
    "len(Y_train_1label)"
   ]
  },
  {
   "cell_type": "code",
   "execution_count": 107,
   "metadata": {
    "collapsed": false
   },
   "outputs": [
    {
     "data": {
      "text/plain": [
       "SGDClassifier(alpha=0.001, average=False, class_weight=None, epsilon=0.1,\n",
       "       eta0=0.0, fit_intercept=True, l1_ratio=0.15,\n",
       "       learning_rate='optimal', loss='hinge', n_iter=5, n_jobs=1,\n",
       "       penalty='l2', power_t=0.5, random_state=42, shuffle=True, verbose=0,\n",
       "       warm_start=False)"
      ]
     },
     "execution_count": 107,
     "metadata": {},
     "output_type": "execute_result"
    }
   ],
   "source": [
    "from sklearn.linear_model import SGDClassifier\n",
    "clf = SGDClassifier(loss='hinge', penalty='l2', alpha=1e-3, n_iter=5, random_state=42) # sgd SVM\n",
    "clf.fit(X_train_tfidf[X_train_idx,], Y_train_1label) "
   ]
  },
  {
   "cell_type": "markdown",
   "metadata": {},
   "source": [
    "** predict and evaluate **"
   ]
  },
  {
   "cell_type": "code",
   "execution_count": 108,
   "metadata": {
    "collapsed": false,
    "scrolled": true
   },
   "outputs": [
    {
     "name": "stderr",
     "output_type": "stream",
     "text": [
      "100%|██████████| 8377/8377 [02:48<00:00, 49.81it/s]\n"
     ]
    },
    {
     "name": "stdout",
     "output_type": "stream",
     "text": [
      "(8377, 20000)\n",
      "(8377, 20000)\n"
     ]
    }
   ],
   "source": [
    "X_val_counts = cnt_vect.fit_transform(notes_generator(val_files))\n",
    "print X_val_counts.shape\n",
    "tfidf_transformer = TfidfTransformer()\n",
    "X_val_tfidf = tfidf_transformer.fit_transform(X_val_counts)\n",
    "print X_val_tfidf.shape"
   ]
  },
  {
   "cell_type": "code",
   "execution_count": null,
   "metadata": {
    "collapsed": true
   },
   "outputs": [],
   "source": []
  },
  {
   "cell_type": "code",
   "execution_count": 109,
   "metadata": {
    "collapsed": true
   },
   "outputs": [],
   "source": [
    "preds = clf.predict(X_val_tfidf)"
   ]
  },
  {
   "cell_type": "code",
   "execution_count": 110,
   "metadata": {
    "collapsed": false,
    "scrolled": true
   },
   "outputs": [
    {
     "name": "stdout",
     "output_type": "stream",
     "text": [
      "1182 instances out of 8377 arecorrect, relaxed accuracy = 0.141100633\n"
     ]
    }
   ],
   "source": [
    "correct_pred = 0\n",
    "for i,pred in enumerate(preds):\n",
    "    if Y_val[i][pred]==1: correct_pred += 1\n",
    "print '%d instances out of %d correct, relaxed accuracy = %.9f' % \\\n",
    "                (correct_pred, len(Y_val), correct_pred*1.0/len(Y_val))"
   ]
  },
  {
   "cell_type": "code",
   "execution_count": 117,
   "metadata": {
    "collapsed": true
   },
   "outputs": [],
   "source": [
    "# add regularization?\n",
    "clf2 = SGDClassifier(loss='hinge', penalty='l2', alpha=1e-1, n_iter=5, random_state=42) "
   ]
  },
  {
   "cell_type": "code",
   "execution_count": 118,
   "metadata": {
    "collapsed": false
   },
   "outputs": [
    {
     "name": "stdout",
     "output_type": "stream",
     "text": [
      "5562 instances out of 8377 correct, relaxed accuracy = 0.663960845\n"
     ]
    }
   ],
   "source": [
    "clf2.fit(X_train_tfidf[X_train_idx,], Y_train_1label) \n",
    "preds = clf2.predict(X_val_tfidf)\n",
    "correct_pred = 0\n",
    "for i,pred in enumerate(preds):\n",
    "    if Y_val[i][pred]==1: correct_pred += 1\n",
    "print '%d instances out of %d correct, relaxed accuracy = %.9f' % \\\n",
    "                (correct_pred, len(Y_val), correct_pred*1.0/len(Y_val))"
   ]
  },
  {
   "cell_type": "markdown",
   "metadata": {},
   "source": [
    "** dump file for later use ** "
   ]
  },
  {
   "cell_type": "code",
   "execution_count": 111,
   "metadata": {
    "collapsed": true
   },
   "outputs": [],
   "source": [
    "data_svm = {\n",
    "    'X_train': X_train_tfidf,\n",
    "    'Y_train': Y_train,\n",
    "    'X_val': X_val_tfidf,\n",
    "    'Y_val': Y_val,\n",
    "    'train_sids': train_sids,\n",
    "    'val_sids': val_sids\n",
    "}"
   ]
  },
  {
   "cell_type": "code",
   "execution_count": 112,
   "metadata": {
    "collapsed": true
   },
   "outputs": [],
   "source": [
    "pk.dump(data_svm, open('./data_svm.pk','wb'), pk.HIGHEST_PROTOCOL)"
   ]
  },
  {
   "cell_type": "markdown",
   "metadata": {},
   "source": [
    "# Deep patient baseline"
   ]
  }
 ],
 "metadata": {
  "anaconda-cloud": {},
  "kernelspec": {
   "display_name": "Python [conda env:thesis_nb]",
   "language": "python",
   "name": "conda-env-thesis_nb-py"
  },
  "language_info": {
   "codemirror_mode": {
    "name": "ipython",
    "version": 2
   },
   "file_extension": ".py",
   "mimetype": "text/x-python",
   "name": "python",
   "nbconvert_exporter": "python",
   "pygments_lexer": "ipython2",
   "version": "2.7.12"
  }
 },
 "nbformat": 4,
 "nbformat_minor": 1
}
