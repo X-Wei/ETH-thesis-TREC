{
 "cells": [
  {
   "cell_type": "markdown",
   "metadata": {},
   "source": [
    "# I. Prepare data"
   ]
  },
  {
   "cell_type": "code",
   "execution_count": 1,
   "metadata": {
    "collapsed": false
   },
   "outputs": [],
   "source": [
    "from lxml import etree\n",
    "import nltk, os, sys, time\n",
    "import numpy as np\n",
    "from numpy.linalg import norm\n",
    "import pandas as pd\n",
    "from tqdm import tqdm\n",
    "import cPickle as pk\n",
    "np.random.seed(1) # to be reproducible\n",
    "\n",
    "W2V_FPATH = '/local/XW/DATA/WORD_EMBEDDINGS/biomed-w2v-200.txt'\n",
    "GLOVE_FPATH = '/local/XW/DATA/WORD_EMBEDDINGS/glove.6B.200d.txt'\n",
    "WD_PLACEHOLDER = '</s>'"
   ]
  },
  {
   "cell_type": "code",
   "execution_count": 17,
   "metadata": {
    "collapsed": true
   },
   "outputs": [],
   "source": [
    "topic_tree = etree.parse('data/topics2016.xml')\n",
    "\n",
    "def get_topic_desc(i):# returns the description string of the ith topic\n",
    "    summary = topic_tree.xpath('//topic[@number=\"%d\"]/description/text()'%i)[0]\n",
    "    return (u''+summary).lower()"
   ]
  },
  {
   "cell_type": "code",
   "execution_count": 2,
   "metadata": {
    "collapsed": true
   },
   "outputs": [],
   "source": [
    "# build a mapping of article name (PMCID) to its file path\n",
    "\n",
    "PMC_PATH = '/local/XW/DATA/TREC/PMCs/'\n",
    "pmcid2fpath = {}\n",
    "\n",
    "for subdir1 in os.listdir(PMC_PATH):\n",
    "    for subdir2 in os.listdir(os.path.join(PMC_PATH, subdir1)):\n",
    "        diry = os.path.join(PMC_PATH, subdir1, subdir2)\n",
    "        for fn in os.listdir(diry):\n",
    "            pmcid = fn[:-5]\n",
    "            fpath = os.path.join(diry, fn)\n",
    "            pmcid2fpath[pmcid] = fpath\n",
    "\n",
    "def get_article_abstract(pmcid):\n",
    "    fpath = pmcid2fpath[pmcid]\n",
    "    tree = etree.parse(fpath)\n",
    "    ret = u'' + tree.xpath('string(//article-title)') + '\\n'\n",
    "    abstracts = tree.xpath('//abstract')\n",
    "#     abstracts = tree.xpath('//p')\n",
    "    ret += u' '.join( [abstract.xpath('string(.)') for abstract in abstracts] )\n",
    "    if len(ret.split())<20: \n",
    "        raise Exception(u'abstraction too short: '+pmcid + ret)\n",
    "    return ret.lower()"
   ]
  },
  {
   "cell_type": "code",
   "execution_count": 9,
   "metadata": {
    "collapsed": false
   },
   "outputs": [
    {
     "name": "stderr",
     "output_type": "stream",
     "text": [
      "100%|██████████| 37707/37707 [02:01<00:00, 310.52it/s]\n"
     ]
    }
   ],
   "source": [
    "corpus = []\n",
    "pmcid_2relevance = [{} for i in xrange(31)] # list of dict mapping pmcid to relevance\n",
    "with open('data/qrels.txt') as f:\n",
    "    for line in tqdm(f, total=37707): \n",
    "        topicid, _, pmcid, relevance = line.split()\n",
    "        topicid = int(topicid)\n",
    "        try:\n",
    "            corpus.append(get_article_abstract(pmcid)) # !some articles don't have an abstract!\n",
    "            pmcid_2relevance[topicid][pmcid] = int(relevance)\n",
    "        except: \n",
    "            pass"
   ]
  },
  {
   "cell_type": "code",
   "execution_count": 10,
   "metadata": {
    "collapsed": false
   },
   "outputs": [
    {
     "name": "stdout",
     "output_type": "stream",
     "text": [
      "34601 articles are retrieved\n"
     ]
    }
   ],
   "source": [
    "print '%d articles are retrieved' % len(corpus)"
   ]
  },
  {
   "cell_type": "code",
   "execution_count": 11,
   "metadata": {
    "collapsed": true
   },
   "outputs": [],
   "source": [
    "from sklearn.feature_extraction.text import TfidfVectorizer\n",
    "vectorizer = TfidfVectorizer()\n",
    "vectorizer.fit_transform(corpus)\n",
    "vocab = set(vectorizer.vocabulary_.keys())"
   ]
  },
  {
   "cell_type": "code",
   "execution_count": 12,
   "metadata": {
    "collapsed": true
   },
   "outputs": [],
   "source": [
    "def get_idf(wd):\n",
    "    if wd ==WD_PLACEHOLDER: return -1e10\n",
    "    return vectorizer.idf_[ vectorizer.vocabulary_[wd] ]"
   ]
  },
  {
   "cell_type": "code",
   "execution_count": 13,
   "metadata": {
    "collapsed": false,
    "scrolled": false
   },
   "outputs": [
    {
     "name": "stderr",
     "output_type": "stream",
     "text": [
      "100%|██████████| 5443657/5443657 [01:18<00:00, 69255.14it/s]"
     ]
    },
    {
     "name": "stdout",
     "output_type": "stream",
     "text": [
      "found 58989 word vectors.\n"
     ]
    },
    {
     "name": "stderr",
     "output_type": "stream",
     "text": [
      "\n"
     ]
    }
   ],
   "source": [
    "word2vec = {} # maps word ---> embedding vector\n",
    "with open(W2V_FPATH) as f:\n",
    "    for line in tqdm(f, total=5443657): # 5443657 400000\n",
    "        vals = line.split()\n",
    "        word = vals[0]\n",
    "        if word in vocab:\n",
    "            vec = np.asarray(vals[1:], dtype='float')\n",
    "            word2vec[word] = vec\n",
    "print 'found %d word vectors.' % len(word2vec)"
   ]
  },
  {
   "cell_type": "code",
   "execution_count": 14,
   "metadata": {
    "collapsed": true
   },
   "outputs": [],
   "source": [
    "from nltk.corpus import stopwords\n",
    "stopwds = set(stopwords.words('english'))"
   ]
  },
  {
   "cell_type": "code",
   "execution_count": 18,
   "metadata": {
    "collapsed": false
   },
   "outputs": [],
   "source": [
    "_queries = [get_topic_desc(i) for i in xrange(1,31)] \n",
    "QUERIES = []\n",
    "for q in _queries:\n",
    "    q2 = [wd for wd in q.split() if (wd not in stopwds) and (wd in word2vec)] # filter out stopword and words not in w2v\n",
    "    QUERIES.append(q2)"
   ]
  },
  {
   "cell_type": "code",
   "execution_count": 19,
   "metadata": {
    "collapsed": false
   },
   "outputs": [
    {
     "name": "stdout",
     "output_type": "stream",
     "text": [
      "[20, 18, 63, 46, 23, 47, 98, 52, 74, 48, 43, 33, 46, 54, 63, 44, 36, 65, 51, 61, 69, 27, 34, 50, 71, 85, 46, 44, 111, 51]\n"
     ]
    }
   ],
   "source": [
    "print map(len, QUERIES)"
   ]
  },
  {
   "cell_type": "code",
   "execution_count": 20,
   "metadata": {
    "collapsed": false
   },
   "outputs": [
    {
     "name": "stdout",
     "output_type": "stream",
     "text": [
      "111\n"
     ]
    }
   ],
   "source": [
    "N = max(map(len, QUERIES)) # = max query length\n",
    "print N"
   ]
  },
  {
   "cell_type": "code",
   "execution_count": 21,
   "metadata": {
    "collapsed": false
   },
   "outputs": [],
   "source": [
    "# padding queries to the same length N\n",
    "WD_PLACEHOLDER = '</s>'\n",
    "def pad_query(q, SZ=N):\n",
    "    return q + [WD_PLACEHOLDER]*(SZ-len(q))\n",
    "QUERIES = map(pad_query, QUERIES)"
   ]
  },
  {
   "cell_type": "markdown",
   "metadata": {},
   "source": [
    "## helper functions"
   ]
  },
  {
   "cell_type": "code",
   "execution_count": 22,
   "metadata": {
    "collapsed": false
   },
   "outputs": [],
   "source": [
    "def get_histvec(q_wd, doc):\n",
    "    if q_wd == WD_PLACEHOLDER: \n",
    "        return np.zeros(30)\n",
    "    qvec = word2vec[q_wd]\n",
    "#     dvecs = np.vstack( [word2vec.get(wd, randvec) for wd in nltk.word_tokenize(doc)] )\n",
    "    dvecs = np.vstack( [ word2vec[wd] for wd in nltk.word_tokenize(doc) if wd in word2vec] )\n",
    "    cossims = np.dot(dvecs, qvec) / norm(qvec) / norm(dvecs, axis=1)\n",
    "    hist, _ = np.histogram( cossims[cossims<1.0], bins=29, range=(-1,1) )\n",
    "    ones = len(cossims) - sum(hist)\n",
    "    ret = np.array( list(hist) + [ones] )\n",
    "    ret = np.log(ret+1)\n",
    "    return ret # np.reshape(ret, (-1, 30))"
   ]
  },
  {
   "cell_type": "code",
   "execution_count": 23,
   "metadata": {
    "collapsed": true
   },
   "outputs": [],
   "source": [
    "def get_query_doc_feature(query, pmcid): # query: list of words\n",
    "    doc = get_article_abstract(pmcid)\n",
    "    return np.array([ get_histvec(wd, doc) for wd in query])"
   ]
  },
  {
   "cell_type": "markdown",
   "metadata": {},
   "source": [
    "### prepare data"
   ]
  },
  {
   "cell_type": "code",
   "execution_count": 24,
   "metadata": {
    "collapsed": true
   },
   "outputs": [],
   "source": [
    "T = 30 # nubmer of used topics"
   ]
  },
  {
   "cell_type": "code",
   "execution_count": 25,
   "metadata": {
    "collapsed": false,
    "scrolled": true
   },
   "outputs": [
    {
     "name": "stderr",
     "output_type": "stream",
     "text": [
      "100%|██████████| 1340/1340 [03:35<00:00,  6.65it/s]\n",
      "100%|██████████| 1196/1196 [03:22<00:00,  5.90it/s]\n",
      "100%|██████████| 1353/1353 [11:28<00:00,  2.08it/s]\n",
      "100%|██████████| 1328/1328 [07:47<00:00,  2.49it/s]\n",
      "100%|██████████| 1384/1384 [04:14<00:00,  6.45it/s]\n",
      "100%|██████████| 825/825 [05:35<00:00,  4.15it/s]\n",
      "100%|██████████| 1065/1065 [13:38<00:00,  1.65it/s]\n",
      "100%|██████████| 1127/1127 [08:07<00:00,  2.48it/s]\n",
      "100%|██████████| 1101/1101 [09:34<00:00,  1.88it/s]\n",
      "100%|██████████| 1098/1098 [05:48<00:00,  3.88it/s]\n",
      "100%|██████████| 954/954 [04:26<00:00,  3.57it/s]\n",
      "100%|██████████| 1158/1158 [04:58<00:00,  4.44it/s]\n",
      "100%|██████████| 1336/1336 [08:06<00:00,  3.15it/s]\n",
      "100%|██████████| 1138/1138 [08:23<00:00,  4.87it/s]\n",
      "100%|██████████| 1023/1023 [07:48<00:00,  2.78it/s]\n",
      "100%|██████████| 1441/1441 [06:45<00:00,  3.53it/s]\n",
      "100%|██████████| 1034/1034 [04:56<00:00,  4.65it/s]\n",
      "100%|██████████| 1079/1079 [09:15<00:00,  3.32it/s]\n",
      "100%|██████████| 1146/1146 [07:13<00:00,  2.60it/s]\n",
      "100%|██████████| 1022/1022 [07:35<00:00,  3.10it/s]\n",
      "100%|██████████| 933/933 [08:32<00:00,  2.12it/s]\n",
      "100%|██████████| 1110/1110 [03:43<00:00,  3.42it/s]\n",
      "100%|██████████| 1552/1552 [05:54<00:00,  5.43it/s]\n",
      "100%|██████████| 1331/1331 [08:45<00:00,  3.86it/s]\n",
      "100%|██████████| 1093/1093 [08:47<00:00,  1.81it/s]\n",
      "100%|██████████| 961/961 [10:02<00:00,  2.22it/s]\n",
      "100%|██████████| 928/928 [04:44<00:00,  4.62it/s]\n",
      "100%|██████████| 1570/1570 [06:40<00:00,  3.92it/s]\n",
      "100%|██████████| 738/738 [09:25<00:00,  1.60it/s]\n",
      "100%|██████████| 1237/1237 [07:51<00:00,  3.17it/s]"
     ]
    },
    {
     "name": "stdout",
     "output_type": "stream",
     "text": [
      "30 30\n"
     ]
    },
    {
     "name": "stderr",
     "output_type": "stream",
     "text": [
      "\n"
     ]
    }
   ],
   "source": [
    "pos_ids, neg_ids = [], [] # pos_ids[q] is a list (positive pmcids for query `q`)\n",
    "hists_pos, hists_neg = [], [] # hists_pos[q] is a list (positive hists for query `q`)\n",
    "                              # hists_pos[q][i] is an array of size N*30 (the ith hists-feature array for query q)\n",
    "for topic in xrange(1,T+1):\n",
    "    query = QUERIES[topic-1]\n",
    "    pos_ids_q, neg_ids_q = [], []\n",
    "    hists_pos_q, hists_neg_q = [], []\n",
    "    relevance = pmcid_2relevance[topic]\n",
    "    for pmcid in tqdm(relevance.keys()):\n",
    "        if relevance[pmcid]==0: \n",
    "            neg_ids_q.append(pmcid)\n",
    "            hists_neg_q.append(get_query_doc_feature(query,pmcid))\n",
    "        else: \n",
    "            pos_ids_q.append(pmcid)\n",
    "            hists_pos_q.append(get_query_doc_feature(query,pmcid))\n",
    "    hists_pos_q, hists_neg_q = map(np.array, [hists_pos_q, hists_neg_q])\n",
    "    hists_pos.append(hists_pos_q); hists_neg.append(hists_neg_q)\n",
    "    pos_ids.append(pos_ids_q); neg_ids.append(neg_ids_q)\n",
    "print len(pos_ids), len(neg_ids)"
   ]
  },
  {
   "cell_type": "code",
   "execution_count": 26,
   "metadata": {
    "collapsed": false
   },
   "outputs": [
    {
     "name": "stdout",
     "output_type": "stream",
     "text": [
      "[125, 34, 144, 18, 95, 133, 68, 809, 117, 19, 350, 107, 128, 117, 69, 175, 171, 63, 204, 616, 68, 8, 108, 714, 213, 103, 12, 203, 118, 34]\n",
      "[1215, 1162, 1209, 1310, 1289, 692, 997, 318, 984, 1079, 604, 1051, 1208, 1021, 954, 1266, 863, 1016, 942, 406, 865, 1102, 1444, 617, 880, 858, 916, 1367, 620, 1203]\n"
     ]
    }
   ],
   "source": [
    "print map(len, hists_pos)\n",
    "print map(len, hists_neg)"
   ]
  },
  {
   "cell_type": "markdown",
   "metadata": {},
   "source": [
    "### prepare generator"
   ]
  },
  {
   "cell_type": "code",
   "execution_count": 27,
   "metadata": {
    "collapsed": false
   },
   "outputs": [],
   "source": [
    "VALDATION_SPLIT = 0.2\n",
    "BATCH_SZ = 128\n",
    "NB_EPOCH = 50"
   ]
  },
  {
   "cell_type": "code",
   "execution_count": 28,
   "metadata": {
    "collapsed": false
   },
   "outputs": [
    {
     "name": "stdout",
     "output_type": "stream",
     "text": [
      "(3267522, 3) (678369, 3)\n"
     ]
    }
   ],
   "source": [
    "idx_pairs = [] # list of list, where idx_pairs[q] is a list of tuples of the form: `(q, pos_idx, neg_idx)` for query q\n",
    "for q in xrange(T):\n",
    "    hists_pos_q, hists_neg_q = hists_pos[q], hists_neg[q]\n",
    "    idx_pairs_q = []\n",
    "    for pidx in xrange(len(hists_pos_q)): # here the idx are just row index in hists array\n",
    "        for nidx in xrange(len(hists_neg_q)):\n",
    "            idx_pairs_q.append( (q, pidx, nidx) )\n",
    "    idx_pairs.append(idx_pairs_q)\n",
    "\n",
    "n_val_queries = int(T * VALDATION_SPLIT)\n",
    "idx_pairs_train = reduce( lambda x,y: x+y, idx_pairs[:-n_val_queries] )\n",
    "idx_pairs_val   = reduce( lambda x,y: x+y, idx_pairs[-n_val_queries:] )\n",
    "\n",
    "idx_pairs_train, idx_pairs_val = map(np.array, [idx_pairs_train, idx_pairs_val])\n",
    "\n",
    "print idx_pairs_train.shape, idx_pairs_val.shape"
   ]
  },
  {
   "cell_type": "code",
   "execution_count": 29,
   "metadata": {
    "collapsed": true
   },
   "outputs": [],
   "source": [
    "IDFs = [ np.array ([ get_idf(wd) for wd in query]) for query in QUERIES]\n",
    "IDFs = np.array(IDFs)"
   ]
  },
  {
   "cell_type": "code",
   "execution_count": 30,
   "metadata": {
    "collapsed": false,
    "scrolled": true
   },
   "outputs": [],
   "source": [
    "def batch_generator(idx_pairs, batch_size=BATCH_SZ): \n",
    "    np.random.shuffle(idx_pairs)\n",
    "    batches_pre_epoch = len(idx_pairs) // batch_size\n",
    "    samples_per_epoch = batches_pre_epoch * batch_size # make samples_per_epoch a multiple of batch size\n",
    "    counter = 0\n",
    "    y_true_batch_dummy = np.ones((batch_size))\n",
    "    while 1:\n",
    "        idx_batch = idx_pairs[batch_size*counter: min(samples_per_epoch, batch_size*(counter+1))]\n",
    "        idfs_batch, pos_batch, neg_batch = [], [], []\n",
    "        for q, pidx, nidx in idx_batch:\n",
    "            idfs_batch.append(IDFs[q])\n",
    "            pos_batch.append(hists_pos[q][pidx])\n",
    "            neg_batch.append(hists_neg[q][nidx])\n",
    "        idfs_batch, pos_batch, neg_batch = map(np.array, [idfs_batch, pos_batch, neg_batch])\n",
    "#         print idfs_batch.shape, pos_batch.shape, neg_batch.shape\n",
    "        counter += 1\n",
    "        if (counter >= batches_pre_epoch):\n",
    "            np.random.shuffle(idx_pairs)\n",
    "            counter=0\n",
    "        \n",
    "        yield [idfs_batch, pos_batch, neg_batch], y_true_batch_dummy"
   ]
  },
  {
   "cell_type": "markdown",
   "metadata": {},
   "source": [
    "# II. Define the deep relevance model"
   ]
  },
  {
   "cell_type": "code",
   "execution_count": 31,
   "metadata": {
    "collapsed": false
   },
   "outputs": [
    {
     "name": "stderr",
     "output_type": "stream",
     "text": [
      "Using TensorFlow backend.\n"
     ]
    }
   ],
   "source": [
    "# define a function for visualization of model\n",
    "import pydot\n",
    "from IPython.display import SVG\n",
    "from keras.utils.visualize_util import model_to_dot\n",
    "def viz_model(model):\n",
    "    return SVG(model_to_dot(model).create(prog='dot', format='svg'))"
   ]
  },
  {
   "cell_type": "markdown",
   "metadata": {},
   "source": [
    "### construct the relevance IR model"
   ]
  },
  {
   "cell_type": "code",
   "execution_count": 32,
   "metadata": {
    "collapsed": false,
    "scrolled": true
   },
   "outputs": [],
   "source": [
    "from keras.models import Sequential, Model\n",
    "from keras.layers import Dense, Activation, InputLayer, Flatten, Input, Merge, merge, Reshape\n",
    "import keras.backend as K\n",
    "from keras.callbacks import EarlyStopping, TensorBoard\n",
    "import tensorflow as tf"
   ]
  },
  {
   "cell_type": "code",
   "execution_count": 33,
   "metadata": {
    "collapsed": false
   },
   "outputs": [],
   "source": [
    "# 2 main components of the structure: feed forward network and gating\n",
    "feed_forward = Sequential(\n",
    "    [Dense(input_dim=30, output_dim=10, activation='relu', bias=False),\n",
    "     Dense(output_dim=5, activation='relu', bias=False),\n",
    "     Dense(output_dim=1, activation='tanh', bias=False)], \n",
    "    name='feed_forward_nw')\n",
    "\n",
    "# ***note: have to wrap ops into Lambda layers !!***\n",
    "# cf: https://groups.google.com/forum/#!topic/keras-users/fbRS-FkZw_Q\n",
    "from keras.layers.core import Lambda\n",
    "\n",
    "input_idf = Input(shape=(N,), name='input_idf')\n",
    "def scale(x): \n",
    "    w = K.variable(1, name='w_g')\n",
    "    return tf.mul(x,w)\n",
    "def scale_output_shape(input_shape): return input_shape\n",
    "\n",
    "scaled = Lambda(scale, scale_output_shape, name='softmax_scale')(input_idf)\n",
    "gs_out = Activation('softmax', name='softmax')(scaled)\n",
    "gating = Model(input=input_idf, output=gs_out, name='gating')\n",
    "\n",
    "# first input: hist vectors\n",
    "input_hists = Input(shape=(N,30), name='input_hists')\n",
    "\n",
    "def slicei(x, i): return x[:,i,:]\n",
    "def slicei_output_shape(input_shape): return (input_shape[0], input_shape[2])\n",
    "zs = [ feed_forward( Lambda(lambda x:slicei(x,i), slicei_output_shape, name='slice%d'%i)(input_hists) )\\\n",
    "          for i in xrange(N) ]\n",
    "\n",
    "def concat(x): return K.concatenate(x) \n",
    "def concat_output_shape(input_shape): return (input_shape[0][0], N)\n",
    "zs = Lambda(concat, concat_output_shape, name='concat_zs')(zs)\n",
    "\n",
    "# second input: idf scores of each query term \n",
    "input_idf = Input(shape=(N,), name='input_idf')\n",
    "gs = gating(input_idf)\n",
    "\n",
    "def innerprod(x): return K.sum( tf.mul(x[0],x[1]), axis=1)\n",
    "def innerprod_output_shape(input_shape): return (input_shape[0][0],1)\n",
    "scores = Lambda(innerprod, innerprod_output_shape, name='innerprod_zs_gs')([zs, gs])\n",
    "\n",
    "scoring_model = Model(input=[input_idf, input_hists], output=[scores], name='scoring_model')\n",
    "\n",
    "# third input -- the negative hists vector \n",
    "input_hists_neg = Input(shape=(N,30), name='input_hists_neg')\n",
    "\n",
    "zs_neg = [ feed_forward( Lambda(lambda x:slicei(x,i), slicei_output_shape, name='slice%d_neg'%i)(input_hists_neg) )\\\n",
    "          for i in xrange(N) ]\n",
    "\n",
    "zs_neg = Lambda(concat, concat_output_shape, name='concat_zs_neg')(zs_neg)\n",
    "\n",
    "scores_neg = Lambda(innerprod, innerprod_output_shape, name='innerprod_zs_gs_neg')([zs_neg, gs])\n",
    "\n",
    "two_score_model = Model(input=[input_idf, input_hists, input_hists_neg], \n",
    "                        output=[scores, scores_neg], \n",
    "                        name='two_score_model')\n",
    "\n",
    "def diff(x): return tf.sub(x[0], x[1]) #x[0]-x[1]\n",
    "def diff_output_shape(input_shape): return input_shape[0]\n",
    "posneg_score_diff = Lambda(diff, diff_output_shape, name='posneg_score_diff')([scores, scores_neg])\n",
    "ranking_model = Model(input=[input_idf, input_hists,  input_hists_neg]\n",
    "                      , output=[posneg_score_diff]\n",
    "                      , name='ranking_model')\n",
    "\n",
    "# define my loss function: hinge of score_pos - score_neg\n",
    "def pairwise_hinge(y_true, y_pred): # y_pred = score_pos - score_neg, **y_true doesn't matter here**\n",
    "    return K.mean( K.maximum(1. - y_pred, y_true*0.0) )  \n",
    "\n",
    "# self-defined metrics\n",
    "def ranking_acc(y_true, y_pred):\n",
    "    y_pred = y_pred > 0 \n",
    "    return K.mean(y_pred)\n",
    "\n",
    "ranking_model.compile(optimizer='adagrad', loss=pairwise_hinge, metrics=[ranking_acc])"
   ]
  },
  {
   "cell_type": "code",
   "execution_count": 34,
   "metadata": {
    "collapsed": true
   },
   "outputs": [],
   "source": [
    "initial_weights = ranking_model.get_weights()"
   ]
  },
  {
   "cell_type": "code",
   "execution_count": 35,
   "metadata": {
    "collapsed": false
   },
   "outputs": [
    {
     "data": {
      "text/plain": [
       "array([[ 0.0040956 ,  0.00775904,  0.01263875,  0.00355943,  0.35950226,\n",
       "         0.08744649,  0.03052377,  0.00140675,  0.00343838,  0.23110865,\n",
       "         0.01159685,  0.01685167,  0.00382902,  0.04493778,  0.07891513,\n",
       "         0.01807553,  0.07703622,  0.00069298,  0.00186916,  0.0047165 ,\n",
       "         0.        ,  0.        ,  0.        ,  0.        ,  0.        ,\n",
       "         0.        ,  0.        ,  0.        ,  0.        ,  0.        ,\n",
       "         0.        ,  0.        ,  0.        ,  0.        ,  0.        ,\n",
       "         0.        ,  0.        ,  0.        ,  0.        ,  0.        ,\n",
       "         0.        ,  0.        ,  0.        ,  0.        ,  0.        ,\n",
       "         0.        ,  0.        ,  0.        ,  0.        ,  0.        ,\n",
       "         0.        ,  0.        ,  0.        ,  0.        ,  0.        ,\n",
       "         0.        ,  0.        ,  0.        ,  0.        ,  0.        ,\n",
       "         0.        ,  0.        ,  0.        ,  0.        ,  0.        ,\n",
       "         0.        ,  0.        ,  0.        ,  0.        ,  0.        ,\n",
       "         0.        ,  0.        ,  0.        ,  0.        ,  0.        ,\n",
       "         0.        ,  0.        ,  0.        ,  0.        ,  0.        ,\n",
       "         0.        ,  0.        ,  0.        ,  0.        ,  0.        ,\n",
       "         0.        ,  0.        ,  0.        ,  0.        ,  0.        ,\n",
       "         0.        ,  0.        ,  0.        ,  0.        ,  0.        ,\n",
       "         0.        ,  0.        ,  0.        ,  0.        ,  0.        ,\n",
       "         0.        ,  0.        ,  0.        ,  0.        ,  0.        ,\n",
       "         0.        ,  0.        ,  0.        ,  0.        ,  0.        ,\n",
       "         0.        ]], dtype=float32)"
      ]
     },
     "execution_count": 35,
     "metadata": {},
     "output_type": "execute_result"
    }
   ],
   "source": [
    "gating.predict(IDFs[0].reshape(-1,N))"
   ]
  },
  {
   "cell_type": "code",
   "execution_count": 61,
   "metadata": {
    "collapsed": true
   },
   "outputs": [
    {
     "data": {
      "image/svg+xml": [
       "<svg height=\"416pt\" viewBox=\"0.00 0.00 11494.00 416.00\" width=\"11494pt\" xmlns=\"http://www.w3.org/2000/svg\" xmlns:xlink=\"http://www.w3.org/1999/xlink\">\n",
       "<g class=\"graph\" id=\"graph0\" transform=\"scale(1 1) rotate(0) translate(4 412)\">\n",
       "<title>G</title>\n",
       "<polygon fill=\"white\" points=\"-4,5 -4,-412 11491,-412 11491,5 -4,5\" stroke=\"white\"/>\n",
       "<!-- 140404788727952 -->\n",
       "<g class=\"node\" id=\"node1\"><title>140404788727952</title>\n",
       "<polygon fill=\"none\" points=\"2483.5,-371 2483.5,-407 2626.5,-407 2626.5,-371 2483.5,-371\" stroke=\"black\"/>\n",
       "<text font-family=\"Times,serif\" font-size=\"14.00\" text-anchor=\"middle\" x=\"2555\" y=\"-385.3\">input_hists: InputLayer</text>\n",
       "</g>\n",
       "<!-- 140404789758672 -->\n",
       "<g class=\"node\" id=\"node3\"><title>140404789758672</title>\n",
       "<polygon fill=\"none\" points=\"-0.5,-297 -0.5,-333 100.5,-333 100.5,-297 -0.5,-297\" stroke=\"black\"/>\n",
       "<text font-family=\"Times,serif\" font-size=\"14.00\" text-anchor=\"middle\" x=\"50\" y=\"-311.3\">slice0: Lambda</text>\n",
       "</g>\n",
       "<!-- 140404788727952&#45;&gt;140404789758672 -->\n",
       "<g class=\"edge\" id=\"edge1\"><title>140404788727952-&gt;140404789758672</title>\n",
       "<path d=\"M2483.44,-387.588C2110.14,-385.282 392.705,-372.723 110.797,-333.922\" fill=\"none\" stroke=\"black\"/>\n",
       "<polygon fill=\"black\" points=\"111.046,-330.421 100.64,-332.413 110.017,-337.345 111.046,-330.421\" stroke=\"black\"/>\n",
       "</g>\n",
       "<!-- 140404789964752 -->\n",
       "<g class=\"node\" id=\"node4\"><title>140404789964752</title>\n",
       "<polygon fill=\"none\" points=\"118.5,-297 118.5,-333 219.5,-333 219.5,-297 118.5,-297\" stroke=\"black\"/>\n",
       "<text font-family=\"Times,serif\" font-size=\"14.00\" text-anchor=\"middle\" x=\"169\" y=\"-311.3\">slice1: Lambda</text>\n",
       "</g>\n",
       "<!-- 140404788727952&#45;&gt;140404789964752 -->\n",
       "<g class=\"edge\" id=\"edge2\"><title>140404788727952-&gt;140404789964752</title>\n",
       "<path d=\"M2483.34,-387.5C2121.08,-384.817 498.49,-370.913 229.683,-333.904\" fill=\"none\" stroke=\"black\"/>\n",
       "<polygon fill=\"black\" points=\"230.048,-330.42 219.641,-332.409 229.016,-337.344 230.048,-330.42\" stroke=\"black\"/>\n",
       "</g>\n",
       "<!-- 140404915690064 -->\n",
       "<g class=\"node\" id=\"node5\"><title>140404915690064</title>\n",
       "<polygon fill=\"none\" points=\"237.5,-297 237.5,-333 338.5,-333 338.5,-297 237.5,-297\" stroke=\"black\"/>\n",
       "<text font-family=\"Times,serif\" font-size=\"14.00\" text-anchor=\"middle\" x=\"288\" y=\"-311.3\">slice2: Lambda</text>\n",
       "</g>\n",
       "<!-- 140404788727952&#45;&gt;140404915690064 -->\n",
       "<g class=\"edge\" id=\"edge3\"><title>140404788727952-&gt;140404915690064</title>\n",
       "<path d=\"M2483.22,-387.402C2132.47,-384.328 605.626,-369.121 348.91,-333.933\" fill=\"none\" stroke=\"black\"/>\n",
       "<polygon fill=\"black\" points=\"349.048,-330.415 338.642,-332.405 348.017,-337.339 349.048,-330.415\" stroke=\"black\"/>\n",
       "</g>\n",
       "<!-- 140404915691280 -->\n",
       "<g class=\"node\" id=\"node6\"><title>140404915691280</title>\n",
       "<polygon fill=\"none\" points=\"356.5,-297 356.5,-333 457.5,-333 457.5,-297 356.5,-297\" stroke=\"black\"/>\n",
       "<text font-family=\"Times,serif\" font-size=\"14.00\" text-anchor=\"middle\" x=\"407\" y=\"-311.3\">slice3: Lambda</text>\n",
       "</g>\n",
       "<!-- 140404788727952&#45;&gt;140404915691280 -->\n",
       "<g class=\"edge\" id=\"edge4\"><title>140404788727952-&gt;140404915691280</title>\n",
       "<path d=\"M2483.43,-387.297C2144.9,-383.819 711.09,-367.33 467.701,-333.902\" fill=\"none\" stroke=\"black\"/>\n",
       "<polygon fill=\"black\" points=\"468.05,-330.415 457.642,-332.4 467.016,-337.339 468.05,-330.415\" stroke=\"black\"/>\n",
       "</g>\n",
       "<!-- 140404788231952 -->\n",
       "<g class=\"node\" id=\"node7\"><title>140404788231952</title>\n",
       "<polygon fill=\"none\" points=\"475.5,-297 475.5,-333 576.5,-333 576.5,-297 475.5,-297\" stroke=\"black\"/>\n",
       "<text font-family=\"Times,serif\" font-size=\"14.00\" text-anchor=\"middle\" x=\"526\" y=\"-311.3\">slice4: Lambda</text>\n",
       "</g>\n",
       "<!-- 140404788727952&#45;&gt;140404788231952 -->\n",
       "<g class=\"edge\" id=\"edge5\"><title>140404788727952-&gt;140404788231952</title>\n",
       "<path d=\"M2483.41,-387.176C2157.19,-383.272 817.67,-365.553 586.791,-333.912\" fill=\"none\" stroke=\"black\"/>\n",
       "<polygon fill=\"black\" points=\"587.051,-330.412 576.643,-332.395 586.016,-337.335 587.051,-330.412\" stroke=\"black\"/>\n",
       "</g>\n",
       "<!-- 140404788301392 -->\n",
       "<g class=\"node\" id=\"node8\"><title>140404788301392</title>\n",
       "<polygon fill=\"none\" points=\"594.5,-297 594.5,-333 695.5,-333 695.5,-297 594.5,-297\" stroke=\"black\"/>\n",
       "<text font-family=\"Times,serif\" font-size=\"14.00\" text-anchor=\"middle\" x=\"645\" y=\"-311.3\">slice5: Lambda</text>\n",
       "</g>\n",
       "<!-- 140404788727952&#45;&gt;140404788301392 -->\n",
       "<g class=\"edge\" id=\"edge6\"><title>140404788727952-&gt;140404788301392</title>\n",
       "<path d=\"M2483.36,-388.458C2189.64,-389.948 1076.12,-391.687 705.591,-333.982\" fill=\"none\" stroke=\"black\"/>\n",
       "<polygon fill=\"black\" points=\"706.072,-330.514 695.644,-332.389 704.965,-337.426 706.072,-330.514\" stroke=\"black\"/>\n",
       "</g>\n",
       "<!-- 140404788426512 -->\n",
       "<g class=\"node\" id=\"node9\"><title>140404788426512</title>\n",
       "<polygon fill=\"none\" points=\"713.5,-297 713.5,-333 814.5,-333 814.5,-297 713.5,-297\" stroke=\"black\"/>\n",
       "<text font-family=\"Times,serif\" font-size=\"14.00\" text-anchor=\"middle\" x=\"764\" y=\"-311.3\">slice6: Lambda</text>\n",
       "</g>\n",
       "<!-- 140404788727952&#45;&gt;140404788426512 -->\n",
       "<g class=\"edge\" id=\"edge7\"><title>140404788727952-&gt;140404788426512</title>\n",
       "<path d=\"M2483.2,-388.29C2201.48,-389.04 1170.65,-388.054 824.68,-333.997\" fill=\"none\" stroke=\"black\"/>\n",
       "<polygon fill=\"black\" points=\"825.074,-330.516 814.645,-332.382 823.962,-337.427 825.074,-330.516\" stroke=\"black\"/>\n",
       "</g>\n",
       "<!-- 140404912345040 -->\n",
       "<g class=\"node\" id=\"node10\"><title>140404912345040</title>\n",
       "<polygon fill=\"none\" points=\"832.5,-297 832.5,-333 933.5,-333 933.5,-297 832.5,-297\" stroke=\"black\"/>\n",
       "<text font-family=\"Times,serif\" font-size=\"14.00\" text-anchor=\"middle\" x=\"883\" y=\"-311.3\">slice7: Lambda</text>\n",
       "</g>\n",
       "<!-- 140404788727952&#45;&gt;140404912345040 -->\n",
       "<g class=\"edge\" id=\"edge8\"><title>140404788727952-&gt;140404912345040</title>\n",
       "<path d=\"M2483.09,-388.096C2213.95,-388.072 1265.5,-384.439 943.9,-334.033\" fill=\"none\" stroke=\"black\"/>\n",
       "<polygon fill=\"black\" points=\"944.077,-330.517 933.647,-332.375 942.959,-337.427 944.077,-330.517\" stroke=\"black\"/>\n",
       "</g>\n",
       "<!-- 140404912455248 -->\n",
       "<g class=\"node\" id=\"node11\"><title>140404912455248</title>\n",
       "<polygon fill=\"none\" points=\"951.5,-297 951.5,-333 1052.5,-333 1052.5,-297 951.5,-297\" stroke=\"black\"/>\n",
       "<text font-family=\"Times,serif\" font-size=\"14.00\" text-anchor=\"middle\" x=\"1002\" y=\"-311.3\">slice8: Lambda</text>\n",
       "</g>\n",
       "<!-- 140404788727952&#45;&gt;140404912455248 -->\n",
       "<g class=\"edge\" id=\"edge9\"><title>140404788727952-&gt;140404912455248</title>\n",
       "<path d=\"M2483.13,-387.872C2227.08,-387.034 1359.32,-380.842 1062.54,-333.978\" fill=\"none\" stroke=\"black\"/>\n",
       "<polygon fill=\"black\" points=\"1063.08,-330.521 1052.65,-332.366 1061.95,-337.43 1063.08,-330.521\" stroke=\"black\"/>\n",
       "</g>\n",
       "<!-- 140404914792400 -->\n",
       "<g class=\"node\" id=\"node12\"><title>140404914792400</title>\n",
       "<polygon fill=\"none\" points=\"1070.5,-297 1070.5,-333 1171.5,-333 1171.5,-297 1070.5,-297\" stroke=\"black\"/>\n",
       "<text font-family=\"Times,serif\" font-size=\"14.00\" text-anchor=\"middle\" x=\"1121\" y=\"-311.3\">slice9: Lambda</text>\n",
       "</g>\n",
       "<!-- 140404788727952&#45;&gt;140404914792400 -->\n",
       "<g class=\"edge\" id=\"edge10\"><title>140404788727952-&gt;140404914792400</title>\n",
       "<path d=\"M2483.41,-387.611C2241.49,-385.922 1454.72,-377.285 1181.92,-334.041\" fill=\"none\" stroke=\"black\"/>\n",
       "<polygon fill=\"black\" points=\"1182.08,-330.522 1171.65,-332.355 1180.95,-337.429 1182.08,-330.522\" stroke=\"black\"/>\n",
       "</g>\n",
       "<!-- 140404914879312 -->\n",
       "<g class=\"node\" id=\"node13\"><title>140404914879312</title>\n",
       "<polygon fill=\"none\" points=\"1189.5,-297 1189.5,-333 1296.5,-333 1296.5,-297 1189.5,-297\" stroke=\"black\"/>\n",
       "<text font-family=\"Times,serif\" font-size=\"14.00\" text-anchor=\"middle\" x=\"1243\" y=\"-311.3\">slice10: Lambda</text>\n",
       "</g>\n",
       "<!-- 140404788727952&#45;&gt;140404914879312 -->\n",
       "<g class=\"edge\" id=\"edge11\"><title>140404788727952-&gt;140404914879312</title>\n",
       "<path d=\"M2483.22,-387.154C2256.05,-384.128 1553.77,-372.002 1306.6,-334.004\" fill=\"none\" stroke=\"black\"/>\n",
       "<polygon fill=\"black\" points=\"1307.01,-330.525 1296.59,-332.409 1305.91,-337.438 1307.01,-330.525\" stroke=\"black\"/>\n",
       "</g>\n",
       "<!-- 140404914451088 -->\n",
       "<g class=\"node\" id=\"node14\"><title>140404914451088</title>\n",
       "<polygon fill=\"none\" points=\"1314.5,-297 1314.5,-333 1421.5,-333 1421.5,-297 1314.5,-297\" stroke=\"black\"/>\n",
       "<text font-family=\"Times,serif\" font-size=\"14.00\" text-anchor=\"middle\" x=\"1368\" y=\"-311.3\">slice11: Lambda</text>\n",
       "</g>\n",
       "<!-- 140404788727952&#45;&gt;140404914451088 -->\n",
       "<g class=\"edge\" id=\"edge12\"><title>140404788727952-&gt;140404914451088</title>\n",
       "<path d=\"M2483.33,-386.756C2272.04,-382.746 1653.09,-368.459 1431.52,-333.996\" fill=\"none\" stroke=\"black\"/>\n",
       "<polygon fill=\"black\" points=\"1432.02,-330.531 1421.59,-332.393 1430.9,-337.442 1432.02,-330.531\" stroke=\"black\"/>\n",
       "</g>\n",
       "<!-- 140404914442768 -->\n",
       "<g class=\"node\" id=\"node15\"><title>140404914442768</title>\n",
       "<polygon fill=\"none\" points=\"1439.5,-297 1439.5,-333 1546.5,-333 1546.5,-297 1439.5,-297\" stroke=\"black\"/>\n",
       "<text font-family=\"Times,serif\" font-size=\"14.00\" text-anchor=\"middle\" x=\"1493\" y=\"-311.3\">slice12: Lambda</text>\n",
       "</g>\n",
       "<!-- 140404788727952&#45;&gt;140404914442768 -->\n",
       "<g class=\"edge\" id=\"edge13\"><title>140404788727952-&gt;140404914442768</title>\n",
       "<path d=\"M2483.31,-386.257C2288.69,-381.192 1752.55,-364.939 1556.51,-334\" fill=\"none\" stroke=\"black\"/>\n",
       "<polygon fill=\"black\" points=\"1557.03,-330.538 1546.59,-332.372 1555.89,-337.446 1557.03,-330.538\" stroke=\"black\"/>\n",
       "</g>\n",
       "<!-- 140404915320016 -->\n",
       "<g class=\"node\" id=\"node16\"><title>140404915320016</title>\n",
       "<polygon fill=\"none\" points=\"1564.5,-297 1564.5,-333 1671.5,-333 1671.5,-297 1564.5,-297\" stroke=\"black\"/>\n",
       "<text font-family=\"Times,serif\" font-size=\"14.00\" text-anchor=\"middle\" x=\"1618\" y=\"-311.3\">slice13: Lambda</text>\n",
       "</g>\n",
       "<!-- 140404788727952&#45;&gt;140404915320016 -->\n",
       "<g class=\"edge\" id=\"edge14\"><title>140404788727952-&gt;140404915320016</title>\n",
       "<path d=\"M2483.49,-388.902C2335.09,-389.625 1983.05,-385.377 1681.84,-334.112\" fill=\"none\" stroke=\"black\"/>\n",
       "<polygon fill=\"black\" points=\"1682.05,-330.595 1671.6,-332.346 1680.86,-337.494 1682.05,-330.595\" stroke=\"black\"/>\n",
       "</g>\n",
       "<!-- 140404915313296 -->\n",
       "<g class=\"node\" id=\"node17\"><title>140404915313296</title>\n",
       "<polygon fill=\"none\" points=\"1689.5,-297 1689.5,-333 1796.5,-333 1796.5,-297 1689.5,-297\" stroke=\"black\"/>\n",
       "<text font-family=\"Times,serif\" font-size=\"14.00\" text-anchor=\"middle\" x=\"1743\" y=\"-311.3\">slice14: Lambda</text>\n",
       "</g>\n",
       "<!-- 140404788727952&#45;&gt;140404915313296 -->\n",
       "<g class=\"edge\" id=\"edge15\"><title>140404788727952-&gt;140404915313296</title>\n",
       "<path d=\"M2483.29,-387.839C2350.84,-386.454 2059.06,-378.319 1806.7,-334.103\" fill=\"none\" stroke=\"black\"/>\n",
       "<polygon fill=\"black\" points=\"1807.06,-330.614 1796.6,-332.312 1805.84,-337.506 1807.06,-330.614\" stroke=\"black\"/>\n",
       "</g>\n",
       "<!-- 140404915028432 -->\n",
       "<g class=\"node\" id=\"node18\"><title>140404915028432</title>\n",
       "<polygon fill=\"none\" points=\"1814.5,-297 1814.5,-333 1921.5,-333 1921.5,-297 1814.5,-297\" stroke=\"black\"/>\n",
       "<text font-family=\"Times,serif\" font-size=\"14.00\" text-anchor=\"middle\" x=\"1868\" y=\"-311.3\">slice15: Lambda</text>\n",
       "</g>\n",
       "<!-- 140404788727952&#45;&gt;140404915028432 -->\n",
       "<g class=\"edge\" id=\"edge16\"><title>140404788727952-&gt;140404915028432</title>\n",
       "<path d=\"M2483.15,-386.367C2368.15,-382.749 2135.72,-371.315 1931.62,-334.112\" fill=\"none\" stroke=\"black\"/>\n",
       "<polygon fill=\"black\" points=\"1932.08,-330.639 1921.61,-332.264 1930.81,-337.523 1932.08,-330.639\" stroke=\"black\"/>\n",
       "</g>\n",
       "<!-- 140404915162768 -->\n",
       "<g class=\"node\" id=\"node19\"><title>140404915162768</title>\n",
       "<polygon fill=\"none\" points=\"1939.5,-297 1939.5,-333 2046.5,-333 2046.5,-297 1939.5,-297\" stroke=\"black\"/>\n",
       "<text font-family=\"Times,serif\" font-size=\"14.00\" text-anchor=\"middle\" x=\"1993\" y=\"-311.3\">slice16: Lambda</text>\n",
       "</g>\n",
       "<!-- 140404788727952&#45;&gt;140404915162768 -->\n",
       "<g class=\"edge\" id=\"edge17\"><title>140404788727952-&gt;140404915162768</title>\n",
       "<path d=\"M2483.2,-384.202C2387.55,-378.264 2213.09,-364.371 2056.44,-334.114\" fill=\"none\" stroke=\"black\"/>\n",
       "<polygon fill=\"black\" points=\"2057.11,-330.679 2046.63,-332.192 2055.77,-337.548 2057.11,-330.679\" stroke=\"black\"/>\n",
       "</g>\n",
       "<!-- 140404914971664 -->\n",
       "<g class=\"node\" id=\"node20\"><title>140404914971664</title>\n",
       "<polygon fill=\"none\" points=\"2064.5,-297 2064.5,-333 2171.5,-333 2171.5,-297 2064.5,-297\" stroke=\"black\"/>\n",
       "<text font-family=\"Times,serif\" font-size=\"14.00\" text-anchor=\"middle\" x=\"2118\" y=\"-311.3\">slice17: Lambda</text>\n",
       "</g>\n",
       "<!-- 140404788727952&#45;&gt;140404914971664 -->\n",
       "<g class=\"edge\" id=\"edge18\"><title>140404788727952-&gt;140404914971664</title>\n",
       "<path d=\"M2483.28,-380.685C2409.64,-372.494 2291.64,-357.485 2181.59,-334.204\" fill=\"none\" stroke=\"black\"/>\n",
       "<polygon fill=\"black\" points=\"2182.16,-330.747 2171.65,-332.073 2180.7,-337.591 2182.16,-330.747\" stroke=\"black\"/>\n",
       "</g>\n",
       "<!-- 140404914313744 -->\n",
       "<g class=\"node\" id=\"node21\"><title>140404914313744</title>\n",
       "<polygon fill=\"none\" points=\"2189.5,-297 2189.5,-333 2296.5,-333 2296.5,-297 2189.5,-297\" stroke=\"black\"/>\n",
       "<text font-family=\"Times,serif\" font-size=\"14.00\" text-anchor=\"middle\" x=\"2243\" y=\"-311.3\">slice18: Lambda</text>\n",
       "</g>\n",
       "<!-- 140404788727952&#45;&gt;140404914313744 -->\n",
       "<g class=\"edge\" id=\"edge19\"><title>140404788727952-&gt;140404914313744</title>\n",
       "<path d=\"M2483.3,-373.897C2435.6,-364.194 2371.37,-350.517 2306.67,-334.35\" fill=\"none\" stroke=\"black\"/>\n",
       "<polygon fill=\"black\" points=\"2307.26,-330.889 2296.71,-331.841 2305.55,-337.677 2307.26,-330.889\" stroke=\"black\"/>\n",
       "</g>\n",
       "<!-- 140404915235728 -->\n",
       "<g class=\"node\" id=\"node22\"><title>140404915235728</title>\n",
       "<polygon fill=\"none\" points=\"2314.5,-297 2314.5,-333 2421.5,-333 2421.5,-297 2314.5,-297\" stroke=\"black\"/>\n",
       "<text font-family=\"Times,serif\" font-size=\"14.00\" text-anchor=\"middle\" x=\"2368\" y=\"-311.3\">slice19: Lambda</text>\n",
       "</g>\n",
       "<!-- 140404788727952&#45;&gt;140404915235728 -->\n",
       "<g class=\"edge\" id=\"edge20\"><title>140404788727952-&gt;140404915235728</title>\n",
       "<path d=\"M2510.68,-370.937C2484.11,-360.707 2450.14,-347.626 2422.01,-336.794\" fill=\"none\" stroke=\"black\"/>\n",
       "<polygon fill=\"black\" points=\"2422.91,-333.392 2412.32,-333.065 2420.4,-339.925 2422.91,-333.392\" stroke=\"black\"/>\n",
       "</g>\n",
       "<!-- 140404913663568 -->\n",
       "<g class=\"node\" id=\"node23\"><title>140404913663568</title>\n",
       "<polygon fill=\"none\" points=\"2439.5,-297 2439.5,-333 2546.5,-333 2546.5,-297 2439.5,-297\" stroke=\"black\"/>\n",
       "<text font-family=\"Times,serif\" font-size=\"14.00\" text-anchor=\"middle\" x=\"2493\" y=\"-311.3\">slice20: Lambda</text>\n",
       "</g>\n",
       "<!-- 140404788727952&#45;&gt;140404913663568 -->\n",
       "<g class=\"edge\" id=\"edge21\"><title>140404788727952-&gt;140404913663568</title>\n",
       "<path d=\"M2540.31,-370.937C2532.62,-362.012 2523.07,-350.916 2514.56,-341.037\" fill=\"none\" stroke=\"black\"/>\n",
       "<polygon fill=\"black\" points=\"2517.2,-338.735 2508.02,-333.441 2511.89,-343.302 2517.2,-338.735\" stroke=\"black\"/>\n",
       "</g>\n",
       "<!-- 140404913662416 -->\n",
       "<g class=\"node\" id=\"node24\"><title>140404913662416</title>\n",
       "<polygon fill=\"none\" points=\"2564.5,-297 2564.5,-333 2671.5,-333 2671.5,-297 2564.5,-297\" stroke=\"black\"/>\n",
       "<text font-family=\"Times,serif\" font-size=\"14.00\" text-anchor=\"middle\" x=\"2618\" y=\"-311.3\">slice21: Lambda</text>\n",
       "</g>\n",
       "<!-- 140404788727952&#45;&gt;140404913662416 -->\n",
       "<g class=\"edge\" id=\"edge22\"><title>140404788727952-&gt;140404913662416</title>\n",
       "<path d=\"M2569.93,-370.937C2577.74,-362.012 2587.45,-350.916 2596.09,-341.037\" fill=\"none\" stroke=\"black\"/>\n",
       "<polygon fill=\"black\" points=\"2598.79,-343.271 2602.74,-333.441 2593.52,-338.662 2598.79,-343.271\" stroke=\"black\"/>\n",
       "</g>\n",
       "<!-- 140404914048656 -->\n",
       "<g class=\"node\" id=\"node25\"><title>140404914048656</title>\n",
       "<polygon fill=\"none\" points=\"2689.5,-297 2689.5,-333 2796.5,-333 2796.5,-297 2689.5,-297\" stroke=\"black\"/>\n",
       "<text font-family=\"Times,serif\" font-size=\"14.00\" text-anchor=\"middle\" x=\"2743\" y=\"-311.3\">slice22: Lambda</text>\n",
       "</g>\n",
       "<!-- 140404788727952&#45;&gt;140404914048656 -->\n",
       "<g class=\"edge\" id=\"edge23\"><title>140404788727952-&gt;140404914048656</title>\n",
       "<path d=\"M2599.55,-370.937C2626.38,-360.663 2660.72,-347.511 2689.07,-336.652\" fill=\"none\" stroke=\"black\"/>\n",
       "<polygon fill=\"black\" points=\"2690.35,-339.91 2698.44,-333.065 2687.85,-333.373 2690.35,-339.91\" stroke=\"black\"/>\n",
       "</g>\n",
       "<!-- 140404913528656 -->\n",
       "<g class=\"node\" id=\"node26\"><title>140404913528656</title>\n",
       "<polygon fill=\"none\" points=\"2814.5,-297 2814.5,-333 2921.5,-333 2921.5,-297 2814.5,-297\" stroke=\"black\"/>\n",
       "<text font-family=\"Times,serif\" font-size=\"14.00\" text-anchor=\"middle\" x=\"2868\" y=\"-311.3\">slice23: Lambda</text>\n",
       "</g>\n",
       "<!-- 140404788727952&#45;&gt;140404913528656 -->\n",
       "<g class=\"edge\" id=\"edge24\"><title>140404788727952-&gt;140404913528656</title>\n",
       "<path d=\"M2626.68,-373.817C2674.47,-364.06 2738.86,-350.334 2804.72,-333.989\" fill=\"none\" stroke=\"black\"/>\n",
       "<polygon fill=\"black\" points=\"2805.59,-337.379 2814.45,-331.559 2803.9,-330.588 2805.59,-337.379\" stroke=\"black\"/>\n",
       "</g>\n",
       "<!-- 140404913129040 -->\n",
       "<g class=\"node\" id=\"node27\"><title>140404913129040</title>\n",
       "<polygon fill=\"none\" points=\"2939.5,-297 2939.5,-333 3046.5,-333 3046.5,-297 2939.5,-297\" stroke=\"black\"/>\n",
       "<text font-family=\"Times,serif\" font-size=\"14.00\" text-anchor=\"middle\" x=\"2993\" y=\"-311.3\">slice24: Lambda</text>\n",
       "</g>\n",
       "<!-- 140404788727952&#45;&gt;140404913129040 -->\n",
       "<g class=\"edge\" id=\"edge25\"><title>140404788727952-&gt;140404913129040</title>\n",
       "<path d=\"M2626.7,-380.596C2700.33,-372.334 2818.32,-357.266 2929.15,-334.026\" fill=\"none\" stroke=\"black\"/>\n",
       "<polygon fill=\"black\" points=\"2930.11,-337.401 2939.16,-331.9 2928.66,-330.553 2930.11,-337.401\" stroke=\"black\"/>\n",
       "</g>\n",
       "<!-- 140404913070928 -->\n",
       "<g class=\"node\" id=\"node28\"><title>140404913070928</title>\n",
       "<polygon fill=\"none\" points=\"3064.5,-297 3064.5,-333 3171.5,-333 3171.5,-297 3064.5,-297\" stroke=\"black\"/>\n",
       "<text font-family=\"Times,serif\" font-size=\"14.00\" text-anchor=\"middle\" x=\"3118\" y=\"-311.3\">slice25: Lambda</text>\n",
       "</g>\n",
       "<!-- 140404788727952&#45;&gt;140404913070928 -->\n",
       "<g class=\"edge\" id=\"edge26\"><title>140404788727952-&gt;140404913070928</title>\n",
       "<path d=\"M2626.78,-384.108C2722.41,-378.066 2896.85,-364.055 3054.32,-333.941\" fill=\"none\" stroke=\"black\"/>\n",
       "<polygon fill=\"black\" points=\"3055.04,-337.367 3064.19,-332.028 3053.71,-330.495 3055.04,-337.367\" stroke=\"black\"/>\n",
       "</g>\n",
       "<!-- 140404912025488 -->\n",
       "<g class=\"node\" id=\"node29\"><title>140404912025488</title>\n",
       "<polygon fill=\"none\" points=\"3189.5,-297 3189.5,-333 3296.5,-333 3296.5,-297 3189.5,-297\" stroke=\"black\"/>\n",
       "<text font-family=\"Times,serif\" font-size=\"14.00\" text-anchor=\"middle\" x=\"3243\" y=\"-311.3\">slice26: Lambda</text>\n",
       "</g>\n",
       "<!-- 140404788727952&#45;&gt;140404912025488 -->\n",
       "<g class=\"edge\" id=\"edge27\"><title>140404788727952-&gt;140404912025488</title>\n",
       "<path d=\"M2626.83,-386.269C2741.81,-382.517 2974.21,-370.899 3179.16,-333.942\" fill=\"none\" stroke=\"black\"/>\n",
       "<polygon fill=\"black\" points=\"3180,-337.346 3189.21,-332.105 3178.74,-330.46 3180,-337.346\" stroke=\"black\"/>\n",
       "</g>\n",
       "<!-- 140404913328208 -->\n",
       "<g class=\"node\" id=\"node30\"><title>140404913328208</title>\n",
       "<polygon fill=\"none\" points=\"3314.5,-297 3314.5,-333 3421.5,-333 3421.5,-297 3314.5,-297\" stroke=\"black\"/>\n",
       "<text font-family=\"Times,serif\" font-size=\"14.00\" text-anchor=\"middle\" x=\"3368\" y=\"-311.3\">slice27: Lambda</text>\n",
       "</g>\n",
       "<!-- 140404788727952&#45;&gt;140404913328208 -->\n",
       "<g class=\"edge\" id=\"edge28\"><title>140404788727952-&gt;140404913328208</title>\n",
       "<path d=\"M2626.7,-387.74C2759.11,-386.193 3050.84,-377.802 3304.09,-333.934\" fill=\"none\" stroke=\"black\"/>\n",
       "<polygon fill=\"black\" points=\"3304.97,-337.333 3314.21,-332.157 3303.76,-330.438 3304.97,-337.333\" stroke=\"black\"/>\n",
       "</g>\n",
       "<!-- 140404911828240 -->\n",
       "<g class=\"node\" id=\"node31\"><title>140404911828240</title>\n",
       "<polygon fill=\"none\" points=\"3439.5,-297 3439.5,-333 3546.5,-333 3546.5,-297 3439.5,-297\" stroke=\"black\"/>\n",
       "<text font-family=\"Times,serif\" font-size=\"14.00\" text-anchor=\"middle\" x=\"3493\" y=\"-311.3\">slice28: Lambda</text>\n",
       "</g>\n",
       "<!-- 140404788727952&#45;&gt;140404911828240 -->\n",
       "<g class=\"edge\" id=\"edge29\"><title>140404788727952-&gt;140404911828240</title>\n",
       "<path d=\"M2626.77,-388.802C2775.31,-389.331 3127.04,-384.725 3428.95,-333.943\" fill=\"none\" stroke=\"black\"/>\n",
       "<polygon fill=\"black\" points=\"3429.95,-337.323 3439.22,-332.194 3428.78,-330.423 3429.95,-337.323\" stroke=\"black\"/>\n",
       "</g>\n",
       "<!-- 140404912151632 -->\n",
       "<g class=\"node\" id=\"node32\"><title>140404912151632</title>\n",
       "<polygon fill=\"none\" points=\"3564.5,-297 3564.5,-333 3671.5,-333 3671.5,-297 3564.5,-297\" stroke=\"black\"/>\n",
       "<text font-family=\"Times,serif\" font-size=\"14.00\" text-anchor=\"middle\" x=\"3618\" y=\"-311.3\">slice29: Lambda</text>\n",
       "</g>\n",
       "<!-- 140404788727952&#45;&gt;140404912151632 -->\n",
       "<g class=\"edge\" id=\"edge30\"><title>140404788727952-&gt;140404912151632</title>\n",
       "<path d=\"M2626.69,-386.218C2821.29,-381.053 3357.39,-364.567 3554.27,-333.838\" fill=\"none\" stroke=\"black\"/>\n",
       "<polygon fill=\"black\" points=\"3554.92,-337.279 3564.23,-332.222 3553.79,-330.369 3554.92,-337.279\" stroke=\"black\"/>\n",
       "</g>\n",
       "<!-- 140404911638480 -->\n",
       "<g class=\"node\" id=\"node33\"><title>140404911638480</title>\n",
       "<polygon fill=\"none\" points=\"3689.5,-297 3689.5,-333 3796.5,-333 3796.5,-297 3689.5,-297\" stroke=\"black\"/>\n",
       "<text font-family=\"Times,serif\" font-size=\"14.00\" text-anchor=\"middle\" x=\"3743\" y=\"-311.3\">slice30: Lambda</text>\n",
       "</g>\n",
       "<!-- 140404788727952&#45;&gt;140404911638480 -->\n",
       "<g class=\"edge\" id=\"edge31\"><title>140404788727952-&gt;140404911638480</title>\n",
       "<path d=\"M2626.67,-386.716C2837.94,-382.597 3456.84,-368.033 3679.26,-333.835\" fill=\"none\" stroke=\"black\"/>\n",
       "<polygon fill=\"black\" points=\"3679.91,-337.276 3689.23,-332.244 3678.8,-330.363 3679.91,-337.276\" stroke=\"black\"/>\n",
       "</g>\n",
       "<!-- 140404911243856 -->\n",
       "<g class=\"node\" id=\"node34\"><title>140404911243856</title>\n",
       "<polygon fill=\"none\" points=\"3814.5,-297 3814.5,-333 3921.5,-333 3921.5,-297 3814.5,-297\" stroke=\"black\"/>\n",
       "<text font-family=\"Times,serif\" font-size=\"14.00\" text-anchor=\"middle\" x=\"3868\" y=\"-311.3\">slice31: Lambda</text>\n",
       "</g>\n",
       "<!-- 140404788727952&#45;&gt;140404911243856 -->\n",
       "<g class=\"edge\" id=\"edge32\"><title>140404788727952-&gt;140404911243856</title>\n",
       "<path d=\"M2626.77,-387.115C2853.92,-383.969 3556.15,-371.523 3804.18,-333.843\" fill=\"none\" stroke=\"black\"/>\n",
       "<polygon fill=\"black\" points=\"3804.9,-337.274 3814.23,-332.262 3803.81,-330.359 3804.9,-337.274\" stroke=\"black\"/>\n",
       "</g>\n",
       "<!-- 140404911374096 -->\n",
       "<g class=\"node\" id=\"node35\"><title>140404911374096</title>\n",
       "<polygon fill=\"none\" points=\"3939.5,-297 3939.5,-333 4046.5,-333 4046.5,-297 3939.5,-297\" stroke=\"black\"/>\n",
       "<text font-family=\"Times,serif\" font-size=\"14.00\" text-anchor=\"middle\" x=\"3993\" y=\"-311.3\">slice32: Lambda</text>\n",
       "</g>\n",
       "<!-- 140404788727952&#45;&gt;140404911374096 -->\n",
       "<g class=\"edge\" id=\"edge33\"><title>140404788727952-&gt;140404911374096</title>\n",
       "<path d=\"M2626.56,-387.445C2868.51,-385.219 3655.7,-375.047 3929.33,-333.819\" fill=\"none\" stroke=\"black\"/>\n",
       "<polygon fill=\"black\" points=\"3929.89,-337.273 3939.23,-332.276 3928.82,-330.356 3929.89,-337.273\" stroke=\"black\"/>\n",
       "</g>\n",
       "<!-- 140404911708496 -->\n",
       "<g class=\"node\" id=\"node36\"><title>140404911708496</title>\n",
       "<polygon fill=\"none\" points=\"4064.5,-297 4064.5,-333 4171.5,-333 4171.5,-297 4064.5,-297\" stroke=\"black\"/>\n",
       "<text font-family=\"Times,serif\" font-size=\"14.00\" text-anchor=\"middle\" x=\"4118\" y=\"-311.3\">slice33: Lambda</text>\n",
       "</g>\n",
       "<!-- 140404788727952&#45;&gt;140404911708496 -->\n",
       "<g class=\"edge\" id=\"edge34\"><title>140404788727952-&gt;140404911708496</title>\n",
       "<path d=\"M2626.69,-387.717C2883.11,-386.352 3754.9,-378.577 4054.26,-333.827\" fill=\"none\" stroke=\"black\"/>\n",
       "<polygon fill=\"black\" points=\"4054.89,-337.272 4064.24,-332.288 4053.82,-330.353 4054.89,-337.272\" stroke=\"black\"/>\n",
       "</g>\n",
       "<!-- 140404911502992 -->\n",
       "<g class=\"node\" id=\"node37\"><title>140404911502992</title>\n",
       "<polygon fill=\"none\" points=\"4189.5,-297 4189.5,-333 4296.5,-333 4296.5,-297 4189.5,-297\" stroke=\"black\"/>\n",
       "<text font-family=\"Times,serif\" font-size=\"14.00\" text-anchor=\"middle\" x=\"4243\" y=\"-311.3\">slice34: Lambda</text>\n",
       "</g>\n",
       "<!-- 140404788727952&#45;&gt;140404911502992 -->\n",
       "<g class=\"edge\" id=\"edge35\"><title>140404788727952-&gt;140404911502992</title>\n",
       "<path d=\"M2626.95,-387.949C2897.49,-387.397 3854.4,-382.114 4179.34,-333.813\" fill=\"none\" stroke=\"black\"/>\n",
       "<polygon fill=\"black\" points=\"4179.88,-337.271 4189.24,-332.298 4178.82,-330.352 4179.88,-337.271\" stroke=\"black\"/>\n",
       "</g>\n",
       "<!-- 140404910734160 -->\n",
       "<g class=\"node\" id=\"node38\"><title>140404910734160</title>\n",
       "<polygon fill=\"none\" points=\"4314.5,-297 4314.5,-333 4421.5,-333 4421.5,-297 4314.5,-297\" stroke=\"black\"/>\n",
       "<text font-family=\"Times,serif\" font-size=\"14.00\" text-anchor=\"middle\" x=\"4368\" y=\"-311.3\">slice35: Lambda</text>\n",
       "</g>\n",
       "<!-- 140404788727952&#45;&gt;140404910734160 -->\n",
       "<g class=\"edge\" id=\"edge36\"><title>140404788727952-&gt;140404910734160</title>\n",
       "<path d=\"M2626.55,-388.148C2909.74,-388.375 3953.36,-385.705 4304.31,-333.817\" fill=\"none\" stroke=\"black\"/>\n",
       "<polygon fill=\"black\" points=\"4304.88,-337.271 4314.24,-332.306 4303.83,-330.35 4304.88,-337.271\" stroke=\"black\"/>\n",
       "</g>\n",
       "<!-- 140404911188880 -->\n",
       "<g class=\"node\" id=\"node39\"><title>140404911188880</title>\n",
       "<polygon fill=\"none\" points=\"4439.5,-297 4439.5,-333 4546.5,-333 4546.5,-297 4439.5,-297\" stroke=\"black\"/>\n",
       "<text font-family=\"Times,serif\" font-size=\"14.00\" text-anchor=\"middle\" x=\"4493\" y=\"-311.3\">slice36: Lambda</text>\n",
       "</g>\n",
       "<!-- 140404788727952&#45;&gt;140404911188880 -->\n",
       "<g class=\"edge\" id=\"edge37\"><title>140404788727952-&gt;140404911188880</title>\n",
       "<path d=\"M2626.53,-388.321C2922.39,-389.285 4052.11,-389.286 4429.12,-333.844\" fill=\"none\" stroke=\"black\"/>\n",
       "<polygon fill=\"black\" points=\"4429.88,-337.269 4439.24,-332.314 4428.83,-330.348 4429.88,-337.269\" stroke=\"black\"/>\n",
       "</g>\n",
       "<!-- 140404910606224 -->\n",
       "<g class=\"node\" id=\"node40\"><title>140404910606224</title>\n",
       "<polygon fill=\"none\" points=\"4564.5,-297 4564.5,-333 4671.5,-333 4671.5,-297 4564.5,-297\" stroke=\"black\"/>\n",
       "<text font-family=\"Times,serif\" font-size=\"14.00\" text-anchor=\"middle\" x=\"4618\" y=\"-311.3\">slice37: Lambda</text>\n",
       "</g>\n",
       "<!-- 140404788727952&#45;&gt;140404910606224 -->\n",
       "<g class=\"edge\" id=\"edge38\"><title>140404788727952-&gt;140404910606224</title>\n",
       "<path d=\"M2626.55,-387.134C2955.88,-383.004 4319.57,-364.312 4554.23,-333.739\" fill=\"none\" stroke=\"black\"/>\n",
       "<polygon fill=\"black\" points=\"4554.83,-337.188 4564.24,-332.32 4553.85,-330.258 4554.83,-337.188\" stroke=\"black\"/>\n",
       "</g>\n",
       "<!-- 140404910939472 -->\n",
       "<g class=\"node\" id=\"node41\"><title>140404910939472</title>\n",
       "<polygon fill=\"none\" points=\"4689.5,-297 4689.5,-333 4796.5,-333 4796.5,-297 4689.5,-297\" stroke=\"black\"/>\n",
       "<text font-family=\"Times,serif\" font-size=\"14.00\" text-anchor=\"middle\" x=\"4743\" y=\"-311.3\">slice38: Lambda</text>\n",
       "</g>\n",
       "<!-- 140404788727952&#45;&gt;140404910939472 -->\n",
       "<g class=\"edge\" id=\"edge39\"><title>140404788727952-&gt;140404910939472</title>\n",
       "<path d=\"M2626.64,-387.255C2968.98,-383.551 4431.53,-366.064 4679.32,-333.729\" fill=\"none\" stroke=\"black\"/>\n",
       "<polygon fill=\"black\" points=\"4679.83,-337.192 4689.24,-332.326 4678.85,-330.261 4679.83,-337.192\" stroke=\"black\"/>\n",
       "</g>\n",
       "<!-- 140404910277264 -->\n",
       "<g class=\"node\" id=\"node42\"><title>140404910277264</title>\n",
       "<polygon fill=\"none\" points=\"4814.5,-297 4814.5,-333 4921.5,-333 4921.5,-297 4814.5,-297\" stroke=\"black\"/>\n",
       "<text font-family=\"Times,serif\" font-size=\"14.00\" text-anchor=\"middle\" x=\"4868\" y=\"-311.3\">slice39: Lambda</text>\n",
       "</g>\n",
       "<!-- 140404788727952&#45;&gt;140404910277264 -->\n",
       "<g class=\"edge\" id=\"edge40\"><title>140404788727952-&gt;140404910277264</title>\n",
       "<path d=\"M2626.64,-387.363C2981.31,-384.069 4542.28,-367.841 4804.11,-333.759\" fill=\"none\" stroke=\"black\"/>\n",
       "<polygon fill=\"black\" points=\"4804.83,-337.192 4814.24,-332.331 4803.85,-330.261 4804.83,-337.192\" stroke=\"black\"/>\n",
       "</g>\n",
       "<!-- 140404910411600 -->\n",
       "<g class=\"node\" id=\"node43\"><title>140404910411600</title>\n",
       "<polygon fill=\"none\" points=\"4939.5,-297 4939.5,-333 5046.5,-333 5046.5,-297 4939.5,-297\" stroke=\"black\"/>\n",
       "<text font-family=\"Times,serif\" font-size=\"14.00\" text-anchor=\"middle\" x=\"4993\" y=\"-311.3\">slice40: Lambda</text>\n",
       "</g>\n",
       "<!-- 140404788727952&#45;&gt;140404910411600 -->\n",
       "<g class=\"edge\" id=\"edge41\"><title>140404788727952-&gt;140404910411600</title>\n",
       "<path d=\"M2626.59,-387.461C2993.18,-384.558 4653.18,-369.623 4928.94,-333.784\" fill=\"none\" stroke=\"black\"/>\n",
       "<polygon fill=\"black\" points=\"4929.83,-337.193 4939.24,-332.336 4928.85,-330.261 4929.83,-337.193\" stroke=\"black\"/>\n",
       "</g>\n",
       "<!-- 140404910220496 -->\n",
       "<g class=\"node\" id=\"node44\"><title>140404910220496</title>\n",
       "<polygon fill=\"none\" points=\"5064.5,-297 5064.5,-333 5171.5,-333 5171.5,-297 5064.5,-297\" stroke=\"black\"/>\n",
       "<text font-family=\"Times,serif\" font-size=\"14.00\" text-anchor=\"middle\" x=\"5118\" y=\"-311.3\">slice41: Lambda</text>\n",
       "</g>\n",
       "<!-- 140404788727952&#45;&gt;140404910220496 -->\n",
       "<g class=\"edge\" id=\"edge42\"><title>140404788727952-&gt;140404910220496</title>\n",
       "<path d=\"M2626.54,-387.549C3004.92,-385.02 4765.98,-371.396 5054.24,-333.747\" fill=\"none\" stroke=\"black\"/>\n",
       "<polygon fill=\"black\" points=\"5054.83,-337.198 5064.24,-332.34 5053.85,-330.267 5054.83,-337.198\" stroke=\"black\"/>\n",
       "</g>\n",
       "<!-- 140404909696656 -->\n",
       "<g class=\"node\" id=\"node2\"><title>140404909696656</title>\n",
       "<polygon fill=\"none\" points=\"8218,-371 8218,-407 8388,-407 8388,-371 8218,-371\" stroke=\"black\"/>\n",
       "<text font-family=\"Times,serif\" font-size=\"14.00\" text-anchor=\"middle\" x=\"8303\" y=\"-385.3\">input_hists_neg: InputLayer</text>\n",
       "</g>\n",
       "<!-- 140404909822736 -->\n",
       "<g class=\"node\" id=\"node45\"><title>140404909822736</title>\n",
       "<polygon fill=\"none\" points=\"5189.5,-297 5189.5,-333 5316.5,-333 5316.5,-297 5189.5,-297\" stroke=\"black\"/>\n",
       "<text font-family=\"Times,serif\" font-size=\"14.00\" text-anchor=\"middle\" x=\"5253\" y=\"-311.3\">slice0_neg: Lambda</text>\n",
       "</g>\n",
       "<!-- 140404909696656&#45;&gt;140404909822736 -->\n",
       "<g class=\"edge\" id=\"edge43\"><title>140404909696656-&gt;140404909822736</title>\n",
       "<path d=\"M8217.8,-387.608C7766.55,-385.378 5663.78,-373.028 5327.18,-334.039\" fill=\"none\" stroke=\"black\"/>\n",
       "<polygon fill=\"black\" points=\"5327.2,-330.514 5316.84,-332.759 5326.34,-337.461 5327.2,-330.514\" stroke=\"black\"/>\n",
       "</g>\n",
       "<!-- 140404909499216 -->\n",
       "<g class=\"node\" id=\"node46\"><title>140404909499216</title>\n",
       "<polygon fill=\"none\" points=\"5334.5,-297 5334.5,-333 5461.5,-333 5461.5,-297 5334.5,-297\" stroke=\"black\"/>\n",
       "<text font-family=\"Times,serif\" font-size=\"14.00\" text-anchor=\"middle\" x=\"5398\" y=\"-311.3\">slice1_neg: Lambda</text>\n",
       "</g>\n",
       "<!-- 140404909696656&#45;&gt;140404909499216 -->\n",
       "<g class=\"edge\" id=\"edge44\"><title>140404909696656-&gt;140404909499216</title>\n",
       "<path d=\"M8217.66,-387.505C7779.81,-384.814 5794,-370.741 5471.87,-333.818\" fill=\"none\" stroke=\"black\"/>\n",
       "<polygon fill=\"black\" points=\"5471.89,-330.295 5461.54,-332.551 5471.04,-337.243 5471.89,-330.295\" stroke=\"black\"/>\n",
       "</g>\n",
       "<!-- 140404909571280 -->\n",
       "<g class=\"node\" id=\"node47\"><title>140404909571280</title>\n",
       "<polygon fill=\"none\" points=\"5479.5,-297 5479.5,-333 5606.5,-333 5606.5,-297 5479.5,-297\" stroke=\"black\"/>\n",
       "<text font-family=\"Times,serif\" font-size=\"14.00\" text-anchor=\"middle\" x=\"5543\" y=\"-311.3\">slice2_neg: Lambda</text>\n",
       "</g>\n",
       "<!-- 140404909696656&#45;&gt;140404909571280 -->\n",
       "<g class=\"edge\" id=\"edge45\"><title>140404909696656-&gt;140404909571280</title>\n",
       "<path d=\"M8217.83,-387.411C7794.26,-384.336 5923.17,-368.944 5616.78,-333.806\" fill=\"none\" stroke=\"black\"/>\n",
       "<polygon fill=\"black\" points=\"5616.9,-330.294 5606.54,-332.547 5616.04,-337.242 5616.9,-330.294\" stroke=\"black\"/>\n",
       "</g>\n",
       "<!-- 140404906892176 -->\n",
       "<g class=\"node\" id=\"node48\"><title>140404906892176</title>\n",
       "<polygon fill=\"none\" points=\"5624.5,-297 5624.5,-333 5751.5,-333 5751.5,-297 5624.5,-297\" stroke=\"black\"/>\n",
       "<text font-family=\"Times,serif\" font-size=\"14.00\" text-anchor=\"middle\" x=\"5688\" y=\"-311.3\">slice3_neg: Lambda</text>\n",
       "</g>\n",
       "<!-- 140404909696656&#45;&gt;140404906892176 -->\n",
       "<g class=\"edge\" id=\"edge46\"><title>140404909696656-&gt;140404906892176</title>\n",
       "<path d=\"M8217.67,-387.305C7808.11,-383.821 6052.06,-367.142 5761.63,-333.787\" fill=\"none\" stroke=\"black\"/>\n",
       "<polygon fill=\"black\" points=\"5761.9,-330.293 5751.54,-332.543 5761.04,-337.241 5761.9,-330.293\" stroke=\"black\"/>\n",
       "</g>\n",
       "<!-- 140404906949328 -->\n",
       "<g class=\"node\" id=\"node49\"><title>140404906949328</title>\n",
       "<polygon fill=\"none\" points=\"5769.5,-297 5769.5,-333 5896.5,-333 5896.5,-297 5769.5,-297\" stroke=\"black\"/>\n",
       "<text font-family=\"Times,serif\" font-size=\"14.00\" text-anchor=\"middle\" x=\"5833\" y=\"-311.3\">slice4_neg: Lambda</text>\n",
       "</g>\n",
       "<!-- 140404909696656&#45;&gt;140404906949328 -->\n",
       "<g class=\"edge\" id=\"edge47\"><title>140404909696656-&gt;140404906949328</title>\n",
       "<path d=\"M8217.95,-387.19C7823.76,-383.288 6182.5,-365.373 5906.85,-333.81\" fill=\"none\" stroke=\"black\"/>\n",
       "<polygon fill=\"black\" points=\"5906.9,-330.289 5896.54,-332.538 5906.04,-337.237 5906.9,-330.289\" stroke=\"black\"/>\n",
       "</g>\n",
       "<!-- 140404909219664 -->\n",
       "<g class=\"node\" id=\"node50\"><title>140404909219664</title>\n",
       "<polygon fill=\"none\" points=\"5914.5,-297 5914.5,-333 6041.5,-333 6041.5,-297 5914.5,-297\" stroke=\"black\"/>\n",
       "<text font-family=\"Times,serif\" font-size=\"14.00\" text-anchor=\"middle\" x=\"5978\" y=\"-311.3\">slice5_neg: Lambda</text>\n",
       "</g>\n",
       "<!-- 140404909696656&#45;&gt;140404909219664 -->\n",
       "<g class=\"edge\" id=\"edge48\"><title>140404909696656-&gt;140404909219664</title>\n",
       "<path d=\"M8217.75,-388.436C7863.08,-389.871 6502.33,-391.514 6051.69,-333.862\" fill=\"none\" stroke=\"black\"/>\n",
       "<polygon fill=\"black\" points=\"6051.91,-330.361 6041.54,-332.533 6051.01,-337.302 6051.91,-330.361\" stroke=\"black\"/>\n",
       "</g>\n",
       "<!-- 140404909347472 -->\n",
       "<g class=\"node\" id=\"node51\"><title>140404909347472</title>\n",
       "<polygon fill=\"none\" points=\"6059.5,-297 6059.5,-333 6186.5,-333 6186.5,-297 6059.5,-297\" stroke=\"black\"/>\n",
       "<text font-family=\"Times,serif\" font-size=\"14.00\" text-anchor=\"middle\" x=\"6123\" y=\"-311.3\">slice6_neg: Lambda</text>\n",
       "</g>\n",
       "<!-- 140404909696656&#45;&gt;140404909347472 -->\n",
       "<g class=\"edge\" id=\"edge49\"><title>140404909696656-&gt;140404909347472</title>\n",
       "<path d=\"M8217.8,-388.271C7877.86,-388.974 6617.16,-387.897 6196.63,-333.854\" fill=\"none\" stroke=\"black\"/>\n",
       "<polygon fill=\"black\" points=\"6196.92,-330.362 6186.55,-332.526 6196,-337.302 6196.92,-330.362\" stroke=\"black\"/>\n",
       "</g>\n",
       "<!-- 140404908955344 -->\n",
       "<g class=\"node\" id=\"node52\"><title>140404908955344</title>\n",
       "<polygon fill=\"none\" points=\"6204.5,-297 6204.5,-333 6331.5,-333 6331.5,-297 6204.5,-297\" stroke=\"black\"/>\n",
       "<text font-family=\"Times,serif\" font-size=\"14.00\" text-anchor=\"middle\" x=\"6268\" y=\"-311.3\">slice7_neg: Lambda</text>\n",
       "</g>\n",
       "<!-- 140404909696656&#45;&gt;140404908955344 -->\n",
       "<g class=\"edge\" id=\"edge50\"><title>140404909696656-&gt;140404908955344</title>\n",
       "<path d=\"M8217.88,-388.081C7893.22,-388.019 6731.88,-384.291 6341.47,-333.834\" fill=\"none\" stroke=\"black\"/>\n",
       "<polygon fill=\"black\" points=\"6341.92,-330.363 6331.55,-332.519 6341,-337.303 6341.92,-330.363\" stroke=\"black\"/>\n",
       "</g>\n",
       "<!-- 140404909024720 -->\n",
       "<g class=\"node\" id=\"node53\"><title>140404909024720</title>\n",
       "<polygon fill=\"none\" points=\"6349.5,-297 6349.5,-333 6476.5,-333 6476.5,-297 6349.5,-297\" stroke=\"black\"/>\n",
       "<text font-family=\"Times,serif\" font-size=\"14.00\" text-anchor=\"middle\" x=\"6413\" y=\"-311.3\">slice8_neg: Lambda</text>\n",
       "</g>\n",
       "<!-- 140404909696656&#45;&gt;140404909024720 -->\n",
       "<g class=\"edge\" id=\"edge51\"><title>140404909696656-&gt;140404909024720</title>\n",
       "<path d=\"M8217.85,-387.862C7908.93,-386.993 6846.98,-380.693 6486.49,-333.838\" fill=\"none\" stroke=\"black\"/>\n",
       "<polygon fill=\"black\" points=\"6486.92,-330.365 6476.55,-332.511 6486,-337.303 6486.92,-330.365\" stroke=\"black\"/>\n",
       "</g>\n",
       "<!-- 140404908635280 -->\n",
       "<g class=\"node\" id=\"node54\"><title>140404908635280</title>\n",
       "<polygon fill=\"none\" points=\"6494.5,-297 6494.5,-333 6621.5,-333 6621.5,-297 6494.5,-297\" stroke=\"black\"/>\n",
       "<text font-family=\"Times,serif\" font-size=\"14.00\" text-anchor=\"middle\" x=\"6558\" y=\"-311.3\">slice9_neg: Lambda</text>\n",
       "</g>\n",
       "<!-- 140404909696656&#45;&gt;140404908635280 -->\n",
       "<g class=\"edge\" id=\"edge52\"><title>140404909696656-&gt;140404908635280</title>\n",
       "<path d=\"M8217.85,-387.605C7925.41,-385.886 6962.38,-377.113 6631.62,-333.856\" fill=\"none\" stroke=\"black\"/>\n",
       "<polygon fill=\"black\" points=\"6631.93,-330.366 6621.55,-332.501 6630.99,-337.303 6631.93,-330.366\" stroke=\"black\"/>\n",
       "</g>\n",
       "<!-- 140404908839824 -->\n",
       "<g class=\"node\" id=\"node55\"><title>140404908839824</title>\n",
       "<polygon fill=\"none\" points=\"6640,-297 6640,-333 6774,-333 6774,-297 6640,-297\" stroke=\"black\"/>\n",
       "<text font-family=\"Times,serif\" font-size=\"14.00\" text-anchor=\"middle\" x=\"6707\" y=\"-311.3\">slice10_neg: Lambda</text>\n",
       "</g>\n",
       "<!-- 140404909696656&#45;&gt;140404908839824 -->\n",
       "<g class=\"edge\" id=\"edge53\"><title>140404909696656-&gt;140404908839824</title>\n",
       "<path d=\"M8217.76,-387.181C7943.22,-384.201 7083.11,-372.099 6783.98,-333.935\" fill=\"none\" stroke=\"black\"/>\n",
       "<polygon fill=\"black\" points=\"6784.37,-330.457 6774,-332.625 6783.46,-337.398 6784.37,-330.457\" stroke=\"black\"/>\n",
       "</g>\n",
       "<!-- 140404908698832 -->\n",
       "<g class=\"node\" id=\"node56\"><title>140404908698832</title>\n",
       "<polygon fill=\"none\" points=\"6792,-297 6792,-333 6926,-333 6926,-297 6792,-297\" stroke=\"black\"/>\n",
       "<text font-family=\"Times,serif\" font-size=\"14.00\" text-anchor=\"middle\" x=\"6859\" y=\"-311.3\">slice11_neg: Lambda</text>\n",
       "</g>\n",
       "<!-- 140404909696656&#45;&gt;140404908698832 -->\n",
       "<g class=\"edge\" id=\"edge54\"><title>140404909696656-&gt;140404908698832</title>\n",
       "<path d=\"M8217.78,-386.79C7962.25,-382.826 7204.2,-368.53 6936.1,-333.954\" fill=\"none\" stroke=\"black\"/>\n",
       "<polygon fill=\"black\" points=\"6936.38,-330.46 6926,-332.61 6935.46,-337.399 6936.38,-330.46\" stroke=\"black\"/>\n",
       "</g>\n",
       "<!-- 140404908117392 -->\n",
       "<g class=\"node\" id=\"node57\"><title>140404908117392</title>\n",
       "<polygon fill=\"none\" points=\"6944,-297 6944,-333 7078,-333 7078,-297 6944,-297\" stroke=\"black\"/>\n",
       "<text font-family=\"Times,serif\" font-size=\"14.00\" text-anchor=\"middle\" x=\"7011\" y=\"-311.3\">slice12_neg: Lambda</text>\n",
       "</g>\n",
       "<!-- 140404909696656&#45;&gt;140404908117392 -->\n",
       "<g class=\"edge\" id=\"edge55\"><title>140404909696656-&gt;140404908117392</title>\n",
       "<path d=\"M8217.63,-386.299C7981.99,-381.276 7324.81,-364.969 7087.95,-333.938\" fill=\"none\" stroke=\"black\"/>\n",
       "<polygon fill=\"black\" points=\"7088.39,-330.465 7078.01,-332.592 7087.45,-337.402 7088.39,-330.465\" stroke=\"black\"/>\n",
       "</g>\n",
       "<!-- 140404908186640 -->\n",
       "<g class=\"node\" id=\"node58\"><title>140404908186640</title>\n",
       "<polygon fill=\"none\" points=\"7096,-297 7096,-333 7230,-333 7230,-297 7096,-297\" stroke=\"black\"/>\n",
       "<text font-family=\"Times,serif\" font-size=\"14.00\" text-anchor=\"middle\" x=\"7163\" y=\"-311.3\">slice13_neg: Lambda</text>\n",
       "</g>\n",
       "<!-- 140404909696656&#45;&gt;140404908186640 -->\n",
       "<g class=\"edge\" id=\"edge56\"><title>140404909696656-&gt;140404908186640</title>\n",
       "<path d=\"M8217.67,-388.91C8038.09,-389.689 7608.04,-385.575 7240.06,-333.991\" fill=\"none\" stroke=\"black\"/>\n",
       "<polygon fill=\"black\" points=\"7240.4,-330.505 7230.01,-332.569 7239.42,-337.436 7240.4,-330.505\" stroke=\"black\"/>\n",
       "</g>\n",
       "<!-- 140404907860688 -->\n",
       "<g class=\"node\" id=\"node59\"><title>140404907860688</title>\n",
       "<polygon fill=\"none\" points=\"7248,-297 7248,-333 7382,-333 7382,-297 7248,-297\" stroke=\"black\"/>\n",
       "<text font-family=\"Times,serif\" font-size=\"14.00\" text-anchor=\"middle\" x=\"7315\" y=\"-311.3\">slice14_neg: Lambda</text>\n",
       "</g>\n",
       "<!-- 140404909696656&#45;&gt;140404907860688 -->\n",
       "<g class=\"edge\" id=\"edge57\"><title>140404909696656-&gt;140404907860688</title>\n",
       "<path d=\"M8217.94,-387.869C8057.8,-386.551 7700.67,-378.52 7392.05,-334.001\" fill=\"none\" stroke=\"black\"/>\n",
       "<polygon fill=\"black\" points=\"7392.42,-330.517 7382.01,-332.537 7391.41,-337.444 7392.42,-330.517\" stroke=\"black\"/>\n",
       "</g>\n",
       "<!-- 140404908522128 -->\n",
       "<g class=\"node\" id=\"node60\"><title>140404908522128</title>\n",
       "<polygon fill=\"none\" points=\"7400,-297 7400,-333 7534,-333 7534,-297 7400,-297\" stroke=\"black\"/>\n",
       "<text font-family=\"Times,serif\" font-size=\"14.00\" text-anchor=\"middle\" x=\"7467\" y=\"-311.3\">slice15_neg: Lambda</text>\n",
       "</g>\n",
       "<!-- 140404909696656&#45;&gt;140404908522128 -->\n",
       "<g class=\"edge\" id=\"edge58\"><title>140404909696656-&gt;140404908522128</title>\n",
       "<path d=\"M8217.87,-386.431C8078.67,-382.877 7793.69,-371.473 7544.01,-334.009\" fill=\"none\" stroke=\"black\"/>\n",
       "<polygon fill=\"black\" points=\"7544.43,-330.534 7534.02,-332.494 7543.38,-337.454 7544.43,-330.534\" stroke=\"black\"/>\n",
       "</g>\n",
       "<!-- 140404907990928 -->\n",
       "<g class=\"node\" id=\"node61\"><title>140404907990928</title>\n",
       "<polygon fill=\"none\" points=\"7552,-297 7552,-333 7686,-333 7686,-297 7552,-297\" stroke=\"black\"/>\n",
       "<text font-family=\"Times,serif\" font-size=\"14.00\" text-anchor=\"middle\" x=\"7619\" y=\"-311.3\">slice16_neg: Lambda</text>\n",
       "</g>\n",
       "<!-- 140404909696656&#45;&gt;140404907990928 -->\n",
       "<g class=\"edge\" id=\"edge59\"><title>140404909696656-&gt;140404907990928</title>\n",
       "<path d=\"M8217.93,-384.314C8101.94,-378.425 7887.64,-364.476 7696.01,-334.032\" fill=\"none\" stroke=\"black\"/>\n",
       "<polygon fill=\"black\" points=\"7696.46,-330.56 7686.03,-332.429 7695.35,-337.471 7696.46,-330.56\" stroke=\"black\"/>\n",
       "</g>\n",
       "<!-- 140404907676880 -->\n",
       "<g class=\"node\" id=\"node62\"><title>140404907676880</title>\n",
       "<polygon fill=\"none\" points=\"7704,-297 7704,-333 7838,-333 7838,-297 7704,-297\" stroke=\"black\"/>\n",
       "<text font-family=\"Times,serif\" font-size=\"14.00\" text-anchor=\"middle\" x=\"7771\" y=\"-311.3\">slice17_neg: Lambda</text>\n",
       "</g>\n",
       "<!-- 140404909696656&#45;&gt;140404907676880 -->\n",
       "<g class=\"edge\" id=\"edge60\"><title>140404909696656-&gt;140404907676880</title>\n",
       "<path d=\"M8217.69,-380.844C8128,-372.651 7982.66,-357.485 7848.13,-334.092\" fill=\"none\" stroke=\"black\"/>\n",
       "<polygon fill=\"black\" points=\"7848.5,-330.605 7838.05,-332.321 7847.29,-337.499 7848.5,-330.605\" stroke=\"black\"/>\n",
       "</g>\n",
       "<!-- 140404907735504 -->\n",
       "<g class=\"node\" id=\"node63\"><title>140404907735504</title>\n",
       "<polygon fill=\"none\" points=\"7856,-297 7856,-333 7990,-333 7990,-297 7856,-297\" stroke=\"black\"/>\n",
       "<text font-family=\"Times,serif\" font-size=\"14.00\" text-anchor=\"middle\" x=\"7923\" y=\"-311.3\">slice18_neg: Lambda</text>\n",
       "</g>\n",
       "<!-- 140404909696656&#45;&gt;140404907735504 -->\n",
       "<g class=\"edge\" id=\"edge61\"><title>140404909696656-&gt;140404907735504</title>\n",
       "<path d=\"M8217.9,-374.213C8159.32,-364.412 8079.49,-350.446 8000.25,-334.204\" fill=\"none\" stroke=\"black\"/>\n",
       "<polygon fill=\"black\" points=\"8000.59,-330.701 7990.09,-332.108 7999.18,-337.556 8000.59,-330.701\" stroke=\"black\"/>\n",
       "</g>\n",
       "<!-- 140404907482576 -->\n",
       "<g class=\"node\" id=\"node64\"><title>140404907482576</title>\n",
       "<polygon fill=\"none\" points=\"8008,-297 8008,-333 8142,-333 8142,-297 8008,-297\" stroke=\"black\"/>\n",
       "<text font-family=\"Times,serif\" font-size=\"14.00\" text-anchor=\"middle\" x=\"8075\" y=\"-311.3\">slice19_neg: Lambda</text>\n",
       "</g>\n",
       "<!-- 140404909696656&#45;&gt;140404907482576 -->\n",
       "<g class=\"edge\" id=\"edge62\"><title>140404909696656-&gt;140404907482576</title>\n",
       "<path d=\"M8248.97,-370.937C8215.87,-360.484 8173.33,-347.053 8138.61,-336.088\" fill=\"none\" stroke=\"black\"/>\n",
       "<polygon fill=\"black\" points=\"8139.63,-332.739 8129.04,-333.065 8137.52,-339.414 8139.63,-332.739\" stroke=\"black\"/>\n",
       "</g>\n",
       "<!-- 140404907231248 -->\n",
       "<g class=\"node\" id=\"node65\"><title>140404907231248</title>\n",
       "<polygon fill=\"none\" points=\"8160,-297 8160,-333 8294,-333 8294,-297 8160,-297\" stroke=\"black\"/>\n",
       "<text font-family=\"Times,serif\" font-size=\"14.00\" text-anchor=\"middle\" x=\"8227\" y=\"-311.3\">slice20_neg: Lambda</text>\n",
       "</g>\n",
       "<!-- 140404909696656&#45;&gt;140404907231248 -->\n",
       "<g class=\"edge\" id=\"edge63\"><title>140404909696656-&gt;140404907231248</title>\n",
       "<path d=\"M8284.99,-370.937C8275.31,-361.768 8263.21,-350.308 8252.58,-340.231\" fill=\"none\" stroke=\"black\"/>\n",
       "<polygon fill=\"black\" points=\"8254.81,-337.527 8245.15,-333.19 8250,-342.608 8254.81,-337.527\" stroke=\"black\"/>\n",
       "</g>\n",
       "<!-- 140404907044240 -->\n",
       "<g class=\"node\" id=\"node66\"><title>140404907044240</title>\n",
       "<polygon fill=\"none\" points=\"8312,-297 8312,-333 8446,-333 8446,-297 8312,-297\" stroke=\"black\"/>\n",
       "<text font-family=\"Times,serif\" font-size=\"14.00\" text-anchor=\"middle\" x=\"8379\" y=\"-311.3\">slice21_neg: Lambda</text>\n",
       "</g>\n",
       "<!-- 140404909696656&#45;&gt;140404907044240 -->\n",
       "<g class=\"edge\" id=\"edge64\"><title>140404909696656-&gt;140404907044240</title>\n",
       "<path d=\"M8321.01,-370.937C8330.69,-361.768 8342.79,-350.308 8353.42,-340.231\" fill=\"none\" stroke=\"black\"/>\n",
       "<polygon fill=\"black\" points=\"8356,-342.608 8360.85,-333.19 8351.19,-337.527 8356,-342.608\" stroke=\"black\"/>\n",
       "</g>\n",
       "<!-- 140404906653008 -->\n",
       "<g class=\"node\" id=\"node67\"><title>140404906653008</title>\n",
       "<polygon fill=\"none\" points=\"8464,-297 8464,-333 8598,-333 8598,-297 8464,-297\" stroke=\"black\"/>\n",
       "<text font-family=\"Times,serif\" font-size=\"14.00\" text-anchor=\"middle\" x=\"8531\" y=\"-311.3\">slice22_neg: Lambda</text>\n",
       "</g>\n",
       "<!-- 140404909696656&#45;&gt;140404906653008 -->\n",
       "<g class=\"edge\" id=\"edge65\"><title>140404909696656-&gt;140404906653008</title>\n",
       "<path d=\"M8357.03,-370.937C8390.13,-360.484 8432.67,-347.053 8467.39,-336.088\" fill=\"none\" stroke=\"black\"/>\n",
       "<polygon fill=\"black\" points=\"8468.48,-339.414 8476.96,-333.065 8466.37,-332.739 8468.48,-339.414\" stroke=\"black\"/>\n",
       "</g>\n",
       "<!-- 140404906266576 -->\n",
       "<g class=\"node\" id=\"node68\"><title>140404906266576</title>\n",
       "<polygon fill=\"none\" points=\"8616,-297 8616,-333 8750,-333 8750,-297 8616,-297\" stroke=\"black\"/>\n",
       "<text font-family=\"Times,serif\" font-size=\"14.00\" text-anchor=\"middle\" x=\"8683\" y=\"-311.3\">slice23_neg: Lambda</text>\n",
       "</g>\n",
       "<!-- 140404909696656&#45;&gt;140404906266576 -->\n",
       "<g class=\"edge\" id=\"edge66\"><title>140404909696656-&gt;140404906266576</title>\n",
       "<path d=\"M8388.1,-374.213C8446.68,-364.412 8526.51,-350.446 8605.75,-334.204\" fill=\"none\" stroke=\"black\"/>\n",
       "<polygon fill=\"black\" points=\"8606.82,-337.556 8615.91,-332.108 8605.41,-330.701 8606.82,-337.556\" stroke=\"black\"/>\n",
       "</g>\n",
       "<!-- 140404906334544 -->\n",
       "<g class=\"node\" id=\"node69\"><title>140404906334544</title>\n",
       "<polygon fill=\"none\" points=\"8768,-297 8768,-333 8902,-333 8902,-297 8768,-297\" stroke=\"black\"/>\n",
       "<text font-family=\"Times,serif\" font-size=\"14.00\" text-anchor=\"middle\" x=\"8835\" y=\"-311.3\">slice24_neg: Lambda</text>\n",
       "</g>\n",
       "<!-- 140404909696656&#45;&gt;140404906334544 -->\n",
       "<g class=\"edge\" id=\"edge67\"><title>140404909696656-&gt;140404906334544</title>\n",
       "<path d=\"M8388.31,-380.844C8478,-372.651 8623.34,-357.485 8757.87,-334.092\" fill=\"none\" stroke=\"black\"/>\n",
       "<polygon fill=\"black\" points=\"8758.71,-337.499 8767.95,-332.321 8757.5,-330.605 8758.71,-337.499\" stroke=\"black\"/>\n",
       "</g>\n",
       "<!-- 140404906592784 -->\n",
       "<g class=\"node\" id=\"node70\"><title>140404906592784</title>\n",
       "<polygon fill=\"none\" points=\"8920,-297 8920,-333 9054,-333 9054,-297 8920,-297\" stroke=\"black\"/>\n",
       "<text font-family=\"Times,serif\" font-size=\"14.00\" text-anchor=\"middle\" x=\"8987\" y=\"-311.3\">slice25_neg: Lambda</text>\n",
       "</g>\n",
       "<!-- 140404909696656&#45;&gt;140404906592784 -->\n",
       "<g class=\"edge\" id=\"edge68\"><title>140404909696656-&gt;140404906592784</title>\n",
       "<path d=\"M8388.07,-384.314C8504.06,-378.425 8718.36,-364.476 8909.99,-334.032\" fill=\"none\" stroke=\"black\"/>\n",
       "<polygon fill=\"black\" points=\"8910.65,-337.471 8919.97,-332.429 8909.54,-330.56 8910.65,-337.471\" stroke=\"black\"/>\n",
       "</g>\n",
       "<!-- 140406244829648 -->\n",
       "<g class=\"node\" id=\"node71\"><title>140406244829648</title>\n",
       "<polygon fill=\"none\" points=\"9072,-297 9072,-333 9206,-333 9206,-297 9072,-297\" stroke=\"black\"/>\n",
       "<text font-family=\"Times,serif\" font-size=\"14.00\" text-anchor=\"middle\" x=\"9139\" y=\"-311.3\">slice26_neg: Lambda</text>\n",
       "</g>\n",
       "<!-- 140404909696656&#45;&gt;140406244829648 -->\n",
       "<g class=\"edge\" id=\"edge69\"><title>140404909696656-&gt;140406244829648</title>\n",
       "<path d=\"M8388.13,-386.431C8527.33,-382.877 8812.31,-371.473 9061.99,-334.009\" fill=\"none\" stroke=\"black\"/>\n",
       "<polygon fill=\"black\" points=\"9062.62,-337.454 9071.98,-332.494 9061.57,-330.534 9062.62,-337.454\" stroke=\"black\"/>\n",
       "</g>\n",
       "<!-- 140404905876496 -->\n",
       "<g class=\"node\" id=\"node72\"><title>140404905876496</title>\n",
       "<polygon fill=\"none\" points=\"9224,-297 9224,-333 9358,-333 9358,-297 9224,-297\" stroke=\"black\"/>\n",
       "<text font-family=\"Times,serif\" font-size=\"14.00\" text-anchor=\"middle\" x=\"9291\" y=\"-311.3\">slice27_neg: Lambda</text>\n",
       "</g>\n",
       "<!-- 140404909696656&#45;&gt;140404905876496 -->\n",
       "<g class=\"edge\" id=\"edge70\"><title>140404909696656-&gt;140404905876496</title>\n",
       "<path d=\"M8388.06,-387.869C8548.2,-386.551 8905.33,-378.52 9213.95,-334.001\" fill=\"none\" stroke=\"black\"/>\n",
       "<polygon fill=\"black\" points=\"9214.59,-337.444 9223.99,-332.537 9213.58,-330.517 9214.59,-337.444\" stroke=\"black\"/>\n",
       "</g>\n",
       "<!-- 140405316291600 -->\n",
       "<g class=\"node\" id=\"node73\"><title>140405316291600</title>\n",
       "<polygon fill=\"none\" points=\"9376,-297 9376,-333 9510,-333 9510,-297 9376,-297\" stroke=\"black\"/>\n",
       "<text font-family=\"Times,serif\" font-size=\"14.00\" text-anchor=\"middle\" x=\"9443\" y=\"-311.3\">slice28_neg: Lambda</text>\n",
       "</g>\n",
       "<!-- 140404909696656&#45;&gt;140405316291600 -->\n",
       "<g class=\"edge\" id=\"edge71\"><title>140404909696656-&gt;140405316291600</title>\n",
       "<path d=\"M8388.33,-388.91C8567.91,-389.689 8997.96,-385.575 9365.94,-333.991\" fill=\"none\" stroke=\"black\"/>\n",
       "<polygon fill=\"black\" points=\"9366.58,-337.436 9375.99,-332.569 9365.6,-330.505 9366.58,-337.436\" stroke=\"black\"/>\n",
       "</g>\n",
       "<!-- 140404905621136 -->\n",
       "<g class=\"node\" id=\"node74\"><title>140404905621136</title>\n",
       "<polygon fill=\"none\" points=\"9528,-297 9528,-333 9662,-333 9662,-297 9528,-297\" stroke=\"black\"/>\n",
       "<text font-family=\"Times,serif\" font-size=\"14.00\" text-anchor=\"middle\" x=\"9595\" y=\"-311.3\">slice29_neg: Lambda</text>\n",
       "</g>\n",
       "<!-- 140404909696656&#45;&gt;140404905621136 -->\n",
       "<g class=\"edge\" id=\"edge72\"><title>140404909696656-&gt;140404905621136</title>\n",
       "<path d=\"M8388.37,-386.299C8624.01,-381.276 9281.19,-364.969 9518.05,-333.938\" fill=\"none\" stroke=\"black\"/>\n",
       "<polygon fill=\"black\" points=\"9518.55,-337.402 9527.99,-332.592 9517.61,-330.465 9518.55,-337.402\" stroke=\"black\"/>\n",
       "</g>\n",
       "<!-- 140404905694992 -->\n",
       "<g class=\"node\" id=\"node75\"><title>140404905694992</title>\n",
       "<polygon fill=\"none\" points=\"9680,-297 9680,-333 9814,-333 9814,-297 9680,-297\" stroke=\"black\"/>\n",
       "<text font-family=\"Times,serif\" font-size=\"14.00\" text-anchor=\"middle\" x=\"9747\" y=\"-311.3\">slice30_neg: Lambda</text>\n",
       "</g>\n",
       "<!-- 140404909696656&#45;&gt;140404905694992 -->\n",
       "<g class=\"edge\" id=\"edge73\"><title>140404909696656-&gt;140404905694992</title>\n",
       "<path d=\"M8388.22,-386.79C8643.75,-382.826 9401.8,-368.53 9669.9,-333.954\" fill=\"none\" stroke=\"black\"/>\n",
       "<polygon fill=\"black\" points=\"9670.54,-337.399 9680,-332.61 9669.62,-330.46 9670.54,-337.399\" stroke=\"black\"/>\n",
       "</g>\n",
       "<!-- 140404905299920 -->\n",
       "<g class=\"node\" id=\"node76\"><title>140404905299920</title>\n",
       "<polygon fill=\"none\" points=\"9832,-297 9832,-333 9966,-333 9966,-297 9832,-297\" stroke=\"black\"/>\n",
       "<text font-family=\"Times,serif\" font-size=\"14.00\" text-anchor=\"middle\" x=\"9899\" y=\"-311.3\">slice31_neg: Lambda</text>\n",
       "</g>\n",
       "<!-- 140404909696656&#45;&gt;140404905299920 -->\n",
       "<g class=\"edge\" id=\"edge74\"><title>140404909696656-&gt;140404905299920</title>\n",
       "<path d=\"M8388.24,-387.181C8662.78,-384.201 9522.89,-372.099 9822.02,-333.935\" fill=\"none\" stroke=\"black\"/>\n",
       "<polygon fill=\"black\" points=\"9822.54,-337.398 9832,-332.625 9821.63,-330.457 9822.54,-337.398\" stroke=\"black\"/>\n",
       "</g>\n",
       "<!-- 140404905430608 -->\n",
       "<g class=\"node\" id=\"node77\"><title>140404905430608</title>\n",
       "<polygon fill=\"none\" points=\"9984,-297 9984,-333 10118,-333 10118,-297 9984,-297\" stroke=\"black\"/>\n",
       "<text font-family=\"Times,serif\" font-size=\"14.00\" text-anchor=\"middle\" x=\"10051\" y=\"-311.3\">slice32_neg: Lambda</text>\n",
       "</g>\n",
       "<!-- 140404909696656&#45;&gt;140404905430608 -->\n",
       "<g class=\"edge\" id=\"edge75\"><title>140404909696656-&gt;140404905430608</title>\n",
       "<path d=\"M8388.13,-387.503C8680.53,-385.447 9643.43,-375.701 9973.93,-333.945\" fill=\"none\" stroke=\"black\"/>\n",
       "<polygon fill=\"black\" points=\"9974.53,-337.396 9984,-332.637 9973.63,-330.455 9974.53,-337.396\" stroke=\"black\"/>\n",
       "</g>\n",
       "<!-- 140404905043920 -->\n",
       "<g class=\"node\" id=\"node78\"><title>140404905043920</title>\n",
       "<polygon fill=\"none\" points=\"10136,-297 10136,-333 10270,-333 10270,-297 10136,-297\" stroke=\"black\"/>\n",
       "<text font-family=\"Times,serif\" font-size=\"14.00\" text-anchor=\"middle\" x=\"10203\" y=\"-311.3\">slice33_neg: Lambda</text>\n",
       "</g>\n",
       "<!-- 140404909696656&#45;&gt;140404905043920 -->\n",
       "<g class=\"edge\" id=\"edge76\"><title>140404909696656-&gt;140404905043920</title>\n",
       "<path d=\"M8388.2,-387.77C8697.91,-386.581 9764.31,-379.309 10125.6,-333.999\" fill=\"none\" stroke=\"black\"/>\n",
       "<polygon fill=\"black\" points=\"10126.1,-337.464 10135.6,-332.716 10125.2,-330.521 10126.1,-337.464\" stroke=\"black\"/>\n",
       "</g>\n",
       "<!-- 140404905110352 -->\n",
       "<g class=\"node\" id=\"node79\"><title>140404905110352</title>\n",
       "<polygon fill=\"none\" points=\"10288,-297 10288,-333 10422,-333 10422,-297 10288,-297\" stroke=\"black\"/>\n",
       "<text font-family=\"Times,serif\" font-size=\"14.00\" text-anchor=\"middle\" x=\"10355\" y=\"-311.3\">slice34_neg: Lambda</text>\n",
       "</g>\n",
       "<!-- 140404909696656&#45;&gt;140404905110352 -->\n",
       "<g class=\"edge\" id=\"edge77\"><title>140404909696656-&gt;140404905110352</title>\n",
       "<path d=\"M8388.15,-387.997C8714.29,-387.63 9884.87,-382.94 10277.6,-333.999\" fill=\"none\" stroke=\"black\"/>\n",
       "<polygon fill=\"black\" points=\"10278.1,-337.463 10287.6,-332.724 10277.2,-330.52 10278.1,-337.463\" stroke=\"black\"/>\n",
       "</g>\n",
       "<!-- 140404904526480 -->\n",
       "<g class=\"node\" id=\"node80\"><title>140404904526480</title>\n",
       "<polygon fill=\"none\" points=\"10440,-297 10440,-333 10574,-333 10574,-297 10440,-297\" stroke=\"black\"/>\n",
       "<text font-family=\"Times,serif\" font-size=\"14.00\" text-anchor=\"middle\" x=\"10507\" y=\"-311.3\">slice35_neg: Lambda</text>\n",
       "</g>\n",
       "<!-- 140404909696656&#45;&gt;140404904526480 -->\n",
       "<g class=\"edge\" id=\"edge78\"><title>140404909696656-&gt;140404904526480</title>\n",
       "<path d=\"M8388.16,-388.192C8730.12,-388.603 10005,-386.581 10429.4,-334.021\" fill=\"none\" stroke=\"black\"/>\n",
       "<polygon fill=\"black\" points=\"10430.1,-337.462 10439.6,-332.731 10429.2,-330.518 10430.1,-337.462\" stroke=\"black\"/>\n",
       "</g>\n",
       "<!-- 140404904661520 -->\n",
       "<g class=\"node\" id=\"node81\"><title>140404904661520</title>\n",
       "<polygon fill=\"none\" points=\"10592,-297 10592,-333 10726,-333 10726,-297 10592,-297\" stroke=\"black\"/>\n",
       "<text font-family=\"Times,serif\" font-size=\"14.00\" text-anchor=\"middle\" x=\"10659\" y=\"-311.3\">slice36_neg: Lambda</text>\n",
       "</g>\n",
       "<!-- 140404909696656&#45;&gt;140404904661520 -->\n",
       "<g class=\"edge\" id=\"edge79\"><title>140404909696656-&gt;140404904661520</title>\n",
       "<path d=\"M8388.07,-388.361C8745.27,-389.514 10125.9,-390.238 10581.7,-333.991\" fill=\"none\" stroke=\"black\"/>\n",
       "<polygon fill=\"black\" points=\"10582.1,-337.462 10591.6,-332.737 10581.2,-330.517 10582.1,-337.462\" stroke=\"black\"/>\n",
       "</g>\n",
       "<!-- 140404904281296 -->\n",
       "<g class=\"node\" id=\"node82\"><title>140404904281296</title>\n",
       "<polygon fill=\"none\" points=\"10744,-297 10744,-333 10878,-333 10878,-297 10744,-297\" stroke=\"black\"/>\n",
       "<text font-family=\"Times,serif\" font-size=\"14.00\" text-anchor=\"middle\" x=\"10811\" y=\"-311.3\">slice37_neg: Lambda</text>\n",
       "</g>\n",
       "<!-- 140404909696656&#45;&gt;140404904281296 -->\n",
       "<g class=\"edge\" id=\"edge80\"><title>140404909696656-&gt;140404904281296</title>\n",
       "<path d=\"M8388.28,-387.171C8786.59,-383.158 10455.7,-364.722 10733.6,-333.936\" fill=\"none\" stroke=\"black\"/>\n",
       "<polygon fill=\"black\" points=\"10734.1,-337.4 10743.6,-332.742 10733.2,-330.449 10734.1,-337.4\" stroke=\"black\"/>\n",
       "</g>\n",
       "<!-- 140404903959184 -->\n",
       "<g class=\"node\" id=\"node83\"><title>140404903959184</title>\n",
       "<polygon fill=\"none\" points=\"10896,-297 10896,-333 11030,-333 11030,-297 10896,-297\" stroke=\"black\"/>\n",
       "<text font-family=\"Times,serif\" font-size=\"14.00\" text-anchor=\"middle\" x=\"10963\" y=\"-311.3\">slice38_neg: Lambda</text>\n",
       "</g>\n",
       "<!-- 140404909696656&#45;&gt;140404903959184 -->\n",
       "<g class=\"edge\" id=\"edge81\"><title>140404909696656-&gt;140404903959184</title>\n",
       "<path d=\"M8388.34,-387.29C8802.03,-383.707 10590.6,-366.53 10885.4,-333.961\" fill=\"none\" stroke=\"black\"/>\n",
       "<polygon fill=\"black\" points=\"10886.1,-337.401 10895.6,-332.747 10885.2,-330.449 10886.1,-337.401\" stroke=\"black\"/>\n",
       "</g>\n",
       "<!-- 140404904088016 -->\n",
       "<g class=\"node\" id=\"node84\"><title>140404904088016</title>\n",
       "<polygon fill=\"none\" points=\"11048,-297 11048,-333 11182,-333 11182,-297 11048,-297\" stroke=\"black\"/>\n",
       "<text font-family=\"Times,serif\" font-size=\"14.00\" text-anchor=\"middle\" x=\"11115\" y=\"-311.3\">slice39_neg: Lambda</text>\n",
       "</g>\n",
       "<!-- 140404909696656&#45;&gt;140404904088016 -->\n",
       "<g class=\"edge\" id=\"edge82\"><title>140404909696656-&gt;140404904088016</title>\n",
       "<path d=\"M8388.28,-387.397C8816.94,-384.224 10727.6,-368.33 11037.6,-333.93\" fill=\"none\" stroke=\"black\"/>\n",
       "<polygon fill=\"black\" points=\"11038.1,-337.405 11047.6,-332.751 11037.2,-330.453 11038.1,-337.405\" stroke=\"black\"/>\n",
       "</g>\n",
       "<!-- 140404903714448 -->\n",
       "<g class=\"node\" id=\"node85\"><title>140404903714448</title>\n",
       "<polygon fill=\"none\" points=\"11200,-297 11200,-333 11334,-333 11334,-297 11200,-297\" stroke=\"black\"/>\n",
       "<text font-family=\"Times,serif\" font-size=\"14.00\" text-anchor=\"middle\" x=\"11267\" y=\"-311.3\">slice40_neg: Lambda</text>\n",
       "</g>\n",
       "<!-- 140404909696656&#45;&gt;140404903714448 -->\n",
       "<g class=\"edge\" id=\"edge83\"><title>140404909696656-&gt;140404903714448</title>\n",
       "<path d=\"M8388.17,-387.493C8831.09,-384.714 10862.9,-370.152 11189.6,-333.942\" fill=\"none\" stroke=\"black\"/>\n",
       "<polygon fill=\"black\" points=\"11190.1,-337.406 11199.6,-332.755 11189.2,-330.454 11190.1,-337.406\" stroke=\"black\"/>\n",
       "</g>\n",
       "<!-- 140404904027152 -->\n",
       "<g class=\"node\" id=\"node86\"><title>140404904027152</title>\n",
       "<polygon fill=\"none\" points=\"11352,-297 11352,-333 11486,-333 11486,-297 11352,-297\" stroke=\"black\"/>\n",
       "<text font-family=\"Times,serif\" font-size=\"14.00\" text-anchor=\"middle\" x=\"11419\" y=\"-311.3\">slice41_neg: Lambda</text>\n",
       "</g>\n",
       "<!-- 140404909696656&#45;&gt;140404904027152 -->\n",
       "<g class=\"edge\" id=\"edge84\"><title>140404909696656-&gt;140404904027152</title>\n",
       "<path d=\"M8388.06,-387.58C8844.85,-385.178 10998.5,-371.979 11341.5,-333.948\" fill=\"none\" stroke=\"black\"/>\n",
       "<polygon fill=\"black\" points=\"11342.1,-337.407 11351.6,-332.758 11341.3,-330.455 11342.1,-337.407\" stroke=\"black\"/>\n",
       "</g>\n",
       "<!-- 140404789787984 -->\n",
       "<g class=\"node\" id=\"node87\"><title>140404789787984</title>\n",
       "<polygon fill=\"none\" points=\"5096.5,-223 5096.5,-259 5273.5,-259 5273.5,-223 5096.5,-223\" stroke=\"black\"/>\n",
       "<text font-family=\"Times,serif\" font-size=\"14.00\" text-anchor=\"middle\" x=\"5185\" y=\"-237.3\">feed_forward_nw: Sequential</text>\n",
       "</g>\n",
       "<!-- 140404789758672&#45;&gt;140404789787984 -->\n",
       "<g class=\"edge\" id=\"edge85\"><title>140404789758672-&gt;140404789787984</title>\n",
       "<path d=\"M100.633,-297.538C103.446,-296.942 106.248,-296.421 109,-296 379.476,-254.648 4760.92,-277.22 5034,-260 5050.85,-258.937 5068.7,-257.283 5086.01,-255.398\" fill=\"none\" stroke=\"black\"/>\n",
       "<polygon fill=\"black\" points=\"5086.57,-258.856 5096.12,-254.264 5085.8,-251.9 5086.57,-258.856\" stroke=\"black\"/>\n",
       "</g>\n",
       "<!-- 140404789964752&#45;&gt;140404789787984 -->\n",
       "<g class=\"edge\" id=\"edge86\"><title>140404789964752-&gt;140404789787984</title>\n",
       "<path d=\"M219.633,-297.539C222.446,-296.942 225.248,-296.421 228,-296 491.937,-255.623 4767.52,-276.828 5034,-260 5050.85,-258.936 5068.7,-257.28 5086.01,-255.395\" fill=\"none\" stroke=\"black\"/>\n",
       "<polygon fill=\"black\" points=\"5086.57,-258.853 5096.12,-254.261 5085.79,-251.897 5086.57,-258.853\" stroke=\"black\"/>\n",
       "</g>\n",
       "<!-- 140404915690064&#45;&gt;140404789787984 -->\n",
       "<g class=\"edge\" id=\"edge87\"><title>140404915690064-&gt;140404789787984</title>\n",
       "<path d=\"M338.633,-297.54C341.446,-296.943 344.248,-296.421 347,-296 604.398,-256.598 4774.12,-276.437 5034,-260 5050.85,-258.934 5068.7,-257.278 5086.01,-255.392\" fill=\"none\" stroke=\"black\"/>\n",
       "<polygon fill=\"black\" points=\"5086.57,-258.851 5096.12,-254.258 5085.79,-251.894 5086.57,-258.851\" stroke=\"black\"/>\n",
       "</g>\n",
       "<!-- 140404915691280&#45;&gt;140404789787984 -->\n",
       "<g class=\"edge\" id=\"edge88\"><title>140404915691280-&gt;140404789787984</title>\n",
       "<path d=\"M457.633,-297.54C460.446,-296.943 463.248,-296.422 466,-296 716.86,-257.573 4780.72,-276.045 5034,-260 5050.85,-258.933 5068.7,-257.275 5086.01,-255.389\" fill=\"none\" stroke=\"black\"/>\n",
       "<polygon fill=\"black\" points=\"5086.57,-258.848 5096.12,-254.255 5085.79,-251.892 5086.57,-258.848\" stroke=\"black\"/>\n",
       "</g>\n",
       "<!-- 140404788231952&#45;&gt;140404789787984 -->\n",
       "<g class=\"edge\" id=\"edge89\"><title>140404788231952-&gt;140404789787984</title>\n",
       "<path d=\"M576.633,-297.541C579.446,-296.944 582.248,-296.422 585,-296 829.321,-258.549 4787.32,-275.653 5034,-260 5050.85,-258.931 5068.7,-257.273 5086.01,-255.386\" fill=\"none\" stroke=\"black\"/>\n",
       "<polygon fill=\"black\" points=\"5086.57,-258.845 5096.12,-254.252 5085.79,-251.889 5086.57,-258.845\" stroke=\"black\"/>\n",
       "</g>\n",
       "<!-- 140404788301392&#45;&gt;140404789787984 -->\n",
       "<g class=\"edge\" id=\"edge90\"><title>140404788301392-&gt;140404789787984</title>\n",
       "<path d=\"M695.633,-297.542C698.446,-296.944 701.248,-296.422 704,-296 1179.56,-223.048 4553.84,-290.521 5034,-260 5050.85,-258.929 5068.7,-257.27 5086.01,-255.383\" fill=\"none\" stroke=\"black\"/>\n",
       "<polygon fill=\"black\" points=\"5086.57,-258.842 5096.12,-254.249 5085.79,-251.885 5086.57,-258.842\" stroke=\"black\"/>\n",
       "</g>\n",
       "<!-- 140404788426512&#45;&gt;140404789787984 -->\n",
       "<g class=\"edge\" id=\"edge91\"><title>140404788426512-&gt;140404789787984</title>\n",
       "<path d=\"M814.633,-297.542C817.446,-296.945 820.248,-296.423 823,-296 1285.49,-224.998 4567.04,-289.737 5034,-260 5050.85,-258.927 5068.7,-257.267 5086.01,-255.38\" fill=\"none\" stroke=\"black\"/>\n",
       "<polygon fill=\"black\" points=\"5086.57,-258.838 5096.12,-254.245 5085.79,-251.882 5086.57,-258.838\" stroke=\"black\"/>\n",
       "</g>\n",
       "<!-- 140404912345040&#45;&gt;140404789787984 -->\n",
       "<g class=\"edge\" id=\"edge92\"><title>140404912345040-&gt;140404789787984</title>\n",
       "<path d=\"M933.634,-297.543C936.446,-296.945 939.248,-296.423 942,-296 1391.41,-226.949 4580.24,-288.954 5034,-260 5050.85,-258.925 5068.7,-257.264 5086.01,-255.376\" fill=\"none\" stroke=\"black\"/>\n",
       "<polygon fill=\"black\" points=\"5086.57,-258.835 5096.12,-254.242 5085.79,-251.878 5086.57,-258.835\" stroke=\"black\"/>\n",
       "</g>\n",
       "<!-- 140404912455248&#45;&gt;140404789787984 -->\n",
       "<g class=\"edge\" id=\"edge93\"><title>140404912455248-&gt;140404789787984</title>\n",
       "<path d=\"M1052.63,-297.544C1055.45,-296.946 1058.25,-296.423 1061,-296 1497.33,-228.899 4593.44,-288.17 5034,-260 5050.85,-258.923 5068.7,-257.26 5086.01,-255.373\" fill=\"none\" stroke=\"black\"/>\n",
       "<polygon fill=\"black\" points=\"5086.57,-258.831 5096.12,-254.238 5085.79,-251.875 5086.57,-258.831\" stroke=\"black\"/>\n",
       "</g>\n",
       "<!-- 140404914792400&#45;&gt;140404789787984 -->\n",
       "<g class=\"edge\" id=\"edge94\"><title>140404914792400-&gt;140404789787984</title>\n",
       "<path d=\"M1171.63,-297.545C1174.45,-296.947 1177.25,-296.424 1180,-296 1603.26,-230.85 4606.64,-287.386 5034,-260 5050.85,-258.92 5068.7,-257.257 5086.01,-255.369\" fill=\"none\" stroke=\"black\"/>\n",
       "<polygon fill=\"black\" points=\"5086.57,-258.827 5096.12,-254.234 5085.79,-251.871 5086.57,-258.827\" stroke=\"black\"/>\n",
       "</g>\n",
       "<!-- 140404914879312&#45;&gt;140404789787984 -->\n",
       "<g class=\"edge\" id=\"edge95\"><title>140404914879312-&gt;140404789787984</title>\n",
       "<path d=\"M1296.57,-297.478C1299.41,-296.908 1302.23,-296.408 1305,-296 1714.94,-235.676 4620.5,-286.562 5034,-260 5050.85,-258.918 5068.7,-257.253 5086.01,-255.364\" fill=\"none\" stroke=\"black\"/>\n",
       "<polygon fill=\"black\" points=\"5086.57,-258.823 5096.12,-254.229 5085.79,-251.866 5086.57,-258.823\" stroke=\"black\"/>\n",
       "</g>\n",
       "<!-- 140404914451088&#45;&gt;140404789787984 -->\n",
       "<g class=\"edge\" id=\"edge96\"><title>140404914451088-&gt;140404789787984</title>\n",
       "<path d=\"M1421.57,-297.479C1424.41,-296.909 1427.23,-296.408 1430,-296 1826.19,-237.632 4634.36,-285.739 5034,-260 5050.85,-258.915 5068.7,-257.249 5086.01,-255.359\" fill=\"none\" stroke=\"black\"/>\n",
       "<polygon fill=\"black\" points=\"5086.57,-258.818 5096.12,-254.224 5085.79,-251.862 5086.57,-258.818\" stroke=\"black\"/>\n",
       "</g>\n",
       "<!-- 140404914442768&#45;&gt;140404789787984 -->\n",
       "<g class=\"edge\" id=\"edge97\"><title>140404914442768-&gt;140404789787984</title>\n",
       "<path d=\"M1546.57,-297.48C1549.41,-296.91 1552.23,-296.409 1555,-296 1937.44,-239.588 4648.23,-284.916 5034,-260 5050.85,-258.912 5068.7,-257.244 5086.01,-255.354\" fill=\"none\" stroke=\"black\"/>\n",
       "<polygon fill=\"black\" points=\"5086.57,-258.813 5096.12,-254.219 5085.79,-251.856 5086.57,-258.813\" stroke=\"black\"/>\n",
       "</g>\n",
       "<!-- 140404915320016&#45;&gt;140404789787984 -->\n",
       "<g class=\"edge\" id=\"edge98\"><title>140404915320016-&gt;140404789787984</title>\n",
       "<path d=\"M1671.57,-297.482C1674.41,-296.911 1677.23,-296.409 1680,-296 2048.69,-241.543 4662.09,-284.092 5034,-260 5050.85,-258.909 5068.7,-257.239 5086.01,-255.349\" fill=\"none\" stroke=\"black\"/>\n",
       "<polygon fill=\"black\" points=\"5086.57,-258.807 5096.12,-254.213 5085.79,-251.851 5086.57,-258.807\" stroke=\"black\"/>\n",
       "</g>\n",
       "<!-- 140404915313296&#45;&gt;140404789787984 -->\n",
       "<g class=\"edge\" id=\"edge99\"><title>140404915313296-&gt;140404789787984</title>\n",
       "<path d=\"M1796.57,-297.483C1799.41,-296.912 1802.23,-296.41 1805,-296 2159.94,-243.499 4675.96,-283.269 5034,-260 5050.85,-258.905 5068.7,-257.234 5086.01,-255.343\" fill=\"none\" stroke=\"black\"/>\n",
       "<polygon fill=\"black\" points=\"5086.57,-258.801 5096.12,-254.207 5085.79,-251.845 5086.57,-258.801\" stroke=\"black\"/>\n",
       "</g>\n",
       "<!-- 140404915028432&#45;&gt;140404789787984 -->\n",
       "<g class=\"edge\" id=\"edge100\"><title>140404915028432-&gt;140404789787984</title>\n",
       "<path d=\"M1921.57,-297.485C1924.41,-296.913 1927.23,-296.411 1930,-296 2271.19,-245.454 4689.82,-282.445 5034,-260 5050.85,-258.901 5068.7,-257.228 5086.01,-255.337\" fill=\"none\" stroke=\"black\"/>\n",
       "<polygon fill=\"black\" points=\"5086.57,-258.795 5096.12,-254.2 5085.79,-251.839 5086.57,-258.795\" stroke=\"black\"/>\n",
       "</g>\n",
       "<!-- 140404915162768&#45;&gt;140404789787984 -->\n",
       "<g class=\"edge\" id=\"edge101\"><title>140404915162768-&gt;140404789787984</title>\n",
       "<path d=\"M2046.57,-297.486C2049.41,-296.914 2052.23,-296.411 2055,-296 2382.44,-247.41 4703.68,-281.622 5034,-260 5050.85,-258.897 5068.7,-257.222 5086,-255.33\" fill=\"none\" stroke=\"black\"/>\n",
       "<polygon fill=\"black\" points=\"5086.57,-258.788 5096.12,-254.193 5085.79,-251.832 5086.57,-258.788\" stroke=\"black\"/>\n",
       "</g>\n",
       "<!-- 140404914971664&#45;&gt;140404789787984 -->\n",
       "<g class=\"edge\" id=\"edge102\"><title>140404914971664-&gt;140404789787984</title>\n",
       "<path d=\"M2171.57,-297.488C2174.41,-296.915 2177.23,-296.412 2180,-296 2493.69,-249.365 4717.55,-280.799 5034,-260 5050.85,-258.893 5068.7,-257.215 5086,-255.322\" fill=\"none\" stroke=\"black\"/>\n",
       "<polygon fill=\"black\" points=\"5086.57,-258.78 5096.12,-254.185 5085.79,-251.824 5086.57,-258.78\" stroke=\"black\"/>\n",
       "</g>\n",
       "<!-- 140404914313744&#45;&gt;140404789787984 -->\n",
       "<g class=\"edge\" id=\"edge103\"><title>140404914313744-&gt;140404789787984</title>\n",
       "<path d=\"M2296.57,-297.49C2299.41,-296.917 2302.23,-296.413 2305,-296 2604.94,-251.321 4731.41,-279.975 5034,-260 5050.85,-258.888 5068.7,-257.208 5086,-255.314\" fill=\"none\" stroke=\"black\"/>\n",
       "<polygon fill=\"black\" points=\"5086.57,-258.772 5096.12,-254.176 5085.79,-251.816 5086.57,-258.772\" stroke=\"black\"/>\n",
       "</g>\n",
       "<!-- 140404915235728&#45;&gt;140404789787984 -->\n",
       "<g class=\"edge\" id=\"edge104\"><title>140404915235728-&gt;140404789787984</title>\n",
       "<path d=\"M2421.57,-297.492C2424.41,-296.918 2427.23,-296.414 2430,-296 2716.19,-253.277 4745.27,-279.152 5034,-260 5050.85,-258.883 5068.7,-257.2 5086,-255.305\" fill=\"none\" stroke=\"black\"/>\n",
       "<polygon fill=\"black\" points=\"5086.57,-258.763 5096.12,-254.167 5085.79,-251.807 5086.57,-258.763\" stroke=\"black\"/>\n",
       "</g>\n",
       "<!-- 140404913663568&#45;&gt;140404789787984 -->\n",
       "<g class=\"edge\" id=\"edge105\"><title>140404913663568-&gt;140404789787984</title>\n",
       "<path d=\"M2546.57,-297.494C2549.41,-296.92 2552.23,-296.415 2555,-296 2827.44,-255.232 4759.14,-278.328 5034,-260 5050.85,-258.877 5068.7,-257.191 5086,-255.295\" fill=\"none\" stroke=\"black\"/>\n",
       "<polygon fill=\"black\" points=\"5086.57,-258.753 5096.12,-254.157 5085.79,-251.797 5086.57,-258.753\" stroke=\"black\"/>\n",
       "</g>\n",
       "<!-- 140404913662416&#45;&gt;140404789787984 -->\n",
       "<g class=\"edge\" id=\"edge106\"><title>140404913662416-&gt;140404789787984</title>\n",
       "<path d=\"M2671.57,-297.497C2674.41,-296.922 2677.23,-296.416 2680,-296 2938.69,-257.188 4773,-277.505 5034,-260 5050.85,-258.87 5068.7,-257.182 5086,-255.284\" fill=\"none\" stroke=\"black\"/>\n",
       "<polygon fill=\"black\" points=\"5086.57,-258.742 5096.12,-254.145 5085.79,-251.786 5086.57,-258.742\" stroke=\"black\"/>\n",
       "</g>\n",
       "<!-- 140404914048656&#45;&gt;140404789787984 -->\n",
       "<g class=\"edge\" id=\"edge107\"><title>140404914048656-&gt;140404789787984</title>\n",
       "<path d=\"M2796.57,-297.5C2799.41,-296.924 2802.23,-296.417 2805,-296 3294.88,-222.286 4539.73,-293.363 5034,-260 5050.84,-258.863 5068.7,-257.171 5086,-255.272\" fill=\"none\" stroke=\"black\"/>\n",
       "<polygon fill=\"black\" points=\"5086.57,-258.73 5096.11,-254.132 5085.79,-251.774 5086.57,-258.73\" stroke=\"black\"/>\n",
       "</g>\n",
       "<!-- 140404913528656&#45;&gt;140404789787984 -->\n",
       "<g class=\"edge\" id=\"edge108\"><title>140404913528656-&gt;140404789787984</title>\n",
       "<path d=\"M2921.57,-297.503C2924.41,-296.927 2927.23,-296.418 2930,-296 3392.38,-226.197 4567.45,-291.717 5034,-260 5050.84,-258.855 5068.7,-257.159 5086,-255.258\" fill=\"none\" stroke=\"black\"/>\n",
       "<polygon fill=\"black\" points=\"5086.57,-258.716 5096.11,-254.118 5085.78,-251.76 5086.57,-258.716\" stroke=\"black\"/>\n",
       "</g>\n",
       "<!-- 140404913129040&#45;&gt;140404789787984 -->\n",
       "<g class=\"edge\" id=\"edge109\"><title>140404913129040-&gt;140404789787984</title>\n",
       "<path d=\"M3046.57,-297.507C3049.41,-296.929 3052.23,-296.42 3055,-296 3489.89,-230.108 4595.18,-290.07 5034,-260 5050.84,-258.846 5068.69,-257.145 5086,-255.243\" fill=\"none\" stroke=\"black\"/>\n",
       "<polygon fill=\"black\" points=\"5086.57,-258.701 5096.11,-254.102 5085.78,-251.745 5086.57,-258.701\" stroke=\"black\"/>\n",
       "</g>\n",
       "<!-- 140404913070928&#45;&gt;140404789787984 -->\n",
       "<g class=\"edge\" id=\"edge110\"><title>140404913070928-&gt;140404789787984</title>\n",
       "<path d=\"M3171.57,-297.511C3174.41,-296.932 3177.23,-296.421 3180,-296 3587.39,-234.019 4622.9,-288.423 5034,-260 5050.84,-258.835 5068.69,-257.13 5086,-255.225\" fill=\"none\" stroke=\"black\"/>\n",
       "<polygon fill=\"black\" points=\"5086.57,-258.683 5096.11,-254.084 5085.78,-251.728 5086.57,-258.683\" stroke=\"black\"/>\n",
       "</g>\n",
       "<!-- 140404912025488&#45;&gt;140404789787984 -->\n",
       "<g class=\"edge\" id=\"edge111\"><title>140404912025488-&gt;140404789787984</title>\n",
       "<path d=\"M3296.58,-297.516C3299.41,-296.936 3302.23,-296.423 3305,-296 3684.89,-237.929 4650.63,-286.777 5034,-260 5050.84,-258.824 5068.69,-257.112 5086,-255.205\" fill=\"none\" stroke=\"black\"/>\n",
       "<polygon fill=\"black\" points=\"5086.57,-258.663 5096.11,-254.063 5085.78,-251.708 5086.57,-258.663\" stroke=\"black\"/>\n",
       "</g>\n",
       "<!-- 140404913328208&#45;&gt;140404789787984 -->\n",
       "<g class=\"edge\" id=\"edge112\"><title>140404913328208-&gt;140404789787984</title>\n",
       "<path d=\"M3421.58,-297.521C3424.41,-296.94 3427.23,-296.426 3430,-296 3782.4,-241.84 4678.35,-285.13 5034,-260 5050.84,-258.81 5068.69,-257.091 5085.99,-255.182\" fill=\"none\" stroke=\"black\"/>\n",
       "<polygon fill=\"black\" points=\"5086.56,-258.64 5096.11,-254.039 5085.78,-251.685 5086.56,-258.64\" stroke=\"black\"/>\n",
       "</g>\n",
       "<!-- 140404911828240&#45;&gt;140404789787984 -->\n",
       "<g class=\"edge\" id=\"edge113\"><title>140404911828240-&gt;140404789787984</title>\n",
       "<path d=\"M3546.58,-297.528C3549.41,-296.945 3552.23,-296.428 3555,-296 3879.9,-245.75 4706.08,-283.484 5034,-260 5050.84,-258.794 5068.69,-257.067 5085.99,-255.155\" fill=\"none\" stroke=\"black\"/>\n",
       "<polygon fill=\"black\" points=\"5086.56,-258.613 5096.11,-254.011 5085.78,-251.658 5086.56,-258.613\" stroke=\"black\"/>\n",
       "</g>\n",
       "<!-- 140404912151632&#45;&gt;140404789787984 -->\n",
       "<g class=\"edge\" id=\"edge114\"><title>140404912151632-&gt;140404789787984</title>\n",
       "<path d=\"M3671.58,-297.535C3674.41,-296.95 3677.23,-296.431 3680,-296 3977.41,-249.661 4733.8,-281.837 5034,-260 5050.84,-258.775 5068.69,-257.039 5085.99,-255.123\" fill=\"none\" stroke=\"black\"/>\n",
       "<polygon fill=\"black\" points=\"5086.56,-258.581 5096.1,-253.977 5085.77,-251.626 5086.56,-258.581\" stroke=\"black\"/>\n",
       "</g>\n",
       "<!-- 140404911638480&#45;&gt;140404789787984 -->\n",
       "<g class=\"edge\" id=\"edge115\"><title>140404911638480-&gt;140404789787984</title>\n",
       "<path d=\"M3796.58,-297.544C3799.41,-296.957 3802.23,-296.435 3805,-296 4074.91,-253.571 4761.52,-280.191 5034,-260 5050.95,-258.744 5068.92,-256.982 5086.33,-255.047\" fill=\"none\" stroke=\"black\"/>\n",
       "<polygon fill=\"black\" points=\"5086.96,-258.498 5096.5,-253.891 5086.17,-251.543 5086.96,-258.498\" stroke=\"black\"/>\n",
       "</g>\n",
       "<!-- 140404911243856&#45;&gt;140404789787984 -->\n",
       "<g class=\"edge\" id=\"edge116\"><title>140404911243856-&gt;140404789787984</title>\n",
       "<path d=\"M3921.58,-297.556C3924.41,-296.965 3927.23,-296.44 3930,-296 4414.85,-218.961 4544.48,-297.089 5034,-260 5050.94,-258.716 5068.91,-256.94 5086.32,-255\" fill=\"none\" stroke=\"black\"/>\n",
       "<polygon fill=\"black\" points=\"5086.96,-258.451 5096.5,-253.842 5086.16,-251.496 5086.96,-258.451\" stroke=\"black\"/>\n",
       "</g>\n",
       "<!-- 140404911374096&#45;&gt;140404789787984 -->\n",
       "<g class=\"edge\" id=\"edge117\"><title>140404911374096-&gt;140404789787984</title>\n",
       "<path d=\"M4046.58,-297.57C4049.42,-296.976 4052.23,-296.445 4055,-296 4484.87,-226.78 4599.91,-293.797 5034,-260 5050.94,-258.681 5068.91,-256.887 5086.32,-254.941\" fill=\"none\" stroke=\"black\"/>\n",
       "<polygon fill=\"black\" points=\"5086.95,-258.391 5096.49,-253.78 5086.16,-251.437 5086.95,-258.391\" stroke=\"black\"/>\n",
       "</g>\n",
       "<!-- 140404911708496&#45;&gt;140404789787984 -->\n",
       "<g class=\"edge\" id=\"edge118\"><title>140404911708496-&gt;140404789787984</title>\n",
       "<path d=\"M4171.59,-297.588C4174.42,-296.989 4177.23,-296.453 4180,-296 4554.9,-234.598 4655.33,-290.506 5034,-260 5050.94,-258.635 5068.91,-256.819 5086.31,-254.864\" fill=\"none\" stroke=\"black\"/>\n",
       "<polygon fill=\"black\" points=\"5086.95,-258.315 5096.48,-253.7 5086.15,-251.36 5086.95,-258.315\" stroke=\"black\"/>\n",
       "</g>\n",
       "<!-- 140404911502992&#45;&gt;140404789787984 -->\n",
       "<g class=\"edge\" id=\"edge119\"><title>140404911502992-&gt;140404789787984</title>\n",
       "<path d=\"M4296.59,-297.612C4299.42,-297.007 4302.24,-296.463 4305,-296 4624.94,-242.414 4710.75,-287.215 5034,-260 5050.93,-258.574 5068.9,-256.728 5086.3,-254.762\" fill=\"none\" stroke=\"black\"/>\n",
       "<polygon fill=\"black\" points=\"5086.94,-258.212 5096.48,-253.593 5086.14,-251.257 5086.94,-258.212\" stroke=\"black\"/>\n",
       "</g>\n",
       "<!-- 140404910734160&#45;&gt;140404789787984 -->\n",
       "<g class=\"edge\" id=\"edge120\"><title>140404910734160-&gt;140404789787984</title>\n",
       "<path d=\"M4421.6,-297.646C4424.43,-297.032 4427.24,-296.477 4430,-296 4695,-250.227 4766.15,-283.926 5034,-260 5050.93,-258.488 5068.89,-256.598 5086.29,-254.617\" fill=\"none\" stroke=\"black\"/>\n",
       "<polygon fill=\"black\" points=\"5086.93,-258.066 5096.46,-253.441 5086.13,-251.113 5086.93,-258.066\" stroke=\"black\"/>\n",
       "</g>\n",
       "<!-- 140404911188880&#45;&gt;140404789787984 -->\n",
       "<g class=\"edge\" id=\"edge121\"><title>140404911188880-&gt;140404789787984</title>\n",
       "<path d=\"M4546.61,-297.699C4549.43,-297.071 4552.24,-296.498 4555,-296 4765.09,-258.034 4821.51,-280.64 5034,-260 5050.91,-258.357 5068.87,-256.402 5086.27,-254.397\" fill=\"none\" stroke=\"black\"/>\n",
       "<polygon fill=\"black\" points=\"5086.91,-257.845 5096.44,-253.212 5086.1,-250.892 5086.91,-257.845\" stroke=\"black\"/>\n",
       "</g>\n",
       "<!-- 140404910606224&#45;&gt;140404789787984 -->\n",
       "<g class=\"edge\" id=\"edge122\"><title>140404910606224-&gt;140404789787984</title>\n",
       "<path d=\"M4671.62,-297.787C4674.44,-297.136 4677.25,-296.535 4680,-296 4835.24,-265.83 4876.81,-277.36 5034,-260 5050.89,-258.135 5068.83,-256.069 5086.23,-254.022\" fill=\"none\" stroke=\"black\"/>\n",
       "<polygon fill=\"black\" points=\"5086.88,-257.47 5096.4,-252.821 5086.06,-250.519 5086.88,-257.47\" stroke=\"black\"/>\n",
       "</g>\n",
       "<!-- 140404910939472&#45;&gt;140404789787984 -->\n",
       "<g class=\"edge\" id=\"edge123\"><title>140404910939472-&gt;140404789787984</title>\n",
       "<path d=\"M4796.65,-297.921C4799.46,-297.235 4802.26,-296.589 4805,-296 4857.01,-284.813 4991.99,-266.572 5086.19,-254.43\" fill=\"none\" stroke=\"black\"/>\n",
       "<polygon fill=\"black\" points=\"5086.85,-257.874 5096.32,-253.127 5085.95,-250.931 5086.85,-257.874\" stroke=\"black\"/>\n",
       "</g>\n",
       "<!-- 140404910277264&#45;&gt;140404789787984 -->\n",
       "<g class=\"edge\" id=\"edge124\"><title>140404910277264-&gt;140404789787984</title>\n",
       "<path d=\"M4921.7,-298.146C4924.5,-297.401 4927.28,-296.681 4930,-296 4981.43,-283.108 5039.2,-270.705 5086.73,-261.044\" fill=\"none\" stroke=\"black\"/>\n",
       "<polygon fill=\"black\" points=\"5087.6,-264.439 5096.71,-259.025 5086.21,-257.578 5087.6,-264.439\" stroke=\"black\"/>\n",
       "</g>\n",
       "<!-- 140404910411600&#45;&gt;140404789787984 -->\n",
       "<g class=\"edge\" id=\"edge125\"><title>140404910411600-&gt;140404789787984</title>\n",
       "<path d=\"M5038.5,-296.937C5065.9,-286.663 5100.97,-273.511 5129.93,-262.652\" fill=\"none\" stroke=\"black\"/>\n",
       "<polygon fill=\"black\" points=\"5131.36,-265.854 5139.49,-259.065 5128.9,-259.299 5131.36,-265.854\" stroke=\"black\"/>\n",
       "</g>\n",
       "<!-- 140404910220496&#45;&gt;140404789787984 -->\n",
       "<g class=\"edge\" id=\"edge126\"><title>140404910220496-&gt;140404789787984</title>\n",
       "<path d=\"M5133.88,-296.937C5142.18,-288.012 5152.51,-276.916 5161.7,-267.037\" fill=\"none\" stroke=\"black\"/>\n",
       "<polygon fill=\"black\" points=\"5164.52,-269.146 5168.77,-259.441 5159.4,-264.377 5164.52,-269.146\" stroke=\"black\"/>\n",
       "</g>\n",
       "<!-- 140404909822736&#45;&gt;140404789787984 -->\n",
       "<g class=\"edge\" id=\"edge127\"><title>140404909822736-&gt;140404789787984</title>\n",
       "<path d=\"M5236.88,-296.937C5228.37,-287.924 5217.77,-276.696 5208.37,-266.744\" fill=\"none\" stroke=\"black\"/>\n",
       "<polygon fill=\"black\" points=\"5210.88,-264.308 5201.47,-259.441 5205.79,-269.114 5210.88,-264.308\" stroke=\"black\"/>\n",
       "</g>\n",
       "<!-- 140404909499216&#45;&gt;140404789787984 -->\n",
       "<g class=\"edge\" id=\"edge128\"><title>140404909499216-&gt;140404789787984</title>\n",
       "<path d=\"M5347.52,-296.937C5316.86,-286.573 5277.54,-273.283 5245.26,-262.37\" fill=\"none\" stroke=\"black\"/>\n",
       "<polygon fill=\"black\" points=\"5246.08,-258.952 5235.48,-259.065 5243.84,-265.583 5246.08,-258.952\" stroke=\"black\"/>\n",
       "</g>\n",
       "<!-- 140404909571280&#45;&gt;140404789787984 -->\n",
       "<g class=\"edge\" id=\"edge129\"><title>140404909571280-&gt;140404789787984</title>\n",
       "<path d=\"M5479.35,-298.088C5476.19,-297.367 5473.06,-296.667 5470,-296 5408.28,-282.553 5338.61,-269.318 5283.61,-259.317\" fill=\"none\" stroke=\"black\"/>\n",
       "<polygon fill=\"black\" points=\"5283.98,-255.827 5273.51,-257.488 5282.73,-262.715 5283.98,-255.827\" stroke=\"black\"/>\n",
       "</g>\n",
       "<!-- 140404906892176&#45;&gt;140404789787984 -->\n",
       "<g class=\"edge\" id=\"edge130\"><title>140404906892176-&gt;140404789787984</title>\n",
       "<path d=\"M5624.39,-297.852C5621.22,-297.193 5618.08,-296.571 5615,-296 5502.21,-275.086 5371.25,-259.93 5283.77,-251.091\" fill=\"none\" stroke=\"black\"/>\n",
       "<polygon fill=\"black\" points=\"5283.88,-247.585 5273.58,-250.071 5283.18,-254.551 5283.88,-247.585\" stroke=\"black\"/>\n",
       "</g>\n",
       "<!-- 140404906949328&#45;&gt;140404789787984 -->\n",
       "<g class=\"edge\" id=\"edge131\"><title>140404906949328-&gt;140404789787984</title>\n",
       "<path d=\"M5769.41,-297.733C5766.24,-297.106 5763.09,-296.523 5760,-296 5594.22,-267.937 5398.91,-253.468 5283.89,-246.826\" fill=\"none\" stroke=\"black\"/>\n",
       "<polygon fill=\"black\" points=\"5283.88,-243.32 5273.69,-246.246 5283.48,-250.308 5283.88,-243.32\" stroke=\"black\"/>\n",
       "</g>\n",
       "<!-- 140404909219664&#45;&gt;140404789787984 -->\n",
       "<g class=\"edge\" id=\"edge132\"><title>140404909219664-&gt;140404789787984</title>\n",
       "<path d=\"M5914.43,-297.662C5911.25,-297.053 5908.09,-296.494 5905,-296 5684.91,-260.865 5423.23,-248.486 5283.9,-244.202\" fill=\"none\" stroke=\"black\"/>\n",
       "<polygon fill=\"black\" points=\"5283.77,-240.697 5273.67,-243.896 5283.56,-247.694 5283.77,-240.697\" stroke=\"black\"/>\n",
       "</g>\n",
       "<!-- 140404909347472&#45;&gt;140404789787984 -->\n",
       "<g class=\"edge\" id=\"edge133\"><title>140404909347472-&gt;140404789787984</title>\n",
       "<path d=\"M6059.43,-297.614C6056.25,-297.018 6053.1,-296.475 6050,-296 5774.76,-253.824 5445.43,-244.406 5284.04,-242.426\" fill=\"none\" stroke=\"black\"/>\n",
       "<polygon fill=\"black\" points=\"5283.7,-238.922 5273.66,-242.306 5283.62,-245.921 5283.7,-238.922\" stroke=\"black\"/>\n",
       "</g>\n",
       "<!-- 140404908955344&#45;&gt;140404789787984 -->\n",
       "<g class=\"edge\" id=\"edge134\"><title>140404908955344-&gt;140404789787984</title>\n",
       "<path d=\"M6204.44,-297.58C6201.26,-296.993 6198.1,-296.461 6195,-296 5863.66,-246.741 5465.28,-240.91 5283.77,-241.137\" fill=\"none\" stroke=\"black\"/>\n",
       "<polygon fill=\"black\" points=\"5283.71,-237.637 5273.71,-241.156 5283.72,-244.637 5283.71,-237.637\" stroke=\"black\"/>\n",
       "</g>\n",
       "<!-- 140404909024720&#45;&gt;140404789787984 -->\n",
       "<g class=\"edge\" id=\"edge135\"><title>140404909024720-&gt;140404789787984</title>\n",
       "<path d=\"M6349.44,-297.554C6346.26,-296.974 6343.1,-296.45 6340,-296 6137.43,-266.577 5524.57,-249.762 5283.72,-244.141\" fill=\"none\" stroke=\"black\"/>\n",
       "<polygon fill=\"black\" points=\"5283.65,-240.638 5273.57,-243.905 5283.49,-247.636 5283.65,-240.638\" stroke=\"black\"/>\n",
       "</g>\n",
       "<!-- 140404908635280&#45;&gt;140404789787984 -->\n",
       "<g class=\"edge\" id=\"edge136\"><title>140404908635280-&gt;140404789787984</title>\n",
       "<path d=\"M6494.45,-297.535C6491.26,-296.96 6488.1,-296.442 6485,-296 6253.43,-262.98 5545.69,-248.044 5283.8,-243.543\" fill=\"none\" stroke=\"black\"/>\n",
       "<polygon fill=\"black\" points=\"5283.6,-240.04 5273.54,-243.369 5283.48,-247.039 5283.6,-240.04\" stroke=\"black\"/>\n",
       "</g>\n",
       "<!-- 140404908839824&#45;&gt;140404789787984 -->\n",
       "<g class=\"edge\" id=\"edge137\"><title>140404908839824-&gt;140404789787984</title>\n",
       "<path d=\"M6639.95,-297.525C6636.6,-296.953 6633.27,-296.439 6630,-296 6369.02,-260.951 5565.42,-247.083 5283.77,-243.218\" fill=\"none\" stroke=\"black\"/>\n",
       "<polygon fill=\"black\" points=\"5283.61,-239.715 5273.57,-243.079 5283.52,-246.715 5283.61,-239.715\" stroke=\"black\"/>\n",
       "</g>\n",
       "<!-- 140404908698832&#45;&gt;140404789787984 -->\n",
       "<g class=\"edge\" id=\"edge138\"><title>140404908698832-&gt;140404789787984</title>\n",
       "<path d=\"M6792,-297.369C6788.97,-296.857 6785.96,-296.396 6783,-296 6491.07,-256.892 5585.02,-245.515 5283.63,-242.767\" fill=\"none\" stroke=\"black\"/>\n",
       "<polygon fill=\"black\" points=\"5283.63,-239.267 5273.6,-242.676 5283.56,-246.266 5283.63,-239.267\" stroke=\"black\"/>\n",
       "</g>\n",
       "<!-- 140404908117392&#45;&gt;140404789787984 -->\n",
       "<g class=\"edge\" id=\"edge139\"><title>140404908117392-&gt;140404789787984</title>\n",
       "<path d=\"M6944,-297.358C6940.97,-296.849 6937.96,-296.392 6935,-296 6612.22,-253.242 5604.1,-244.231 5283.76,-242.429\" fill=\"none\" stroke=\"black\"/>\n",
       "<polygon fill=\"black\" points=\"5283.59,-238.928 5273.57,-242.372 5283.55,-245.928 5283.59,-238.928\" stroke=\"black\"/>\n",
       "</g>\n",
       "<!-- 140404908186640&#45;&gt;140404789787984 -->\n",
       "<g class=\"edge\" id=\"edge140\"><title>140404908186640-&gt;140404789787984</title>\n",
       "<path d=\"M7095.59,-297.28C7092.69,-296.801 7089.82,-296.37 7087,-296 6733.16,-249.57 5621.72,-243.048 5283.58,-242.143\" fill=\"none\" stroke=\"black\"/>\n",
       "<polygon fill=\"black\" points=\"5283.57,-238.643 5273.56,-242.117 5283.55,-245.643 5283.57,-238.643\" stroke=\"black\"/>\n",
       "</g>\n",
       "<!-- 140404907860688&#45;&gt;140404789787984 -->\n",
       "<g class=\"edge\" id=\"edge141\"><title>140404907860688-&gt;140404789787984</title>\n",
       "<path d=\"M7247.59,-297.273C7244.7,-296.796 7241.82,-296.367 7239,-296 6854.03,-245.897 5638.88,-241.956 5283.52,-241.899\" fill=\"none\" stroke=\"black\"/>\n",
       "<polygon fill=\"black\" points=\"5283.51,-238.4 5273.51,-241.899 5283.51,-245.4 5283.51,-238.4\" stroke=\"black\"/>\n",
       "</g>\n",
       "<!-- 140404908522128&#45;&gt;140404789787984 -->\n",
       "<g class=\"edge\" id=\"edge142\"><title>140404908522128-&gt;140404789787984</title>\n",
       "<path d=\"M7399.59,-297.266C7396.7,-296.791 7393.82,-296.365 7391,-296 6974.94,-242.234 5656.19,-240.94 5283.79,-241.689\" fill=\"none\" stroke=\"black\"/>\n",
       "<polygon fill=\"black\" points=\"5283.57,-238.189 5273.58,-241.71 5283.59,-245.189 5283.57,-238.189\" stroke=\"black\"/>\n",
       "</g>\n",
       "<!-- 140404907990928&#45;&gt;140404789787984 -->\n",
       "<g class=\"edge\" id=\"edge143\"><title>140404907990928-&gt;140404789787984</title>\n",
       "<path d=\"M7551.59,-297.26C7548.7,-296.787 7545.82,-296.363 7543,-296 7095.64,-238.547 5672.07,-239.986 5283.7,-241.506\" fill=\"none\" stroke=\"black\"/>\n",
       "<polygon fill=\"black\" points=\"5283.6,-238.006 5273.61,-241.546 5283.63,-245.006 5283.6,-238.006\" stroke=\"black\"/>\n",
       "</g>\n",
       "<!-- 140404907676880&#45;&gt;140404789787984 -->\n",
       "<g class=\"edge\" id=\"edge144\"><title>140404907676880-&gt;140404789787984</title>\n",
       "<path d=\"M7703.59,-297.255C7700.7,-296.783 7697.82,-296.361 7695,-296 7453.3,-265.13 5718.74,-246.988 5283.74,-242.892\" fill=\"none\" stroke=\"black\"/>\n",
       "<polygon fill=\"black\" points=\"5283.74,-239.392 5273.71,-242.798 5283.68,-246.391 5283.74,-239.392\" stroke=\"black\"/>\n",
       "</g>\n",
       "<!-- 140404907735504&#45;&gt;140404789787984 -->\n",
       "<g class=\"edge\" id=\"edge145\"><title>140404907735504-&gt;140404789787984</title>\n",
       "<path d=\"M7855.59,-297.251C7852.7,-296.78 7849.82,-296.359 7847,-296 7589.52,-263.275 5734.82,-246.407 5283.7,-242.761\" fill=\"none\" stroke=\"black\"/>\n",
       "<polygon fill=\"black\" points=\"5283.66,-239.261 5273.63,-242.68 5283.6,-246.26 5283.66,-239.261\" stroke=\"black\"/>\n",
       "</g>\n",
       "<!-- 140404907482576&#45;&gt;140404789787984 -->\n",
       "<g class=\"edge\" id=\"edge146\"><title>140404907482576-&gt;140404789787984</title>\n",
       "<path d=\"M8007.59,-297.247C8004.7,-296.777 8001.82,-296.357 7999,-296 7725.76,-261.424 5751.14,-245.866 5283.91,-242.646\" fill=\"none\" stroke=\"black\"/>\n",
       "<polygon fill=\"black\" points=\"5283.84,-239.145 5273.82,-242.577 5283.8,-246.145 5283.84,-239.145\" stroke=\"black\"/>\n",
       "</g>\n",
       "<!-- 140404907231248&#45;&gt;140404789787984 -->\n",
       "<g class=\"edge\" id=\"edge147\"><title>140404907231248-&gt;140404789787984</title>\n",
       "<path d=\"M8159.59,-297.244C8156.7,-296.775 8153.83,-296.356 8151,-296 7861.89,-259.56 5765.77,-245.345 5283.68,-242.54\" fill=\"none\" stroke=\"black\"/>\n",
       "<polygon fill=\"black\" points=\"5283.63,-239.039 5273.61,-242.481 5283.59,-246.039 5283.63,-239.039\" stroke=\"black\"/>\n",
       "</g>\n",
       "<!-- 140404907044240&#45;&gt;140404789787984 -->\n",
       "<g class=\"edge\" id=\"edge148\"><title>140404907044240-&gt;140404789787984</title>\n",
       "<path d=\"M8311.59,-297.241C8308.7,-296.773 8305.83,-296.355 8303,-296 7998.07,-257.703 5781.13,-244.86 5283.83,-242.446\" fill=\"none\" stroke=\"black\"/>\n",
       "<polygon fill=\"black\" points=\"5283.82,-238.946 5273.8,-242.398 5283.79,-245.946 5283.82,-238.946\" stroke=\"black\"/>\n",
       "</g>\n",
       "<!-- 140404906653008&#45;&gt;140404789787984 -->\n",
       "<g class=\"edge\" id=\"edge149\"><title>140404906653008-&gt;140404789787984</title>\n",
       "<path d=\"M8463.59,-297.238C8460.7,-296.77 8457.83,-296.354 8455,-296 8134.23,-255.845 5796.19,-244.398 5283.99,-242.361\" fill=\"none\" stroke=\"black\"/>\n",
       "<polygon fill=\"black\" points=\"5283.69,-238.86 5273.67,-242.32 5283.66,-245.86 5283.69,-238.86\" stroke=\"black\"/>\n",
       "</g>\n",
       "<!-- 140404906266576&#45;&gt;140404789787984 -->\n",
       "<g class=\"edge\" id=\"edge150\"><title>140404906266576-&gt;140404789787984</title>\n",
       "<path d=\"M8615.59,-297.235C8612.7,-296.769 8609.83,-296.353 8607,-296 8270.31,-253.977 5810.03,-243.954 5283.86,-242.282\" fill=\"none\" stroke=\"black\"/>\n",
       "<polygon fill=\"black\" points=\"5283.65,-238.781 5273.64,-242.25 5283.63,-245.781 5283.65,-238.781\" stroke=\"black\"/>\n",
       "</g>\n",
       "<!-- 140404906334544&#45;&gt;140404789787984 -->\n",
       "<g class=\"edge\" id=\"edge151\"><title>140404906334544-&gt;140404789787984</title>\n",
       "<path d=\"M8767.59,-297.233C8764.7,-296.767 8761.83,-296.352 8759,-296 8406.39,-252.111 5823.94,-243.531 5283.86,-242.21\" fill=\"none\" stroke=\"black\"/>\n",
       "<polygon fill=\"black\" points=\"5283.77,-238.71 5273.76,-242.186 5283.75,-245.71 5283.77,-238.71\" stroke=\"black\"/>\n",
       "</g>\n",
       "<!-- 140404906592784&#45;&gt;140404789787984 -->\n",
       "<g class=\"edge\" id=\"edge152\"><title>140404906592784-&gt;140404789787984</title>\n",
       "<path d=\"M8919.59,-297.23C8916.7,-296.765 8913.83,-296.351 8911,-296 8542.49,-250.247 5837.96,-243.127 5283.98,-242.145\" fill=\"none\" stroke=\"black\"/>\n",
       "<polygon fill=\"black\" points=\"5283.63,-238.644 5273.62,-242.127 5283.62,-245.644 5283.63,-238.644\" stroke=\"black\"/>\n",
       "</g>\n",
       "<!-- 140406244829648&#45;&gt;140404789787984 -->\n",
       "<g class=\"edge\" id=\"edge153\"><title>140406244829648-&gt;140404789787984</title>\n",
       "<path d=\"M9071.59,-297.228C9068.7,-296.764 9065.83,-296.35 9063,-296 8678.52,-248.376 5851.01,-242.737 5283.88,-242.084\" fill=\"none\" stroke=\"black\"/>\n",
       "<polygon fill=\"black\" points=\"5283.7,-238.584 5273.69,-242.072 5283.69,-245.584 5283.7,-238.584\" stroke=\"black\"/>\n",
       "</g>\n",
       "<!-- 140404905876496&#45;&gt;140404789787984 -->\n",
       "<g class=\"edge\" id=\"edge154\"><title>140404905876496-&gt;140404789787984</title>\n",
       "<path d=\"M9223.59,-297.227C9220.7,-296.762 9217.83,-296.349 9215,-296 8814.58,-246.508 5864.41,-242.363 5283.97,-242.028\" fill=\"none\" stroke=\"black\"/>\n",
       "<polygon fill=\"black\" points=\"5283.55,-238.528 5273.55,-242.022 5283.55,-245.528 5283.55,-238.528\" stroke=\"black\"/>\n",
       "</g>\n",
       "<!-- 140405316291600&#45;&gt;140404789787984 -->\n",
       "<g class=\"edge\" id=\"edge155\"><title>140405316291600-&gt;140404789787984</title>\n",
       "<path d=\"M9375.59,-297.225C9372.7,-296.761 9369.83,-296.349 9367,-296 8950.58,-244.633 5876.97,-242.002 5283.89,-241.976\" fill=\"none\" stroke=\"black\"/>\n",
       "<polygon fill=\"black\" points=\"5283.66,-238.476 5273.66,-241.975 5283.66,-245.476 5283.66,-238.476\" stroke=\"black\"/>\n",
       "</g>\n",
       "<!-- 140404905621136&#45;&gt;140404789787984 -->\n",
       "<g class=\"edge\" id=\"edge156\"><title>140404905621136-&gt;140404789787984</title>\n",
       "<path d=\"M9527.59,-297.223C9524.7,-296.76 9521.83,-296.348 9519,-296 9086.63,-242.764 5890.12,-241.654 5284.04,-241.927\" fill=\"none\" stroke=\"black\"/>\n",
       "<polygon fill=\"black\" points=\"5283.59,-238.427 5273.6,-241.932 5283.6,-245.427 5283.59,-238.427\" stroke=\"black\"/>\n",
       "</g>\n",
       "<!-- 140404905694992&#45;&gt;140404789787984 -->\n",
       "<g class=\"edge\" id=\"edge157\"><title>140404905694992-&gt;140404789787984</title>\n",
       "<path d=\"M9679.6,-297.222C9676.7,-296.759 9673.83,-296.347 9671,-296 9222.62,-240.89 5902.56,-241.317 5284.05,-241.882\" fill=\"none\" stroke=\"black\"/>\n",
       "<polygon fill=\"black\" points=\"5283.83,-238.382 5273.83,-241.891 5283.83,-245.382 5283.83,-238.382\" stroke=\"black\"/>\n",
       "</g>\n",
       "<!-- 140404905299920&#45;&gt;140404789787984 -->\n",
       "<g class=\"edge\" id=\"edge158\"><title>140404905299920-&gt;140404789787984</title>\n",
       "<path d=\"M9831.6,-297.22C9828.7,-296.758 9825.83,-296.347 9823,-296 9358.67,-239.023 5915.83,-240.991 5284.34,-241.839\" fill=\"none\" stroke=\"black\"/>\n",
       "<polygon fill=\"black\" points=\"5283.91,-238.34 5273.92,-241.853 5283.92,-245.34 5283.91,-238.34\" stroke=\"black\"/>\n",
       "</g>\n",
       "<!-- 140404905430608&#45;&gt;140404789787984 -->\n",
       "<g class=\"edge\" id=\"edge159\"><title>140404905430608-&gt;140404789787984</title>\n",
       "<path d=\"M9983.6,-297.219C9980.7,-296.757 9977.83,-296.346 9975,-296 9494.56,-237.135 5926.61,-240.675 5284.01,-241.8\" fill=\"none\" stroke=\"black\"/>\n",
       "<polygon fill=\"black\" points=\"5283.85,-238.3 5273.85,-241.818 5283.86,-245.3 5283.85,-238.3\" stroke=\"black\"/>\n",
       "</g>\n",
       "<!-- 140404905043920&#45;&gt;140404789787984 -->\n",
       "<g class=\"edge\" id=\"edge160\"><title>140404905043920-&gt;140404789787984</title>\n",
       "<path d=\"M10135.6,-297.218C10132.7,-296.756 10129.8,-296.346 10127,-296 9630.51,-235.256 5938.33,-240.369 5283.99,-241.763\" fill=\"none\" stroke=\"black\"/>\n",
       "<polygon fill=\"black\" points=\"5283.64,-238.263 5273.65,-241.785 5283.66,-245.263 5283.64,-238.263\" stroke=\"black\"/>\n",
       "</g>\n",
       "<!-- 140404905110352&#45;&gt;140404789787984 -->\n",
       "<g class=\"edge\" id=\"edge161\"><title>140404905110352-&gt;140404789787984</title>\n",
       "<path d=\"M10287.6,-297.217C10284.7,-296.755 10281.8,-296.345 10279,-296 10022,-264.595 5970.89,-245.453 5283.69,-242.424\" fill=\"none\" stroke=\"black\"/>\n",
       "<polygon fill=\"black\" points=\"5283.59,-238.923 5273.58,-242.379 5283.56,-245.923 5283.59,-238.923\" stroke=\"black\"/>\n",
       "</g>\n",
       "<!-- 140404904526480&#45;&gt;140404789787984 -->\n",
       "<g class=\"edge\" id=\"edge162\"><title>140404904526480-&gt;140404789787984</title>\n",
       "<path d=\"M10439.6,-297.215C10436.7,-296.754 10433.8,-296.345 10431,-296 10165.9,-263.652 5982.23,-245.247 5283.58,-242.392\" fill=\"none\" stroke=\"black\"/>\n",
       "<polygon fill=\"black\" points=\"5283.56,-238.892 5273.54,-242.351 5283.53,-245.892 5283.56,-238.892\" stroke=\"black\"/>\n",
       "</g>\n",
       "<!-- 140404904661520&#45;&gt;140404789787984 -->\n",
       "<g class=\"edge\" id=\"edge163\"><title>140404904661520-&gt;140404789787984</title>\n",
       "<path d=\"M10591.6,-297.214C10588.7,-296.754 10585.8,-296.344 10583,-296 10309.9,-262.715 5995.05,-245.054 5283.87,-242.363\" fill=\"none\" stroke=\"black\"/>\n",
       "<polygon fill=\"black\" points=\"5283.68,-238.863 5273.67,-242.325 5283.65,-245.863 5283.68,-238.863\" stroke=\"black\"/>\n",
       "</g>\n",
       "<!-- 140404904281296&#45;&gt;140404789787984 -->\n",
       "<g class=\"edge\" id=\"edge164\"><title>140404904281296-&gt;140404789787984</title>\n",
       "<path d=\"M10743.6,-297.213C10740.7,-296.753 10737.8,-296.344 10735,-296 10453.8,-261.771 6006.19,-244.862 5283.79,-242.335\" fill=\"none\" stroke=\"black\"/>\n",
       "<polygon fill=\"black\" points=\"5283.7,-238.835 5273.68,-242.3 5283.67,-245.835 5283.7,-238.835\" stroke=\"black\"/>\n",
       "</g>\n",
       "<!-- 140404903959184&#45;&gt;140404789787984 -->\n",
       "<g class=\"edge\" id=\"edge165\"><title>140404903959184-&gt;140404789787984</title>\n",
       "<path d=\"M10895.6,-297.212C10892.7,-296.752 10889.8,-296.344 10887,-296 10597.8,-260.829 6017.79,-244.677 5283.87,-242.309\" fill=\"none\" stroke=\"black\"/>\n",
       "<polygon fill=\"black\" points=\"5283.61,-238.808 5273.6,-242.275 5283.59,-245.808 5283.61,-238.808\" stroke=\"black\"/>\n",
       "</g>\n",
       "<!-- 140404904088016&#45;&gt;140404789787984 -->\n",
       "<g class=\"edge\" id=\"edge166\"><title>140404904088016-&gt;140404789787984</title>\n",
       "<path d=\"M11047.6,-297.212C11044.7,-296.752 11041.8,-296.343 11039,-296 10741.7,-259.886 6028.89,-244.496 5283.85,-242.283\" fill=\"none\" stroke=\"black\"/>\n",
       "<polygon fill=\"black\" points=\"5283.7,-238.783 5273.69,-242.253 5283.68,-245.783 5283.7,-238.783\" stroke=\"black\"/>\n",
       "</g>\n",
       "<!-- 140404903714448&#45;&gt;140404789787984 -->\n",
       "<g class=\"edge\" id=\"edge167\"><title>140404903714448-&gt;140404789787984</title>\n",
       "<path d=\"M11199.6,-297.211C11196.7,-296.751 11193.8,-296.343 11191,-296 10885.6,-258.94 6039.4,-244.318 5283.73,-242.259\" fill=\"none\" stroke=\"black\"/>\n",
       "<polygon fill=\"black\" points=\"5283.71,-238.759 5273.7,-242.232 5283.69,-245.759 5283.71,-238.759\" stroke=\"black\"/>\n",
       "</g>\n",
       "<!-- 140404904027152&#45;&gt;140404789787984 -->\n",
       "<g class=\"edge\" id=\"edge168\"><title>140404904027152-&gt;140404789787984</title>\n",
       "<path d=\"M11351.6,-297.21C11348.7,-296.75 11345.8,-296.343 11343,-296 11029.6,-257.997 6050.54,-244.148 5283.79,-242.236\" fill=\"none\" stroke=\"black\"/>\n",
       "<polygon fill=\"black\" points=\"5283.63,-238.736 5273.62,-242.211 5283.61,-245.736 5283.63,-238.736\" stroke=\"black\"/>\n",
       "</g>\n",
       "<!-- 140404789882640 -->\n",
       "<g class=\"node\" id=\"node89\"><title>140404789882640</title>\n",
       "<polygon fill=\"none\" points=\"5023,-149 5023,-185 5145,-185 5145,-149 5023,-149\" stroke=\"black\"/>\n",
       "<text font-family=\"Times,serif\" font-size=\"14.00\" text-anchor=\"middle\" x=\"5084\" y=\"-163.3\">concat_zs: Lambda</text>\n",
       "</g>\n",
       "<!-- 140404789787984&#45;&gt;140404789882640 -->\n",
       "<g class=\"edge\" id=\"edge169\"><title>140404789787984-&gt;140404789882640</title>\n",
       "<path d=\"M5161.06,-222.937C5147.7,-213.412 5130.87,-201.415 5116.35,-191.063\" fill=\"none\" stroke=\"black\"/>\n",
       "<polygon fill=\"black\" points=\"5118.29,-188.145 5108.11,-185.19 5114.22,-193.845 5118.29,-188.145\" stroke=\"black\"/>\n",
       "</g>\n",
       "<!-- 140404909470864 -->\n",
       "<g class=\"node\" id=\"node91\"><title>140404909470864</title>\n",
       "<polygon fill=\"none\" points=\"5163.5,-149 5163.5,-185 5312.5,-185 5312.5,-149 5163.5,-149\" stroke=\"black\"/>\n",
       "<text font-family=\"Times,serif\" font-size=\"14.00\" text-anchor=\"middle\" x=\"5238\" y=\"-163.3\">concat_zs_neg: Lambda</text>\n",
       "</g>\n",
       "<!-- 140404789787984&#45;&gt;140404909470864 -->\n",
       "<g class=\"edge\" id=\"edge212\"><title>140404789787984-&gt;140404909470864</title>\n",
       "<path d=\"M5197.56,-222.937C5204,-214.189 5211.98,-203.354 5219.14,-193.626\" fill=\"none\" stroke=\"black\"/>\n",
       "<polygon fill=\"black\" points=\"5222.05,-195.569 5225.16,-185.441 5216.41,-191.419 5222.05,-195.569\" stroke=\"black\"/>\n",
       "</g>\n",
       "<!-- 140404910095568 -->\n",
       "<g class=\"node\" id=\"node88\"><title>140404910095568</title>\n",
       "<polygon fill=\"none\" points=\"4891,-223 4891,-259 5025,-259 5025,-223 4891,-223\" stroke=\"black\"/>\n",
       "<text font-family=\"Times,serif\" font-size=\"14.00\" text-anchor=\"middle\" x=\"4958\" y=\"-237.3\">input_idf: InputLayer</text>\n",
       "</g>\n",
       "<!-- 140404788730960 -->\n",
       "<g class=\"node\" id=\"node90\"><title>140404788730960</title>\n",
       "<polygon fill=\"none\" points=\"4911,-149 4911,-185 5005,-185 5005,-149 4911,-149\" stroke=\"black\"/>\n",
       "<text font-family=\"Times,serif\" font-size=\"14.00\" text-anchor=\"middle\" x=\"4958\" y=\"-163.3\">gating: Model</text>\n",
       "</g>\n",
       "<!-- 140404910095568&#45;&gt;140404788730960 -->\n",
       "<g class=\"edge\" id=\"edge211\"><title>140404910095568-&gt;140404788730960</title>\n",
       "<path d=\"M4958,-222.937C4958,-214.807 4958,-204.876 4958,-195.705\" fill=\"none\" stroke=\"black\"/>\n",
       "<polygon fill=\"black\" points=\"4961.5,-195.441 4958,-185.441 4954.5,-195.441 4961.5,-195.441\" stroke=\"black\"/>\n",
       "</g>\n",
       "<!-- 140404910156176 -->\n",
       "<g class=\"node\" id=\"node92\"><title>140404910156176</title>\n",
       "<polygon fill=\"none\" points=\"4924,-75 4924,-111 5082,-111 5082,-75 4924,-75\" stroke=\"black\"/>\n",
       "<text font-family=\"Times,serif\" font-size=\"14.00\" text-anchor=\"middle\" x=\"5003\" y=\"-89.3\">innerprod_zs_gs: Lambda</text>\n",
       "</g>\n",
       "<!-- 140404789882640&#45;&gt;140404910156176 -->\n",
       "<g class=\"edge\" id=\"edge254\"><title>140404789882640-&gt;140404910156176</title>\n",
       "<path d=\"M5064.8,-148.937C5054.39,-139.679 5041.35,-128.086 5029.93,-117.938\" fill=\"none\" stroke=\"black\"/>\n",
       "<polygon fill=\"black\" points=\"5032.14,-115.218 5022.34,-111.19 5027.49,-120.45 5032.14,-115.218\" stroke=\"black\"/>\n",
       "</g>\n",
       "<!-- 140404788730960&#45;&gt;140404910156176 -->\n",
       "<g class=\"edge\" id=\"edge255\"><title>140404788730960-&gt;140404910156176</title>\n",
       "<path d=\"M4968.66,-148.937C4974.08,-140.277 4980.77,-129.573 4986.8,-119.921\" fill=\"none\" stroke=\"black\"/>\n",
       "<polygon fill=\"black\" points=\"4989.77,-121.776 4992.1,-111.441 4983.83,-118.066 4989.77,-121.776\" stroke=\"black\"/>\n",
       "</g>\n",
       "<!-- 140404903389712 -->\n",
       "<g class=\"node\" id=\"node93\"><title>140404903389712</title>\n",
       "<polygon fill=\"none\" points=\"5100.5,-75 5100.5,-111 5285.5,-111 5285.5,-75 5100.5,-75\" stroke=\"black\"/>\n",
       "<text font-family=\"Times,serif\" font-size=\"14.00\" text-anchor=\"middle\" x=\"5193\" y=\"-89.3\">innerprod_zs_gs_neg: Lambda</text>\n",
       "</g>\n",
       "<!-- 140404788730960&#45;&gt;140404903389712 -->\n",
       "<g class=\"edge\" id=\"edge257\"><title>140404788730960-&gt;140404903389712</title>\n",
       "<path d=\"M5005.03,-150.814C5008.07,-149.856 5011.08,-148.911 5014,-148 5050.95,-136.489 5092.31,-123.987 5125.96,-113.914\" fill=\"none\" stroke=\"black\"/>\n",
       "<polygon fill=\"black\" points=\"5127.11,-117.223 5135.68,-111.005 5125.1,-110.517 5127.11,-117.223\" stroke=\"black\"/>\n",
       "</g>\n",
       "<!-- 140404909470864&#45;&gt;140404903389712 -->\n",
       "<g class=\"edge\" id=\"edge256\"><title>140404909470864-&gt;140404903389712</title>\n",
       "<path d=\"M5227.34,-148.937C5221.92,-140.277 5215.23,-129.573 5209.2,-119.921\" fill=\"none\" stroke=\"black\"/>\n",
       "<polygon fill=\"black\" points=\"5212.17,-118.066 5203.9,-111.441 5206.23,-121.776 5212.17,-118.066\" stroke=\"black\"/>\n",
       "</g>\n",
       "<!-- 140404904353424 -->\n",
       "<g class=\"node\" id=\"node94\"><title>140404904353424</title>\n",
       "<polygon fill=\"none\" points=\"5013.5,-1 5013.5,-37 5182.5,-37 5182.5,-1 5013.5,-1\" stroke=\"black\"/>\n",
       "<text font-family=\"Times,serif\" font-size=\"14.00\" text-anchor=\"middle\" x=\"5098\" y=\"-15.3\">posneg_score_diff: Lambda</text>\n",
       "</g>\n",
       "<!-- 140404910156176&#45;&gt;140404904353424 -->\n",
       "<g class=\"edge\" id=\"edge258\"><title>140404910156176-&gt;140404904353424</title>\n",
       "<path d=\"M5025.51,-74.937C5037.96,-65.5012 5053.62,-53.6389 5067.19,-43.3541\" fill=\"none\" stroke=\"black\"/>\n",
       "<polygon fill=\"black\" points=\"5069.46,-46.0197 5075.32,-37.19 5065.23,-40.4409 5069.46,-46.0197\" stroke=\"black\"/>\n",
       "</g>\n",
       "<!-- 140404903389712&#45;&gt;140404904353424 -->\n",
       "<g class=\"edge\" id=\"edge259\"><title>140404903389712-&gt;140404904353424</title>\n",
       "<path d=\"M5170.49,-74.937C5158.04,-65.5012 5142.38,-53.6389 5128.81,-43.3541\" fill=\"none\" stroke=\"black\"/>\n",
       "<polygon fill=\"black\" points=\"5130.77,-40.4409 5120.68,-37.19 5126.54,-46.0197 5130.77,-40.4409\" stroke=\"black\"/>\n",
       "</g>\n",
       "</g>\n",
       "</svg>"
      ],
      "text/plain": [
       "<IPython.core.display.SVG object>"
      ]
     },
     "execution_count": 61,
     "metadata": {},
     "output_type": "execute_result"
    }
   ],
   "source": [
    "viz_model(ranking_model)"
   ]
  },
  {
   "cell_type": "code",
   "execution_count": 62,
   "metadata": {
    "collapsed": false
   },
   "outputs": [
    {
     "data": {
      "image/svg+xml": [
       "<svg height=\"342pt\" viewBox=\"0.00 0.00 5179.00 342.00\" width=\"5179pt\" xmlns=\"http://www.w3.org/2000/svg\" xmlns:xlink=\"http://www.w3.org/1999/xlink\">\n",
       "<g class=\"graph\" id=\"graph0\" transform=\"scale(1 1) rotate(0) translate(4 338)\">\n",
       "<title>G</title>\n",
       "<polygon fill=\"white\" points=\"-4,5 -4,-338 5176,-338 5176,5 -4,5\" stroke=\"white\"/>\n",
       "<!-- 140404788727952 -->\n",
       "<g class=\"node\" id=\"node1\"><title>140404788727952</title>\n",
       "<polygon fill=\"none\" points=\"2483.5,-297 2483.5,-333 2626.5,-333 2626.5,-297 2483.5,-297\" stroke=\"black\"/>\n",
       "<text font-family=\"Times,serif\" font-size=\"14.00\" text-anchor=\"middle\" x=\"2555\" y=\"-311.3\">input_hists: InputLayer</text>\n",
       "</g>\n",
       "<!-- 140404789758672 -->\n",
       "<g class=\"node\" id=\"node2\"><title>140404789758672</title>\n",
       "<polygon fill=\"none\" points=\"-0.5,-223 -0.5,-259 100.5,-259 100.5,-223 -0.5,-223\" stroke=\"black\"/>\n",
       "<text font-family=\"Times,serif\" font-size=\"14.00\" text-anchor=\"middle\" x=\"50\" y=\"-237.3\">slice0: Lambda</text>\n",
       "</g>\n",
       "<!-- 140404788727952&#45;&gt;140404789758672 -->\n",
       "<g class=\"edge\" id=\"edge1\"><title>140404788727952-&gt;140404789758672</title>\n",
       "<path d=\"M2483.44,-313.588C2110.14,-311.282 392.705,-298.723 110.797,-259.922\" fill=\"none\" stroke=\"black\"/>\n",
       "<polygon fill=\"black\" points=\"111.046,-256.421 100.64,-258.413 110.017,-263.345 111.046,-256.421\" stroke=\"black\"/>\n",
       "</g>\n",
       "<!-- 140404789964752 -->\n",
       "<g class=\"node\" id=\"node3\"><title>140404789964752</title>\n",
       "<polygon fill=\"none\" points=\"118.5,-223 118.5,-259 219.5,-259 219.5,-223 118.5,-223\" stroke=\"black\"/>\n",
       "<text font-family=\"Times,serif\" font-size=\"14.00\" text-anchor=\"middle\" x=\"169\" y=\"-237.3\">slice1: Lambda</text>\n",
       "</g>\n",
       "<!-- 140404788727952&#45;&gt;140404789964752 -->\n",
       "<g class=\"edge\" id=\"edge2\"><title>140404788727952-&gt;140404789964752</title>\n",
       "<path d=\"M2483.34,-313.5C2121.08,-310.817 498.49,-296.913 229.683,-259.904\" fill=\"none\" stroke=\"black\"/>\n",
       "<polygon fill=\"black\" points=\"230.048,-256.42 219.641,-258.409 229.016,-263.344 230.048,-256.42\" stroke=\"black\"/>\n",
       "</g>\n",
       "<!-- 140404915690064 -->\n",
       "<g class=\"node\" id=\"node4\"><title>140404915690064</title>\n",
       "<polygon fill=\"none\" points=\"237.5,-223 237.5,-259 338.5,-259 338.5,-223 237.5,-223\" stroke=\"black\"/>\n",
       "<text font-family=\"Times,serif\" font-size=\"14.00\" text-anchor=\"middle\" x=\"288\" y=\"-237.3\">slice2: Lambda</text>\n",
       "</g>\n",
       "<!-- 140404788727952&#45;&gt;140404915690064 -->\n",
       "<g class=\"edge\" id=\"edge3\"><title>140404788727952-&gt;140404915690064</title>\n",
       "<path d=\"M2483.22,-313.402C2132.47,-310.328 605.626,-295.121 348.91,-259.933\" fill=\"none\" stroke=\"black\"/>\n",
       "<polygon fill=\"black\" points=\"349.048,-256.415 338.642,-258.405 348.017,-263.339 349.048,-256.415\" stroke=\"black\"/>\n",
       "</g>\n",
       "<!-- 140404915691280 -->\n",
       "<g class=\"node\" id=\"node5\"><title>140404915691280</title>\n",
       "<polygon fill=\"none\" points=\"356.5,-223 356.5,-259 457.5,-259 457.5,-223 356.5,-223\" stroke=\"black\"/>\n",
       "<text font-family=\"Times,serif\" font-size=\"14.00\" text-anchor=\"middle\" x=\"407\" y=\"-237.3\">slice3: Lambda</text>\n",
       "</g>\n",
       "<!-- 140404788727952&#45;&gt;140404915691280 -->\n",
       "<g class=\"edge\" id=\"edge4\"><title>140404788727952-&gt;140404915691280</title>\n",
       "<path d=\"M2483.43,-313.297C2144.9,-309.819 711.09,-293.33 467.701,-259.902\" fill=\"none\" stroke=\"black\"/>\n",
       "<polygon fill=\"black\" points=\"468.05,-256.415 457.642,-258.4 467.016,-263.339 468.05,-256.415\" stroke=\"black\"/>\n",
       "</g>\n",
       "<!-- 140404788231952 -->\n",
       "<g class=\"node\" id=\"node6\"><title>140404788231952</title>\n",
       "<polygon fill=\"none\" points=\"475.5,-223 475.5,-259 576.5,-259 576.5,-223 475.5,-223\" stroke=\"black\"/>\n",
       "<text font-family=\"Times,serif\" font-size=\"14.00\" text-anchor=\"middle\" x=\"526\" y=\"-237.3\">slice4: Lambda</text>\n",
       "</g>\n",
       "<!-- 140404788727952&#45;&gt;140404788231952 -->\n",
       "<g class=\"edge\" id=\"edge5\"><title>140404788727952-&gt;140404788231952</title>\n",
       "<path d=\"M2483.41,-313.176C2157.19,-309.272 817.67,-291.553 586.791,-259.912\" fill=\"none\" stroke=\"black\"/>\n",
       "<polygon fill=\"black\" points=\"587.051,-256.412 576.643,-258.395 586.016,-263.335 587.051,-256.412\" stroke=\"black\"/>\n",
       "</g>\n",
       "<!-- 140404788301392 -->\n",
       "<g class=\"node\" id=\"node7\"><title>140404788301392</title>\n",
       "<polygon fill=\"none\" points=\"594.5,-223 594.5,-259 695.5,-259 695.5,-223 594.5,-223\" stroke=\"black\"/>\n",
       "<text font-family=\"Times,serif\" font-size=\"14.00\" text-anchor=\"middle\" x=\"645\" y=\"-237.3\">slice5: Lambda</text>\n",
       "</g>\n",
       "<!-- 140404788727952&#45;&gt;140404788301392 -->\n",
       "<g class=\"edge\" id=\"edge6\"><title>140404788727952-&gt;140404788301392</title>\n",
       "<path d=\"M2483.36,-314.458C2189.64,-315.948 1076.12,-317.687 705.591,-259.982\" fill=\"none\" stroke=\"black\"/>\n",
       "<polygon fill=\"black\" points=\"706.072,-256.514 695.644,-258.389 704.965,-263.426 706.072,-256.514\" stroke=\"black\"/>\n",
       "</g>\n",
       "<!-- 140404788426512 -->\n",
       "<g class=\"node\" id=\"node8\"><title>140404788426512</title>\n",
       "<polygon fill=\"none\" points=\"713.5,-223 713.5,-259 814.5,-259 814.5,-223 713.5,-223\" stroke=\"black\"/>\n",
       "<text font-family=\"Times,serif\" font-size=\"14.00\" text-anchor=\"middle\" x=\"764\" y=\"-237.3\">slice6: Lambda</text>\n",
       "</g>\n",
       "<!-- 140404788727952&#45;&gt;140404788426512 -->\n",
       "<g class=\"edge\" id=\"edge7\"><title>140404788727952-&gt;140404788426512</title>\n",
       "<path d=\"M2483.2,-314.29C2201.48,-315.04 1170.65,-314.054 824.68,-259.997\" fill=\"none\" stroke=\"black\"/>\n",
       "<polygon fill=\"black\" points=\"825.074,-256.516 814.645,-258.382 823.962,-263.427 825.074,-256.516\" stroke=\"black\"/>\n",
       "</g>\n",
       "<!-- 140404912345040 -->\n",
       "<g class=\"node\" id=\"node9\"><title>140404912345040</title>\n",
       "<polygon fill=\"none\" points=\"832.5,-223 832.5,-259 933.5,-259 933.5,-223 832.5,-223\" stroke=\"black\"/>\n",
       "<text font-family=\"Times,serif\" font-size=\"14.00\" text-anchor=\"middle\" x=\"883\" y=\"-237.3\">slice7: Lambda</text>\n",
       "</g>\n",
       "<!-- 140404788727952&#45;&gt;140404912345040 -->\n",
       "<g class=\"edge\" id=\"edge8\"><title>140404788727952-&gt;140404912345040</title>\n",
       "<path d=\"M2483.09,-314.096C2213.95,-314.072 1265.5,-310.439 943.9,-260.033\" fill=\"none\" stroke=\"black\"/>\n",
       "<polygon fill=\"black\" points=\"944.077,-256.517 933.647,-258.375 942.959,-263.427 944.077,-256.517\" stroke=\"black\"/>\n",
       "</g>\n",
       "<!-- 140404912455248 -->\n",
       "<g class=\"node\" id=\"node10\"><title>140404912455248</title>\n",
       "<polygon fill=\"none\" points=\"951.5,-223 951.5,-259 1052.5,-259 1052.5,-223 951.5,-223\" stroke=\"black\"/>\n",
       "<text font-family=\"Times,serif\" font-size=\"14.00\" text-anchor=\"middle\" x=\"1002\" y=\"-237.3\">slice8: Lambda</text>\n",
       "</g>\n",
       "<!-- 140404788727952&#45;&gt;140404912455248 -->\n",
       "<g class=\"edge\" id=\"edge9\"><title>140404788727952-&gt;140404912455248</title>\n",
       "<path d=\"M2483.13,-313.872C2227.08,-313.034 1359.32,-306.842 1062.54,-259.978\" fill=\"none\" stroke=\"black\"/>\n",
       "<polygon fill=\"black\" points=\"1063.08,-256.521 1052.65,-258.366 1061.95,-263.43 1063.08,-256.521\" stroke=\"black\"/>\n",
       "</g>\n",
       "<!-- 140404914792400 -->\n",
       "<g class=\"node\" id=\"node11\"><title>140404914792400</title>\n",
       "<polygon fill=\"none\" points=\"1070.5,-223 1070.5,-259 1171.5,-259 1171.5,-223 1070.5,-223\" stroke=\"black\"/>\n",
       "<text font-family=\"Times,serif\" font-size=\"14.00\" text-anchor=\"middle\" x=\"1121\" y=\"-237.3\">slice9: Lambda</text>\n",
       "</g>\n",
       "<!-- 140404788727952&#45;&gt;140404914792400 -->\n",
       "<g class=\"edge\" id=\"edge10\"><title>140404788727952-&gt;140404914792400</title>\n",
       "<path d=\"M2483.41,-313.611C2241.49,-311.922 1454.72,-303.285 1181.92,-260.041\" fill=\"none\" stroke=\"black\"/>\n",
       "<polygon fill=\"black\" points=\"1182.08,-256.522 1171.65,-258.355 1180.95,-263.429 1182.08,-256.522\" stroke=\"black\"/>\n",
       "</g>\n",
       "<!-- 140404914879312 -->\n",
       "<g class=\"node\" id=\"node12\"><title>140404914879312</title>\n",
       "<polygon fill=\"none\" points=\"1189.5,-223 1189.5,-259 1296.5,-259 1296.5,-223 1189.5,-223\" stroke=\"black\"/>\n",
       "<text font-family=\"Times,serif\" font-size=\"14.00\" text-anchor=\"middle\" x=\"1243\" y=\"-237.3\">slice10: Lambda</text>\n",
       "</g>\n",
       "<!-- 140404788727952&#45;&gt;140404914879312 -->\n",
       "<g class=\"edge\" id=\"edge11\"><title>140404788727952-&gt;140404914879312</title>\n",
       "<path d=\"M2483.22,-313.154C2256.05,-310.128 1553.77,-298.002 1306.6,-260.004\" fill=\"none\" stroke=\"black\"/>\n",
       "<polygon fill=\"black\" points=\"1307.01,-256.525 1296.59,-258.409 1305.91,-263.438 1307.01,-256.525\" stroke=\"black\"/>\n",
       "</g>\n",
       "<!-- 140404914451088 -->\n",
       "<g class=\"node\" id=\"node13\"><title>140404914451088</title>\n",
       "<polygon fill=\"none\" points=\"1314.5,-223 1314.5,-259 1421.5,-259 1421.5,-223 1314.5,-223\" stroke=\"black\"/>\n",
       "<text font-family=\"Times,serif\" font-size=\"14.00\" text-anchor=\"middle\" x=\"1368\" y=\"-237.3\">slice11: Lambda</text>\n",
       "</g>\n",
       "<!-- 140404788727952&#45;&gt;140404914451088 -->\n",
       "<g class=\"edge\" id=\"edge12\"><title>140404788727952-&gt;140404914451088</title>\n",
       "<path d=\"M2483.33,-312.756C2272.04,-308.746 1653.09,-294.459 1431.52,-259.996\" fill=\"none\" stroke=\"black\"/>\n",
       "<polygon fill=\"black\" points=\"1432.02,-256.531 1421.59,-258.393 1430.9,-263.442 1432.02,-256.531\" stroke=\"black\"/>\n",
       "</g>\n",
       "<!-- 140404914442768 -->\n",
       "<g class=\"node\" id=\"node14\"><title>140404914442768</title>\n",
       "<polygon fill=\"none\" points=\"1439.5,-223 1439.5,-259 1546.5,-259 1546.5,-223 1439.5,-223\" stroke=\"black\"/>\n",
       "<text font-family=\"Times,serif\" font-size=\"14.00\" text-anchor=\"middle\" x=\"1493\" y=\"-237.3\">slice12: Lambda</text>\n",
       "</g>\n",
       "<!-- 140404788727952&#45;&gt;140404914442768 -->\n",
       "<g class=\"edge\" id=\"edge13\"><title>140404788727952-&gt;140404914442768</title>\n",
       "<path d=\"M2483.31,-312.257C2288.69,-307.192 1752.55,-290.939 1556.51,-260\" fill=\"none\" stroke=\"black\"/>\n",
       "<polygon fill=\"black\" points=\"1557.03,-256.538 1546.59,-258.372 1555.89,-263.446 1557.03,-256.538\" stroke=\"black\"/>\n",
       "</g>\n",
       "<!-- 140404915320016 -->\n",
       "<g class=\"node\" id=\"node15\"><title>140404915320016</title>\n",
       "<polygon fill=\"none\" points=\"1564.5,-223 1564.5,-259 1671.5,-259 1671.5,-223 1564.5,-223\" stroke=\"black\"/>\n",
       "<text font-family=\"Times,serif\" font-size=\"14.00\" text-anchor=\"middle\" x=\"1618\" y=\"-237.3\">slice13: Lambda</text>\n",
       "</g>\n",
       "<!-- 140404788727952&#45;&gt;140404915320016 -->\n",
       "<g class=\"edge\" id=\"edge14\"><title>140404788727952-&gt;140404915320016</title>\n",
       "<path d=\"M2483.49,-314.902C2335.09,-315.625 1983.05,-311.377 1681.84,-260.112\" fill=\"none\" stroke=\"black\"/>\n",
       "<polygon fill=\"black\" points=\"1682.05,-256.595 1671.6,-258.346 1680.86,-263.494 1682.05,-256.595\" stroke=\"black\"/>\n",
       "</g>\n",
       "<!-- 140404915313296 -->\n",
       "<g class=\"node\" id=\"node16\"><title>140404915313296</title>\n",
       "<polygon fill=\"none\" points=\"1689.5,-223 1689.5,-259 1796.5,-259 1796.5,-223 1689.5,-223\" stroke=\"black\"/>\n",
       "<text font-family=\"Times,serif\" font-size=\"14.00\" text-anchor=\"middle\" x=\"1743\" y=\"-237.3\">slice14: Lambda</text>\n",
       "</g>\n",
       "<!-- 140404788727952&#45;&gt;140404915313296 -->\n",
       "<g class=\"edge\" id=\"edge15\"><title>140404788727952-&gt;140404915313296</title>\n",
       "<path d=\"M2483.29,-313.839C2350.84,-312.454 2059.06,-304.319 1806.7,-260.103\" fill=\"none\" stroke=\"black\"/>\n",
       "<polygon fill=\"black\" points=\"1807.06,-256.614 1796.6,-258.312 1805.84,-263.506 1807.06,-256.614\" stroke=\"black\"/>\n",
       "</g>\n",
       "<!-- 140404915028432 -->\n",
       "<g class=\"node\" id=\"node17\"><title>140404915028432</title>\n",
       "<polygon fill=\"none\" points=\"1814.5,-223 1814.5,-259 1921.5,-259 1921.5,-223 1814.5,-223\" stroke=\"black\"/>\n",
       "<text font-family=\"Times,serif\" font-size=\"14.00\" text-anchor=\"middle\" x=\"1868\" y=\"-237.3\">slice15: Lambda</text>\n",
       "</g>\n",
       "<!-- 140404788727952&#45;&gt;140404915028432 -->\n",
       "<g class=\"edge\" id=\"edge16\"><title>140404788727952-&gt;140404915028432</title>\n",
       "<path d=\"M2483.15,-312.367C2368.15,-308.749 2135.72,-297.315 1931.62,-260.112\" fill=\"none\" stroke=\"black\"/>\n",
       "<polygon fill=\"black\" points=\"1932.08,-256.639 1921.61,-258.264 1930.81,-263.523 1932.08,-256.639\" stroke=\"black\"/>\n",
       "</g>\n",
       "<!-- 140404915162768 -->\n",
       "<g class=\"node\" id=\"node18\"><title>140404915162768</title>\n",
       "<polygon fill=\"none\" points=\"1939.5,-223 1939.5,-259 2046.5,-259 2046.5,-223 1939.5,-223\" stroke=\"black\"/>\n",
       "<text font-family=\"Times,serif\" font-size=\"14.00\" text-anchor=\"middle\" x=\"1993\" y=\"-237.3\">slice16: Lambda</text>\n",
       "</g>\n",
       "<!-- 140404788727952&#45;&gt;140404915162768 -->\n",
       "<g class=\"edge\" id=\"edge17\"><title>140404788727952-&gt;140404915162768</title>\n",
       "<path d=\"M2483.2,-310.202C2387.55,-304.264 2213.09,-290.371 2056.44,-260.114\" fill=\"none\" stroke=\"black\"/>\n",
       "<polygon fill=\"black\" points=\"2057.11,-256.679 2046.63,-258.192 2055.77,-263.548 2057.11,-256.679\" stroke=\"black\"/>\n",
       "</g>\n",
       "<!-- 140404914971664 -->\n",
       "<g class=\"node\" id=\"node19\"><title>140404914971664</title>\n",
       "<polygon fill=\"none\" points=\"2064.5,-223 2064.5,-259 2171.5,-259 2171.5,-223 2064.5,-223\" stroke=\"black\"/>\n",
       "<text font-family=\"Times,serif\" font-size=\"14.00\" text-anchor=\"middle\" x=\"2118\" y=\"-237.3\">slice17: Lambda</text>\n",
       "</g>\n",
       "<!-- 140404788727952&#45;&gt;140404914971664 -->\n",
       "<g class=\"edge\" id=\"edge18\"><title>140404788727952-&gt;140404914971664</title>\n",
       "<path d=\"M2483.28,-306.685C2409.64,-298.494 2291.64,-283.485 2181.59,-260.204\" fill=\"none\" stroke=\"black\"/>\n",
       "<polygon fill=\"black\" points=\"2182.16,-256.747 2171.65,-258.073 2180.7,-263.591 2182.16,-256.747\" stroke=\"black\"/>\n",
       "</g>\n",
       "<!-- 140404914313744 -->\n",
       "<g class=\"node\" id=\"node20\"><title>140404914313744</title>\n",
       "<polygon fill=\"none\" points=\"2189.5,-223 2189.5,-259 2296.5,-259 2296.5,-223 2189.5,-223\" stroke=\"black\"/>\n",
       "<text font-family=\"Times,serif\" font-size=\"14.00\" text-anchor=\"middle\" x=\"2243\" y=\"-237.3\">slice18: Lambda</text>\n",
       "</g>\n",
       "<!-- 140404788727952&#45;&gt;140404914313744 -->\n",
       "<g class=\"edge\" id=\"edge19\"><title>140404788727952-&gt;140404914313744</title>\n",
       "<path d=\"M2483.3,-299.897C2435.6,-290.194 2371.37,-276.517 2306.67,-260.35\" fill=\"none\" stroke=\"black\"/>\n",
       "<polygon fill=\"black\" points=\"2307.26,-256.889 2296.71,-257.841 2305.55,-263.677 2307.26,-256.889\" stroke=\"black\"/>\n",
       "</g>\n",
       "<!-- 140404915235728 -->\n",
       "<g class=\"node\" id=\"node21\"><title>140404915235728</title>\n",
       "<polygon fill=\"none\" points=\"2314.5,-223 2314.5,-259 2421.5,-259 2421.5,-223 2314.5,-223\" stroke=\"black\"/>\n",
       "<text font-family=\"Times,serif\" font-size=\"14.00\" text-anchor=\"middle\" x=\"2368\" y=\"-237.3\">slice19: Lambda</text>\n",
       "</g>\n",
       "<!-- 140404788727952&#45;&gt;140404915235728 -->\n",
       "<g class=\"edge\" id=\"edge20\"><title>140404788727952-&gt;140404915235728</title>\n",
       "<path d=\"M2510.68,-296.937C2484.11,-286.707 2450.14,-273.626 2422.01,-262.794\" fill=\"none\" stroke=\"black\"/>\n",
       "<polygon fill=\"black\" points=\"2422.91,-259.392 2412.32,-259.065 2420.4,-265.925 2422.91,-259.392\" stroke=\"black\"/>\n",
       "</g>\n",
       "<!-- 140404913663568 -->\n",
       "<g class=\"node\" id=\"node22\"><title>140404913663568</title>\n",
       "<polygon fill=\"none\" points=\"2439.5,-223 2439.5,-259 2546.5,-259 2546.5,-223 2439.5,-223\" stroke=\"black\"/>\n",
       "<text font-family=\"Times,serif\" font-size=\"14.00\" text-anchor=\"middle\" x=\"2493\" y=\"-237.3\">slice20: Lambda</text>\n",
       "</g>\n",
       "<!-- 140404788727952&#45;&gt;140404913663568 -->\n",
       "<g class=\"edge\" id=\"edge21\"><title>140404788727952-&gt;140404913663568</title>\n",
       "<path d=\"M2540.31,-296.937C2532.62,-288.012 2523.07,-276.916 2514.56,-267.037\" fill=\"none\" stroke=\"black\"/>\n",
       "<polygon fill=\"black\" points=\"2517.2,-264.735 2508.02,-259.441 2511.89,-269.302 2517.2,-264.735\" stroke=\"black\"/>\n",
       "</g>\n",
       "<!-- 140404913662416 -->\n",
       "<g class=\"node\" id=\"node23\"><title>140404913662416</title>\n",
       "<polygon fill=\"none\" points=\"2564.5,-223 2564.5,-259 2671.5,-259 2671.5,-223 2564.5,-223\" stroke=\"black\"/>\n",
       "<text font-family=\"Times,serif\" font-size=\"14.00\" text-anchor=\"middle\" x=\"2618\" y=\"-237.3\">slice21: Lambda</text>\n",
       "</g>\n",
       "<!-- 140404788727952&#45;&gt;140404913662416 -->\n",
       "<g class=\"edge\" id=\"edge22\"><title>140404788727952-&gt;140404913662416</title>\n",
       "<path d=\"M2569.93,-296.937C2577.74,-288.012 2587.45,-276.916 2596.09,-267.037\" fill=\"none\" stroke=\"black\"/>\n",
       "<polygon fill=\"black\" points=\"2598.79,-269.271 2602.74,-259.441 2593.52,-264.662 2598.79,-269.271\" stroke=\"black\"/>\n",
       "</g>\n",
       "<!-- 140404914048656 -->\n",
       "<g class=\"node\" id=\"node24\"><title>140404914048656</title>\n",
       "<polygon fill=\"none\" points=\"2689.5,-223 2689.5,-259 2796.5,-259 2796.5,-223 2689.5,-223\" stroke=\"black\"/>\n",
       "<text font-family=\"Times,serif\" font-size=\"14.00\" text-anchor=\"middle\" x=\"2743\" y=\"-237.3\">slice22: Lambda</text>\n",
       "</g>\n",
       "<!-- 140404788727952&#45;&gt;140404914048656 -->\n",
       "<g class=\"edge\" id=\"edge23\"><title>140404788727952-&gt;140404914048656</title>\n",
       "<path d=\"M2599.55,-296.937C2626.38,-286.663 2660.72,-273.511 2689.07,-262.652\" fill=\"none\" stroke=\"black\"/>\n",
       "<polygon fill=\"black\" points=\"2690.35,-265.91 2698.44,-259.065 2687.85,-259.373 2690.35,-265.91\" stroke=\"black\"/>\n",
       "</g>\n",
       "<!-- 140404913528656 -->\n",
       "<g class=\"node\" id=\"node25\"><title>140404913528656</title>\n",
       "<polygon fill=\"none\" points=\"2814.5,-223 2814.5,-259 2921.5,-259 2921.5,-223 2814.5,-223\" stroke=\"black\"/>\n",
       "<text font-family=\"Times,serif\" font-size=\"14.00\" text-anchor=\"middle\" x=\"2868\" y=\"-237.3\">slice23: Lambda</text>\n",
       "</g>\n",
       "<!-- 140404788727952&#45;&gt;140404913528656 -->\n",
       "<g class=\"edge\" id=\"edge24\"><title>140404788727952-&gt;140404913528656</title>\n",
       "<path d=\"M2626.68,-299.817C2674.47,-290.06 2738.86,-276.334 2804.72,-259.989\" fill=\"none\" stroke=\"black\"/>\n",
       "<polygon fill=\"black\" points=\"2805.59,-263.379 2814.45,-257.559 2803.9,-256.588 2805.59,-263.379\" stroke=\"black\"/>\n",
       "</g>\n",
       "<!-- 140404913129040 -->\n",
       "<g class=\"node\" id=\"node26\"><title>140404913129040</title>\n",
       "<polygon fill=\"none\" points=\"2939.5,-223 2939.5,-259 3046.5,-259 3046.5,-223 2939.5,-223\" stroke=\"black\"/>\n",
       "<text font-family=\"Times,serif\" font-size=\"14.00\" text-anchor=\"middle\" x=\"2993\" y=\"-237.3\">slice24: Lambda</text>\n",
       "</g>\n",
       "<!-- 140404788727952&#45;&gt;140404913129040 -->\n",
       "<g class=\"edge\" id=\"edge25\"><title>140404788727952-&gt;140404913129040</title>\n",
       "<path d=\"M2626.7,-306.596C2700.33,-298.334 2818.32,-283.266 2929.15,-260.026\" fill=\"none\" stroke=\"black\"/>\n",
       "<polygon fill=\"black\" points=\"2930.11,-263.401 2939.16,-257.9 2928.66,-256.553 2930.11,-263.401\" stroke=\"black\"/>\n",
       "</g>\n",
       "<!-- 140404913070928 -->\n",
       "<g class=\"node\" id=\"node27\"><title>140404913070928</title>\n",
       "<polygon fill=\"none\" points=\"3064.5,-223 3064.5,-259 3171.5,-259 3171.5,-223 3064.5,-223\" stroke=\"black\"/>\n",
       "<text font-family=\"Times,serif\" font-size=\"14.00\" text-anchor=\"middle\" x=\"3118\" y=\"-237.3\">slice25: Lambda</text>\n",
       "</g>\n",
       "<!-- 140404788727952&#45;&gt;140404913070928 -->\n",
       "<g class=\"edge\" id=\"edge26\"><title>140404788727952-&gt;140404913070928</title>\n",
       "<path d=\"M2626.78,-310.108C2722.41,-304.066 2896.85,-290.055 3054.32,-259.941\" fill=\"none\" stroke=\"black\"/>\n",
       "<polygon fill=\"black\" points=\"3055.04,-263.367 3064.19,-258.028 3053.71,-256.495 3055.04,-263.367\" stroke=\"black\"/>\n",
       "</g>\n",
       "<!-- 140404912025488 -->\n",
       "<g class=\"node\" id=\"node28\"><title>140404912025488</title>\n",
       "<polygon fill=\"none\" points=\"3189.5,-223 3189.5,-259 3296.5,-259 3296.5,-223 3189.5,-223\" stroke=\"black\"/>\n",
       "<text font-family=\"Times,serif\" font-size=\"14.00\" text-anchor=\"middle\" x=\"3243\" y=\"-237.3\">slice26: Lambda</text>\n",
       "</g>\n",
       "<!-- 140404788727952&#45;&gt;140404912025488 -->\n",
       "<g class=\"edge\" id=\"edge27\"><title>140404788727952-&gt;140404912025488</title>\n",
       "<path d=\"M2626.83,-312.269C2741.81,-308.517 2974.21,-296.899 3179.16,-259.942\" fill=\"none\" stroke=\"black\"/>\n",
       "<polygon fill=\"black\" points=\"3180,-263.346 3189.21,-258.105 3178.74,-256.46 3180,-263.346\" stroke=\"black\"/>\n",
       "</g>\n",
       "<!-- 140404913328208 -->\n",
       "<g class=\"node\" id=\"node29\"><title>140404913328208</title>\n",
       "<polygon fill=\"none\" points=\"3314.5,-223 3314.5,-259 3421.5,-259 3421.5,-223 3314.5,-223\" stroke=\"black\"/>\n",
       "<text font-family=\"Times,serif\" font-size=\"14.00\" text-anchor=\"middle\" x=\"3368\" y=\"-237.3\">slice27: Lambda</text>\n",
       "</g>\n",
       "<!-- 140404788727952&#45;&gt;140404913328208 -->\n",
       "<g class=\"edge\" id=\"edge28\"><title>140404788727952-&gt;140404913328208</title>\n",
       "<path d=\"M2626.7,-313.74C2759.11,-312.193 3050.84,-303.802 3304.09,-259.934\" fill=\"none\" stroke=\"black\"/>\n",
       "<polygon fill=\"black\" points=\"3304.97,-263.333 3314.21,-258.157 3303.76,-256.438 3304.97,-263.333\" stroke=\"black\"/>\n",
       "</g>\n",
       "<!-- 140404911828240 -->\n",
       "<g class=\"node\" id=\"node30\"><title>140404911828240</title>\n",
       "<polygon fill=\"none\" points=\"3439.5,-223 3439.5,-259 3546.5,-259 3546.5,-223 3439.5,-223\" stroke=\"black\"/>\n",
       "<text font-family=\"Times,serif\" font-size=\"14.00\" text-anchor=\"middle\" x=\"3493\" y=\"-237.3\">slice28: Lambda</text>\n",
       "</g>\n",
       "<!-- 140404788727952&#45;&gt;140404911828240 -->\n",
       "<g class=\"edge\" id=\"edge29\"><title>140404788727952-&gt;140404911828240</title>\n",
       "<path d=\"M2626.77,-314.802C2775.31,-315.331 3127.04,-310.725 3428.95,-259.943\" fill=\"none\" stroke=\"black\"/>\n",
       "<polygon fill=\"black\" points=\"3429.95,-263.323 3439.22,-258.194 3428.78,-256.423 3429.95,-263.323\" stroke=\"black\"/>\n",
       "</g>\n",
       "<!-- 140404912151632 -->\n",
       "<g class=\"node\" id=\"node31\"><title>140404912151632</title>\n",
       "<polygon fill=\"none\" points=\"3564.5,-223 3564.5,-259 3671.5,-259 3671.5,-223 3564.5,-223\" stroke=\"black\"/>\n",
       "<text font-family=\"Times,serif\" font-size=\"14.00\" text-anchor=\"middle\" x=\"3618\" y=\"-237.3\">slice29: Lambda</text>\n",
       "</g>\n",
       "<!-- 140404788727952&#45;&gt;140404912151632 -->\n",
       "<g class=\"edge\" id=\"edge30\"><title>140404788727952-&gt;140404912151632</title>\n",
       "<path d=\"M2626.69,-312.218C2821.29,-307.053 3357.39,-290.567 3554.27,-259.838\" fill=\"none\" stroke=\"black\"/>\n",
       "<polygon fill=\"black\" points=\"3554.92,-263.279 3564.23,-258.222 3553.79,-256.369 3554.92,-263.279\" stroke=\"black\"/>\n",
       "</g>\n",
       "<!-- 140404911638480 -->\n",
       "<g class=\"node\" id=\"node32\"><title>140404911638480</title>\n",
       "<polygon fill=\"none\" points=\"3689.5,-223 3689.5,-259 3796.5,-259 3796.5,-223 3689.5,-223\" stroke=\"black\"/>\n",
       "<text font-family=\"Times,serif\" font-size=\"14.00\" text-anchor=\"middle\" x=\"3743\" y=\"-237.3\">slice30: Lambda</text>\n",
       "</g>\n",
       "<!-- 140404788727952&#45;&gt;140404911638480 -->\n",
       "<g class=\"edge\" id=\"edge31\"><title>140404788727952-&gt;140404911638480</title>\n",
       "<path d=\"M2626.67,-312.716C2837.94,-308.597 3456.84,-294.033 3679.26,-259.835\" fill=\"none\" stroke=\"black\"/>\n",
       "<polygon fill=\"black\" points=\"3679.91,-263.276 3689.23,-258.244 3678.8,-256.363 3679.91,-263.276\" stroke=\"black\"/>\n",
       "</g>\n",
       "<!-- 140404911243856 -->\n",
       "<g class=\"node\" id=\"node33\"><title>140404911243856</title>\n",
       "<polygon fill=\"none\" points=\"3814.5,-223 3814.5,-259 3921.5,-259 3921.5,-223 3814.5,-223\" stroke=\"black\"/>\n",
       "<text font-family=\"Times,serif\" font-size=\"14.00\" text-anchor=\"middle\" x=\"3868\" y=\"-237.3\">slice31: Lambda</text>\n",
       "</g>\n",
       "<!-- 140404788727952&#45;&gt;140404911243856 -->\n",
       "<g class=\"edge\" id=\"edge32\"><title>140404788727952-&gt;140404911243856</title>\n",
       "<path d=\"M2626.77,-313.115C2853.92,-309.969 3556.15,-297.523 3804.18,-259.843\" fill=\"none\" stroke=\"black\"/>\n",
       "<polygon fill=\"black\" points=\"3804.9,-263.274 3814.23,-258.262 3803.81,-256.359 3804.9,-263.274\" stroke=\"black\"/>\n",
       "</g>\n",
       "<!-- 140404911374096 -->\n",
       "<g class=\"node\" id=\"node34\"><title>140404911374096</title>\n",
       "<polygon fill=\"none\" points=\"3939.5,-223 3939.5,-259 4046.5,-259 4046.5,-223 3939.5,-223\" stroke=\"black\"/>\n",
       "<text font-family=\"Times,serif\" font-size=\"14.00\" text-anchor=\"middle\" x=\"3993\" y=\"-237.3\">slice32: Lambda</text>\n",
       "</g>\n",
       "<!-- 140404788727952&#45;&gt;140404911374096 -->\n",
       "<g class=\"edge\" id=\"edge33\"><title>140404788727952-&gt;140404911374096</title>\n",
       "<path d=\"M2626.56,-313.445C2868.51,-311.219 3655.7,-301.047 3929.33,-259.819\" fill=\"none\" stroke=\"black\"/>\n",
       "<polygon fill=\"black\" points=\"3929.89,-263.273 3939.23,-258.276 3928.82,-256.356 3929.89,-263.273\" stroke=\"black\"/>\n",
       "</g>\n",
       "<!-- 140404911708496 -->\n",
       "<g class=\"node\" id=\"node35\"><title>140404911708496</title>\n",
       "<polygon fill=\"none\" points=\"4064.5,-223 4064.5,-259 4171.5,-259 4171.5,-223 4064.5,-223\" stroke=\"black\"/>\n",
       "<text font-family=\"Times,serif\" font-size=\"14.00\" text-anchor=\"middle\" x=\"4118\" y=\"-237.3\">slice33: Lambda</text>\n",
       "</g>\n",
       "<!-- 140404788727952&#45;&gt;140404911708496 -->\n",
       "<g class=\"edge\" id=\"edge34\"><title>140404788727952-&gt;140404911708496</title>\n",
       "<path d=\"M2626.69,-313.717C2883.11,-312.352 3754.9,-304.577 4054.26,-259.827\" fill=\"none\" stroke=\"black\"/>\n",
       "<polygon fill=\"black\" points=\"4054.89,-263.272 4064.24,-258.288 4053.82,-256.353 4054.89,-263.272\" stroke=\"black\"/>\n",
       "</g>\n",
       "<!-- 140404911502992 -->\n",
       "<g class=\"node\" id=\"node36\"><title>140404911502992</title>\n",
       "<polygon fill=\"none\" points=\"4189.5,-223 4189.5,-259 4296.5,-259 4296.5,-223 4189.5,-223\" stroke=\"black\"/>\n",
       "<text font-family=\"Times,serif\" font-size=\"14.00\" text-anchor=\"middle\" x=\"4243\" y=\"-237.3\">slice34: Lambda</text>\n",
       "</g>\n",
       "<!-- 140404788727952&#45;&gt;140404911502992 -->\n",
       "<g class=\"edge\" id=\"edge35\"><title>140404788727952-&gt;140404911502992</title>\n",
       "<path d=\"M2626.95,-313.949C2897.49,-313.397 3854.4,-308.114 4179.34,-259.813\" fill=\"none\" stroke=\"black\"/>\n",
       "<polygon fill=\"black\" points=\"4179.88,-263.271 4189.24,-258.298 4178.82,-256.352 4179.88,-263.271\" stroke=\"black\"/>\n",
       "</g>\n",
       "<!-- 140404910734160 -->\n",
       "<g class=\"node\" id=\"node37\"><title>140404910734160</title>\n",
       "<polygon fill=\"none\" points=\"4314.5,-223 4314.5,-259 4421.5,-259 4421.5,-223 4314.5,-223\" stroke=\"black\"/>\n",
       "<text font-family=\"Times,serif\" font-size=\"14.00\" text-anchor=\"middle\" x=\"4368\" y=\"-237.3\">slice35: Lambda</text>\n",
       "</g>\n",
       "<!-- 140404788727952&#45;&gt;140404910734160 -->\n",
       "<g class=\"edge\" id=\"edge36\"><title>140404788727952-&gt;140404910734160</title>\n",
       "<path d=\"M2626.55,-314.148C2909.74,-314.375 3953.36,-311.705 4304.31,-259.817\" fill=\"none\" stroke=\"black\"/>\n",
       "<polygon fill=\"black\" points=\"4304.88,-263.271 4314.24,-258.306 4303.83,-256.35 4304.88,-263.271\" stroke=\"black\"/>\n",
       "</g>\n",
       "<!-- 140404911188880 -->\n",
       "<g class=\"node\" id=\"node38\"><title>140404911188880</title>\n",
       "<polygon fill=\"none\" points=\"4439.5,-223 4439.5,-259 4546.5,-259 4546.5,-223 4439.5,-223\" stroke=\"black\"/>\n",
       "<text font-family=\"Times,serif\" font-size=\"14.00\" text-anchor=\"middle\" x=\"4493\" y=\"-237.3\">slice36: Lambda</text>\n",
       "</g>\n",
       "<!-- 140404788727952&#45;&gt;140404911188880 -->\n",
       "<g class=\"edge\" id=\"edge37\"><title>140404788727952-&gt;140404911188880</title>\n",
       "<path d=\"M2626.53,-314.321C2922.39,-315.285 4052.11,-315.286 4429.12,-259.844\" fill=\"none\" stroke=\"black\"/>\n",
       "<polygon fill=\"black\" points=\"4429.88,-263.269 4439.24,-258.314 4428.83,-256.348 4429.88,-263.269\" stroke=\"black\"/>\n",
       "</g>\n",
       "<!-- 140404910606224 -->\n",
       "<g class=\"node\" id=\"node39\"><title>140404910606224</title>\n",
       "<polygon fill=\"none\" points=\"4564.5,-223 4564.5,-259 4671.5,-259 4671.5,-223 4564.5,-223\" stroke=\"black\"/>\n",
       "<text font-family=\"Times,serif\" font-size=\"14.00\" text-anchor=\"middle\" x=\"4618\" y=\"-237.3\">slice37: Lambda</text>\n",
       "</g>\n",
       "<!-- 140404788727952&#45;&gt;140404910606224 -->\n",
       "<g class=\"edge\" id=\"edge38\"><title>140404788727952-&gt;140404910606224</title>\n",
       "<path d=\"M2626.55,-313.134C2955.88,-309.004 4319.57,-290.312 4554.23,-259.739\" fill=\"none\" stroke=\"black\"/>\n",
       "<polygon fill=\"black\" points=\"4554.83,-263.188 4564.24,-258.32 4553.85,-256.258 4554.83,-263.188\" stroke=\"black\"/>\n",
       "</g>\n",
       "<!-- 140404910939472 -->\n",
       "<g class=\"node\" id=\"node40\"><title>140404910939472</title>\n",
       "<polygon fill=\"none\" points=\"4689.5,-223 4689.5,-259 4796.5,-259 4796.5,-223 4689.5,-223\" stroke=\"black\"/>\n",
       "<text font-family=\"Times,serif\" font-size=\"14.00\" text-anchor=\"middle\" x=\"4743\" y=\"-237.3\">slice38: Lambda</text>\n",
       "</g>\n",
       "<!-- 140404788727952&#45;&gt;140404910939472 -->\n",
       "<g class=\"edge\" id=\"edge39\"><title>140404788727952-&gt;140404910939472</title>\n",
       "<path d=\"M2626.64,-313.255C2968.98,-309.551 4431.53,-292.064 4679.32,-259.729\" fill=\"none\" stroke=\"black\"/>\n",
       "<polygon fill=\"black\" points=\"4679.83,-263.192 4689.24,-258.326 4678.85,-256.261 4679.83,-263.192\" stroke=\"black\"/>\n",
       "</g>\n",
       "<!-- 140404910277264 -->\n",
       "<g class=\"node\" id=\"node41\"><title>140404910277264</title>\n",
       "<polygon fill=\"none\" points=\"4814.5,-223 4814.5,-259 4921.5,-259 4921.5,-223 4814.5,-223\" stroke=\"black\"/>\n",
       "<text font-family=\"Times,serif\" font-size=\"14.00\" text-anchor=\"middle\" x=\"4868\" y=\"-237.3\">slice39: Lambda</text>\n",
       "</g>\n",
       "<!-- 140404788727952&#45;&gt;140404910277264 -->\n",
       "<g class=\"edge\" id=\"edge40\"><title>140404788727952-&gt;140404910277264</title>\n",
       "<path d=\"M2626.64,-313.363C2981.31,-310.069 4542.28,-293.841 4804.11,-259.759\" fill=\"none\" stroke=\"black\"/>\n",
       "<polygon fill=\"black\" points=\"4804.83,-263.192 4814.24,-258.331 4803.85,-256.261 4804.83,-263.192\" stroke=\"black\"/>\n",
       "</g>\n",
       "<!-- 140404910411600 -->\n",
       "<g class=\"node\" id=\"node42\"><title>140404910411600</title>\n",
       "<polygon fill=\"none\" points=\"4939.5,-223 4939.5,-259 5046.5,-259 5046.5,-223 4939.5,-223\" stroke=\"black\"/>\n",
       "<text font-family=\"Times,serif\" font-size=\"14.00\" text-anchor=\"middle\" x=\"4993\" y=\"-237.3\">slice40: Lambda</text>\n",
       "</g>\n",
       "<!-- 140404788727952&#45;&gt;140404910411600 -->\n",
       "<g class=\"edge\" id=\"edge41\"><title>140404788727952-&gt;140404910411600</title>\n",
       "<path d=\"M2626.59,-313.461C2993.18,-310.558 4653.18,-295.623 4928.94,-259.784\" fill=\"none\" stroke=\"black\"/>\n",
       "<polygon fill=\"black\" points=\"4929.83,-263.193 4939.24,-258.336 4928.85,-256.261 4929.83,-263.193\" stroke=\"black\"/>\n",
       "</g>\n",
       "<!-- 140404910220496 -->\n",
       "<g class=\"node\" id=\"node43\"><title>140404910220496</title>\n",
       "<polygon fill=\"none\" points=\"5064.5,-223 5064.5,-259 5171.5,-259 5171.5,-223 5064.5,-223\" stroke=\"black\"/>\n",
       "<text font-family=\"Times,serif\" font-size=\"14.00\" text-anchor=\"middle\" x=\"5118\" y=\"-237.3\">slice41: Lambda</text>\n",
       "</g>\n",
       "<!-- 140404788727952&#45;&gt;140404910220496 -->\n",
       "<g class=\"edge\" id=\"edge42\"><title>140404788727952-&gt;140404910220496</title>\n",
       "<path d=\"M2626.54,-313.549C3004.92,-311.02 4765.98,-297.396 5054.24,-259.747\" fill=\"none\" stroke=\"black\"/>\n",
       "<polygon fill=\"black\" points=\"5054.83,-263.198 5064.24,-258.34 5053.85,-256.267 5054.83,-263.198\" stroke=\"black\"/>\n",
       "</g>\n",
       "<!-- 140404789787984 -->\n",
       "<g class=\"node\" id=\"node44\"><title>140404789787984</title>\n",
       "<polygon fill=\"none\" points=\"2466.5,-149 2466.5,-185 2643.5,-185 2643.5,-149 2466.5,-149\" stroke=\"black\"/>\n",
       "<text font-family=\"Times,serif\" font-size=\"14.00\" text-anchor=\"middle\" x=\"2555\" y=\"-163.3\">feed_forward_nw: Sequential</text>\n",
       "</g>\n",
       "<!-- 140404789758672&#45;&gt;140404789787984 -->\n",
       "<g class=\"edge\" id=\"edge43\"><title>140404789758672-&gt;140404789787984</title>\n",
       "<path d=\"M100.64,-223.587C103.451,-222.978 106.251,-222.441 109,-222 343.007,-184.453 2028.14,-171.331 2456.28,-168.584\" fill=\"none\" stroke=\"black\"/>\n",
       "<polygon fill=\"black\" points=\"2456.48,-172.082 2466.46,-168.519 2456.44,-165.083 2456.48,-172.082\" stroke=\"black\"/>\n",
       "</g>\n",
       "<!-- 140404789964752&#45;&gt;140404789787984 -->\n",
       "<g class=\"edge\" id=\"edge44\"><title>140404789964752-&gt;140404789787984</title>\n",
       "<path d=\"M219.641,-223.591C222.452,-222.981 225.251,-222.443 228,-222 449.75,-186.292 2041.43,-171.878 2456.32,-168.704\" fill=\"none\" stroke=\"black\"/>\n",
       "<polygon fill=\"black\" points=\"2456.51,-172.202 2466.49,-168.626 2456.46,-165.203 2456.51,-172.202\" stroke=\"black\"/>\n",
       "</g>\n",
       "<!-- 140404915690064&#45;&gt;140404789787984 -->\n",
       "<g class=\"edge\" id=\"edge45\"><title>140404915690064-&gt;140404789787984</title>\n",
       "<path d=\"M338.642,-223.595C341.452,-222.984 344.251,-222.444 347,-222 556.463,-188.136 2054.34,-172.462 2456.07,-168.839\" fill=\"none\" stroke=\"black\"/>\n",
       "<polygon fill=\"black\" points=\"2456.24,-172.338 2466.21,-168.748 2456.18,-165.338 2456.24,-172.338\" stroke=\"black\"/>\n",
       "</g>\n",
       "<!-- 140404915691280&#45;&gt;140404789787984 -->\n",
       "<g class=\"edge\" id=\"edge46\"><title>140404915691280-&gt;140404789787984</title>\n",
       "<path d=\"M457.642,-223.6C460.453,-222.988 463.252,-222.446 466,-222 663.278,-189.965 2068.74,-173.069 2456.27,-168.986\" fill=\"none\" stroke=\"black\"/>\n",
       "<polygon fill=\"black\" points=\"2456.38,-172.485 2466.34,-168.88 2456.3,-165.485 2456.38,-172.485\" stroke=\"black\"/>\n",
       "</g>\n",
       "<!-- 140404788231952&#45;&gt;140404789787984 -->\n",
       "<g class=\"edge\" id=\"edge47\"><title>140404788231952-&gt;140404789787984</title>\n",
       "<path d=\"M576.643,-223.605C579.454,-222.991 582.252,-222.448 585,-222 770.044,-191.803 2082.5,-173.728 2456.04,-169.155\" fill=\"none\" stroke=\"black\"/>\n",
       "<polygon fill=\"black\" points=\"2456.33,-172.652 2466.28,-169.03 2456.24,-165.652 2456.33,-172.652\" stroke=\"black\"/>\n",
       "</g>\n",
       "<!-- 140404788301392&#45;&gt;140404789787984 -->\n",
       "<g class=\"edge\" id=\"edge48\"><title>140404788301392-&gt;140404789787984</title>\n",
       "<path d=\"M695.644,-223.611C698.454,-222.996 701.252,-222.451 704,-222 1045.76,-165.92 2123.37,-165.987 2456.14,-167.414\" fill=\"none\" stroke=\"black\"/>\n",
       "<polygon fill=\"black\" points=\"2456.22,-170.915 2466.24,-167.459 2456.25,-163.915 2456.22,-170.915\" stroke=\"black\"/>\n",
       "</g>\n",
       "<!-- 140404788426512&#45;&gt;140404789787984 -->\n",
       "<g class=\"edge\" id=\"edge49\"><title>140404788426512-&gt;140404789787984</title>\n",
       "<path d=\"M814.645,-223.618C817.455,-223.001 820.253,-222.454 823,-222 1140.67,-169.546 2137.99,-167.057 2456.31,-167.649\" fill=\"none\" stroke=\"black\"/>\n",
       "<polygon fill=\"black\" points=\"2456.43,-171.15 2466.44,-167.67 2456.45,-164.15 2456.43,-171.15\" stroke=\"black\"/>\n",
       "</g>\n",
       "<!-- 140404912345040&#45;&gt;140404789787984 -->\n",
       "<g class=\"edge\" id=\"edge50\"><title>140404912345040-&gt;140404789787984</title>\n",
       "<path d=\"M933.647,-223.625C936.456,-223.006 939.253,-222.457 942,-222 1235.62,-173.172 2152.88,-168.197 2456.38,-167.918\" fill=\"none\" stroke=\"black\"/>\n",
       "<polygon fill=\"black\" points=\"2456.49,-171.418 2466.49,-167.91 2456.48,-164.418 2456.49,-171.418\" stroke=\"black\"/>\n",
       "</g>\n",
       "<!-- 140404912455248&#45;&gt;140404789787984 -->\n",
       "<g class=\"edge\" id=\"edge51\"><title>140404912455248-&gt;140404789787984</title>\n",
       "<path d=\"M1052.65,-223.634C1055.46,-223.013 1058.25,-222.46 1061,-222 1330.57,-176.801 2167.9,-169.424 2456.25,-168.228\" fill=\"none\" stroke=\"black\"/>\n",
       "<polygon fill=\"black\" points=\"2456.29,-171.728 2466.27,-168.188 2456.26,-164.728 2456.29,-171.728\" stroke=\"black\"/>\n",
       "</g>\n",
       "<!-- 140404914792400&#45;&gt;140404789787984 -->\n",
       "<g class=\"edge\" id=\"edge52\"><title>140404914792400-&gt;140404789787984</title>\n",
       "<path d=\"M1171.65,-223.645C1174.46,-223.021 1177.25,-222.465 1180,-222 1425.64,-180.42 2183.7,-170.749 2456.18,-168.592\" fill=\"none\" stroke=\"black\"/>\n",
       "<polygon fill=\"black\" points=\"2456.48,-172.09 2466.45,-168.513 2456.42,-165.09 2456.48,-172.09\" stroke=\"black\"/>\n",
       "</g>\n",
       "<!-- 140404914879312&#45;&gt;140404789787984 -->\n",
       "<g class=\"edge\" id=\"edge53\"><title>140404914879312-&gt;140404789787984</title>\n",
       "<path d=\"M1296.59,-223.591C1299.42,-222.992 1302.23,-222.454 1305,-222 1525.79,-185.719 2200.77,-172.861 2455.91,-169.223\" fill=\"none\" stroke=\"black\"/>\n",
       "<polygon fill=\"black\" points=\"2456.33,-172.717 2466.28,-169.077 2456.23,-165.718 2456.33,-172.717\" stroke=\"black\"/>\n",
       "</g>\n",
       "<!-- 140404914451088&#45;&gt;140404789787984 -->\n",
       "<g class=\"edge\" id=\"edge54\"><title>140404914451088-&gt;140404789787984</title>\n",
       "<path d=\"M1421.59,-223.607C1424.42,-223.004 1427.24,-222.461 1430,-222 1625.87,-189.333 2219.08,-174.51 2455.85,-169.78\" fill=\"none\" stroke=\"black\"/>\n",
       "<polygon fill=\"black\" points=\"2456.24,-173.273 2466.17,-169.575 2456.1,-166.274 2456.24,-173.273\" stroke=\"black\"/>\n",
       "</g>\n",
       "<!-- 140404914442768&#45;&gt;140404789787984 -->\n",
       "<g class=\"edge\" id=\"edge55\"><title>140404914442768-&gt;140404789787984</title>\n",
       "<path d=\"M1546.59,-223.628C1549.42,-223.018 1552.24,-222.469 1555,-222 1726.16,-192.928 2238.83,-176.352 2456.03,-170.468\" fill=\"none\" stroke=\"black\"/>\n",
       "<polygon fill=\"black\" points=\"2456.24,-173.963 2466.14,-170.196 2456.05,-166.966 2456.24,-173.963\" stroke=\"black\"/>\n",
       "</g>\n",
       "<!-- 140404915320016&#45;&gt;140404789787984 -->\n",
       "<g class=\"edge\" id=\"edge56\"><title>140404915320016-&gt;140404789787984</title>\n",
       "<path d=\"M1671.6,-223.654C1674.43,-223.038 1677.24,-222.48 1680,-222 1958.51,-173.59 2293.48,-167.001 2456.38,-167.03\" fill=\"none\" stroke=\"black\"/>\n",
       "<polygon fill=\"black\" points=\"2456.38,-170.53 2466.38,-167.041 2456.39,-163.53 2456.38,-170.53\" stroke=\"black\"/>\n",
       "</g>\n",
       "<!-- 140404915313296&#45;&gt;140404789787984 -->\n",
       "<g class=\"edge\" id=\"edge57\"><title>140404915313296-&gt;140404789787984</title>\n",
       "<path d=\"M1796.6,-223.688C1799.43,-223.063 1802.24,-222.494 1805,-222 2035.74,-180.675 2311.79,-170.755 2456.06,-168.515\" fill=\"none\" stroke=\"black\"/>\n",
       "<polygon fill=\"black\" points=\"2456.27,-172.013 2466.21,-168.367 2456.16,-165.013 2456.27,-172.013\" stroke=\"black\"/>\n",
       "</g>\n",
       "<!-- 140404915028432&#45;&gt;140404789787984 -->\n",
       "<g class=\"edge\" id=\"edge58\"><title>140404915028432-&gt;140404789787984</title>\n",
       "<path d=\"M1921.61,-223.736C1924.44,-223.099 1927.25,-222.514 1930,-222 2113.8,-187.723 2332.16,-175.134 2456.06,-170.56\" fill=\"none\" stroke=\"black\"/>\n",
       "<polygon fill=\"black\" points=\"2456.42,-174.05 2466.28,-170.193 2456.17,-167.054 2456.42,-174.05\" stroke=\"black\"/>\n",
       "</g>\n",
       "<!-- 140404915162768&#45;&gt;140404789787984 -->\n",
       "<g class=\"edge\" id=\"edge59\"><title>140404915162768-&gt;140404789787984</title>\n",
       "<path d=\"M2046.63,-223.808C2049.45,-223.152 2052.25,-222.543 2055,-222 2192.67,-194.798 2354.57,-180.467 2456,-173.568\" fill=\"none\" stroke=\"black\"/>\n",
       "<polygon fill=\"black\" points=\"2456.49,-177.043 2466.23,-172.883 2456.02,-170.059 2456.49,-177.043\" stroke=\"black\"/>\n",
       "</g>\n",
       "<!-- 140404914971664&#45;&gt;140404789787984 -->\n",
       "<g class=\"edge\" id=\"edge60\"><title>140404914971664-&gt;140404789787984</title>\n",
       "<path d=\"M2171.65,-223.927C2174.47,-223.24 2177.26,-222.592 2180,-222 2272.91,-201.926 2380.42,-187.308 2456.44,-178.383\" fill=\"none\" stroke=\"black\"/>\n",
       "<polygon fill=\"black\" points=\"2456.96,-181.847 2466.49,-177.215 2456.15,-174.893 2456.96,-181.847\" stroke=\"black\"/>\n",
       "</g>\n",
       "<!-- 140404914313744&#45;&gt;140404789787984 -->\n",
       "<g class=\"edge\" id=\"edge61\"><title>140404914313744-&gt;140404789787984</title>\n",
       "<path d=\"M2296.71,-224.159C2299.51,-223.411 2302.28,-222.687 2305,-222 2355.64,-209.197 2412.53,-196.758 2459.23,-187.052\" fill=\"none\" stroke=\"black\"/>\n",
       "<polygon fill=\"black\" points=\"2459.95,-190.477 2469.03,-185.023 2458.53,-183.622 2459.95,-190.477\" stroke=\"black\"/>\n",
       "</g>\n",
       "<!-- 140404915235728&#45;&gt;140404789787984 -->\n",
       "<g class=\"edge\" id=\"edge62\"><title>140404915235728-&gt;140404789787984</title>\n",
       "<path d=\"M2412.32,-222.937C2438.89,-212.707 2472.86,-199.626 2500.99,-188.794\" fill=\"none\" stroke=\"black\"/>\n",
       "<polygon fill=\"black\" points=\"2502.6,-191.925 2510.68,-185.065 2500.09,-185.392 2502.6,-191.925\" stroke=\"black\"/>\n",
       "</g>\n",
       "<!-- 140404913663568&#45;&gt;140404789787984 -->\n",
       "<g class=\"edge\" id=\"edge63\"><title>140404913663568-&gt;140404789787984</title>\n",
       "<path d=\"M2507.69,-222.937C2515.38,-214.012 2524.93,-202.916 2533.44,-193.037\" fill=\"none\" stroke=\"black\"/>\n",
       "<polygon fill=\"black\" points=\"2536.11,-195.302 2539.98,-185.441 2530.8,-190.735 2536.11,-195.302\" stroke=\"black\"/>\n",
       "</g>\n",
       "<!-- 140404913662416&#45;&gt;140404789787984 -->\n",
       "<g class=\"edge\" id=\"edge64\"><title>140404913662416-&gt;140404789787984</title>\n",
       "<path d=\"M2603.07,-222.937C2595.26,-214.012 2585.55,-202.916 2576.91,-193.037\" fill=\"none\" stroke=\"black\"/>\n",
       "<polygon fill=\"black\" points=\"2579.48,-190.662 2570.26,-185.441 2574.21,-195.271 2579.48,-190.662\" stroke=\"black\"/>\n",
       "</g>\n",
       "<!-- 140404914048656&#45;&gt;140404789787984 -->\n",
       "<g class=\"edge\" id=\"edge65\"><title>140404914048656-&gt;140404789787984</title>\n",
       "<path d=\"M2698.45,-222.937C2671.62,-212.663 2637.28,-199.511 2608.93,-188.652\" fill=\"none\" stroke=\"black\"/>\n",
       "<polygon fill=\"black\" points=\"2610.15,-185.373 2599.56,-185.065 2607.65,-191.91 2610.15,-185.373\" stroke=\"black\"/>\n",
       "</g>\n",
       "<!-- 140404913528656&#45;&gt;140404789787984 -->\n",
       "<g class=\"edge\" id=\"edge66\"><title>140404913528656-&gt;140404789787984</title>\n",
       "<path d=\"M2814.45,-224.441C2811.26,-223.594 2808.09,-222.774 2805,-222 2754.23,-209.279 2697.22,-196.825 2650.47,-187.089\" fill=\"none\" stroke=\"black\"/>\n",
       "<polygon fill=\"black\" points=\"2651.16,-183.657 2640.66,-185.053 2649.74,-190.511 2651.16,-183.657\" stroke=\"black\"/>\n",
       "</g>\n",
       "<!-- 140404913129040&#45;&gt;140404789787984 -->\n",
       "<g class=\"edge\" id=\"edge67\"><title>140404913129040-&gt;140404789787984</title>\n",
       "<path d=\"M2939.17,-224.05C2936.08,-223.312 2933.01,-222.622 2930,-222 2811.63,-197.54 2777.44,-204.804 2653.88,-186.075\" fill=\"none\" stroke=\"black\"/>\n",
       "<polygon fill=\"black\" points=\"2654.06,-182.562 2643.64,-184.496 2652.99,-189.48 2654.06,-182.562\" stroke=\"black\"/>\n",
       "</g>\n",
       "<!-- 140404913070928&#45;&gt;140404789787984 -->\n",
       "<g class=\"edge\" id=\"edge68\"><title>140404913070928-&gt;140404789787984</title>\n",
       "<path d=\"M3064.2,-223.906C3061.1,-223.205 3058.02,-222.561 3055,-222 2881.83,-189.806 2832.51,-209.487 2653.62,-185.996\" fill=\"none\" stroke=\"black\"/>\n",
       "<polygon fill=\"black\" points=\"2653.99,-182.514 2643.61,-184.655 2653.06,-189.452 2653.99,-182.514\" stroke=\"black\"/>\n",
       "</g>\n",
       "<!-- 140404912025488&#45;&gt;140404789787984 -->\n",
       "<g class=\"edge\" id=\"edge69\"><title>140404912025488-&gt;140404789787984</title>\n",
       "<path d=\"M3189.22,-223.829C3186.11,-223.147 3183.03,-222.529 3180,-222 2952.02,-182.102 2887.75,-214.312 2653.79,-185.998\" fill=\"none\" stroke=\"black\"/>\n",
       "<polygon fill=\"black\" points=\"2653.96,-182.492 2643.6,-184.74 2653.1,-189.439 2653.96,-182.492\" stroke=\"black\"/>\n",
       "</g>\n",
       "<!-- 140404913328208&#45;&gt;140404789787984 -->\n",
       "<g class=\"edge\" id=\"edge70\"><title>140404913328208-&gt;140404789787984</title>\n",
       "<path d=\"M3314.23,-223.782C3311.12,-223.112 3308.03,-222.51 3305,-222 3022.02,-174.377 2942.96,-219.251 2653.54,-185.957\" fill=\"none\" stroke=\"black\"/>\n",
       "<polygon fill=\"black\" points=\"2653.94,-182.479 2643.6,-184.792 2653.12,-189.432 2653.94,-182.479\" stroke=\"black\"/>\n",
       "</g>\n",
       "<!-- 140404911828240&#45;&gt;140404789787984 -->\n",
       "<g class=\"edge\" id=\"edge71\"><title>140404911828240-&gt;140404789787984</title>\n",
       "<path d=\"M3439.23,-223.75C3436.12,-223.088 3433.03,-222.496 3430,-222 3092.09,-166.67 2998.24,-224.199 2653.6,-185.957\" fill=\"none\" stroke=\"black\"/>\n",
       "<polygon fill=\"black\" points=\"2653.92,-182.471 2643.59,-184.827 2653.14,-189.427 2653.92,-182.471\" stroke=\"black\"/>\n",
       "</g>\n",
       "<!-- 140404912151632&#45;&gt;140404789787984 -->\n",
       "<g class=\"edge\" id=\"edge72\"><title>140404912151632-&gt;140404789787984</title>\n",
       "<path d=\"M3564.23,-223.726C3561.13,-223.071 3558.03,-222.487 3555,-222 3162.15,-158.966 3053.55,-229.166 2653.69,-185.962\" fill=\"none\" stroke=\"black\"/>\n",
       "<polygon fill=\"black\" points=\"2653.91,-182.465 2643.59,-184.853 2653.15,-189.423 2653.91,-182.465\" stroke=\"black\"/>\n",
       "</g>\n",
       "<!-- 140404911638480&#45;&gt;140404789787984 -->\n",
       "<g class=\"edge\" id=\"edge73\"><title>140404911638480-&gt;140404789787984</title>\n",
       "<path d=\"M3689.24,-223.709C3686.13,-223.058 3683.03,-222.479 3680,-222 3232.17,-151.259 3108.85,-234.155 2653.72,-185.961\" fill=\"none\" stroke=\"black\"/>\n",
       "<polygon fill=\"black\" points=\"2653.9,-182.461 2643.59,-184.873 2653.16,-189.421 2653.9,-182.461\" stroke=\"black\"/>\n",
       "</g>\n",
       "<!-- 140404911243856&#45;&gt;140404789787984 -->\n",
       "<g class=\"edge\" id=\"edge74\"><title>140404911243856-&gt;140404789787984</title>\n",
       "<path d=\"M3814.24,-223.695C3811.13,-223.047 3808.03,-222.473 3805,-222 3302.21,-143.556 3164.17,-239.147 2653.8,-185.966\" fill=\"none\" stroke=\"black\"/>\n",
       "<polygon fill=\"black\" points=\"2653.9,-182.458 2643.59,-184.888 2653.16,-189.419 2653.9,-182.458\" stroke=\"black\"/>\n",
       "</g>\n",
       "<!-- 140404911374096&#45;&gt;140404789787984 -->\n",
       "<g class=\"edge\" id=\"edge75\"><title>140404911374096-&gt;140404789787984</title>\n",
       "<path d=\"M3939.24,-223.684C3936.13,-223.039 3933.04,-222.469 3930,-222 3372.16,-135.84 3219.45,-244.176 2653.63,-185.947\" fill=\"none\" stroke=\"black\"/>\n",
       "<polygon fill=\"black\" points=\"2653.89,-182.455 2643.59,-184.9 2653.17,-189.418 2653.89,-182.455\" stroke=\"black\"/>\n",
       "</g>\n",
       "<!-- 140404911708496&#45;&gt;140404789787984 -->\n",
       "<g class=\"edge\" id=\"edge76\"><title>140404911708496-&gt;140404789787984</title>\n",
       "<path d=\"M4064.24,-223.675C4061.13,-223.032 4058.04,-222.465 4055,-222 3750.09,-175.298 2979.01,-217.368 2653.56,-185.912\" fill=\"none\" stroke=\"black\"/>\n",
       "<polygon fill=\"black\" points=\"2653.88,-182.427 2643.58,-184.91 2653.18,-189.392 2653.88,-182.427\" stroke=\"black\"/>\n",
       "</g>\n",
       "<!-- 140404911502992&#45;&gt;140404789787984 -->\n",
       "<g class=\"edge\" id=\"edge77\"><title>140404911502992-&gt;140404789787984</title>\n",
       "<path d=\"M4189.24,-223.667C4186.13,-223.026 4183.04,-222.462 4180,-222 3847.63,-171.449 3006.85,-219.828 2653.63,-185.919\" fill=\"none\" stroke=\"black\"/>\n",
       "<polygon fill=\"black\" points=\"2653.88,-182.427 2643.58,-184.919 2653.19,-189.392 2653.88,-182.427\" stroke=\"black\"/>\n",
       "</g>\n",
       "<!-- 140404910734160&#45;&gt;140404789787984 -->\n",
       "<g class=\"edge\" id=\"edge78\"><title>140404910734160-&gt;140404789787984</title>\n",
       "<path d=\"M4314.24,-223.661C4311.13,-223.022 4308.04,-222.459 4305,-222 3945.12,-167.593 3034.49,-222.308 2653.59,-185.915\" fill=\"none\" stroke=\"black\"/>\n",
       "<polygon fill=\"black\" points=\"2653.88,-182.427 2643.58,-184.926 2653.19,-189.393 2653.88,-182.427\" stroke=\"black\"/>\n",
       "</g>\n",
       "<!-- 140404911188880&#45;&gt;140404789787984 -->\n",
       "<g class=\"edge\" id=\"edge79\"><title>140404911188880-&gt;140404789787984</title>\n",
       "<path d=\"M4439.25,-223.655C4436.13,-223.017 4433.04,-222.457 4430,-222 4042.66,-163.746 3062.41,-224.775 2653.72,-185.928\" fill=\"none\" stroke=\"black\"/>\n",
       "<polygon fill=\"black\" points=\"2653.88,-182.427 2643.58,-184.932 2653.19,-189.393 2653.88,-182.427\" stroke=\"black\"/>\n",
       "</g>\n",
       "<!-- 140404910606224&#45;&gt;140404789787984 -->\n",
       "<g class=\"edge\" id=\"edge80\"><title>140404910606224-&gt;140404789787984</title>\n",
       "<path d=\"M4564.25,-223.65C4561.13,-223.014 4558.04,-222.455 4555,-222 4140.18,-159.895 3090.19,-227.256 2653.78,-185.934\" fill=\"none\" stroke=\"black\"/>\n",
       "<polygon fill=\"black\" points=\"2653.87,-182.427 2643.58,-184.937 2653.19,-189.394 2653.87,-182.427\" stroke=\"black\"/>\n",
       "</g>\n",
       "<!-- 140404910939472&#45;&gt;140404789787984 -->\n",
       "<g class=\"edge\" id=\"edge81\"><title>140404910939472-&gt;140404789787984</title>\n",
       "<path d=\"M4689.25,-223.646C4686.14,-223.011 4683.04,-222.453 4680,-222 4237.68,-156.041 3117.84,-229.748 2653.75,-185.931\" fill=\"none\" stroke=\"black\"/>\n",
       "<polygon fill=\"black\" points=\"2653.87,-182.427 2643.58,-184.942 2653.19,-189.394 2653.87,-182.427\" stroke=\"black\"/>\n",
       "</g>\n",
       "<!-- 140404910277264&#45;&gt;140404789787984 -->\n",
       "<g class=\"edge\" id=\"edge82\"><title>140404910277264-&gt;140404789787984</title>\n",
       "<path d=\"M4814.25,-223.642C4811.14,-223.008 4808.04,-222.451 4805,-222 4335.14,-152.182 3145.35,-232.253 2653.63,-185.921\" fill=\"none\" stroke=\"black\"/>\n",
       "<polygon fill=\"black\" points=\"2653.87,-182.428 2643.58,-184.946 2653.2,-189.395 2653.87,-182.428\" stroke=\"black\"/>\n",
       "</g>\n",
       "<!-- 140404910411600&#45;&gt;140404789787984 -->\n",
       "<g class=\"edge\" id=\"edge83\"><title>140404910411600-&gt;140404789787984</title>\n",
       "<path d=\"M4939.25,-223.639C4936.14,-223.005 4933.04,-222.45 4930,-222 4432.7,-148.338 3173.35,-234.728 2653.82,-185.939\" fill=\"none\" stroke=\"black\"/>\n",
       "<polygon fill=\"black\" points=\"2653.87,-182.427 2643.58,-184.95 2653.2,-189.395 2653.87,-182.427\" stroke=\"black\"/>\n",
       "</g>\n",
       "<!-- 140404910220496&#45;&gt;140404789787984 -->\n",
       "<g class=\"edge\" id=\"edge84\"><title>140404910220496-&gt;140404789787984</title>\n",
       "<path d=\"M5064.25,-223.636C5061.14,-223.003 5058.04,-222.449 5055,-222 4530.12,-144.473 3200.62,-237.255 2653.57,-185.915\" fill=\"none\" stroke=\"black\"/>\n",
       "<polygon fill=\"black\" points=\"2653.87,-182.428 2643.58,-184.953 2653.2,-189.396 2653.87,-182.428\" stroke=\"black\"/>\n",
       "</g>\n",
       "<!-- 140404789882640 -->\n",
       "<g class=\"node\" id=\"node46\"><title>140404789882640</title>\n",
       "<polygon fill=\"none\" points=\"2518,-75 2518,-111 2640,-111 2640,-75 2518,-75\" stroke=\"black\"/>\n",
       "<text font-family=\"Times,serif\" font-size=\"14.00\" text-anchor=\"middle\" x=\"2579\" y=\"-89.3\">concat_zs: Lambda</text>\n",
       "</g>\n",
       "<!-- 140404789787984&#45;&gt;140404789882640 -->\n",
       "<g class=\"edge\" id=\"edge85\"><title>140404789787984-&gt;140404789882640</title>\n",
       "<path d=\"M2560.69,-148.937C2563.46,-140.63 2566.85,-130.444 2569.96,-121.108\" fill=\"none\" stroke=\"black\"/>\n",
       "<polygon fill=\"black\" points=\"2573.34,-122.034 2573.19,-111.441 2566.7,-119.821 2573.34,-122.034\" stroke=\"black\"/>\n",
       "</g>\n",
       "<!-- 140404910095568 -->\n",
       "<g class=\"node\" id=\"node45\"><title>140404910095568</title>\n",
       "<polygon fill=\"none\" points=\"2662,-149 2662,-185 2796,-185 2796,-149 2662,-149\" stroke=\"black\"/>\n",
       "<text font-family=\"Times,serif\" font-size=\"14.00\" text-anchor=\"middle\" x=\"2729\" y=\"-163.3\">input_idf: InputLayer</text>\n",
       "</g>\n",
       "<!-- 140404788730960 -->\n",
       "<g class=\"node\" id=\"node47\"><title>140404788730960</title>\n",
       "<polygon fill=\"none\" points=\"2670,-75 2670,-111 2764,-111 2764,-75 2670,-75\" stroke=\"black\"/>\n",
       "<text font-family=\"Times,serif\" font-size=\"14.00\" text-anchor=\"middle\" x=\"2717\" y=\"-89.3\">gating: Model</text>\n",
       "</g>\n",
       "<!-- 140404910095568&#45;&gt;140404788730960 -->\n",
       "<g class=\"edge\" id=\"edge127\"><title>140404910095568-&gt;140404788730960</title>\n",
       "<path d=\"M2726.16,-148.937C2724.79,-140.719 2723.11,-130.66 2721.57,-121.406\" fill=\"none\" stroke=\"black\"/>\n",
       "<polygon fill=\"black\" points=\"2725,-120.729 2719.91,-111.441 2718.1,-121.88 2725,-120.729\" stroke=\"black\"/>\n",
       "</g>\n",
       "<!-- 140404910156176 -->\n",
       "<g class=\"node\" id=\"node48\"><title>140404910156176</title>\n",
       "<polygon fill=\"none\" points=\"2569,-1 2569,-37 2727,-37 2727,-1 2569,-1\" stroke=\"black\"/>\n",
       "<text font-family=\"Times,serif\" font-size=\"14.00\" text-anchor=\"middle\" x=\"2648\" y=\"-15.3\">innerprod_zs_gs: Lambda</text>\n",
       "</g>\n",
       "<!-- 140404789882640&#45;&gt;140404910156176 -->\n",
       "<g class=\"edge\" id=\"edge128\"><title>140404789882640-&gt;140404910156176</title>\n",
       "<path d=\"M2595.35,-74.937C2603.99,-65.9235 2614.75,-54.6959 2624.29,-44.7443\" fill=\"none\" stroke=\"black\"/>\n",
       "<polygon fill=\"black\" points=\"2626.89,-47.0823 2631.29,-37.4407 2621.84,-42.2389 2626.89,-47.0823\" stroke=\"black\"/>\n",
       "</g>\n",
       "<!-- 140404788730960&#45;&gt;140404910156176 -->\n",
       "<g class=\"edge\" id=\"edge129\"><title>140404788730960-&gt;140404910156176</title>\n",
       "<path d=\"M2700.65,-74.937C2692.01,-65.9235 2681.25,-54.6959 2671.71,-44.7443\" fill=\"none\" stroke=\"black\"/>\n",
       "<polygon fill=\"black\" points=\"2674.16,-42.2389 2664.71,-37.4407 2669.11,-47.0823 2674.16,-42.2389\" stroke=\"black\"/>\n",
       "</g>\n",
       "</g>\n",
       "</svg>"
      ],
      "text/plain": [
       "<IPython.core.display.SVG object>"
      ]
     },
     "execution_count": 62,
     "metadata": {},
     "output_type": "execute_result"
    }
   ],
   "source": [
    "viz_model(scoring_model)"
   ]
  },
  {
   "cell_type": "markdown",
   "metadata": {},
   "source": [
    "# III. train model"
   ]
  },
  {
   "cell_type": "code",
   "execution_count": 36,
   "metadata": {
    "collapsed": true
   },
   "outputs": [],
   "source": [
    "querypmc2histvec = {} # mapping from (query_idx, pmcid) to the corresponding input vectors (idf_input, hist_input) tuple"
   ]
  },
  {
   "cell_type": "code",
   "execution_count": 37,
   "metadata": {
    "collapsed": false
   },
   "outputs": [
    {
     "name": "stderr",
     "output_type": "stream",
     "text": [
      "100%|██████████| 30/30 [3:29:12<00:00, 466.32s/it]\n"
     ]
    }
   ],
   "source": [
    "for q in tqdm(xrange(30)):\n",
    "    query = QUERIES[q]\n",
    "    for pmcid in pmcid_2relevance[q+1].keys():\n",
    "        _idf = IDFs[q].reshape(-1,N)\n",
    "        _hist = get_query_doc_feature(query, pmcid).reshape(1,N,30)\n",
    "        querypmc2histvec[(q, pmcid)] = (_idf, _hist)"
   ]
  },
  {
   "cell_type": "code",
   "execution_count": 38,
   "metadata": {
    "collapsed": true
   },
   "outputs": [],
   "source": [
    "data_to_pickle = {\n",
    "    'querypmc2histvec': querypmc2histvec,\n",
    "    'hists_pos': hists_pos,\n",
    "    'hists_neg': hists_neg,\n",
    "    'pos_ids': pos_ids,\n",
    "    'neg_ids': neg_ids,\n",
    "    'pmcid_2relevance': pmcid_2relevance,\n",
    "    'corpus': corpus,\n",
    "    'word2vec': word2vec\n",
    "}\n",
    "with open('data/IRdata.pk', 'wb') as f:\n",
    "    pk.dump(data_to_pickle, f, pk.HIGHEST_PROTOCOL)"
   ]
  },
  {
   "cell_type": "markdown",
   "metadata": {},
   "source": [
    "## train model using `fit_generator`"
   ]
  },
  {
   "cell_type": "code",
   "execution_count": 39,
   "metadata": {
    "collapsed": true
   },
   "outputs": [],
   "source": [
    "logdir = './logs/relevance_matching'\n",
    "_callbacks = [ EarlyStopping(monitor='val_loss', patience=2),\n",
    "               TensorBoard(log_dir=logdir, histogram_freq=0, write_graph=False) ]"
   ]
  },
  {
   "cell_type": "code",
   "execution_count": 28,
   "metadata": {
    "collapsed": false,
    "scrolled": false
   },
   "outputs": [
    {
     "name": "stdout",
     "output_type": "stream",
     "text": [
      "Epoch 1/50\n",
      "3267456/3267456 [==============================] - 202s - loss: 0.9046 - ranking_acc: 0.5778 - val_loss: 0.9763 - val_ranking_acc: 0.5424\n",
      "Epoch 2/50\n",
      "3267456/3267456 [==============================] - 198s - loss: 0.8813 - ranking_acc: 0.5945 - val_loss: 0.9882 - val_ranking_acc: 0.5258\n",
      "Epoch 3/50\n",
      "3267456/3267456 [==============================] - 199s - loss: 0.8742 - ranking_acc: 0.5983 - val_loss: 0.9905 - val_ranking_acc: 0.5246\n",
      "Epoch 4/50\n",
      "3267456/3267456 [==============================] - 203s - loss: 0.8709 - ranking_acc: 0.5999 - val_loss: 0.9927 - val_ranking_acc: 0.5237\n"
     ]
    },
    {
     "data": {
      "text/plain": [
       "<keras.callbacks.History at 0x7f791fbb3f90>"
      ]
     },
     "execution_count": 28,
     "metadata": {},
     "output_type": "execute_result"
    }
   ],
   "source": [
    "# 30-5-1 tanh\n",
    "ranking_model.fit_generator( batch_generator(idx_pairs_train), \n",
    "                    samples_per_epoch = len(idx_pairs_train)//BATCH_SZ*BATCH_SZ,\n",
    "                    nb_epoch=NB_EPOCH,\n",
    "                    validation_data=batch_generator(idx_pairs_val),\n",
    "                    nb_val_samples=len(idx_pairs_val)//BATCH_SZ*BATCH_SZ, \n",
    "                    callbacks = _callbacks)"
   ]
  },
  {
   "cell_type": "code",
   "execution_count": 42,
   "metadata": {
    "collapsed": false,
    "scrolled": true
   },
   "outputs": [
    {
     "data": {
      "text/plain": [
       "array([[ 0.13057594,  0.00933529,  0.01021741,  0.02965928,  0.10123158,\n",
       "         0.07826629,  0.64071429,  0.        ,  0.        ,  0.        ,\n",
       "         0.        ,  0.        ,  0.        ,  0.        ,  0.        ,\n",
       "         0.        ,  0.        ,  0.        ,  0.        ,  0.        ,\n",
       "         0.        ,  0.        ,  0.        ,  0.        ,  0.        ,\n",
       "         0.        ,  0.        ,  0.        ,  0.        ,  0.        ,\n",
       "         0.        ,  0.        ,  0.        ,  0.        ,  0.        ,\n",
       "         0.        ,  0.        ,  0.        ,  0.        ,  0.        ,\n",
       "         0.        ,  0.        ]], dtype=float32)"
      ]
     },
     "execution_count": 42,
     "metadata": {},
     "output_type": "execute_result"
    }
   ],
   "source": [
    "gating.predict(IDFs[0].reshape(-1,N))"
   ]
  },
  {
   "cell_type": "code",
   "execution_count": 40,
   "metadata": {
    "collapsed": true
   },
   "outputs": [],
   "source": [
    "def shuffle_weights(model, weights=None):\n",
    "    \"\"\"Randomly permute the weights in `model`, or the given `weights`.\n",
    "    This is a fast approximation of re-initializing the weights of a model.\n",
    "    Assumes weights are distributed independently of the dimensions of the weight tensors\n",
    "      (i.e., the weights have the same distribution along each dimension).\n",
    "    :param Model model: Modify the weights of the given model.\n",
    "    :param list(ndarray) weights: The model's weights will be replaced by a random permutation of these weights.\n",
    "      If `None`, permute the model's current weights.\n",
    "    \"\"\"\n",
    "    if weights is None:\n",
    "        weights = model.get_weights()\n",
    "    weights = [np.random.permutation(w.flat).reshape(w.shape) for w in weights]\n",
    "    model.set_weights(weights)"
   ]
  },
  {
   "cell_type": "code",
   "execution_count": 41,
   "metadata": {
    "collapsed": false
   },
   "outputs": [],
   "source": [
    "def TREC_output(topic_id, pmcids, run_name = 'my_run', fpath = None):\n",
    "    query = QUERIES[topic_id]\n",
    "    res = [] # list of (score, pmcid) tuples\n",
    "    for pmcid in tqdm(pmcids):\n",
    "        input_idf, input_hist = querypmc2histvec[(topic_id,pmcid)] # get_query_doc_feature(query, pmcid).reshape(1,N,30)\n",
    "        score = scoring_model.predict([input_idf, input_hist])[0]\n",
    "        res.append( (score, pmcid) )\n",
    "    res = sorted(res, reverse=True)\n",
    "#     print res[:10]\n",
    "    fout = sys.stdout if fpath==None else open(fpath, 'a')\n",
    "    for rank, (score, pmcid) in enumerate(res[:1000],1):\n",
    "        print >>fout, '%d  Q0  %s  %d  %f  %s' % (topic_id+1, pmcid, rank, score, run_name)"
   ]
  },
  {
   "cell_type": "code",
   "execution_count": 42,
   "metadata": {
    "collapsed": false
   },
   "outputs": [],
   "source": [
    "def LOO(fpath):\n",
    "    for q in xrange(30):\n",
    "        print '### loo for topic %d ###' % (q+1)\n",
    "        shuffle_weights(ranking_model, initial_weights)\n",
    "        idx_pairs_train = reduce( lambda x,y: x+y, idx_pairs[:q]+idx_pairs[q+1:] )\n",
    "        idx_pairs_val   = idx_pairs[q]\n",
    "        ranking_model.fit_generator( batch_generator(idx_pairs_train), \n",
    "                    samples_per_epoch = len(idx_pairs_train)//BATCH_SZ*BATCH_SZ,\n",
    "                    nb_epoch=20,\n",
    "                    validation_data=batch_generator(idx_pairs_val),\n",
    "                    nb_val_samples=len(idx_pairs_val)//BATCH_SZ*BATCH_SZ, \n",
    "                    callbacks = _callbacks)\n",
    "        sys.stderr.flush()\n",
    "        TREC_output(q, pmcid_2relevance[q+1].keys(), fpath=fpath)"
   ]
  },
  {
   "cell_type": "code",
   "execution_count": 43,
   "metadata": {
    "collapsed": false,
    "scrolled": true
   },
   "outputs": [
    {
     "name": "stdout",
     "output_type": "stream",
     "text": [
      "### loo for topic 1 ###\n",
      "Epoch 1/20\n",
      "3793920/3793920 [==============================] - 652s - loss: 0.9250 - ranking_acc: 0.5713 - val_loss: 1.0072 - val_ranking_acc: 0.4946\n",
      "Epoch 2/20\n",
      "3793920/3793920 [==============================] - 644s - loss: 0.9113 - ranking_acc: 0.5794 - val_loss: 0.9923 - val_ranking_acc: 0.5101\n",
      "Epoch 3/20\n",
      "3793920/3793920 [==============================] - 642s - loss: 0.9069 - ranking_acc: 0.5825 - val_loss: 0.9782 - val_ranking_acc: 0.5216\n",
      "Epoch 4/20\n",
      "3793920/3793920 [==============================] - 644s - loss: 0.9036 - ranking_acc: 0.5853 - val_loss: 0.9691 - val_ranking_acc: 0.5276\n",
      "Epoch 5/20\n",
      "3793920/3793920 [==============================] - 647s - loss: 0.9007 - ranking_acc: 0.5879 - val_loss: 0.9624 - val_ranking_acc: 0.5332\n",
      "Epoch 6/20\n",
      "3793920/3793920 [==============================] - 652s - loss: 0.8980 - ranking_acc: 0.5901 - val_loss: 0.9603 - val_ranking_acc: 0.5347\n",
      "Epoch 7/20\n",
      "3793920/3793920 [==============================] - 656s - loss: 0.8958 - ranking_acc: 0.5914 - val_loss: 0.9587 - val_ranking_acc: 0.5339\n",
      "Epoch 8/20\n",
      "3793920/3793920 [==============================] - 657s - loss: 0.8940 - ranking_acc: 0.5926 - val_loss: 0.9590 - val_ranking_acc: 0.5333\n",
      "Epoch 9/20\n",
      "3793920/3793920 [==============================] - 651s - loss: 0.8926 - ranking_acc: 0.5932 - val_loss: 0.9590 - val_ranking_acc: 0.5333\n",
      "Epoch 10/20\n",
      "3793920/3793920 [==============================] - 656s - loss: 0.8912 - ranking_acc: 0.5939 - val_loss: 0.9571 - val_ranking_acc: 0.5347\n",
      "Epoch 11/20\n",
      "3793920/3793920 [==============================] - 660s - loss: 0.8900 - ranking_acc: 0.5944 - val_loss: 0.9550 - val_ranking_acc: 0.5364\n",
      "Epoch 12/20\n",
      "3793920/3793920 [==============================] - 653s - loss: 0.8890 - ranking_acc: 0.5949 - val_loss: 0.9537 - val_ranking_acc: 0.5390\n",
      "Epoch 13/20\n",
      "3793920/3793920 [==============================] - 655s - loss: 0.8880 - ranking_acc: 0.5955 - val_loss: 0.9550 - val_ranking_acc: 0.5378\n",
      "Epoch 14/20\n",
      "3793920/3793920 [==============================] - 653s - loss: 0.8870 - ranking_acc: 0.5962 - val_loss: 0.9542 - val_ranking_acc: 0.5376\n",
      "Epoch 15/20\n",
      "3793920/3793920 [==============================] - 659s - loss: 0.8861 - ranking_acc: 0.5968 - val_loss: 0.9540 - val_ranking_acc: 0.5392"
     ]
    },
    {
     "name": "stderr",
     "output_type": "stream",
     "text": [
      "  0%|          | 1/1340 [00:00<03:53,  5.73it/s]"
     ]
    },
    {
     "name": "stdout",
     "output_type": "stream",
     "text": [
      "\n"
     ]
    },
    {
     "name": "stderr",
     "output_type": "stream",
     "text": [
      "100%|██████████| 1340/1340 [00:02<00:00, 528.25it/s]\n"
     ]
    },
    {
     "name": "stdout",
     "output_type": "stream",
     "text": [
      "### loo for topic 2 ###\n",
      "Epoch 1/20\n",
      "3906304/3906304 [==============================] - 655s - loss: 1.0003 - ranking_acc: 0.4977 - val_loss: 1.0016 - val_ranking_acc: 0.4845\n",
      "Epoch 2/20\n",
      "3906304/3906304 [==============================] - 655s - loss: 0.9836 - ranking_acc: 0.5185 - val_loss: 0.9651 - val_ranking_acc: 0.5830\n",
      "Epoch 3/20\n",
      "3906304/3906304 [==============================] - 655s - loss: 0.9666 - ranking_acc: 0.5370 - val_loss: 0.9614 - val_ranking_acc: 0.6071\n",
      "Epoch 4/20\n",
      "3906304/3906304 [==============================] - 655s - loss: 0.9596 - ranking_acc: 0.5421 - val_loss: 0.9621 - val_ranking_acc: 0.6159\n",
      "Epoch 5/20\n",
      "3906304/3906304 [==============================] - 660s - loss: 0.9571 - ranking_acc: 0.5445 - val_loss: 0.9587 - val_ranking_acc: 0.6250\n",
      "Epoch 6/20\n",
      "3906304/3906304 [==============================] - 665s - loss: 0.9560 - ranking_acc: 0.5461 - val_loss: 0.9538 - val_ranking_acc: 0.6374\n",
      "Epoch 7/20\n",
      "3906304/3906304 [==============================] - 665s - loss: 0.9553 - ranking_acc: 0.5471 - val_loss: 0.9502 - val_ranking_acc: 0.6418\n",
      "Epoch 8/20\n",
      "3906304/3906304 [==============================] - 671s - loss: 0.9546 - ranking_acc: 0.5479 - val_loss: 0.9472 - val_ranking_acc: 0.6439\n",
      "Epoch 9/20\n",
      "3906304/3906304 [==============================] - 676s - loss: 0.9538 - ranking_acc: 0.5488 - val_loss: 0.9449 - val_ranking_acc: 0.6438\n",
      "Epoch 10/20\n",
      "3906304/3906304 [==============================] - 675s - loss: 0.9531 - ranking_acc: 0.5496 - val_loss: 0.9412 - val_ranking_acc: 0.6425\n",
      "Epoch 11/20\n",
      "3906304/3906304 [==============================] - 656s - loss: 0.9523 - ranking_acc: 0.5506 - val_loss: 0.9380 - val_ranking_acc: 0.6424\n",
      "Epoch 12/20\n",
      "3906304/3906304 [==============================] - 681s - loss: 0.9514 - ranking_acc: 0.5514 - val_loss: 0.9344 - val_ranking_acc: 0.6382\n",
      "Epoch 13/20\n",
      "3906304/3906304 [==============================] - 662s - loss: 0.9503 - ranking_acc: 0.5525 - val_loss: 0.9301 - val_ranking_acc: 0.6348\n",
      "Epoch 14/20\n",
      "3906304/3906304 [==============================] - 659s - loss: 0.9490 - ranking_acc: 0.5535 - val_loss: 0.9252 - val_ranking_acc: 0.6304\n",
      "Epoch 15/20\n",
      "3906304/3906304 [==============================] - 665s - loss: 0.9475 - ranking_acc: 0.5546 - val_loss: 0.9247 - val_ranking_acc: 0.6206\n",
      "Epoch 16/20\n",
      "3906304/3906304 [==============================] - 670s - loss: 0.9457 - ranking_acc: 0.5557 - val_loss: 0.9194 - val_ranking_acc: 0.6124\n",
      "Epoch 17/20\n",
      "3906304/3906304 [==============================] - 674s - loss: 0.9432 - ranking_acc: 0.5566 - val_loss: 0.9152 - val_ranking_acc: 0.6055\n",
      "Epoch 18/20\n",
      "3906304/3906304 [==============================] - 672s - loss: 0.9402 - ranking_acc: 0.5578 - val_loss: 0.9252 - val_ranking_acc: 0.5852\n",
      "Epoch 19/20\n",
      "3906304/3906304 [==============================] - 673s - loss: 0.9370 - ranking_acc: 0.5589 - val_loss: 0.9261 - val_ranking_acc: 0.5815\n",
      "Epoch 20/20\n",
      "3906304/3906304 [==============================] - 675s - loss: 0.9339 - ranking_acc: 0.5600 - val_loss: 0.9360 - val_ranking_acc: 0.5716"
     ]
    },
    {
     "name": "stderr",
     "output_type": "stream",
     "text": [
      "  5%|▌         | 64/1196 [00:00<00:01, 636.34it/s]"
     ]
    },
    {
     "name": "stdout",
     "output_type": "stream",
     "text": [
      "\n"
     ]
    },
    {
     "name": "stderr",
     "output_type": "stream",
     "text": [
      "100%|██████████| 1196/1196 [00:02<00:00, 581.97it/s]\n"
     ]
    },
    {
     "name": "stdout",
     "output_type": "stream",
     "text": [
      "### loo for topic 3 ###\n",
      "Epoch 1/20\n",
      "3771776/3771776 [==============================] - 642s - loss: 0.9855 - ranking_acc: 0.5273 - val_loss: 0.9520 - val_ranking_acc: 0.5621\n",
      "Epoch 2/20\n",
      "3771776/3771776 [==============================] - 647s - loss: 0.9687 - ranking_acc: 0.5367 - val_loss: 0.9427 - val_ranking_acc: 0.5618\n",
      "Epoch 3/20\n",
      "3771776/3771776 [==============================] - 653s - loss: 0.9602 - ranking_acc: 0.5397 - val_loss: 0.9387 - val_ranking_acc: 0.5620\n",
      "Epoch 4/20\n",
      "3771776/3771776 [==============================] - 655s - loss: 0.9556 - ranking_acc: 0.5418 - val_loss: 0.9357 - val_ranking_acc: 0.5630\n",
      "Epoch 5/20\n",
      "3771776/3771776 [==============================] - 657s - loss: 0.9529 - ranking_acc: 0.5429 - val_loss: 0.9356 - val_ranking_acc: 0.5610\n",
      "Epoch 6/20\n",
      "3771776/3771776 [==============================] - 642s - loss: 0.9511 - ranking_acc: 0.5439 - val_loss: 0.9356 - val_ranking_acc: 0.5604\n",
      "Epoch 7/20\n",
      "3771776/3771776 [==============================] - 646s - loss: 0.9497 - ranking_acc: 0.5447 - val_loss: 0.9344 - val_ranking_acc: 0.5599\n",
      "Epoch 8/20\n",
      "3771776/3771776 [==============================] - 653s - loss: 0.9485 - ranking_acc: 0.5453 - val_loss: 0.9365 - val_ranking_acc: 0.5573\n",
      "Epoch 9/20\n",
      "3771776/3771776 [==============================] - 656s - loss: 0.9472 - ranking_acc: 0.5462 - val_loss: 0.9398 - val_ranking_acc: 0.5532\n",
      "Epoch 10/20\n",
      "3771776/3771776 [==============================] - 663s - loss: 0.9457 - ranking_acc: 0.5473 - val_loss: 0.9428 - val_ranking_acc: 0.5507"
     ]
    },
    {
     "name": "stderr",
     "output_type": "stream",
     "text": [
      "  5%|▍         | 61/1353 [00:00<00:02, 600.64it/s]"
     ]
    },
    {
     "name": "stdout",
     "output_type": "stream",
     "text": [
      "\n"
     ]
    },
    {
     "name": "stderr",
     "output_type": "stream",
     "text": [
      "100%|██████████| 1353/1353 [00:02<00:00, 570.54it/s]\n"
     ]
    },
    {
     "name": "stdout",
     "output_type": "stream",
     "text": [
      "### loo for topic 4 ###\n",
      "Epoch 1/20\n",
      "3922304/3922304 [==============================] - 668s - loss: 0.9973 - ranking_acc: 0.5010 - val_loss: 1.0020 - val_ranking_acc: 0.4910\n",
      "Epoch 2/20\n",
      "3922304/3922304 [==============================] - 669s - loss: 0.9850 - ranking_acc: 0.5233 - val_loss: 1.0375 - val_ranking_acc: 0.4183\n",
      "Epoch 3/20\n",
      "3922304/3922304 [==============================] - 679s - loss: 0.9769 - ranking_acc: 0.5337 - val_loss: 1.0628 - val_ranking_acc: 0.3842\n",
      "Epoch 4/20\n",
      "3922304/3922304 [==============================] - 670s - loss: 0.9688 - ranking_acc: 0.5390 - val_loss: 1.0874 - val_ranking_acc: 0.3646"
     ]
    },
    {
     "name": "stderr",
     "output_type": "stream",
     "text": [
      "  4%|▍         | 50/1328 [00:00<00:02, 494.93it/s]"
     ]
    },
    {
     "name": "stdout",
     "output_type": "stream",
     "text": [
      "\n"
     ]
    },
    {
     "name": "stderr",
     "output_type": "stream",
     "text": [
      "100%|██████████| 1328/1328 [00:02<00:00, 540.87it/s]\n"
     ]
    },
    {
     "name": "stdout",
     "output_type": "stream",
     "text": [
      "### loo for topic 5 ###\n",
      "Epoch 1/20\n",
      "3823360/3823360 [==============================] - 649s - loss: 0.9936 - ranking_acc: 0.5171 - val_loss: 0.9317 - val_ranking_acc: 0.5773\n",
      "Epoch 2/20\n",
      "3823360/3823360 [==============================] - 651s - loss: 0.9861 - ranking_acc: 0.5266 - val_loss: 0.9307 - val_ranking_acc: 0.5655\n",
      "Epoch 3/20\n",
      "3823360/3823360 [==============================] - 654s - loss: 0.9814 - ranking_acc: 0.5356 - val_loss: 0.9404 - val_ranking_acc: 0.5579\n",
      "Epoch 4/20\n",
      "3823360/3823360 [==============================] - 661s - loss: 0.9760 - ranking_acc: 0.5445 - val_loss: 0.9386 - val_ranking_acc: 0.5618\n",
      "Epoch 5/20\n",
      "3823360/3823360 [==============================] - 651s - loss: 0.9693 - ranking_acc: 0.5517 - val_loss: 0.9267 - val_ranking_acc: 0.5732\n",
      "Epoch 6/20\n",
      "3823360/3823360 [==============================] - 657s - loss: 0.9618 - ranking_acc: 0.5574 - val_loss: 0.9038 - val_ranking_acc: 0.5919\n",
      "Epoch 7/20\n",
      "3823360/3823360 [==============================] - 654s - loss: 0.9544 - ranking_acc: 0.5616 - val_loss: 0.8784 - val_ranking_acc: 0.6118\n",
      "Epoch 8/20\n",
      "3823360/3823360 [==============================] - 661s - loss: 0.9477 - ranking_acc: 0.5651 - val_loss: 0.8579 - val_ranking_acc: 0.6293\n",
      "Epoch 9/20\n",
      "3823360/3823360 [==============================] - 661s - loss: 0.9417 - ranking_acc: 0.5676 - val_loss: 0.8420 - val_ranking_acc: 0.6371\n",
      "Epoch 10/20\n",
      "3823360/3823360 [==============================] - 666s - loss: 0.9369 - ranking_acc: 0.5693 - val_loss: 0.8245 - val_ranking_acc: 0.6521\n",
      "Epoch 11/20\n",
      "3823360/3823360 [==============================] - 663s - loss: 0.9329 - ranking_acc: 0.5703 - val_loss: 0.8154 - val_ranking_acc: 0.6581\n",
      "Epoch 12/20\n",
      "3823360/3823360 [==============================] - 658s - loss: 0.9297 - ranking_acc: 0.5710 - val_loss: 0.8098 - val_ranking_acc: 0.6565\n",
      "Epoch 13/20\n",
      "3823360/3823360 [==============================] - 659s - loss: 0.9272 - ranking_acc: 0.5716 - val_loss: 0.8049 - val_ranking_acc: 0.6612\n",
      "Epoch 14/20\n",
      "3823360/3823360 [==============================] - 666s - loss: 0.9249 - ranking_acc: 0.5724 - val_loss: 0.8036 - val_ranking_acc: 0.6632\n",
      "Epoch 15/20\n",
      "3823360/3823360 [==============================] - 671s - loss: 0.9226 - ranking_acc: 0.5735 - val_loss: 0.8030 - val_ranking_acc: 0.6611\n",
      "Epoch 16/20\n",
      "3823360/3823360 [==============================] - 666s - loss: 0.9206 - ranking_acc: 0.5745 - val_loss: 0.8053 - val_ranking_acc: 0.6588\n",
      "Epoch 17/20\n",
      "3823360/3823360 [==============================] - 667s - loss: 0.9190 - ranking_acc: 0.5752 - val_loss: 0.8039 - val_ranking_acc: 0.6578\n",
      "Epoch 18/20\n",
      "3823360/3823360 [==============================] - 670s - loss: 0.9177 - ranking_acc: 0.5758 - val_loss: 0.8030 - val_ranking_acc: 0.6593"
     ]
    },
    {
     "name": "stderr",
     "output_type": "stream",
     "text": [
      "  4%|▍         | 59/1384 [00:00<00:02, 586.76it/s]"
     ]
    },
    {
     "name": "stdout",
     "output_type": "stream",
     "text": [
      "\n"
     ]
    },
    {
     "name": "stderr",
     "output_type": "stream",
     "text": [
      "100%|██████████| 1384/1384 [00:02<00:00, 544.26it/s]\n"
     ]
    },
    {
     "name": "stdout",
     "output_type": "stream",
     "text": [
      "### loo for topic 6 ###\n",
      "Epoch 1/20\n",
      "3853824/3853824 [==============================] - 657s - loss: 0.9972 - ranking_acc: 0.5102 - val_loss: 1.0010 - val_ranking_acc: 0.4705\n",
      "Epoch 2/20\n",
      "3853824/3853824 [==============================] - 656s - loss: 0.9955 - ranking_acc: 0.5150 - val_loss: 1.0046 - val_ranking_acc: 0.4616\n",
      "Epoch 3/20\n",
      "3853824/3853824 [==============================] - 659s - loss: 0.9939 - ranking_acc: 0.5167 - val_loss: 1.0095 - val_ranking_acc: 0.4447\n",
      "Epoch 4/20\n",
      "3853824/3853824 [==============================] - 662s - loss: 0.9922 - ranking_acc: 0.5155 - val_loss: 1.0234 - val_ranking_acc: 0.4249"
     ]
    },
    {
     "name": "stderr",
     "output_type": "stream",
     "text": [
      "  7%|▋         | 57/825 [00:00<00:01, 569.47it/s]"
     ]
    },
    {
     "name": "stdout",
     "output_type": "stream",
     "text": [
      "\n"
     ]
    },
    {
     "name": "stderr",
     "output_type": "stream",
     "text": [
      "100%|██████████| 825/825 [00:01<00:00, 542.63it/s]\n"
     ]
    },
    {
     "name": "stdout",
     "output_type": "stream",
     "text": [
      "### loo for topic 7 ###\n",
      "Epoch 1/20\n",
      "3878016/3878016 [==============================] - 668s - loss: 0.9873 - ranking_acc: 0.5324 - val_loss: 0.9575 - val_ranking_acc: 0.6233\n",
      "Epoch 2/20\n",
      "3878016/3878016 [==============================] - 562s - loss: 0.9754 - ranking_acc: 0.5341 - val_loss: 0.9315 - val_ranking_acc: 0.6308\n",
      "Epoch 3/20\n",
      "3878016/3878016 [==============================] - 394s - loss: 0.9661 - ranking_acc: 0.5357 - val_loss: 0.9186 - val_ranking_acc: 0.6288\n",
      "Epoch 4/20\n",
      "3878016/3878016 [==============================] - 395s - loss: 0.9598 - ranking_acc: 0.5378 - val_loss: 0.9123 - val_ranking_acc: 0.6274\n",
      "Epoch 5/20\n",
      "3878016/3878016 [==============================] - 396s - loss: 0.9558 - ranking_acc: 0.5397 - val_loss: 0.9090 - val_ranking_acc: 0.6253\n",
      "Epoch 6/20\n",
      "3878016/3878016 [==============================] - 399s - loss: 0.9532 - ranking_acc: 0.5410 - val_loss: 0.9092 - val_ranking_acc: 0.6224\n",
      "Epoch 7/20\n",
      "3878016/3878016 [==============================] - 398s - loss: 0.9514 - ranking_acc: 0.5423 - val_loss: 0.9095 - val_ranking_acc: 0.6189\n",
      "Epoch 8/20\n",
      "3878016/3878016 [==============================] - 399s - loss: 0.9500 - ranking_acc: 0.5433 - val_loss: 0.9082 - val_ranking_acc: 0.6186\n",
      "Epoch 9/20\n",
      "3878016/3878016 [==============================] - 400s - loss: 0.9488 - ranking_acc: 0.5441 - val_loss: 0.9089 - val_ranking_acc: 0.6146\n",
      "Epoch 10/20\n",
      "3878016/3878016 [==============================] - 402s - loss: 0.9478 - ranking_acc: 0.5449 - val_loss: 0.9093 - val_ranking_acc: 0.6113\n",
      "Epoch 11/20\n",
      "3878016/3878016 [==============================] - 402s - loss: 0.9469 - ranking_acc: 0.5456 - val_loss: 0.9088 - val_ranking_acc: 0.6102"
     ]
    },
    {
     "name": "stderr",
     "output_type": "stream",
     "text": [
      " 12%|█▏        | 123/1065 [00:00<00:00, 1228.38it/s]"
     ]
    },
    {
     "name": "stdout",
     "output_type": "stream",
     "text": [
      "\n"
     ]
    },
    {
     "name": "stderr",
     "output_type": "stream",
     "text": [
      "100%|██████████| 1065/1065 [00:00<00:00, 1241.20it/s]\n"
     ]
    },
    {
     "name": "stdout",
     "output_type": "stream",
     "text": [
      "### loo for topic 8 ###\n",
      "Epoch 1/20\n",
      "3688576/3688576 [==============================] - 381s - loss: 0.9965 - ranking_acc: 0.5098 - val_loss: 1.0033 - val_ranking_acc: 0.4903\n",
      "Epoch 2/20\n",
      "3688576/3688576 [==============================] - 382s - loss: 0.9940 - ranking_acc: 0.5130 - val_loss: 1.0017 - val_ranking_acc: 0.4960\n",
      "Epoch 3/20\n",
      "3688576/3688576 [==============================] - 383s - loss: 0.9931 - ranking_acc: 0.5134 - val_loss: 1.0010 - val_ranking_acc: 0.4995\n",
      "Epoch 4/20\n",
      "3688576/3688576 [==============================] - 385s - loss: 0.9921 - ranking_acc: 0.5136 - val_loss: 1.0002 - val_ranking_acc: 0.5027\n",
      "Epoch 5/20\n",
      "3688576/3688576 [==============================] - 386s - loss: 0.9911 - ranking_acc: 0.5139 - val_loss: 0.9991 - val_ranking_acc: 0.5052\n",
      "Epoch 6/20\n",
      "3688576/3688576 [==============================] - 386s - loss: 0.9900 - ranking_acc: 0.5143 - val_loss: 0.9982 - val_ranking_acc: 0.5070\n",
      "Epoch 7/20\n",
      "3688576/3688576 [==============================] - 387s - loss: 0.9887 - ranking_acc: 0.5147 - val_loss: 0.9973 - val_ranking_acc: 0.5088\n",
      "Epoch 8/20\n",
      "3688576/3688576 [==============================] - 391s - loss: 0.9872 - ranking_acc: 0.5154 - val_loss: 0.9969 - val_ranking_acc: 0.5101\n",
      "Epoch 9/20\n",
      "3688576/3688576 [==============================] - 389s - loss: 0.9854 - ranking_acc: 0.5161 - val_loss: 0.9965 - val_ranking_acc: 0.5108\n",
      "Epoch 10/20\n",
      "3688576/3688576 [==============================] - 390s - loss: 0.9836 - ranking_acc: 0.5168 - val_loss: 0.9962 - val_ranking_acc: 0.5110\n",
      "Epoch 11/20\n",
      "3688576/3688576 [==============================] - 391s - loss: 0.9820 - ranking_acc: 0.5176 - val_loss: 0.9960 - val_ranking_acc: 0.5114\n",
      "Epoch 12/20\n",
      "3688576/3688576 [==============================] - 392s - loss: 0.9803 - ranking_acc: 0.5182 - val_loss: 0.9950 - val_ranking_acc: 0.5131\n",
      "Epoch 13/20\n",
      "3688576/3688576 [==============================] - 393s - loss: 0.9787 - ranking_acc: 0.5189 - val_loss: 0.9946 - val_ranking_acc: 0.5140\n",
      "Epoch 14/20\n",
      "3688576/3688576 [==============================] - 394s - loss: 0.9772 - ranking_acc: 0.5196 - val_loss: 0.9935 - val_ranking_acc: 0.5162\n",
      "Epoch 15/20\n",
      "3688576/3688576 [==============================] - 393s - loss: 0.9759 - ranking_acc: 0.5203 - val_loss: 0.9928 - val_ranking_acc: 0.5173\n",
      "Epoch 16/20\n",
      "3688576/3688576 [==============================] - 393s - loss: 0.9747 - ranking_acc: 0.5209 - val_loss: 0.9918 - val_ranking_acc: 0.5189\n",
      "Epoch 17/20\n",
      "3688576/3688576 [==============================] - 395s - loss: 0.9736 - ranking_acc: 0.5216 - val_loss: 0.9914 - val_ranking_acc: 0.5197\n",
      "Epoch 18/20\n",
      "3688576/3688576 [==============================] - 396s - loss: 0.9725 - ranking_acc: 0.5223 - val_loss: 0.9908 - val_ranking_acc: 0.5204\n",
      "Epoch 19/20\n",
      "3688576/3688576 [==============================] - 396s - loss: 0.9716 - ranking_acc: 0.5229 - val_loss: 0.9903 - val_ranking_acc: 0.5209\n",
      "Epoch 20/20\n",
      "3688576/3688576 [==============================] - 397s - loss: 0.9708 - ranking_acc: 0.5235 - val_loss: 0.9901 - val_ranking_acc: 0.5208"
     ]
    },
    {
     "name": "stderr",
     "output_type": "stream",
     "text": [
      " 11%|█         | 122/1127 [00:00<00:00, 1216.04it/s]"
     ]
    },
    {
     "name": "stdout",
     "output_type": "stream",
     "text": [
      "\n"
     ]
    },
    {
     "name": "stderr",
     "output_type": "stream",
     "text": [
      "100%|██████████| 1127/1127 [00:00<00:00, 1233.62it/s]\n"
     ]
    },
    {
     "name": "stdout",
     "output_type": "stream",
     "text": [
      "### loo for topic 9 ###\n",
      "Epoch 1/20\n",
      "3830656/3830656 [==============================] - 390s - loss: 0.9948 - ranking_acc: 0.5146 - val_loss: 0.9999 - val_ranking_acc: 0.5013\n",
      "Epoch 2/20\n",
      "3830656/3830656 [==============================] - 392s - loss: 0.9888 - ranking_acc: 0.5195 - val_loss: 1.0002 - val_ranking_acc: 0.4970\n",
      "Epoch 3/20\n",
      "3830656/3830656 [==============================] - 391s - loss: 0.9851 - ranking_acc: 0.5210 - val_loss: 1.0007 - val_ranking_acc: 0.4931\n",
      "Epoch 4/20\n",
      "3830656/3830656 [==============================] - 391s - loss: 0.9823 - ranking_acc: 0.5229 - val_loss: 1.0014 - val_ranking_acc: 0.4887"
     ]
    },
    {
     "name": "stderr",
     "output_type": "stream",
     "text": [
      " 11%|█▏        | 124/1101 [00:00<00:00, 1230.54it/s]"
     ]
    },
    {
     "name": "stdout",
     "output_type": "stream",
     "text": [
      "\n"
     ]
    },
    {
     "name": "stderr",
     "output_type": "stream",
     "text": [
      "100%|██████████| 1101/1101 [00:00<00:00, 1237.63it/s]\n"
     ]
    },
    {
     "name": "stdout",
     "output_type": "stream",
     "text": [
      "### loo for topic 10 ###\n",
      "Epoch 1/20\n",
      "3925376/3925376 [==============================] - 391s - loss: 0.9968 - ranking_acc: 0.5187 - val_loss: 1.0014 - val_ranking_acc: 0.4591\n",
      "Epoch 2/20\n",
      "3925376/3925376 [==============================] - 393s - loss: 0.9938 - ranking_acc: 0.5211 - val_loss: 1.0033 - val_ranking_acc: 0.4604\n",
      "Epoch 3/20\n",
      "3925376/3925376 [==============================] - 393s - loss: 0.9893 - ranking_acc: 0.5249 - val_loss: 0.9943 - val_ranking_acc: 0.5160\n",
      "Epoch 4/20\n",
      "3925376/3925376 [==============================] - 396s - loss: 0.9843 - ranking_acc: 0.5258 - val_loss: 0.9898 - val_ranking_acc: 0.5239\n",
      "Epoch 5/20\n",
      "3925376/3925376 [==============================] - 397s - loss: 0.9781 - ranking_acc: 0.5267 - val_loss: 0.9877 - val_ranking_acc: 0.5196\n",
      "Epoch 6/20\n",
      "3925376/3925376 [==============================] - 396s - loss: 0.9724 - ranking_acc: 0.5287 - val_loss: 0.9841 - val_ranking_acc: 0.5241\n",
      "Epoch 7/20\n",
      "3925376/3925376 [==============================] - 396s - loss: 0.9675 - ranking_acc: 0.5310 - val_loss: 0.9808 - val_ranking_acc: 0.5269\n",
      "Epoch 8/20\n",
      "3925376/3925376 [==============================] - 398s - loss: 0.9639 - ranking_acc: 0.5325 - val_loss: 0.9783 - val_ranking_acc: 0.5302\n",
      "Epoch 9/20\n",
      "3925376/3925376 [==============================] - 399s - loss: 0.9611 - ranking_acc: 0.5338 - val_loss: 0.9725 - val_ranking_acc: 0.5438\n",
      "Epoch 10/20\n",
      "3925376/3925376 [==============================] - 399s - loss: 0.9588 - ranking_acc: 0.5349 - val_loss: 0.9709 - val_ranking_acc: 0.5483\n",
      "Epoch 11/20\n",
      "3925376/3925376 [==============================] - 401s - loss: 0.9568 - ranking_acc: 0.5359 - val_loss: 0.9705 - val_ranking_acc: 0.5462\n",
      "Epoch 12/20\n",
      "3925376/3925376 [==============================] - 402s - loss: 0.9551 - ranking_acc: 0.5368 - val_loss: 0.9678 - val_ranking_acc: 0.5542\n",
      "Epoch 13/20\n",
      "3925376/3925376 [==============================] - 403s - loss: 0.9535 - ranking_acc: 0.5376 - val_loss: 0.9642 - val_ranking_acc: 0.5577\n",
      "Epoch 14/20\n",
      "3925376/3925376 [==============================] - 403s - loss: 0.9522 - ranking_acc: 0.5384 - val_loss: 0.9640 - val_ranking_acc: 0.5620\n",
      "Epoch 15/20\n",
      "3925376/3925376 [==============================] - 404s - loss: 0.9511 - ranking_acc: 0.5391 - val_loss: 0.9595 - val_ranking_acc: 0.5691\n",
      "Epoch 16/20\n",
      "3925376/3925376 [==============================] - 406s - loss: 0.9501 - ranking_acc: 0.5397 - val_loss: 0.9624 - val_ranking_acc: 0.5662\n",
      "Epoch 17/20\n",
      "3925376/3925376 [==============================] - 404s - loss: 0.9493 - ranking_acc: 0.5402 - val_loss: 0.9593 - val_ranking_acc: 0.5698\n",
      "Epoch 18/20\n",
      "3925376/3925376 [==============================] - 404s - loss: 0.9485 - ranking_acc: 0.5406 - val_loss: 0.9599 - val_ranking_acc: 0.5686\n",
      "Epoch 19/20\n",
      "3925376/3925376 [==============================] - 405s - loss: 0.9479 - ranking_acc: 0.5409 - val_loss: 0.9576 - val_ranking_acc: 0.5753\n",
      "Epoch 20/20\n",
      "3925376/3925376 [==============================] - 408s - loss: 0.9473 - ranking_acc: 0.5412 - val_loss: 0.9619 - val_ranking_acc: 0.5688"
     ]
    },
    {
     "name": "stderr",
     "output_type": "stream",
     "text": [
      " 11%|█         | 122/1098 [00:00<00:00, 1217.11it/s]"
     ]
    },
    {
     "name": "stdout",
     "output_type": "stream",
     "text": [
      "\n"
     ]
    },
    {
     "name": "stderr",
     "output_type": "stream",
     "text": [
      "100%|██████████| 1098/1098 [00:00<00:00, 1237.12it/s]\n"
     ]
    },
    {
     "name": "stdout",
     "output_type": "stream",
     "text": [
      "### loo for topic 11 ###\n",
      "Epoch 1/20\n",
      "3734400/3734400 [==============================] - 379s - loss: 0.9947 - ranking_acc: 0.5033 - val_loss: 0.9973 - val_ranking_acc: 0.5007\n",
      "Epoch 2/20\n",
      "3734400/3734400 [==============================] - 382s - loss: 0.9852 - ranking_acc: 0.5183 - val_loss: 0.9993 - val_ranking_acc: 0.4953\n",
      "Epoch 3/20\n",
      "3734400/3734400 [==============================] - 376s - loss: 0.9801 - ranking_acc: 0.5260 - val_loss: 1.0003 - val_ranking_acc: 0.4901\n",
      "Epoch 4/20\n",
      "3734400/3734400 [==============================] - 384s - loss: 0.9769 - ranking_acc: 0.5298 - val_loss: 1.0001 - val_ranking_acc: 0.4873"
     ]
    },
    {
     "name": "stderr",
     "output_type": "stream",
     "text": [
      " 13%|█▎        | 122/954 [00:00<00:00, 1214.35it/s]"
     ]
    },
    {
     "name": "stdout",
     "output_type": "stream",
     "text": [
      "\n"
     ]
    },
    {
     "name": "stderr",
     "output_type": "stream",
     "text": [
      "100%|██████████| 954/954 [00:00<00:00, 1224.51it/s]\n"
     ]
    },
    {
     "name": "stdout",
     "output_type": "stream",
     "text": [
      "### loo for topic 12 ###\n",
      "Epoch 1/20\n",
      "3833344/3833344 [==============================] - 382s - loss: 0.9915 - ranking_acc: 0.5304 - val_loss: 0.9948 - val_ranking_acc: 0.5228\n",
      "Epoch 2/20\n",
      "3833344/3833344 [==============================] - 389s - loss: 0.9874 - ranking_acc: 0.5300 - val_loss: 1.0082 - val_ranking_acc: 0.4865\n",
      "Epoch 3/20\n",
      "3833344/3833344 [==============================] - 392s - loss: 0.9817 - ranking_acc: 0.5273 - val_loss: 1.0192 - val_ranking_acc: 0.4668\n",
      "Epoch 4/20\n",
      "3833344/3833344 [==============================] - 393s - loss: 0.9759 - ranking_acc: 0.5294 - val_loss: 1.0108 - val_ranking_acc: 0.4870"
     ]
    },
    {
     "name": "stderr",
     "output_type": "stream",
     "text": [
      " 11%|█         | 124/1158 [00:00<00:00, 1233.11it/s]"
     ]
    },
    {
     "name": "stdout",
     "output_type": "stream",
     "text": [
      "\n"
     ]
    },
    {
     "name": "stderr",
     "output_type": "stream",
     "text": [
      "100%|██████████| 1158/1158 [00:00<00:00, 1247.36it/s]\n"
     ]
    },
    {
     "name": "stdout",
     "output_type": "stream",
     "text": [
      "### loo for topic 13 ###\n",
      "Epoch 1/20\n",
      "3791232/3791232 [==============================] - 385s - loss: 0.9939 - ranking_acc: 0.5191 - val_loss: 0.9837 - val_ranking_acc: 0.5260\n",
      "Epoch 2/20\n",
      "3791232/3791232 [==============================] - 387s - loss: 0.9847 - ranking_acc: 0.5327 - val_loss: 0.9915 - val_ranking_acc: 0.5059\n",
      "Epoch 3/20\n",
      "3791232/3791232 [==============================] - 388s - loss: 0.9772 - ranking_acc: 0.5368 - val_loss: 0.9965 - val_ranking_acc: 0.4982\n",
      "Epoch 4/20\n",
      "3791232/3791232 [==============================] - 389s - loss: 0.9701 - ranking_acc: 0.5389 - val_loss: 1.0026 - val_ranking_acc: 0.4912"
     ]
    },
    {
     "name": "stderr",
     "output_type": "stream",
     "text": [
      "  9%|▉         | 122/1336 [00:00<00:00, 1218.71it/s]"
     ]
    },
    {
     "name": "stdout",
     "output_type": "stream",
     "text": [
      "\n"
     ]
    },
    {
     "name": "stderr",
     "output_type": "stream",
     "text": [
      "100%|██████████| 1336/1336 [00:01<00:00, 1247.54it/s]\n"
     ]
    },
    {
     "name": "stdout",
     "output_type": "stream",
     "text": [
      "### loo for topic 14 ###\n",
      "Epoch 1/20\n",
      "3826432/3826432 [==============================] - 387s - loss: 0.9985 - ranking_acc: 0.5071 - val_loss: 0.9932 - val_ranking_acc: 0.5301\n",
      "Epoch 2/20\n",
      "3826432/3826432 [==============================] - 390s - loss: 0.9969 - ranking_acc: 0.5111 - val_loss: 0.9936 - val_ranking_acc: 0.5312\n",
      "Epoch 3/20\n",
      "3826432/3826432 [==============================] - 390s - loss: 0.9951 - ranking_acc: 0.5158 - val_loss: 0.9947 - val_ranking_acc: 0.5311\n",
      "Epoch 4/20\n",
      "3826432/3826432 [==============================] - 392s - loss: 0.9929 - ranking_acc: 0.5222 - val_loss: 0.9941 - val_ranking_acc: 0.5347"
     ]
    },
    {
     "name": "stderr",
     "output_type": "stream",
     "text": [
      " 11%|█         | 121/1138 [00:00<00:00, 1205.43it/s]"
     ]
    },
    {
     "name": "stdout",
     "output_type": "stream",
     "text": [
      "\n"
     ]
    },
    {
     "name": "stderr",
     "output_type": "stream",
     "text": [
      "100%|██████████| 1138/1138 [00:00<00:00, 1231.68it/s]\n"
     ]
    },
    {
     "name": "stdout",
     "output_type": "stream",
     "text": [
      "### loo for topic 15 ###\n",
      "Epoch 1/20\n",
      "3880064/3880064 [==============================] - 392s - loss: 0.9952 - ranking_acc: 0.5106 - val_loss: 0.9780 - val_ranking_acc: 0.5977\n",
      "Epoch 2/20\n",
      "3880064/3880064 [==============================] - 394s - loss: 0.9926 - ranking_acc: 0.5150 - val_loss: 0.9792 - val_ranking_acc: 0.5895\n",
      "Epoch 3/20\n",
      "3880064/3880064 [==============================] - 394s - loss: 0.9908 - ranking_acc: 0.5156 - val_loss: 0.9811 - val_ranking_acc: 0.5811\n",
      "Epoch 4/20\n",
      "3880064/3880064 [==============================] - 395s - loss: 0.9888 - ranking_acc: 0.5166 - val_loss: 0.9832 - val_ranking_acc: 0.5692"
     ]
    },
    {
     "name": "stderr",
     "output_type": "stream",
     "text": [
      " 12%|█▏        | 119/1023 [00:00<00:00, 1188.38it/s]"
     ]
    },
    {
     "name": "stdout",
     "output_type": "stream",
     "text": [
      "\n"
     ]
    },
    {
     "name": "stderr",
     "output_type": "stream",
     "text": [
      "100%|██████████| 1023/1023 [00:00<00:00, 1244.83it/s]\n"
     ]
    },
    {
     "name": "stdout",
     "output_type": "stream",
     "text": [
      "### loo for topic 16 ###\n",
      "Epoch 1/20\n",
      "3724288/3724288 [==============================] - 386s - loss: 0.9937 - ranking_acc: 0.5178 - val_loss: 0.9725 - val_ranking_acc: 0.5942\n",
      "Epoch 2/20\n",
      "3724288/3724288 [==============================] - 384s - loss: 0.9905 - ranking_acc: 0.5187 - val_loss: 0.9670 - val_ranking_acc: 0.5885\n",
      "Epoch 3/20\n",
      "3724288/3724288 [==============================] - 386s - loss: 0.9874 - ranking_acc: 0.5225 - val_loss: 0.9611 - val_ranking_acc: 0.5868\n",
      "Epoch 4/20\n",
      "3724288/3724288 [==============================] - 388s - loss: 0.9843 - ranking_acc: 0.5274 - val_loss: 0.9610 - val_ranking_acc: 0.5792\n",
      "Epoch 5/20\n",
      "3724288/3724288 [==============================] - 388s - loss: 0.9814 - ranking_acc: 0.5309 - val_loss: 0.9613 - val_ranking_acc: 0.5724\n",
      "Epoch 6/20\n",
      "3724288/3724288 [==============================] - 394s - loss: 0.9783 - ranking_acc: 0.5341 - val_loss: 0.9646 - val_ranking_acc: 0.5619\n",
      "Epoch 7/20\n",
      "3724288/3724288 [==============================] - 415s - loss: 0.9749 - ranking_acc: 0.5367 - val_loss: 0.9707 - val_ranking_acc: 0.5495"
     ]
    },
    {
     "name": "stderr",
     "output_type": "stream",
     "text": [
      "  8%|▊         | 120/1441 [00:00<00:01, 1198.32it/s]"
     ]
    },
    {
     "name": "stdout",
     "output_type": "stream",
     "text": [
      "\n"
     ]
    },
    {
     "name": "stderr",
     "output_type": "stream",
     "text": [
      "100%|██████████| 1441/1441 [00:01<00:00, 1239.12it/s]\n"
     ]
    },
    {
     "name": "stdout",
     "output_type": "stream",
     "text": [
      "### loo for topic 17 ###\n",
      "Epoch 1/20\n",
      "3798272/3798272 [==============================] - 393s - loss: 0.9894 - ranking_acc: 0.5163 - val_loss: 0.9392 - val_ranking_acc: 0.6512\n",
      "Epoch 2/20\n",
      "3798272/3798272 [==============================] - 388s - loss: 0.9841 - ranking_acc: 0.5236 - val_loss: 0.9316 - val_ranking_acc: 0.6518\n",
      "Epoch 3/20\n",
      "3798272/3798272 [==============================] - 389s - loss: 0.9798 - ranking_acc: 0.5290 - val_loss: 0.9227 - val_ranking_acc: 0.6518\n",
      "Epoch 4/20\n",
      "3798272/3798272 [==============================] - 391s - loss: 0.9758 - ranking_acc: 0.5321 - val_loss: 0.9168 - val_ranking_acc: 0.6497\n",
      "Epoch 5/20\n",
      "3798272/3798272 [==============================] - 389s - loss: 0.9722 - ranking_acc: 0.5338 - val_loss: 0.9121 - val_ranking_acc: 0.6484\n",
      "Epoch 6/20\n",
      "3798272/3798272 [==============================] - 389s - loss: 0.9690 - ranking_acc: 0.5348 - val_loss: 0.9076 - val_ranking_acc: 0.6483\n",
      "Epoch 7/20\n",
      "3798272/3798272 [==============================] - 393s - loss: 0.9662 - ranking_acc: 0.5359 - val_loss: 0.9015 - val_ranking_acc: 0.6480\n",
      "Epoch 8/20\n",
      "3798272/3798272 [==============================] - 403s - loss: 0.9636 - ranking_acc: 0.5372 - val_loss: 0.8964 - val_ranking_acc: 0.6489\n",
      "Epoch 9/20\n",
      "3798272/3798272 [==============================] - 432s - loss: 0.9614 - ranking_acc: 0.5383 - val_loss: 0.8941 - val_ranking_acc: 0.6497\n",
      "Epoch 10/20\n",
      "3798272/3798272 [==============================] - 669s - loss: 0.9594 - ranking_acc: 0.5392 - val_loss: 0.8847 - val_ranking_acc: 0.6496\n",
      "Epoch 11/20\n",
      "3798272/3798272 [==============================] - 696s - loss: 0.9576 - ranking_acc: 0.5404 - val_loss: 0.8850 - val_ranking_acc: 0.6505\n",
      "Epoch 12/20\n",
      "3798272/3798272 [==============================] - 687s - loss: 0.9559 - ranking_acc: 0.5415 - val_loss: 0.8845 - val_ranking_acc: 0.6517\n",
      "Epoch 13/20\n",
      "3798272/3798272 [==============================] - 708s - loss: 0.9542 - ranking_acc: 0.5430 - val_loss: 0.8826 - val_ranking_acc: 0.6529\n",
      "Epoch 14/20\n",
      "3798272/3798272 [==============================] - 675s - loss: 0.9524 - ranking_acc: 0.5443 - val_loss: 0.8788 - val_ranking_acc: 0.6543\n",
      "Epoch 15/20\n",
      "3798272/3798272 [==============================] - 658s - loss: 0.9507 - ranking_acc: 0.5456 - val_loss: 0.8784 - val_ranking_acc: 0.6538\n",
      "Epoch 16/20\n",
      "3798272/3798272 [==============================] - 645s - loss: 0.9492 - ranking_acc: 0.5469 - val_loss: 0.8772 - val_ranking_acc: 0.6537\n",
      "Epoch 17/20\n",
      "3798272/3798272 [==============================] - 657s - loss: 0.9478 - ranking_acc: 0.5481 - val_loss: 0.8775 - val_ranking_acc: 0.6497\n",
      "Epoch 18/20\n",
      "3798272/3798272 [==============================] - 694s - loss: 0.9464 - ranking_acc: 0.5493 - val_loss: 0.8786 - val_ranking_acc: 0.6499\n",
      "Epoch 19/20\n",
      "3798272/3798272 [==============================] - 727s - loss: 0.9452 - ranking_acc: 0.5503 - val_loss: 0.8760 - val_ranking_acc: 0.6485\n",
      "Epoch 20/20\n",
      "3798272/3798272 [==============================] - 728s - loss: 0.9440 - ranking_acc: 0.5512 - val_loss: 0.8783 - val_ranking_acc: 0.6456"
     ]
    },
    {
     "name": "stderr",
     "output_type": "stream",
     "text": [
      "  5%|▍         | 48/1034 [00:00<00:02, 476.61it/s]"
     ]
    },
    {
     "name": "stdout",
     "output_type": "stream",
     "text": [
      "\n"
     ]
    },
    {
     "name": "stderr",
     "output_type": "stream",
     "text": [
      "100%|██████████| 1034/1034 [00:01<00:00, 562.70it/s]\n"
     ]
    },
    {
     "name": "stdout",
     "output_type": "stream",
     "text": [
      "### loo for topic 18 ###\n",
      "Epoch 1/20\n",
      "3881856/3881856 [==============================] - 662s - loss: 1.0009 - ranking_acc: 0.4879 - val_loss: 1.0308 - val_ranking_acc: 0.4225\n",
      "Epoch 2/20\n",
      "3881856/3881856 [==============================] - 674s - loss: 0.9971 - ranking_acc: 0.4944 - val_loss: 1.0307 - val_ranking_acc: 0.4278\n",
      "Epoch 3/20\n",
      "3881856/3881856 [==============================] - 678s - loss: 0.9938 - ranking_acc: 0.5006 - val_loss: 1.0306 - val_ranking_acc: 0.4330\n",
      "Epoch 4/20\n",
      "3881856/3881856 [==============================] - 675s - loss: 0.9907 - ranking_acc: 0.5070 - val_loss: 1.0287 - val_ranking_acc: 0.4445\n",
      "Epoch 5/20\n",
      "3881856/3881856 [==============================] - 680s - loss: 0.9872 - ranking_acc: 0.5144 - val_loss: 1.0228 - val_ranking_acc: 0.4678\n",
      "Epoch 6/20\n",
      "3881856/3881856 [==============================] - 667s - loss: 0.9836 - ranking_acc: 0.5201 - val_loss: 1.0173 - val_ranking_acc: 0.4817\n",
      "Epoch 7/20\n",
      "3881856/3881856 [==============================] - 668s - loss: 0.9800 - ranking_acc: 0.5235 - val_loss: 1.0127 - val_ranking_acc: 0.4907\n",
      "Epoch 8/20\n",
      "3881856/3881856 [==============================] - 665s - loss: 0.9769 - ranking_acc: 0.5252 - val_loss: 1.0076 - val_ranking_acc: 0.4965\n",
      "Epoch 9/20\n",
      "3881856/3881856 [==============================] - 670s - loss: 0.9741 - ranking_acc: 0.5267 - val_loss: 1.0035 - val_ranking_acc: 0.5027\n",
      "Epoch 10/20\n",
      "3881856/3881856 [==============================] - 668s - loss: 0.9712 - ranking_acc: 0.5281 - val_loss: 0.9973 - val_ranking_acc: 0.5124\n",
      "Epoch 11/20\n",
      "3881856/3881856 [==============================] - 682s - loss: 0.9686 - ranking_acc: 0.5297 - val_loss: 0.9928 - val_ranking_acc: 0.5201\n",
      "Epoch 12/20\n",
      "3881856/3881856 [==============================] - 670s - loss: 0.9664 - ranking_acc: 0.5312 - val_loss: 0.9899 - val_ranking_acc: 0.5251\n",
      "Epoch 13/20\n",
      "3881856/3881856 [==============================] - 669s - loss: 0.9645 - ranking_acc: 0.5328 - val_loss: 0.9894 - val_ranking_acc: 0.5287\n",
      "Epoch 14/20\n",
      "3881856/3881856 [==============================] - 676s - loss: 0.9629 - ranking_acc: 0.5343 - val_loss: 0.9852 - val_ranking_acc: 0.5356\n",
      "Epoch 15/20\n",
      "3881856/3881856 [==============================] - 668s - loss: 0.9614 - ranking_acc: 0.5356 - val_loss: 0.9842 - val_ranking_acc: 0.5392\n",
      "Epoch 16/20\n",
      "3881856/3881856 [==============================] - 665s - loss: 0.9600 - ranking_acc: 0.5368 - val_loss: 0.9844 - val_ranking_acc: 0.5399\n",
      "Epoch 17/20\n",
      "3881856/3881856 [==============================] - 660s - loss: 0.9587 - ranking_acc: 0.5380 - val_loss: 0.9824 - val_ranking_acc: 0.5461\n",
      "Epoch 18/20\n",
      "3881856/3881856 [==============================] - 661s - loss: 0.9574 - ranking_acc: 0.5389 - val_loss: 0.9803 - val_ranking_acc: 0.5485\n",
      "Epoch 19/20\n",
      "3881856/3881856 [==============================] - 667s - loss: 0.9561 - ranking_acc: 0.5399 - val_loss: 0.9791 - val_ranking_acc: 0.5504\n",
      "Epoch 20/20\n",
      "3881856/3881856 [==============================] - 666s - loss: 0.9550 - ranking_acc: 0.5407 - val_loss: 0.9786 - val_ranking_acc: 0.5516"
     ]
    },
    {
     "name": "stderr",
     "output_type": "stream",
     "text": [
      "  5%|▌         | 54/1079 [00:00<00:01, 537.21it/s]"
     ]
    },
    {
     "name": "stdout",
     "output_type": "stream",
     "text": [
      "\n"
     ]
    },
    {
     "name": "stderr",
     "output_type": "stream",
     "text": [
      "100%|██████████| 1079/1079 [00:01<00:00, 568.76it/s]\n"
     ]
    },
    {
     "name": "stdout",
     "output_type": "stream",
     "text": [
      "### loo for topic 19 ###\n",
      "Epoch 1/20\n",
      "3753600/3753600 [==============================] - 642s - loss: 0.9973 - ranking_acc: 0.5161 - val_loss: 0.9845 - val_ranking_acc: 0.5773\n",
      "Epoch 2/20\n",
      "3753600/3753600 [==============================] - 644s - loss: 0.9946 - ranking_acc: 0.5231 - val_loss: 0.9843 - val_ranking_acc: 0.5764\n",
      "Epoch 3/20\n",
      "3753600/3753600 [==============================] - 647s - loss: 0.9927 - ranking_acc: 0.5265 - val_loss: 0.9851 - val_ranking_acc: 0.5736\n",
      "Epoch 4/20\n",
      "3753600/3753600 [==============================] - 650s - loss: 0.9905 - ranking_acc: 0.5302 - val_loss: 0.9865 - val_ranking_acc: 0.5671\n",
      "Epoch 5/20\n",
      "3753600/3753600 [==============================] - 653s - loss: 0.9878 - ranking_acc: 0.5323 - val_loss: 0.9884 - val_ranking_acc: 0.5530"
     ]
    },
    {
     "name": "stderr",
     "output_type": "stream",
     "text": [
      "  5%|▍         | 53/1146 [00:00<00:02, 528.62it/s]"
     ]
    },
    {
     "name": "stdout",
     "output_type": "stream",
     "text": [
      "\n"
     ]
    },
    {
     "name": "stderr",
     "output_type": "stream",
     "text": [
      "100%|██████████| 1146/1146 [00:02<00:00, 558.36it/s]\n"
     ]
    },
    {
     "name": "stdout",
     "output_type": "stream",
     "text": [
      "### loo for topic 20 ###\n",
      "Epoch 1/20\n",
      "3695744/3695744 [==============================] - 645s - loss: 0.9990 - ranking_acc: 0.5052 - val_loss: 1.0199 - val_ranking_acc: 0.4202\n",
      "Epoch 2/20\n",
      "3695744/3695744 [==============================] - 628s - loss: 0.9939 - ranking_acc: 0.5222 - val_loss: 1.0197 - val_ranking_acc: 0.4196\n",
      "Epoch 3/20\n",
      "3695744/3695744 [==============================] - 631s - loss: 0.9936 - ranking_acc: 0.5226 - val_loss: 1.0203 - val_ranking_acc: 0.4175\n",
      "Epoch 4/20\n",
      "3695744/3695744 [==============================] - 628s - loss: 0.9934 - ranking_acc: 0.5232 - val_loss: 1.0211 - val_ranking_acc: 0.4156\n",
      "Epoch 5/20\n",
      "3695744/3695744 [==============================] - 633s - loss: 0.9930 - ranking_acc: 0.5238 - val_loss: 1.0221 - val_ranking_acc: 0.4126"
     ]
    },
    {
     "name": "stderr",
     "output_type": "stream",
     "text": [
      "  6%|▋         | 64/1022 [00:00<00:01, 633.66it/s]"
     ]
    },
    {
     "name": "stdout",
     "output_type": "stream",
     "text": [
      "\n"
     ]
    },
    {
     "name": "stderr",
     "output_type": "stream",
     "text": [
      "100%|██████████| 1022/1022 [00:01<00:00, 540.54it/s]\n"
     ]
    },
    {
     "name": "stdout",
     "output_type": "stream",
     "text": [
      "### loo for topic 21 ###\n",
      "Epoch 1/20\n",
      "3886976/3886976 [==============================] - 648s - loss: 0.9909 - ranking_acc: 0.5113 - val_loss: 0.9777 - val_ranking_acc: 0.5688\n",
      "Epoch 2/20\n",
      "3886976/3886976 [==============================] - 652s - loss: 0.9857 - ranking_acc: 0.5183 - val_loss: 0.9777 - val_ranking_acc: 0.5621\n",
      "Epoch 3/20\n",
      "3886976/3886976 [==============================] - 655s - loss: 0.9837 - ranking_acc: 0.5194 - val_loss: 0.9791 - val_ranking_acc: 0.5538\n",
      "Epoch 4/20\n",
      "3886976/3886976 [==============================] - 656s - loss: 0.9817 - ranking_acc: 0.5219 - val_loss: 0.9807 - val_ranking_acc: 0.5467"
     ]
    },
    {
     "name": "stderr",
     "output_type": "stream",
     "text": [
      "  6%|▌         | 52/933 [00:00<00:01, 513.40it/s]"
     ]
    },
    {
     "name": "stdout",
     "output_type": "stream",
     "text": [
      "\n"
     ]
    },
    {
     "name": "stderr",
     "output_type": "stream",
     "text": [
      "100%|██████████| 933/933 [00:01<00:00, 553.18it/s]\n"
     ]
    },
    {
     "name": "stdout",
     "output_type": "stream",
     "text": [
      "### loo for topic 22 ###\n",
      "Epoch 1/20\n",
      "3937024/3937024 [==============================] - 662s - loss: 0.9924 - ranking_acc: 0.5110 - val_loss: 1.0251 - val_ranking_acc: 0.4214\n",
      "Epoch 2/20\n",
      "3937024/3937024 [==============================] - 668s - loss: 0.9834 - ranking_acc: 0.5285 - val_loss: 0.9946 - val_ranking_acc: 0.5261\n",
      "Epoch 3/20\n",
      "3937024/3937024 [==============================] - 668s - loss: 0.9779 - ranking_acc: 0.5337 - val_loss: 0.9741 - val_ranking_acc: 0.5581\n",
      "Epoch 4/20\n",
      "3937024/3937024 [==============================] - 656s - loss: 0.9732 - ranking_acc: 0.5364 - val_loss: 0.9637 - val_ranking_acc: 0.5653\n",
      "Epoch 5/20\n",
      "3937024/3937024 [==============================] - 661s - loss: 0.9686 - ranking_acc: 0.5387 - val_loss: 0.9539 - val_ranking_acc: 0.5778\n",
      "Epoch 6/20\n",
      "3937024/3937024 [==============================] - 672s - loss: 0.9641 - ranking_acc: 0.5417 - val_loss: 0.9572 - val_ranking_acc: 0.5718\n",
      "Epoch 7/20\n",
      "3937024/3937024 [==============================] - 673s - loss: 0.9599 - ranking_acc: 0.5447 - val_loss: 0.9586 - val_ranking_acc: 0.5700\n",
      "Epoch 8/20\n",
      "3937024/3937024 [==============================] - 674s - loss: 0.9563 - ranking_acc: 0.5475 - val_loss: 0.9639 - val_ranking_acc: 0.5687"
     ]
    },
    {
     "name": "stderr",
     "output_type": "stream",
     "text": [
      "  4%|▍         | 48/1110 [00:00<00:02, 478.05it/s]"
     ]
    },
    {
     "name": "stdout",
     "output_type": "stream",
     "text": [
      "\n"
     ]
    },
    {
     "name": "stderr",
     "output_type": "stream",
     "text": [
      "100%|██████████| 1110/1110 [00:01<00:00, 555.61it/s]\n"
     ]
    },
    {
     "name": "stdout",
     "output_type": "stream",
     "text": [
      "### loo for topic 23 ###\n",
      "Epoch 1/20\n",
      "3789824/3789824 [==============================] - 656s - loss: 0.9978 - ranking_acc: 0.5124 - val_loss: 1.0050 - val_ranking_acc: 0.4772\n",
      "Epoch 2/20\n",
      "3789824/3789824 [==============================] - 661s - loss: 0.9897 - ranking_acc: 0.5199 - val_loss: 1.0208 - val_ranking_acc: 0.4472\n",
      "Epoch 3/20\n",
      "3789824/3789824 [==============================] - 662s - loss: 0.9856 - ranking_acc: 0.5218 - val_loss: 1.0291 - val_ranking_acc: 0.4390\n",
      "Epoch 4/20\n",
      "3789824/3789824 [==============================] - 663s - loss: 0.9829 - ranking_acc: 0.5237 - val_loss: 1.0354 - val_ranking_acc: 0.4335"
     ]
    },
    {
     "name": "stderr",
     "output_type": "stream",
     "text": [
      "  4%|▎         | 55/1552 [00:00<00:02, 548.36it/s]"
     ]
    },
    {
     "name": "stdout",
     "output_type": "stream",
     "text": [
      "\n"
     ]
    },
    {
     "name": "stderr",
     "output_type": "stream",
     "text": [
      "100%|██████████| 1552/1552 [00:02<00:00, 577.39it/s]\n"
     ]
    },
    {
     "name": "stdout",
     "output_type": "stream",
     "text": [
      "### loo for topic 24 ###\n",
      "Epoch 1/20\n",
      "3505280/3505280 [==============================] - 626s - loss: 0.9945 - ranking_acc: 0.5129 - val_loss: 0.9937 - val_ranking_acc: 0.5086\n",
      "Epoch 2/20\n",
      "3505280/3505280 [==============================] - 621s - loss: 0.9913 - ranking_acc: 0.5179 - val_loss: 0.9932 - val_ranking_acc: 0.5104\n",
      "Epoch 3/20\n",
      "3505280/3505280 [==============================] - 624s - loss: 0.9904 - ranking_acc: 0.5198 - val_loss: 0.9926 - val_ranking_acc: 0.5124\n",
      "Epoch 4/20\n",
      "3505280/3505280 [==============================] - 628s - loss: 0.9896 - ranking_acc: 0.5214 - val_loss: 0.9922 - val_ranking_acc: 0.5136\n",
      "Epoch 5/20\n",
      "3505280/3505280 [==============================] - 630s - loss: 0.9888 - ranking_acc: 0.5229 - val_loss: 0.9922 - val_ranking_acc: 0.5138\n",
      "Epoch 6/20\n",
      "3505280/3505280 [==============================] - 630s - loss: 0.9879 - ranking_acc: 0.5247 - val_loss: 0.9923 - val_ranking_acc: 0.5138\n",
      "Epoch 7/20\n",
      "3505280/3505280 [==============================] - 639s - loss: 0.9869 - ranking_acc: 0.5267 - val_loss: 0.9933 - val_ranking_acc: 0.5120"
     ]
    },
    {
     "name": "stderr",
     "output_type": "stream",
     "text": [
      "  4%|▍         | 52/1331 [00:00<00:02, 513.37it/s]"
     ]
    },
    {
     "name": "stdout",
     "output_type": "stream",
     "text": [
      "\n"
     ]
    },
    {
     "name": "stderr",
     "output_type": "stream",
     "text": [
      "100%|██████████| 1331/1331 [00:02<00:00, 549.47it/s]\n"
     ]
    },
    {
     "name": "stdout",
     "output_type": "stream",
     "text": [
      "### loo for topic 25 ###\n",
      "Epoch 1/20\n",
      "3758336/3758336 [==============================] - 663s - loss: 0.9971 - ranking_acc: 0.5032 - val_loss: 0.9837 - val_ranking_acc: 0.5306\n",
      "Epoch 2/20\n",
      "3758336/3758336 [==============================] - 650s - loss: 0.9966 - ranking_acc: 0.5055 - val_loss: 0.9850 - val_ranking_acc: 0.5246\n",
      "Epoch 3/20\n",
      "3758336/3758336 [==============================] - 655s - loss: 0.9961 - ranking_acc: 0.5079 - val_loss: 0.9873 - val_ranking_acc: 0.5153\n",
      "Epoch 4/20\n",
      "3758336/3758336 [==============================] - 658s - loss: 0.9953 - ranking_acc: 0.5113 - val_loss: 0.9926 - val_ranking_acc: 0.4983"
     ]
    },
    {
     "name": "stderr",
     "output_type": "stream",
     "text": [
      "  5%|▌         | 58/1093 [00:00<00:01, 571.67it/s]"
     ]
    },
    {
     "name": "stdout",
     "output_type": "stream",
     "text": [
      "\n"
     ]
    },
    {
     "name": "stderr",
     "output_type": "stream",
     "text": [
      "100%|██████████| 1093/1093 [00:01<00:00, 560.67it/s]\n"
     ]
    },
    {
     "name": "stdout",
     "output_type": "stream",
     "text": [
      "### loo for topic 26 ###\n",
      "Epoch 1/20\n",
      "3857408/3857408 [==============================] - 669s - loss: 0.9997 - ranking_acc: 0.4985 - val_loss: 0.9698 - val_ranking_acc: 0.6228\n",
      "Epoch 2/20\n",
      "3857408/3857408 [==============================] - 670s - loss: 0.9937 - ranking_acc: 0.5252 - val_loss: 0.9645 - val_ranking_acc: 0.6528\n",
      "Epoch 3/20\n",
      "3857408/3857408 [==============================] - 668s - loss: 0.9905 - ranking_acc: 0.5347 - val_loss: 0.9542 - val_ranking_acc: 0.6711\n",
      "Epoch 4/20\n",
      "3857408/3857408 [==============================] - 671s - loss: 0.9866 - ranking_acc: 0.5351 - val_loss: 0.9449 - val_ranking_acc: 0.6654\n",
      "Epoch 5/20\n",
      "3857408/3857408 [==============================] - 670s - loss: 0.9825 - ranking_acc: 0.5343 - val_loss: 0.9419 - val_ranking_acc: 0.6495\n",
      "Epoch 6/20\n",
      "3857408/3857408 [==============================] - 671s - loss: 0.9786 - ranking_acc: 0.5356 - val_loss: 0.9394 - val_ranking_acc: 0.6370\n",
      "Epoch 7/20\n",
      "3857408/3857408 [==============================] - 666s - loss: 0.9746 - ranking_acc: 0.5367 - val_loss: 0.9383 - val_ranking_acc: 0.6221\n",
      "Epoch 8/20\n",
      "3857408/3857408 [==============================] - 660s - loss: 0.9707 - ranking_acc: 0.5382 - val_loss: 0.9393 - val_ranking_acc: 0.6059\n",
      "Epoch 9/20\n",
      "3857408/3857408 [==============================] - 663s - loss: 0.9668 - ranking_acc: 0.5398 - val_loss: 0.9398 - val_ranking_acc: 0.5904\n",
      "Epoch 10/20\n",
      "3857408/3857408 [==============================] - 664s - loss: 0.9633 - ranking_acc: 0.5412 - val_loss: 0.9402 - val_ranking_acc: 0.5771"
     ]
    },
    {
     "name": "stderr",
     "output_type": "stream",
     "text": [
      "  6%|▌         | 60/961 [00:00<00:01, 598.15it/s]"
     ]
    },
    {
     "name": "stdout",
     "output_type": "stream",
     "text": [
      "\n"
     ]
    },
    {
     "name": "stderr",
     "output_type": "stream",
     "text": [
      "100%|██████████| 961/961 [00:01<00:00, 559.43it/s]\n"
     ]
    },
    {
     "name": "stdout",
     "output_type": "stream",
     "text": [
      "### loo for topic 27 ###\n",
      "Epoch 1/20\n",
      "3934848/3934848 [==============================] - 663s - loss: 0.9922 - ranking_acc: 0.5124 - val_loss: 1.0746 - val_ranking_acc: 0.3969\n",
      "Epoch 2/20\n",
      "3934848/3934848 [==============================] - 666s - loss: 0.9862 - ranking_acc: 0.5192 - val_loss: 1.0872 - val_ranking_acc: 0.3866\n",
      "Epoch 3/20\n",
      "3934848/3934848 [==============================] - 667s - loss: 0.9832 - ranking_acc: 0.5235 - val_loss: 1.1090 - val_ranking_acc: 0.3631\n",
      "Epoch 4/20\n",
      "3934848/3934848 [==============================] - 671s - loss: 0.9802 - ranking_acc: 0.5276 - val_loss: 1.1259 - val_ranking_acc: 0.3356"
     ]
    },
    {
     "name": "stderr",
     "output_type": "stream",
     "text": [
      "  7%|▋         | 68/928 [00:00<00:01, 678.76it/s]"
     ]
    },
    {
     "name": "stdout",
     "output_type": "stream",
     "text": [
      "\n"
     ]
    },
    {
     "name": "stderr",
     "output_type": "stream",
     "text": [
      "100%|██████████| 928/928 [00:01<00:00, 584.37it/s]\n"
     ]
    },
    {
     "name": "stdout",
     "output_type": "stream",
     "text": [
      "### loo for topic 28 ###\n",
      "Epoch 1/20\n",
      "3668352/3668352 [==============================] - 646s - loss: 0.9897 - ranking_acc: 0.5074 - val_loss: 1.0093 - val_ranking_acc: 0.4647\n",
      "Epoch 2/20\n",
      "3668352/3668352 [==============================] - 648s - loss: 0.9863 - ranking_acc: 0.5117 - val_loss: 1.0083 - val_ranking_acc: 0.4669\n",
      "Epoch 3/20\n",
      "3668352/3668352 [==============================] - 652s - loss: 0.9833 - ranking_acc: 0.5158 - val_loss: 1.0063 - val_ranking_acc: 0.4723\n",
      "Epoch 4/20\n",
      "3668352/3668352 [==============================] - 637s - loss: 0.9801 - ranking_acc: 0.5199 - val_loss: 1.0036 - val_ranking_acc: 0.4805\n",
      "Epoch 5/20\n",
      "3668352/3668352 [==============================] - 638s - loss: 0.9769 - ranking_acc: 0.5237 - val_loss: 1.0021 - val_ranking_acc: 0.4861\n",
      "Epoch 6/20\n",
      "3668352/3668352 [==============================] - 640s - loss: 0.9739 - ranking_acc: 0.5264 - val_loss: 1.0028 - val_ranking_acc: 0.4852\n",
      "Epoch 7/20\n",
      "3668352/3668352 [==============================] - 637s - loss: 0.9711 - ranking_acc: 0.5280 - val_loss: 1.0021 - val_ranking_acc: 0.4877\n",
      "Epoch 8/20\n",
      "3668352/3668352 [==============================] - 634s - loss: 0.9687 - ranking_acc: 0.5295 - val_loss: 1.0027 - val_ranking_acc: 0.4865\n",
      "Epoch 9/20\n",
      "3668352/3668352 [==============================] - 634s - loss: 0.9665 - ranking_acc: 0.5310 - val_loss: 1.0032 - val_ranking_acc: 0.4857\n",
      "Epoch 10/20\n",
      "3668352/3668352 [==============================] - 638s - loss: 0.9644 - ranking_acc: 0.5325 - val_loss: 1.0037 - val_ranking_acc: 0.4853"
     ]
    },
    {
     "name": "stderr",
     "output_type": "stream",
     "text": [
      "  3%|▎         | 50/1570 [00:00<00:03, 496.24it/s]"
     ]
    },
    {
     "name": "stdout",
     "output_type": "stream",
     "text": [
      "\n"
     ]
    },
    {
     "name": "stderr",
     "output_type": "stream",
     "text": [
      "100%|██████████| 1570/1570 [00:02<00:00, 546.45it/s]\n"
     ]
    },
    {
     "name": "stdout",
     "output_type": "stream",
     "text": [
      "### loo for topic 29 ###\n",
      "Epoch 1/20\n",
      "3872640/3872640 [==============================] - 654s - loss: 1.0013 - ranking_acc: 0.5016 - val_loss: 1.0040 - val_ranking_acc: 0.4687\n",
      "Epoch 2/20\n",
      "3872640/3872640 [==============================] - 656s - loss: 1.0001 - ranking_acc: 0.5053 - val_loss: 1.0005 - val_ranking_acc: 0.4840\n",
      "Epoch 3/20\n",
      "3872640/3872640 [==============================] - 655s - loss: 0.9987 - ranking_acc: 0.5089 - val_loss: 0.9976 - val_ranking_acc: 0.4971\n",
      "Epoch 4/20\n",
      "3872640/3872640 [==============================] - 660s - loss: 0.9972 - ranking_acc: 0.5121 - val_loss: 0.9953 - val_ranking_acc: 0.5089\n",
      "Epoch 5/20\n",
      "3872640/3872640 [==============================] - 677s - loss: 0.9958 - ranking_acc: 0.5149 - val_loss: 0.9927 - val_ranking_acc: 0.5208\n",
      "Epoch 6/20\n",
      "3872640/3872640 [==============================] - 656s - loss: 0.9945 - ranking_acc: 0.5170 - val_loss: 0.9911 - val_ranking_acc: 0.5291\n",
      "Epoch 7/20\n",
      "3872640/3872640 [==============================] - 657s - loss: 0.9933 - ranking_acc: 0.5188 - val_loss: 0.9889 - val_ranking_acc: 0.5350\n",
      "Epoch 8/20\n",
      "3872640/3872640 [==============================] - 661s - loss: 0.9920 - ranking_acc: 0.5204 - val_loss: 0.9876 - val_ranking_acc: 0.5412\n",
      "Epoch 9/20\n",
      "3872640/3872640 [==============================] - 660s - loss: 0.9908 - ranking_acc: 0.5218 - val_loss: 0.9858 - val_ranking_acc: 0.5477\n",
      "Epoch 10/20\n",
      "3872640/3872640 [==============================] - 663s - loss: 0.9895 - ranking_acc: 0.5232 - val_loss: 0.9842 - val_ranking_acc: 0.5547\n",
      "Epoch 11/20\n",
      "3872640/3872640 [==============================] - 665s - loss: 0.9882 - ranking_acc: 0.5244 - val_loss: 0.9840 - val_ranking_acc: 0.5537\n",
      "Epoch 12/20\n",
      "3872640/3872640 [==============================] - 661s - loss: 0.9868 - ranking_acc: 0.5258 - val_loss: 0.9824 - val_ranking_acc: 0.5599\n",
      "Epoch 13/20\n",
      "3872640/3872640 [==============================] - 665s - loss: 0.9853 - ranking_acc: 0.5271 - val_loss: 0.9819 - val_ranking_acc: 0.5605\n",
      "Epoch 14/20\n",
      "3872640/3872640 [==============================] - 661s - loss: 0.9836 - ranking_acc: 0.5283 - val_loss: 0.9808 - val_ranking_acc: 0.5637\n",
      "Epoch 15/20\n",
      "3872640/3872640 [==============================] - 663s - loss: 0.9818 - ranking_acc: 0.5295 - val_loss: 0.9800 - val_ranking_acc: 0.5651\n",
      "Epoch 16/20\n",
      "3872640/3872640 [==============================] - 666s - loss: 0.9803 - ranking_acc: 0.5305 - val_loss: 0.9788 - val_ranking_acc: 0.5696\n",
      "Epoch 17/20\n",
      "3872640/3872640 [==============================] - 667s - loss: 0.9790 - ranking_acc: 0.5314 - val_loss: 0.9781 - val_ranking_acc: 0.5692\n",
      "Epoch 18/20\n",
      "3872640/3872640 [==============================] - 671s - loss: 0.9780 - ranking_acc: 0.5323 - val_loss: 0.9772 - val_ranking_acc: 0.5716\n",
      "Epoch 19/20\n",
      "3872640/3872640 [==============================] - 673s - loss: 0.9771 - ranking_acc: 0.5328 - val_loss: 0.9774 - val_ranking_acc: 0.5721\n",
      "Epoch 20/20\n",
      "3872640/3872640 [==============================] - 677s - loss: 0.9763 - ranking_acc: 0.5332 - val_loss: 0.9765 - val_ranking_acc: 0.5738"
     ]
    },
    {
     "name": "stderr",
     "output_type": "stream",
     "text": [
      "  6%|▋         | 47/738 [00:00<00:01, 468.66it/s]"
     ]
    },
    {
     "name": "stdout",
     "output_type": "stream",
     "text": [
      "\n"
     ]
    },
    {
     "name": "stderr",
     "output_type": "stream",
     "text": [
      "100%|██████████| 738/738 [00:01<00:00, 557.45it/s]\n"
     ]
    },
    {
     "name": "stdout",
     "output_type": "stream",
     "text": [
      "### loo for topic 30 ###\n",
      "Epoch 1/20\n",
      "3904896/3904896 [==============================] - 671s - loss: 0.9964 - ranking_acc: 0.5008 - val_loss: 1.0834 - val_ranking_acc: 0.3245\n",
      "Epoch 2/20\n",
      "3904896/3904896 [==============================] - 672s - loss: 0.9905 - ranking_acc: 0.5088 - val_loss: 1.1130 - val_ranking_acc: 0.3190\n",
      "Epoch 3/20\n",
      "3904896/3904896 [==============================] - 677s - loss: 0.9857 - ranking_acc: 0.5133 - val_loss: 1.1392 - val_ranking_acc: 0.3166\n",
      "Epoch 4/20\n",
      "3904896/3904896 [==============================] - 681s - loss: 0.9817 - ranking_acc: 0.5172 - val_loss: 1.1547 - val_ranking_acc: 0.3203"
     ]
    },
    {
     "name": "stderr",
     "output_type": "stream",
     "text": [
      "  5%|▍         | 59/1237 [00:00<00:02, 576.88it/s]"
     ]
    },
    {
     "name": "stdout",
     "output_type": "stream",
     "text": [
      "\n"
     ]
    },
    {
     "name": "stderr",
     "output_type": "stream",
     "text": [
      "100%|██████████| 1237/1237 [00:02<00:00, 516.70it/s]\n"
     ]
    }
   ],
   "source": [
    "fpath = '/local/SOFT/Trec_eval/my_run_desc_loo.txt'\n",
    "open(fpath, 'w').close() # clear previous content of the file\n",
    "LOO(fpath)"
   ]
  },
  {
   "cell_type": "markdown",
   "metadata": {},
   "source": [
    "------------------"
   ]
  },
  {
   "cell_type": "markdown",
   "metadata": {},
   "source": [
    "## below are some testing stuff"
   ]
  },
  {
   "cell_type": "code",
   "execution_count": 85,
   "metadata": {
    "collapsed": false,
    "scrolled": true
   },
   "outputs": [
    {
     "data": {
      "text/plain": [
       "[('4462464', '2996340'),\n",
       " ('2999735', '28994'),\n",
       " ('3990128', '3190337'),\n",
       " ('4471306', '2132293'),\n",
       " ('4798841', '4682932'),\n",
       " ('3959352', '4682278'),\n",
       " ('3797929', '3383306'),\n",
       " ('4020130', '3935790'),\n",
       " ('4480181', '3969628'),\n",
       " ('3649508', '2132187')]"
      ]
     },
     "execution_count": 85,
     "metadata": {},
     "output_type": "execute_result"
    }
   ],
   "source": [
    "zip(pos_ids[0][:10], neg_ids[0][:10])"
   ]
  },
  {
   "cell_type": "code",
   "execution_count": 55,
   "metadata": {
    "collapsed": false
   },
   "outputs": [
    {
     "name": "stdout",
     "output_type": "stream",
     "text": [
      "(2, 42) (2, 42, 30)\n"
     ]
    }
   ],
   "source": [
    "query = QUERIES[0]\n",
    "pos_sample = get_query_doc_feature(query, '3429740')\n",
    "neg_sample = get_query_doc_feature(query, '3921765')\n",
    "pair_sample = np.array([pos_sample, neg_sample])\n",
    "_idf = np.array([get_idf(wd) for wd in query])\n",
    "idf_sample = np.vstack([_idf]*2)\n",
    "\n",
    "print idf_sample.shape, pair_sample.shape"
   ]
  },
  {
   "cell_type": "code",
   "execution_count": 60,
   "metadata": {
    "collapsed": false
   },
   "outputs": [
    {
     "data": {
      "text/plain": [
       "array([[ 0.,  0.,  0.,  0.,  0.,  0.,  0.,  0.,  0.,  0.,  0.,  0.,  0.,\n",
       "         0.,  0.,  0.,  0.,  0.,  0.,  0.,  0.,  0.,  0.,  0.,  0.,  0.,\n",
       "         0.,  0.,  0.,  0.],\n",
       "       [ 0.,  0.,  0.,  0.,  0.,  0.,  0.,  0.,  0.,  0.,  0.,  0.,  0.,\n",
       "         0.,  0.,  0.,  0.,  0.,  0.,  0.,  0.,  0.,  0.,  0.,  0.,  0.,\n",
       "         0.,  0.,  0.,  0.],\n",
       "       [ 0.,  0.,  0.,  0.,  0.,  0.,  0.,  0.,  0.,  0.,  0.,  0.,  0.,\n",
       "         0.,  0.,  0.,  0.,  0.,  0.,  0.,  0.,  0.,  0.,  0.,  0.,  0.,\n",
       "         0.,  0.,  0.,  0.]])"
      ]
     },
     "execution_count": 60,
     "metadata": {},
     "output_type": "execute_result"
    }
   ],
   "source": [
    "pos_sample[-3:]"
   ]
  },
  {
   "cell_type": "code",
   "execution_count": 64,
   "metadata": {
    "collapsed": false
   },
   "outputs": [
    {
     "data": {
      "text/plain": [
       "array([[ 0.]], dtype=float32)"
      ]
     },
     "execution_count": 64,
     "metadata": {},
     "output_type": "execute_result"
    }
   ],
   "source": [
    "feed_forward.predict(pos_sample[-1].reshape(-1,30))"
   ]
  },
  {
   "cell_type": "markdown",
   "metadata": {},
   "source": [
    "### test `scoring_model`"
   ]
  },
  {
   "cell_type": "code",
   "execution_count": 66,
   "metadata": {
    "collapsed": false
   },
   "outputs": [
    {
     "data": {
      "text/plain": [
       "array([ 0.6400283, -0.5777238], dtype=float32)"
      ]
     },
     "execution_count": 66,
     "metadata": {},
     "output_type": "execute_result"
    }
   ],
   "source": [
    "scoring_model.predict([idf_sample,pair_sample])"
   ]
  },
  {
   "cell_type": "code",
   "execution_count": 67,
   "metadata": {
    "collapsed": false
   },
   "outputs": [
    {
     "name": "stdout",
     "output_type": "stream",
     "text": [
      "['78', 'year', 'old', 'male', 'presents', 'frequent', 'stools', '</s>', '</s>', '</s>', '</s>', '</s>', '</s>', '</s>', '</s>', '</s>', '</s>', '</s>', '</s>', '</s>', '</s>', '</s>', '</s>', '</s>', '</s>', '</s>', '</s>', '</s>', '</s>', '</s>', '</s>', '</s>', '</s>', '</s>', '</s>', '</s>', '</s>', '</s>', '</s>', '</s>', '</s>', '</s>']\n"
     ]
    }
   ],
   "source": [
    "print QUERIES[0]"
   ]
  },
  {
   "cell_type": "code",
   "execution_count": 73,
   "metadata": {
    "collapsed": false,
    "scrolled": true
   },
   "outputs": [
    {
     "name": "stdout",
     "output_type": "stream",
     "text": [
      "[[-0.99978906]\n",
      " [-0.98247641]\n",
      " [-0.99991786]\n",
      " [-0.99835128]\n",
      " [ 0.9953261 ]\n",
      " [ 0.99989414]\n",
      " [ 0.99975753]\n",
      " [ 0.        ]\n",
      " [ 0.        ]\n",
      " [ 0.        ]\n",
      " [ 0.        ]\n",
      " [ 0.        ]\n",
      " [ 0.        ]\n",
      " [ 0.        ]\n",
      " [ 0.        ]\n",
      " [ 0.        ]\n",
      " [ 0.        ]\n",
      " [ 0.        ]\n",
      " [ 0.        ]\n",
      " [ 0.        ]\n",
      " [ 0.        ]\n",
      " [ 0.        ]\n",
      " [ 0.        ]\n",
      " [ 0.        ]\n",
      " [ 0.        ]\n",
      " [ 0.        ]\n",
      " [ 0.        ]\n",
      " [ 0.        ]\n",
      " [ 0.        ]\n",
      " [ 0.        ]\n",
      " [ 0.        ]\n",
      " [ 0.        ]\n",
      " [ 0.        ]\n",
      " [ 0.        ]\n",
      " [ 0.        ]\n",
      " [ 0.        ]\n",
      " [ 0.        ]\n",
      " [ 0.        ]\n",
      " [ 0.        ]\n",
      " [ 0.        ]\n",
      " [ 0.        ]\n",
      " [ 0.        ]]\n"
     ]
    }
   ],
   "source": [
    "a = feed_forward.predict(pos_sample)\n",
    "print a"
   ]
  },
  {
   "cell_type": "code",
   "execution_count": 69,
   "metadata": {
    "collapsed": false
   },
   "outputs": [
    {
     "name": "stdout",
     "output_type": "stream",
     "text": [
      "[ 0.13057594  0.00933529  0.01021741  0.02965928  0.10123158  0.07826629\n",
      "  0.64071429  0.          0.          0.          0.          0.          0.\n",
      "  0.          0.          0.          0.          0.          0.          0.\n",
      "  0.          0.          0.          0.          0.          0.          0.\n",
      "  0.          0.          0.          0.          0.          0.          0.\n",
      "  0.          0.          0.          0.          0.          0.          0.\n",
      "  0.        ]\n"
     ]
    }
   ],
   "source": [
    "b = gating.predict(idf_sample)[0]\n",
    "print b"
   ]
  },
  {
   "cell_type": "code",
   "execution_count": 70,
   "metadata": {
    "collapsed": false
   },
   "outputs": [
    {
     "data": {
      "text/plain": [
       "array([ 0.64002836], dtype=float32)"
      ]
     },
     "execution_count": 70,
     "metadata": {},
     "output_type": "execute_result"
    }
   ],
   "source": [
    "b.dot(a)"
   ]
  },
  {
   "cell_type": "code",
   "execution_count": 71,
   "metadata": {
    "collapsed": false,
    "scrolled": true
   },
   "outputs": [
    {
     "name": "stdout",
     "output_type": "stream",
     "text": [
      "[-0.57772374]\n"
     ]
    }
   ],
   "source": [
    "c = feed_forward.predict(neg_sample)\n",
    "# print c\n",
    "print b.dot(c)"
   ]
  },
  {
   "cell_type": "markdown",
   "metadata": {},
   "source": [
    "==> the scoring model works all right"
   ]
  },
  {
   "cell_type": "markdown",
   "metadata": {},
   "source": [
    "### test ranking_model"
   ]
  },
  {
   "cell_type": "code",
   "execution_count": 77,
   "metadata": {
    "collapsed": false
   },
   "outputs": [
    {
     "data": {
      "text/plain": [
       "array([ 1.2177521, -1.2177521], dtype=float32)"
      ]
     },
     "execution_count": 77,
     "metadata": {},
     "output_type": "execute_result"
    }
   ],
   "source": [
    "ranking_model.predict( [idf_sample, pair_sample, np.array([neg_sample, pos_sample]) ])"
   ]
  },
  {
   "cell_type": "code",
   "execution_count": 213,
   "metadata": {
    "collapsed": false
   },
   "outputs": [
    {
     "data": {
      "text/plain": [
       "0.24448099"
      ]
     },
     "execution_count": 213,
     "metadata": {},
     "output_type": "execute_result"
    }
   ],
   "source": [
    "0.08474284 - -0.15973815"
   ]
  },
  {
   "cell_type": "code",
   "execution_count": 74,
   "metadata": {
    "collapsed": true
   },
   "outputs": [],
   "source": [
    "def predict_score(pmcid):\n",
    "    query = QUERIES[0]\n",
    "    _idf = np.array([get_idf(wd) for wd in query])\n",
    "    _idf = np.vstack([_idf])\n",
    "    _hist = get_query_doc_feature(query, pmcid).reshape(1,N,30)\n",
    "    return scoring_model.predict([_idf, _hist])[0]"
   ]
  },
  {
   "cell_type": "code",
   "execution_count": 76,
   "metadata": {
    "collapsed": false
   },
   "outputs": [
    {
     "data": {
      "text/plain": [
       "array([ 0.6400283], dtype=float32)"
      ]
     },
     "execution_count": 76,
     "metadata": {},
     "output_type": "execute_result"
    }
   ],
   "source": [
    " query = QUERIES[0]\n",
    "_idf = np.array([get_idf(wd) for wd in query])\n",
    "_idf = np.vstack([_idf])\n",
    "# pos_sample = get_query_doc_feature(query, '3429740')\n",
    "scoring_model.predict( [_idf, pos_sample.reshape(1,N,30)])"
   ]
  },
  {
   "cell_type": "code",
   "execution_count": 75,
   "metadata": {
    "collapsed": false
   },
   "outputs": [
    {
     "data": {
      "text/plain": [
       "0.6400283"
      ]
     },
     "execution_count": 75,
     "metadata": {},
     "output_type": "execute_result"
    }
   ],
   "source": [
    "predict_score('3429740')"
   ]
  },
  {
   "cell_type": "markdown",
   "metadata": {},
   "source": [
    "### see some results"
   ]
  },
  {
   "cell_type": "code",
   "execution_count": 254,
   "metadata": {
    "collapsed": false
   },
   "outputs": [
    {
     "data": {
      "text/plain": [
       "[(0.64522916, -0.64596307),\n",
       " (0.58043218, -0.80223674),\n",
       " (0.43058032, -0.96593964),\n",
       " (0.65287751, 0.45643875),\n",
       " (0.34601948, -0.64428258),\n",
       " (0.14929375, -0.085226007),\n",
       " (0.29558107, -0.85025477),\n",
       " (0.33852708, -0.032222524),\n",
       " (0.62793219, -0.96636206),\n",
       " (0.64027685, -0.76521266)]"
      ]
     },
     "execution_count": 254,
     "metadata": {},
     "output_type": "execute_result"
    }
   ],
   "source": [
    "zip( map(predict_score, pos_ids[0][:10]), map(predict_score, neg_ids[0][:10]))"
   ]
  },
  {
   "cell_type": "code",
   "execution_count": 255,
   "metadata": {
    "collapsed": true
   },
   "outputs": [],
   "source": [
    "def predict_score_diff( (pmcid_pos, pmcid_neg) ):\n",
    "    query = QUERIES[0]\n",
    "    _idf = np.array([get_idf(wd) for wd in query])\n",
    "    _idf = np.vstack([_idf])\n",
    "    hist_pos = get_query_doc_feature(query, pmcid_pos).reshape((1,11,30))\n",
    "    hist_neg = get_query_doc_feature(query, pmcid_neg).reshape((1,11,30))\n",
    "    return ranking_model.predict([_idf, hist_pos, hist_neg])[0]"
   ]
  },
  {
   "cell_type": "markdown",
   "metadata": {},
   "source": [
    "### test the scoring model (metrics=AP )"
   ]
  },
  {
   "cell_type": "code",
   "execution_count": 86,
   "metadata": {
    "collapsed": false
   },
   "outputs": [],
   "source": [
    "def AP(pos_scores, neg_scores):\n",
    "    Q = len(pos_scores)\n",
    "    pos_tags = [1] * len(pos_scores)\n",
    "    neg_tags = [0] * len(neg_scores)\n",
    "    all_tagged = zip(pos_scores, pos_tags) + zip(neg_scores, neg_tags)\n",
    "    ranked_list = sorted(all_tagged, reverse=True)\n",
    "#     print ranked_list[:20]\n",
    "    ranked_tag = zip(*ranked_list)[1]\n",
    "#     print ranked_tag[:20]\n",
    "    precision_at_i = []\n",
    "    corr, total = 0.0, 0\n",
    "    while corr<Q:\n",
    "        if ranked_tag[total]==1: \n",
    "            corr += 1\n",
    "            precision_at_i.append(corr*1.0 / (total+1) )\n",
    "        total += 1\n",
    "#     print precision_at_i[:20]\n",
    "    return np.mean(precision_at_i)"
   ]
  },
  {
   "cell_type": "code",
   "execution_count": 88,
   "metadata": {
    "collapsed": false
   },
   "outputs": [],
   "source": [
    "def AP_of_topic(q):\n",
    "    query = QUERIES[q]\n",
    "    _idf = np.array([get_idf(wd) for wd in query])\n",
    "    _idfs = np.vstack([_idf]*len(hists_pos[q]))\n",
    "    pos_scores = scoring_model.predict( [ _idfs, hists_pos[q]])\n",
    "    _idfs = np.vstack([_idf]*len(hists_neg[q]))\n",
    "    neg_scores = scoring_model.predict( [ _idfs, hists_neg[q]])\n",
    "#     print 'mean:', pos_scores.mean(), neg_scores.mean()\n",
    "#     print 'max:',pos_scores.max(), neg_scores.max()\n",
    "#     print 'min:',pos_scores.min(), neg_scores.min()\n",
    "    return AP(pos_scores, neg_scores)"
   ]
  },
  {
   "cell_type": "code",
   "execution_count": 95,
   "metadata": {
    "collapsed": false,
    "scrolled": true
   },
   "outputs": [
    {
     "name": "stdout",
     "output_type": "stream",
     "text": [
      "1 0.374556306953\n",
      "2 0.0463904856183\n",
      "3 0.143715034059\n",
      "4 0.0733399611386\n",
      "5 0.157504933071\n",
      "6 0.280238415521\n",
      "7 0.0746418586299\n",
      "8 0.753107281015\n",
      "9 0.201688334012\n",
      "10 0.0446822544475\n",
      "11 0.431731522559\n",
      "12 0.152718322579\n",
      "13 0.148034156263\n",
      "14 0.232670657319\n",
      "15 0.0784046291861\n",
      "16 0.134835036728\n",
      "17 0.283819019562\n",
      "18 0.0808027369522\n",
      "19 0.260926134787\n",
      "20 0.688796674943\n",
      "21 0.126226435253\n",
      "22 0.0362190661148\n",
      "23 0.113609262076\n",
      "24 0.640068771661\n",
      "25 0.202253068924\n",
      "26 0.084236616998\n",
      "27 0.0179960977516\n",
      "28 0.122363210686\n",
      "29 0.19348026862\n",
      "30 0.0543085761597\n"
     ]
    }
   ],
   "source": [
    "for i in xrange(T):\n",
    "    print i+1, AP_of_topic(i) "
   ]
  },
  {
   "cell_type": "code",
   "execution_count": 114,
   "metadata": {
    "collapsed": false,
    "scrolled": true
   },
   "outputs": [
    {
     "name": "stderr",
     "output_type": "stream",
     "text": [
      "100%|██████████| 1340/1340 [00:27<00:00, 48.62it/s]\n",
      "100%|██████████| 1196/1196 [00:56<00:00, 21.29it/s]\n",
      "100%|██████████| 1353/1353 [01:52<00:00, 14.91it/s]\n",
      "100%|██████████| 1328/1328 [00:48<00:00, 27.42it/s]\n",
      "100%|██████████| 1384/1384 [00:41<00:00, 33.13it/s]\n",
      "100%|██████████| 825/825 [00:50<00:00, 16.24it/s]\n",
      "100%|██████████| 1065/1065 [00:55<00:00, 25.30it/s]\n",
      "100%|██████████| 1127/1127 [00:41<00:00, 27.38it/s]\n",
      "100%|██████████| 1101/1101 [00:36<00:00, 35.70it/s]\n",
      "100%|██████████| 1098/1098 [00:40<00:00, 27.11it/s]\n",
      "100%|██████████| 954/954 [00:39<00:00, 24.05it/s]\n",
      "100%|██████████| 1158/1158 [00:52<00:00, 22.11it/s]\n",
      "100%|██████████| 1336/1336 [01:49<00:00, 13.71it/s]\n",
      "100%|██████████| 1138/1138 [00:45<00:00, 24.81it/s]\n",
      "100%|██████████| 1023/1023 [02:21<00:00,  7.24it/s]\n",
      "100%|██████████| 1441/1441 [01:05<00:00, 20.02it/s]\n",
      "100%|██████████| 1034/1034 [00:44<00:00, 16.43it/s]\n",
      "100%|██████████| 1079/1079 [01:21<00:00, 13.22it/s]\n",
      "100%|██████████| 1146/1146 [01:06<00:00, 17.13it/s]\n",
      "100%|██████████| 1022/1022 [00:54<00:00, 18.76it/s]\n",
      "100%|██████████| 933/933 [01:07<00:00, 13.10it/s]\n",
      "100%|██████████| 1110/1110 [00:15<00:00, 71.37it/s]\n",
      "100%|██████████| 1552/1552 [00:45<00:00, 34.30it/s]\n",
      "100%|██████████| 1331/1331 [00:55<00:00, 24.17it/s]\n",
      "100%|██████████| 1093/1093 [00:58<00:00, 18.71it/s]\n",
      "100%|██████████| 961/961 [01:59<00:00, 10.41it/s]\n",
      "100%|██████████| 928/928 [00:36<00:00, 28.19it/s]\n",
      "100%|██████████| 1570/1570 [00:42<00:00, 36.53it/s]\n",
      "100%|██████████| 738/738 [00:58<00:00, 12.54it/s]\n",
      "100%|██████████| 1237/1237 [00:39<00:00, 31.23it/s]\n"
     ]
    },
    {
     "ename": "IndexError",
     "evalue": "list index out of range",
     "output_type": "error",
     "traceback": [
      "\u001b[0;31m---------------------------------------------------------------------------\u001b[0m",
      "\u001b[0;31mIndexError\u001b[0m                                Traceback (most recent call last)",
      "\u001b[0;32m<ipython-input-114-bc65703bfad7>\u001b[0m in \u001b[0;36m<module>\u001b[0;34m()\u001b[0m\n\u001b[1;32m      1\u001b[0m \u001b[0;32mfor\u001b[0m \u001b[0mq\u001b[0m \u001b[0;32min\u001b[0m \u001b[0mxrange\u001b[0m\u001b[0;34m(\u001b[0m\u001b[0;36m31\u001b[0m\u001b[0;34m)\u001b[0m\u001b[0;34m:\u001b[0m\u001b[0;34m\u001b[0m\u001b[0m\n\u001b[0;32m----> 2\u001b[0;31m     \u001b[0mTREC_output\u001b[0m\u001b[0;34m(\u001b[0m\u001b[0mq\u001b[0m\u001b[0;34m,\u001b[0m \u001b[0mpmcid_2relevance\u001b[0m\u001b[0;34m[\u001b[0m\u001b[0mq\u001b[0m\u001b[0;34m+\u001b[0m\u001b[0;36m1\u001b[0m\u001b[0;34m]\u001b[0m\u001b[0;34m.\u001b[0m\u001b[0mkeys\u001b[0m\u001b[0;34m(\u001b[0m\u001b[0;34m)\u001b[0m\u001b[0;34m,\u001b[0m \u001b[0mfpath\u001b[0m\u001b[0;34m=\u001b[0m\u001b[0;34m'/local/SOFT/Trec_eval/my_run_validation.txt'\u001b[0m\u001b[0;34m)\u001b[0m\u001b[0;34m\u001b[0m\u001b[0m\n\u001b[0m",
      "\u001b[0;31mIndexError\u001b[0m: list index out of range"
     ]
    }
   ],
   "source": [
    "for q in xrange(30):\n",
    "    TREC_output(q, pmcid_2relevance[q+1].keys(), fpath='/local/SOFT/Trec_eval/my_run_validation.txt')"
   ]
  },
  {
   "cell_type": "code",
   "execution_count": null,
   "metadata": {
    "collapsed": true
   },
   "outputs": [],
   "source": []
  }
 ],
 "metadata": {
  "anaconda-cloud": {},
  "kernelspec": {
   "display_name": "Python [Root]",
   "language": "python",
   "name": "Python [Root]"
  },
  "language_info": {
   "codemirror_mode": {
    "name": "ipython",
    "version": 2
   },
   "file_extension": ".py",
   "mimetype": "text/x-python",
   "name": "python",
   "nbconvert_exporter": "python",
   "pygments_lexer": "ipython2",
   "version": "2.7.12"
  }
 },
 "nbformat": 4,
 "nbformat_minor": 1
}
