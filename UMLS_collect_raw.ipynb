{
 "cells": [
  {
   "cell_type": "code",
   "execution_count": 94,
   "metadata": {
    "collapsed": true
   },
   "outputs": [],
   "source": [
    "import os,sys\n",
    "import numpy as np\n",
    "import pandas as pd\n",
    "from tqdm import tqdm\n",
    "from pprint import pprint\n",
    "import cPickle as pk\n",
    "np.random.seed(1) # to be reproductive"
   ]
  },
  {
   "cell_type": "code",
   "execution_count": 95,
   "metadata": {
    "collapsed": true
   },
   "outputs": [],
   "source": [
    "NOTE_DATA_DIR = '/local/XW/DATA/MIMIC/noteevents_by_sid/'\n",
    "UMLS_DATA_DIR = '/local/XW/DATA/MIMIC/UMLS_by_sid/'"
   ]
  },
  {
   "cell_type": "code",
   "execution_count": 96,
   "metadata": {
    "collapsed": false
   },
   "outputs": [
    {
     "name": "stdout",
     "output_type": "stream",
     "text": [
      "[ [ [{...}],\n",
      "    [{...}, {...}, {...}, {...}],\n",
      "    [{...}],\n",
      "    [{...}],\n",
      "    [{...}, {...}],\n",
      "    [{...}, {...}],\n",
      "    [{...}],\n",
      "    [{...}, {...}, {...}],\n",
      "    [{...}, {...}, {...}],\n",
      "    [{...}],\n",
      "    [{...}, {...}, {...}],\n",
      "    [{...}, {...}, {...}],\n",
      "    [{...}],\n",
      "    [{...}],\n",
      "    [{...}, {...}],\n",
      "    [{...}],\n",
      "    [{...}],\n",
      "    [{...}]],\n",
      "  [ [{...}, {...}],\n",
      "    [{...}, {...}, {...}, {...}, {...}],\n",
      "    [{...}, {...}],\n",
      "    [{...}, {...}],\n",
      "    [{...}, {...}],\n",
      "    [ {...},\n",
      "      {...},\n",
      "      {...},\n",
      "      {...},\n",
      "      {...},\n",
      "      {...},\n",
      "      {...},\n",
      "      {...},\n",
      "      {...},\n",
      "      {...},\n",
      "      {...}],\n",
      "    [{...}],\n",
      "    [ {...},\n",
      "      {...},\n",
      "      {...},\n",
      "      {...},\n",
      "      {...},\n",
      "      {...},\n",
      "      {...},\n",
      "      {...},\n",
      "      {...},\n",
      "      {...},\n",
      "      {...}],\n",
      "    [{...}, {...}, {...}],\n",
      "    [{...}, {...}, {...}, {...}, {...}, {...}, {...}, {...}, {...}],\n",
      "    [{...}, {...}],\n",
      "    [{...}, {...}],\n",
      "    [{...}],\n",
      "    [{...}, {...}],\n",
      "    [{...}, {...}],\n",
      "    [{...}],\n",
      "    [{...}],\n",
      "    [{...}],\n",
      "    [{...}, {...}, {...}],\n",
      "    [{...}],\n",
      "    [{...}],\n",
      "    [{...}],\n",
      "    [{...}, {...}, {...}, {...}, {...}, {...}, {...}, {...}, {...}],\n",
      "    [{...}, {...}, {...}],\n",
      "    [{...}, {...}, {...}],\n",
      "    [{...}],\n",
      "    [{...}, {...}],\n",
      "    [{...}],\n",
      "    [{...}],\n",
      "    [{...}],\n",
      "    [{...}],\n",
      "    [{...}],\n",
      "    [{...}, {...}, {...}, {...}, {...}],\n",
      "    [{...}],\n",
      "    [{...}],\n",
      "    [{...}],\n",
      "    [{...}],\n",
      "    [{...}],\n",
      "    [{...}]]]\n"
     ]
    }
   ],
   "source": [
    "'''\n",
    "in UMLS_DATA_DIR, each .pk file contains a list, each element in list corresponds to a noteevent\n",
    "\n",
    "each noteevent is represented as a list of lists of dicts (one list per sentence?), \n",
    "the concepts are stored in the dicts\n",
    "\n",
    "CUI: The Concept Unique Identifier\n",
    "semtype: Semantic Type - One of the broad categories \n",
    "\n",
    "see: https://www.nlm.nih.gov/research/umls/new_users/online_learning/glossary.html\n",
    "'''\n",
    "# example:\n",
    "with open(os.path.join(UMLS_DATA_DIR, '2.pk')) as f:\n",
    "    pprint(pk.load(f),indent=2, depth=3)"
   ]
  },
  {
   "cell_type": "code",
   "execution_count": null,
   "metadata": {
    "collapsed": false
   },
   "outputs": [
    {
     "data": {
      "text/plain": [
       "46146"
      ]
     },
     "execution_count": 97,
     "metadata": {},
     "output_type": "execute_result"
    }
   ],
   "source": [
    "len(os.listdir(UMLS_DATA_DIR))"
   ]
  },
  {
   "cell_type": "code",
   "execution_count": null,
   "metadata": {
    "collapsed": false
   },
   "outputs": [
    {
     "name": "stderr",
     "output_type": "stream",
     "text": [
      "  0%|          | 188/46146 [00:14<49:45, 15.39it/s]  "
     ]
    }
   ],
   "source": [
    "unique_concepts = set()\n",
    "unique_semtypes = set()\n",
    "for fn in tqdm(os.listdir(UMLS_DATA_DIR)[:]):\n",
    "    fpath = os.path.join(UMLS_DATA_DIR, fn)\n",
    "    with open(fpath) as f:\n",
    "        concepts_per_sid = pk.load(f)\n",
    "        for concepts_per_note in concepts_per_sid:\n",
    "            for concept_per_sentence in concepts_per_note:\n",
    "                for concept in concept_per_sentence:\n",
    "                    unique_concepts.add( concept['cui'] ) # CUI = Concept Unique Identifiers\n",
    "                    unique_semtypes.update(concept['semtypes'])\n",
    "print len(unique_concepts)\n",
    "print len(unique_semtypes)"
   ]
  },
  {
   "cell_type": "code",
   "execution_count": null,
   "metadata": {
    "collapsed": false
   },
   "outputs": [],
   "source": [
    "i = 0 \n",
    "concept2id = {}\n",
    "for c in unique_concepts:\n",
    "    concept2id[c] = i\n",
    "    i += 1"
   ]
  },
  {
   "cell_type": "code",
   "execution_count": null,
   "metadata": {
    "collapsed": false
   },
   "outputs": [],
   "source": [
    "X = []\n",
    "sids = []\n",
    "i = 0\n",
    "for fn in tqdm(os.listdir(UMLS_DATA_DIR)[:]):\n",
    "    x = set()\n",
    "    sid = int(fn[:-3])\n",
    "    sids.append(sid); i+=1\n",
    "    fpath = os.path.join(UMLS_DATA_DIR, fn)\n",
    "    with open(fpath) as f:\n",
    "        concepts_per_sid = pk.load(f)\n",
    "        for concepts_per_note in concepts_per_sid:\n",
    "            for concept_per_sentence in concepts_per_note:\n",
    "                for concept in concept_per_sentence:\n",
    "                    cui = concept['cui']\n",
    "                    x.add(concept_to_id[cui])\n",
    "    X.append(list(x))\n"
   ]
  },
  {
   "cell_type": "code",
   "execution_count": null,
   "metadata": {
    "collapsed": false
   },
   "outputs": [],
   "source": [
    "# turn X into sparse matrix\n",
    "from scipy.sparse import csr_matrix\n",
    "data, rows, cols = [], [], []\n",
    "for r in xrange(len(X)):\n",
    "    for c in X[r]:\n",
    "        rows.append(r)\n",
    "        cols.append(c)\n",
    "        data.append(1.0)\n",
    "X = csr_matrix((data, (rows, cols)))\n",
    "print X.shape\n",
    "sids = np.array(sids)\n",
    "print sids"
   ]
  },
  {
   "cell_type": "code",
   "execution_count": null,
   "metadata": {
    "collapsed": false
   },
   "outputs": [],
   "source": [
    "X[0].sum(), X[1].sum() # 1st and 2nd row, corresponds to sid=2,3"
   ]
  },
  {
   "cell_type": "code",
   "execution_count": null,
   "metadata": {
    "collapsed": true
   },
   "outputs": [],
   "source": [
    "# shuffle X's rows (sids are to be shuffled too)\n",
    "shuffle_index = np.arange(X.shape[0])\n",
    "np.random.shuffle(shuffle_index)\n",
    "X = X[shuffle_index]\n",
    "sids = sids[shuffle_index]"
   ]
  },
  {
   "cell_type": "code",
   "execution_count": null,
   "metadata": {
    "collapsed": true
   },
   "outputs": [],
   "source": [
    "sid2rowidx = {} # map sid(int) to the row index in the (shuffled) raw feature matrix X\n",
    "for sid,rowidx in zip(sids, range(len(sids))):\n",
    "    sid2raw[sid] = rowidx"
   ]
  },
  {
   "cell_type": "code",
   "execution_count": null,
   "metadata": {
    "collapsed": false
   },
   "outputs": [],
   "source": [
    "X[sid2raw[2]].sum(), X[sid2raw[3]].sum() # check the mapping is correct..."
   ]
  },
  {
   "cell_type": "code",
   "execution_count": null,
   "metadata": {
    "collapsed": false
   },
   "outputs": [],
   "source": [
    "OUT_FILENAME = './data/umls_raw_features.pk'\n",
    "data_to_pickle ={\n",
    "    'X_raw': X,\n",
    "    'unique_concepts': unique_concepts,\n",
    "    'unique_semtypes': unique_semtypes,\n",
    "    'concept2id': concept2id,\n",
    "    'sid2rowidx': sid2rowidx \n",
    "}\n",
    "with open(OUT_FILENAME,'wb') as f:\n",
    "    pk.dump(data_to_pickle, f, pk.HIGHEST_PROTOCOL)"
   ]
  },
  {
   "cell_type": "markdown",
   "metadata": {},
   "source": [
    "---"
   ]
  },
  {
   "cell_type": "markdown",
   "metadata": {},
   "source": [
    "### Below are some toy code for training/getting deep patient feature vectors"
   ]
  },
  {
   "cell_type": "code",
   "execution_count": null,
   "metadata": {
    "collapsed": false
   },
   "outputs": [],
   "source": [
    "import os, sys, time\n",
    "import numpy as np\n",
    "import pandas as pd\n",
    "from tqdm import tqdm\n",
    "import cPickle as pk\n",
    "np.random.seed(1) # to be reproductive\n",
    "\n",
    "from keras.preprocessing.text import Tokenizer\n",
    "from keras.preprocessing.sequence import pad_sequences\n",
    "from keras.layers import Dense, Input, Flatten, Dropout\n",
    "from keras.layers import Conv1D, MaxPooling1D, Embedding\n",
    "from keras.layers import Conv2D, MaxPooling2D, Reshape\n",
    "from keras.models import Sequential\n",
    "from keras.models import load_model\n",
    "from keras.utils.np_utils import to_categorical\n",
    "from keras.callbacks import TensorBoard\n",
    "from keras.callbacks import Callback, EarlyStopping\n",
    "import keras.backend as K\n",
    "from keras.layers import Input, Dense\n",
    "from keras.models import Model"
   ]
  },
  {
   "cell_type": "code",
   "execution_count": null,
   "metadata": {
    "collapsed": true
   },
   "outputs": [],
   "source": [
    "X = np.array(X[:100].todense())"
   ]
  },
  {
   "cell_type": "code",
   "execution_count": null,
   "metadata": {
    "collapsed": true
   },
   "outputs": [],
   "source": [
    "ENCODING_DIM = 500\n",
    "INPUT_DIM = X.shape[-1]\n",
    "NOISE_PORTION = 0.5 # randomly mask protion\n",
    "VALIDATION_SPLIT = 0.2\n",
    "BATCH_SZ = 128\n",
    "NB_EPOCH = 50"
   ]
  },
  {
   "cell_type": "code",
   "execution_count": null,
   "metadata": {
    "collapsed": true
   },
   "outputs": [],
   "source": [
    "input_raw = Input(shape=(INPUT_DIM,))\n",
    "# for final dpvec, should I take the activations before relu ???\n",
    "hiddenlayer = Dense(ENCODING_DIM, activation='relu')\n",
    "outputlayer = Dense(INPUT_DIM, activation='sigmoid')\n",
    "\n",
    "encoded = hiddenlayer(input_raw)\n",
    "\n",
    "decoded = outputlayer(encoded)\n",
    "\n",
    "# this model maps an input to its reconstruction\n",
    "autoencoder = Model(input=input_raw, output=decoded)\n",
    "\n",
    "autoencoder.compile(optimizer='adadelta', loss='binary_crossentropy')"
   ]
  },
  {
   "cell_type": "code",
   "execution_count": null,
   "metadata": {
    "collapsed": false
   },
   "outputs": [],
   "source": [
    "autoencoder.fit(X, X, nb_epoch=1, batch_size=10)"
   ]
  },
  {
   "cell_type": "code",
   "execution_count": null,
   "metadata": {
    "collapsed": true
   },
   "outputs": [],
   "source": [
    "encoded2 = hiddenlayer(decoded)\n",
    "decode2 =outputlayer(encoded2)\n",
    "encoded3 = hiddenlayer(decode2)"
   ]
  },
  {
   "cell_type": "code",
   "execution_count": null,
   "metadata": {
    "collapsed": false
   },
   "outputs": [],
   "source": [
    "encoder = Model(input=input_raw, output=encoded3)\n",
    "# X_encoded = encoder.predict(X)"
   ]
  },
  {
   "cell_type": "code",
   "execution_count": null,
   "metadata": {
    "collapsed": false
   },
   "outputs": [],
   "source": [
    "dpvec = encoder.predict(X) # deep patient feature vecs"
   ]
  },
  {
   "cell_type": "code",
   "execution_count": null,
   "metadata": {
    "collapsed": false
   },
   "outputs": [],
   "source": [
    "print dpvec.shape"
   ]
  }
 ],
 "metadata": {
  "anaconda-cloud": {},
  "kernelspec": {
   "display_name": "Python [conda env:thesis_nb]",
   "language": "python",
   "name": "conda-env-thesis_nb-py"
  },
  "language_info": {
   "codemirror_mode": {
    "name": "ipython",
    "version": 2
   },
   "file_extension": ".py",
   "mimetype": "text/x-python",
   "name": "python",
   "nbconvert_exporter": "python",
   "pygments_lexer": "ipython2",
   "version": "2.7.12"
  }
 },
 "nbformat": 4,
 "nbformat_minor": 1
}
