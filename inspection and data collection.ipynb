{
 "cells": [
  {
   "cell_type": "code",
   "execution_count": 72,
   "metadata": {
    "collapsed": false
   },
   "outputs": [],
   "source": [
    "import psycopg2\n",
    "from tqdm import tqdm\n",
    "import matplotlib.pyplot as plt\n",
    "%matplotlib inline \n",
    "import pylab\n",
    "pylab.rcParams['figure.figsize'] = (10, 5)"
   ]
  },
  {
   "cell_type": "code",
   "execution_count": 73,
   "metadata": {
    "collapsed": false
   },
   "outputs": [
    {
     "name": "stdout",
     "output_type": "stream",
     "text": [
      "mimic password?········\n"
     ]
    }
   ],
   "source": [
    "from getpass import getpass\n",
    "MIMIC_PW = getpass('mimic password?')"
   ]
  },
  {
   "cell_type": "code",
   "execution_count": 74,
   "metadata": {
    "collapsed": true
   },
   "outputs": [],
   "source": [
    "conn = psycopg2.connect(database='mimic', \n",
    "        user='mimic', password=MIMIC_PW,\n",
    "        host='grinder.inf.ethz.ch', port=5432)\n",
    "cur = conn.cursor()"
   ]
  },
  {
   "cell_type": "markdown",
   "metadata": {},
   "source": [
    "# 1. Admission inspections"
   ]
  },
  {
   "cell_type": "markdown",
   "metadata": {},
   "source": [
    "## admission type stat"
   ]
  },
  {
   "cell_type": "code",
   "execution_count": 75,
   "metadata": {
    "collapsed": false
   },
   "outputs": [
    {
     "name": "stdout",
     "output_type": "stream",
     "text": [
      "[('ELECTIVE', 7706L), ('URGENT', 1336L), ('NEWBORN', 7863L), ('EMERGENCY', 42071L)]\n"
     ]
    }
   ],
   "source": [
    "cur.execute('''\n",
    "select admission_type, count(*) as cnt\n",
    "from admissions\n",
    "group by admission_type;''')\n",
    "print cur.fetchall()"
   ]
  },
  {
   "cell_type": "code",
   "execution_count": 76,
   "metadata": {
    "collapsed": false,
    "scrolled": true
   },
   "outputs": [
    {
     "name": "stdout",
     "output_type": "stream",
     "text": [
      "[(5854L,)]\n"
     ]
    }
   ],
   "source": [
    "cur.execute('''\n",
    "select count( *) from admissions \n",
    "where deathtime is not null;''')\n",
    "print cur.fetchall()"
   ]
  },
  {
   "cell_type": "code",
   "execution_count": 77,
   "metadata": {
    "collapsed": false
   },
   "outputs": [
    {
     "name": "stdout",
     "output_type": "stream",
     "text": [
      "[(53122L,)]\n"
     ]
    }
   ],
   "source": [
    "cur.execute('''\n",
    "select count( *) from admissions \n",
    "where deathtime is null;''')\n",
    "print cur.fetchall()"
   ]
  },
  {
   "cell_type": "markdown",
   "metadata": {},
   "source": [
    "## stay duration stat"
   ]
  },
  {
   "cell_type": "code",
   "execution_count": 78,
   "metadata": {
    "collapsed": true
   },
   "outputs": [],
   "source": [
    "cur.execute('''\n",
    "select dischtime-admittime as duration\n",
    "from admissions\n",
    "order by duration;''')"
   ]
  },
  {
   "cell_type": "code",
   "execution_count": 79,
   "metadata": {
    "collapsed": true
   },
   "outputs": [],
   "source": [
    "dur = cur.fetchall()"
   ]
  },
  {
   "cell_type": "code",
   "execution_count": 80,
   "metadata": {
    "collapsed": false,
    "scrolled": false
   },
   "outputs": [
    {
     "data": {
      "image/png": "[encoded data removed]",
      "text/plain": [
       "<matplotlib.figure.Figure at 0x7f8ae0137e90>"
      ]
     },
     "metadata": {},
     "output_type": "display_data"
    }
   ],
   "source": [
    "durr = map(lambda x: x[0].total_seconds()/3600, dur)\n",
    "h = plt.hist(durr, bins=100)"
   ]
  },
  {
   "cell_type": "markdown",
   "metadata": {},
   "source": [
    "## diagnosis length(in chars) stat"
   ]
  },
  {
   "cell_type": "code",
   "execution_count": 81,
   "metadata": {
    "collapsed": false
   },
   "outputs": [],
   "source": [
    "cur.execute('''\n",
    "select char_length(diagnosis) as len \n",
    "from admissions\n",
    "order by len desc;''')"
   ]
  },
  {
   "cell_type": "code",
   "execution_count": 82,
   "metadata": {
    "collapsed": true
   },
   "outputs": [],
   "source": [
    "dia = cur.fetchall()"
   ]
  },
  {
   "cell_type": "code",
   "execution_count": 83,
   "metadata": {
    "collapsed": false
   },
   "outputs": [
    {
     "data": {
      "text/plain": [
       "58976"
      ]
     },
     "execution_count": 83,
     "metadata": {},
     "output_type": "execute_result"
    }
   ],
   "source": [
    "len(dia)"
   ]
  },
  {
   "cell_type": "code",
   "execution_count": 84,
   "metadata": {
    "collapsed": false,
    "scrolled": false
   },
   "outputs": [
    {
     "data": {
      "text/plain": [
       "[<matplotlib.lines.Line2D at 0x7f8adf9c34d0>]"
      ]
     },
     "execution_count": 84,
     "metadata": {},
     "output_type": "execute_result"
    },
    {
     "data": {
      "image/png": "[encoded data removed]",
      "text/plain": [
       "<matplotlib.figure.Figure at 0x7f8adfa04210>"
      ]
     },
     "metadata": {},
     "output_type": "display_data"
    }
   ],
   "source": [
    "plt.plot(dia)"
   ]
  },
  {
   "cell_type": "markdown",
   "metadata": {},
   "source": [
    "## JOIN procedures_icd and noteevents"
   ]
  },
  {
   "cell_type": "markdown",
   "metadata": {},
   "source": [
    "** We first do a JOIN of table procedures_icd and noteevents on subject_id **, only keep icd/notes for subject_ids that appear in both tables"
   ]
  },
  {
   "cell_type": "markdown",
   "metadata": {},
   "source": [
    "**TODO: also join by `hadm_id` ? (unique to a patient's hospital stay)**"
   ]
  },
  {
   "cell_type": "code",
   "execution_count": 85,
   "metadata": {
    "collapsed": false
   },
   "outputs": [],
   "source": [
    "cur.execute('''\n",
    "select distinct subject_id                                \n",
    "into temp sid_note from noteevents;''')\n",
    "\n",
    "cur.execute('''\n",
    "select distinct subject_id                                \n",
    "into temp sid_icd from procedures_icd;''')\n",
    "\n",
    "cur.execute('''\n",
    "select sid_icd.subject_id as subject_id \n",
    "into temp sid_join \n",
    "from sid_icd inner join sid_note\n",
    "on sid_note.subject_id = sid_icd.subject_id;''')"
   ]
  },
  {
   "cell_type": "code",
   "execution_count": 86,
   "metadata": {
    "collapsed": false
   },
   "outputs": [],
   "source": [
    "cur.execute('''\n",
    "select procedures_icd.* \n",
    "into temp t_proc_icd\n",
    "from procedures_icd inner join sid_join \n",
    "on sid_join.subject_id = procedures_icd.subject_id;''')\n",
    "\n",
    "# maybe I should not create large temp tables ??\n",
    "cur.execute('''\n",
    "select noteevents.* \n",
    "into temp t_notes\n",
    "from noteevents inner join sid_join \n",
    "on sid_join.subject_id = noteevents.subject_id;''')"
   ]
  },
  {
   "cell_type": "markdown",
   "metadata": {},
   "source": [
    "**from now on, work with table `t_proc_icd` and `t_notes` **"
   ]
  },
  {
   "cell_type": "markdown",
   "metadata": {},
   "source": [
    "---"
   ]
  },
  {
   "cell_type": "markdown",
   "metadata": {},
   "source": [
    "# 2. Procedures_icd insepction & collection"
   ]
  },
  {
   "cell_type": "markdown",
   "metadata": {},
   "source": [
    "## procedures_icd  stat"
   ]
  },
  {
   "cell_type": "code",
   "execution_count": 87,
   "metadata": {
    "collapsed": false
   },
   "outputs": [
    {
     "name": "stdout",
     "output_type": "stream",
     "text": [
      "41886 unique patients, 238742 procedures, 2032 unique icd codes\n"
     ]
    }
   ],
   "source": [
    "cur.execute('''\n",
    "select count(*)\n",
    "from t_proc_icd;''')\n",
    "NB_PROC = cur.fetchone()[0]\n",
    "\n",
    "\n",
    "cur.execute('''\n",
    "select count(distinct icd9_code)\n",
    "from t_proc_icd;''')\n",
    "NB_UNIQUE_ICD = cur.fetchone()[0]\n",
    "\n",
    "cur.execute('''\n",
    "select count(distinct subject_id)\n",
    "from t_proc_icd;''')\n",
    "NB_UNIQUE_SUBJECT = cur.fetchone()[0]\n",
    "\n",
    "print '%d unique patients, %d procedures, %d unique icd codes' % \\\n",
    "        (NB_UNIQUE_SUBJECT, NB_PROC, NB_UNIQUE_ICD)"
   ]
  },
  {
   "cell_type": "markdown",
   "metadata": {
    "collapsed": true
   },
   "source": [
    "**ICD distribution**"
   ]
  },
  {
   "cell_type": "code",
   "execution_count": 88,
   "metadata": {
    "collapsed": false
   },
   "outputs": [],
   "source": [
    "cur.execute('''\n",
    "select icd9_code, count(*) as cnt\n",
    "from t_proc_icd\n",
    "group by icd9_code order by cnt desc;''')\n",
    "icds = cur.fetchall()\n",
    "icd_code, cnt = zip(*icds)"
   ]
  },
  {
   "cell_type": "code",
   "execution_count": 89,
   "metadata": {
    "collapsed": false
   },
   "outputs": [
    {
     "data": {
      "text/plain": [
       "[<matplotlib.lines.Line2D at 0x7f8ae3194090>]"
      ]
     },
     "execution_count": 89,
     "metadata": {},
     "output_type": "execute_result"
    },
    {
     "data": {
      "image/png": "[encoded data removed]",
      "text/plain": [
       "<matplotlib.figure.Figure at 0x7f8adfa0a5d0>"
      ]
     },
     "metadata": {},
     "output_type": "display_data"
    }
   ],
   "source": [
    "plt.plot(cnt)"
   ]
  },
  {
   "cell_type": "code",
   "execution_count": 90,
   "metadata": {
    "collapsed": false,
    "scrolled": false
   },
   "outputs": [
    {
     "data": {
      "text/plain": [
       "[<matplotlib.lines.Line2D at 0x7f8ae3145050>]"
      ]
     },
     "execution_count": 90,
     "metadata": {},
     "output_type": "execute_result"
    },
    {
     "data": {
      "image/png": "[encoded data removed]",
      "text/plain": [
       "<matplotlib.figure.Figure at 0x7f8ae31ea810>"
      ]
     },
     "metadata": {},
     "output_type": "display_data"
    }
   ],
   "source": [
    "plt.plot(cnt[:100])"
   ]
  },
  {
   "cell_type": "markdown",
   "metadata": {},
   "source": [
    "**How many icd code a patient has?**"
   ]
  },
  {
   "cell_type": "code",
   "execution_count": 91,
   "metadata": {
    "collapsed": true
   },
   "outputs": [],
   "source": [
    "cur.execute('''\n",
    "select subject_id, count(*) as cnt\n",
    "from t_proc_icd\n",
    "group by subject_id order by cnt desc;''')\n",
    "cnts = cur.fetchall()\n",
    "sid, cnt = zip(*cnts)"
   ]
  },
  {
   "cell_type": "code",
   "execution_count": 92,
   "metadata": {
    "collapsed": false
   },
   "outputs": [
    {
     "data": {
      "text/plain": [
       "[<matplotlib.lines.Line2D at 0x7f8ae2fcf750>]"
      ]
     },
     "execution_count": 92,
     "metadata": {},
     "output_type": "execute_result"
    },
    {
     "data": {
      "image/png": "[encoded data removed]",
      "text/plain": [
       "<matplotlib.figure.Figure at 0x7f8ae30ba490>"
      ]
     },
     "metadata": {},
     "output_type": "display_data"
    }
   ],
   "source": [
    "plt.plot(cnt)"
   ]
  },
  {
   "cell_type": "markdown",
   "metadata": {},
   "source": [
    "## Collect the icd codes"
   ]
  },
  {
   "cell_type": "code",
   "execution_count": 93,
   "metadata": {
    "collapsed": true
   },
   "outputs": [],
   "source": [
    "cur.execute('''\n",
    "select subject_id, string_agg(icd9_code, ' ') as icds \n",
    "from t_proc_icd \n",
    "group by subject_id\n",
    "order by subject_id;''')"
   ]
  },
  {
   "cell_type": "code",
   "execution_count": 94,
   "metadata": {
    "collapsed": false
   },
   "outputs": [
    {
     "name": "stderr",
     "output_type": "stream",
     "text": [
      "41886it [00:00, 1121089.79it/s]\n"
     ]
    }
   ],
   "source": [
    "with open('subject_icds.txt','w') as f:\n",
    "    for sid, icds in tqdm(cur):\n",
    "        f.write( str(sid)+' '+icds + '\\n')"
   ]
  },
  {
   "cell_type": "markdown",
   "metadata": {},
   "source": [
    "---"
   ]
  },
  {
   "cell_type": "markdown",
   "metadata": {},
   "source": [
    "# 3. Noteevents inspection & collection"
   ]
  },
  {
   "cell_type": "markdown",
   "metadata": {
    "collapsed": false
   },
   "source": [
    "## eventnote stat"
   ]
  },
  {
   "cell_type": "code",
   "execution_count": 95,
   "metadata": {
    "collapsed": false
   },
   "outputs": [
    {
     "name": "stdout",
     "output_type": "stream",
     "text": [
      "Sinus rhythm. Left axis deviation. Low limb lead voltage. Leads I and III are\n",
      "uninterpretable due to artifact. No [** Location **]us tracing available for comparison.\n",
      "\n",
      "\n",
      "======[[[[[[======]]]]]]======\n",
      "Admission Date:  [**2769-1-24**]       Discharge Date:  [**2769-2-4**]\n",
      "\n",
      "\n",
      "Service:  CT SURGERY\n",
      "\n",
      "HISTORY OF PRESENT ILLNESS:   Mr. [**Known patient lastname 10906**] is an 82-year-old\n",
      "male with a past medical history for benign prostatic\n",
      "hypertrophy, hypertension, hypercholesterolemia, with recent\n",
      "onset of dyspnea on exertion but denied any evidence of chest\n",
      "pain.  This brought him to be evaluated by his primary care\n",
      "physician, [**Name10 (NameIs) **] ultimately led to a positive stress test\n",
      "showing 2 mm ST segment depressions in the inferior and\n",
      "lateral leads, relieved by rest but ultimately asymptomatic.\n",
      "He was admitted on [**2769-1-24**] to [**Hospital1 **] [**Hospital1 1814**] and was\n",
      "therefore transferred to [**Hospital1 1499**], where he underwent cardiac catheterization.  Cardiac\n",
      "catheterization revealed a left ventricular end diastolic\n",
      "pressure of 22.  There was some mild mitral regurgitation\n",
      "seen.  Left ventricular ejection fraction was reported as\n",
      "\"normal,\" with no mitral regurgitation.  Left main coronary\n",
      "artery was calcified with diffuse tubular stenosis of\n",
      "approximately 80%.  The left anterior descending had 70 to\n",
      "80% mid-left anterior descending lesion after the diagonal.\n",
      "The left circumflex was very small, with marginals.  There\n",
      "was a ramus that was also present with major lateral wall\n",
      "vessel, 70% mid and 90% small upper pole branch.  The right\n",
      "coronary artery with diffuse mild disease, 50% origin, very\n",
      "short posterior descending artery, distal disease in the\n",
      "short PLV.  The left internal mammary artery filled late on\n",
      "left ventriculogram.  No angina was seen.\n",
      "\n",
      "As a consequence, the patient was diagnosed with significant\n",
      "left main disease as well as three vessel coronary artery\n",
      "disease.  He was admitted to the C-MED service and\n",
      "Cardiothoracic Surgical consultation was obtained with Dr.\n",
      "[**Last Name (STitle) **] and Dr. [**Last Name (STitle) 9124**].  The patient agreed to have elective\n",
      "surgery and ultimately went to the operating room on\n",
      "[**2769-1-28**], where he underwent a coronary artery bypass graft x\n",
      "2, including saphenous vein graft to the left anterior\n",
      "descending, and saphenous vein graft to the ramus.  This was\n",
      "done because of the late filling and poor quality of the left\n",
      "internal mammary artery.  The patient's pericardium was left\n",
      "open.  He had a right radial A-line, right internal jugular\n",
      "Swan-Ganz catheter, one ventricular and one atrial pacing\n",
      "wires present.  He had mediastinal and right pleural tube, as\n",
      "well as mean arterial pressure of 68 and a right atrial\n",
      "pressure of 10.  Pulmonary artery diastolic pressure was 12,\n",
      "with a mean of 18.  He was A-paced at 68.  He was on a\n",
      "propofol drip at 20 mcg/kg/minute, and nitroglycerin at 1\n",
      "mcg/kg/minute.\n",
      "\n",
      "He was transferred to the Cardiac Surgical Recovery Unit,\n",
      "where by postoperative day number one, he was extubated,\n",
      "alert and oriented.  He was 80, with A-paced.  His rhythm was\n",
      "30, 129/48 blood pressure.  He was 98% on nasal cannula with\n",
      "a blood gas of 7.38/39/82/24/-1.  His postoperative\n",
      "hematocrit was 25, his BUN and creatinine were 18 and 1.0.\n",
      "Preoperative hematocrit was 39, and preoperative creatinine\n",
      "was 1.0.  Neurologically, he was intact.  Cardiovascularly,\n",
      "Lopressor and aspirin and Captopril were started.  Chest\n",
      "tubes were kept in.  He was started on a cardiac diet, and\n",
      "was ultimately transferred to the floor.\n",
      "\n",
      "On the floor, the patient did well.  He had no issues.  His\n",
      "chest tubes were subsequently removed.  He was continued to\n",
      "have Lopressor held due to the fact that he still required\n",
      "A-pacing and was being paced [**Company 10907**]-max was 101.3 going\n",
      "into postoperative day number two.  This was felt to be due\n",
      "to poor pulmonary toilet.  He was therefore worked on\n",
      "aggressively with chest physical therapy and incentive\n",
      "spirometry, as well as coughing and deep breathing drills.\n",
      "He was 95% on nasal cannula.  No blood gas was available.\n",
      "Hematocrit was 25 on postoperative day number two, and BUN\n",
      "and creatinine were 21 and 1.2.\n",
      "\n",
      "On the floor, Physical Therapy worked with the patient.  He\n",
      "was ambulating at a Level III by postoperative day number\n",
      "three.  He had no complaints overall.  EP consultation was\n",
      "called for a seven beat run of nonsustained ventricular\n",
      "tachycardia but, given his normal ejection fraction and the\n",
      "fact that his beta blocker was being held, they just\n",
      "recommended re[** Location **]g his electrolytes as needed, starting a\n",
      "beta blocker when it would be tolerated when he was no longer\n",
      "being paced, and no further intervention was required.  His\n",
      "chest tubes were ultimately removed on postoperative day\n",
      "number two.\n",
      "\n",
      "On postoperative day number three, he was ambulating, still\n",
      "at a Level III.  His lungs were clear.  Oxygen saturation was\n",
      "96%.  Blood pressure was 118/47, with a heart rate of 73 and\n",
      "sinus.  No further ventricular ectopy or nonsustained\n",
      "ventricular tachycardia was seen.  Hematocrit was 24, BUN and\n",
      "creatinine were 25 and .3.\n",
      "\n",
      "At the time of discharge, the patient's sternum was stable,\n",
      "no drainage or erythema, open to air.  The heart was regular,\n",
      "with no murmur, rub or gallop.  The lungs were clear,\n",
      "decreased at the bases.  The extremities were warm and well\n",
      "perfused, with palpable dorsalis pedis and posterior tibial\n",
      "pulses bilaterally.  His hematocrit was 24, his BUN and\n",
      "creatinine were 25 and 1.3.  His white blood cell count was\n",
      "11,000.  He was ambulating at a Level IV.  His Lopressor was\n",
      "titrated accordingly.  His wires were ultimately removed.\n",
      "\n",
      "The patient was deemed an appropriate rehabilitation\n",
      "candidate due to the fact that he only reached Level IV one\n",
      "time and was otherwise persistently ambulating at a Level\n",
      "III.  He was requesting the [**Hospital 1814**] rehabilitation facility,\n",
      "which was ultimately what we tried to achieve for him.\n",
      "\n",
      "DISCHARGE MEDICATIONS:   Lasix 20 mg by mouth once daily for\n",
      "seven days, K-Dur 20 mEq by mouth once daily for seven days,\n",
      "Colace 100 mg by mouth twice a day, Protonix 40 mg by mouth\n",
      "once daily, Captopril 25 mg by mouth three times a day,\n",
      "Lipitor 10 mg by mouth once daily, percocet 5/325 one to two\n",
      "tablets by mouth every four to six hours as needed, Lopressor\n",
      "75 mg by mouth twice a day, aspirin 325 mg by mouth once\n",
      "daily.\n",
      "\n",
      "Follow up instructions include to be seen by Dr. [**Last Name (STitle) **] in\n",
      "one month, see his primary care physician or cardiologist in\n",
      "two to three weeks from the time of discharge.  He will be at\n",
      "rehabilitation, where they can do his wound check.\n",
      "\n",
      "DISCHARGE STATUS:  To rehabilitation.\n",
      "\n",
      "DISCHARGE DIAGNOSIS:\n",
      "1.  Coronary artery disease, coronary artery bypass graft x\n",
      "2, saphenous vein graft to left anterior descending and\n",
      "saphenous vein graft to ramus\n",
      "\n",
      "\n",
      "\n",
      "\n",
      "                            [**First Name11 (Name Pattern1) **] [**Initials (NamePattern4) **] [**Last Name (NamePattern4) **], M.D.  [**MD Number(1) 187**]\n",
      "\n",
      "Dictated By:[**Last Name (NamePattern4) 2936**]\n",
      "MEDQUIST36\n",
      "\n",
      "D:  [**2769-2-2**]  23:47\n",
      "T:  [**2769-2-3**]  01:32\n",
      "JOB#:  [**Job Number 10908**]\n",
      "\n",
      "======[[[[[[======]]]]]]======\n"
     ]
    }
   ],
   "source": [
    "cur.execute('''\n",
    "select text \n",
    "from t_notes \n",
    "limit 2;''')\n",
    "for note in cur:\n",
    "    print note[0] # have a look at the note text\n",
    "    print '======[[[[[[======]]]]]]======' # use this as notes seperator... "
   ]
  },
  {
   "cell_type": "code",
   "execution_count": 96,
   "metadata": {
    "collapsed": false
   },
   "outputs": [
    {
     "name": "stdout",
     "output_type": "stream",
     "text": [
      "41886 uniques subjects, 2015333 notes in total\n"
     ]
    }
   ],
   "source": [
    "cur.execute('''\n",
    "select count(*)\n",
    "from t_notes''')\n",
    "NB_EVENTNOTES = cur.fetchone()[0]\n",
    "\n",
    "cur.execute('''\n",
    "select count(distinct subject_id)\n",
    "from t_notes;\n",
    "''')\n",
    "NB_SUBJECTS = cur.fetchone()[0] # number of unique subjects(patients)\n",
    "\n",
    "print '%d uniques subjects, %d notes in total' % (NB_SUBJECTS, NB_EVENTNOTES)"
   ]
  },
  {
   "cell_type": "markdown",
   "metadata": {},
   "source": [
    "**how many notes a patient has?**"
   ]
  },
  {
   "cell_type": "code",
   "execution_count": 97,
   "metadata": {
    "collapsed": false
   },
   "outputs": [],
   "source": [
    "cur.execute('''\n",
    "select count(*), subject_id\n",
    "from t_notes\n",
    "group by subject_id;''')\n",
    "notecnt = cur.fetchall()"
   ]
  },
  {
   "cell_type": "code",
   "execution_count": 98,
   "metadata": {
    "collapsed": false,
    "scrolled": false
   },
   "outputs": [
    {
     "data": {
      "image/png": "[encoded data removed]",
      "text/plain": [
       "<matplotlib.figure.Figure at 0x7f8ae2fe9590>"
      ]
     },
     "metadata": {},
     "output_type": "display_data"
    }
   ],
   "source": [
    "cnt = [ x[0] for x in notecnt]\n",
    "h = plt.hist(cnt, bins=100)"
   ]
  },
  {
   "cell_type": "code",
   "execution_count": 99,
   "metadata": {
    "collapsed": false
   },
   "outputs": [
    {
     "data": {
      "text/plain": [
       "(1419L, 55672)"
      ]
     },
     "execution_count": 99,
     "metadata": {},
     "output_type": "execute_result"
    }
   ],
   "source": [
    "max(notecnt, key = lambda x: x[0])"
   ]
  },
  {
   "cell_type": "markdown",
   "metadata": {},
   "source": [
    "**There exists a person that has 1419 notes?? **"
   ]
  },
  {
   "cell_type": "code",
   "execution_count": 100,
   "metadata": {
    "collapsed": true
   },
   "outputs": [],
   "source": [
    "cur.execute('''\n",
    "select * \n",
    "from t_notes\n",
    "where subject_id = 55672''') # have a look at patient 55672"
   ]
  },
  {
   "cell_type": "code",
   "execution_count": 101,
   "metadata": {
    "collapsed": false
   },
   "outputs": [],
   "source": [
    "# print cur.fetchmany(10)"
   ]
  },
  {
   "cell_type": "markdown",
   "metadata": {},
   "source": [
    "**Also the `charttime` field is strange: year=2097?**"
   ]
  },
  {
   "cell_type": "markdown",
   "metadata": {},
   "source": [
    "    mimic=> select subject_id, row_id, charttime\n",
    "    from noteevents\n",
    "    order by charttime\n",
    "    limit 2;\n",
    "     subject_id | row_id  |      charttime      \n",
    "    ------------+---------+---------------------\n",
    "           6576 | 1288509 | 2097-12-07 12:55:00\n",
    "           6576 | 1288510 | 2097-12-07 14:49:00\n",
    "    (2 rows)\n"
   ]
  },
  {
   "cell_type": "markdown",
   "metadata": {},
   "source": [
    "## Collect the notes"
   ]
  },
  {
   "cell_type": "markdown",
   "metadata": {},
   "source": [
    "**NB**: each file `_subject_id.csv` contains informations of the patient of corresponding subject_id. "
   ]
  },
  {
   "cell_type": "code",
   "execution_count": 104,
   "metadata": {
    "collapsed": false,
    "scrolled": true
   },
   "outputs": [],
   "source": [
    "import os\n",
    "import pandas as pd\n",
    "DATA_DIR = '/local/XW/DATA/MIMIC/noteevents_by_sid/'\n",
    "!rm $DATA_DIR/*"
   ]
  },
  {
   "cell_type": "code",
   "execution_count": 105,
   "metadata": {
    "collapsed": false
   },
   "outputs": [
    {
     "name": "stderr",
     "output_type": "stream",
     "text": [
      "2015333it [02:04, 16234.77it/s]\n"
     ]
    }
   ],
   "source": [
    "CSV_HEADER = 'subject_id,hadm_id,chartdate,charttime,storetime,category,description,cgid,iserror,text'\n",
    "\n",
    "cur.execute('''\n",
    "select %s\n",
    "from t_notes\n",
    "order by subject_id,hadm_id\n",
    ";''' % CSV_HEADER)  # limit 10\n",
    "\n",
    "_current_sid = -1\n",
    "_buffer = []\n",
    "\n",
    "\n",
    "def write_note_to_csv(fname, diry=DATA_DIR, header=CSV_HEADER.split(',')):\n",
    "    if len(_buffer)==0: return\n",
    "    fname = os.path.join(diry,fname)\n",
    "    df = pd.DataFrame(_buffer, columns=header)\n",
    "    df.to_csv(fname, index=False, header=True)\n",
    "#     print fname\n",
    "\n",
    "for line in tqdm(cur, total=NB_EVENTNOTES):\n",
    "    sid = line[0]\n",
    "    if sid != _current_sid:\n",
    "        write_note_to_csv(\"%d.csv\" % _current_sid)\n",
    "        _current_sid = sid\n",
    "        _buffer = []    \n",
    "    _buffer.append(line)\n",
    "\n",
    "write_note_to_csv(\"%d.csv\" % _current_sid)"
   ]
  },
  {
   "cell_type": "markdown",
   "metadata": {},
   "source": [
    "---"
   ]
  },
  {
   "cell_type": "code",
   "execution_count": null,
   "metadata": {
    "collapsed": true
   },
   "outputs": [],
   "source": []
  },
  {
   "cell_type": "code",
   "execution_count": 106,
   "metadata": {
    "collapsed": true
   },
   "outputs": [],
   "source": [
    "cur.close()\n",
    "conn.close()"
   ]
  }
 ],
 "metadata": {
  "anaconda-cloud": {},
  "kernelspec": {
   "display_name": "Python [conda env:thesis_nb]",
   "language": "python",
   "name": "conda-env-thesis_nb-py"
  },
  "language_info": {
   "codemirror_mode": {
    "name": "ipython",
    "version": 2
   },
   "file_extension": ".py",
   "mimetype": "text/x-python",
   "name": "python",
   "nbconvert_exporter": "python",
   "pygments_lexer": "ipython2",
   "version": "2.7.12"
  }
 },
 "nbformat": 4,
 "nbformat_minor": 0
}
