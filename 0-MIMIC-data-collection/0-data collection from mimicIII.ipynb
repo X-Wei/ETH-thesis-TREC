{
 "cells": [
  {
   "cell_type": "code",
   "execution_count": 5,
   "metadata": {
    "collapsed": false
   },
   "outputs": [],
   "source": [
    "import psycopg2\n",
    "from tqdm import tqdm\n",
    "import matplotlib.pyplot as plt\n",
    "%matplotlib inline \n",
    "import pylab\n",
    "pylab.rcParams['figure.figsize'] = (10, 5)\n",
    "import os\n",
    "MIMIC_PW = os.environ['PGPASSWORD'] \n",
    "\n",
    "conn = psycopg2.connect(database='mimic', \n",
    "        user='mimic', password=MIMIC_PW,\n",
    "        host='grinder.inf.ethz.ch', port=5432)\n",
    "cur = conn.cursor()"
   ]
  },
  {
   "cell_type": "markdown",
   "metadata": {},
   "source": [
    "## Split by subject_id and hadm_id (unique patient and unique patient hospital stay)"
   ]
  },
  {
   "cell_type": "code",
   "execution_count": 6,
   "metadata": {
    "collapsed": false
   },
   "outputs": [],
   "source": [
    "# SUBJECT_ID is unique to a patient and HADM_ID is unique to a patient hospital stay\n",
    "cur.execute('''\n",
    "    select distinct subject_id, hadm_id                                \n",
    "    into temp sid_hid_note from noteevents;''')\n",
    "\n",
    "# take the intersection of 2 tables (diagnoses_icd and noteevent), \n",
    "# keeping only the sid_hid pair that are in BOTH tables, and those with non-empty icd codes\n",
    "cur.execute('''\n",
    "    select diagnoses_icd.* \n",
    "    into temp t_diagnoses\n",
    "    from diagnoses_icd inner join sid_hid_note \n",
    "    on diagnoses_icd.subject_id=sid_hid_note.subject_id and diagnoses_icd.hadm_id = sid_hid_note.hadm_id\n",
    "    where char_length(icd9_code)>0\n",
    "    order by subject_id, hadm_id, seq_num;''')\n",
    "# the result is stored in the temp table `t_diagnoses`\n",
    "\n",
    "cur.execute('''\n",
    "    select distinct subject_id, hadm_id\n",
    "    into temp intersection_sid_hid\n",
    "    from t_diagnoses''')\n",
    "\n",
    "cur.execute('''\n",
    "    select noteevents.*\n",
    "    into temp t_noteevents\n",
    "    from intersection_sid_hid inner join noteevents\n",
    "    on intersection_sid_hid.subject_id=noteevents.subject_id and intersection_sid_hid.hadm_id = noteevents.hadm_id\n",
    "    order by subject_id, hadm_id''')"
   ]
  },
  {
   "cell_type": "markdown",
   "metadata": {},
   "source": [
    "To skip the inspections, go to [section II](#II.-Collect-notes-into-csv-files)"
   ]
  },
  {
   "cell_type": "markdown",
   "metadata": {},
   "source": [
    "## I. Inspections of data"
   ]
  },
  {
   "cell_type": "markdown",
   "metadata": {},
   "source": [
    "###  How many distinct (patient,stay) pairs ? How many distinct diag codes ? How many diags/notes ?"
   ]
  },
  {
   "cell_type": "code",
   "execution_count": 7,
   "metadata": {
    "collapsed": false
   },
   "outputs": [
    {
     "name": "stdout",
     "output_type": "stream",
     "text": [
      "58328 (patient,stay) pairs, 6967 distinct diagnoses, 58328 diags and 1846769 notes in total\n"
     ]
    }
   ],
   "source": [
    "cur.execute('''\n",
    "    select count(distinct icd9_code)\n",
    "    from t_diagnoses;''')\n",
    "N_UNIQUE_DIAG = cur.fetchone()[0]\n",
    "cur.execute(' select count(*) from intersection_sid_hid;')\n",
    "N_DIAGS = cur.fetchone()[0]\n",
    "cur.execute('select count(distinct (subject_id, hadm_id)) from t_diagnoses;')\n",
    "N_SID_HID = cur.fetchone()[0]\n",
    "cur.execute('select count(*) from t_noteevents;')\n",
    "N_NOTES = cur.fetchone()[0]\n",
    "\n",
    "print '%d (patient,stay) pairs, %d distinct diagnoses, %d diags and %d notes in total' % \\\n",
    "        (N_SID_HID, N_UNIQUE_DIAG, N_DIAGS, N_NOTES)"
   ]
  },
  {
   "cell_type": "markdown",
   "metadata": {},
   "source": [
    "###  How many notes a patient (ie. sid_hid pair) has?"
   ]
  },
  {
   "cell_type": "code",
   "execution_count": 8,
   "metadata": {
    "collapsed": false
   },
   "outputs": [
    {
     "data": {
      "text/plain": [
       "[<matplotlib.lines.Line2D at 0x7f39718a6350>]"
      ]
     },
     "execution_count": 8,
     "metadata": {},
     "output_type": "execute_result"
    },
    {
     "data": {
      "image/png": "[encoded data removed]",
      "text/plain": [
       "<matplotlib.figure.Figure at 0x7f39980b8950>"
      ]
     },
     "metadata": {},
     "output_type": "display_data"
    }
   ],
   "source": [
    "cur.execute('''\n",
    "    select subject_id, hadm_id, count(*) as cnt\n",
    "    from t_noteevents\n",
    "    group by subject_id, hadm_id\n",
    "    order by cnt desc''')\n",
    "sid, hid, cnt = zip(*cur.fetchall())\n",
    "\n",
    "# most of the patient has ~10 diagnoses codes\n",
    "plt.plot(cnt)"
   ]
  },
  {
   "cell_type": "code",
   "execution_count": 9,
   "metadata": {
    "collapsed": false
   },
   "outputs": [
    {
     "data": {
      "text/plain": [
       "[(30202, 117448, 1233L),\n",
       " (77614, 140792, 1144L),\n",
       " (78076, 138363, 1099L),\n",
       " (27427, 175448, 1084L),\n",
       " (6975, 192431, 1073L),\n",
       " (3014, 126258, 1010L),\n",
       " (15204, 168396, 983L),\n",
       " (12578, 172706, 969L),\n",
       " (862, 186550, 959L),\n",
       " (12613, 168201, 949L)]"
      ]
     },
     "execution_count": 9,
     "metadata": {},
     "output_type": "execute_result"
    }
   ],
   "source": [
    "# the outliers (ie. sid_hid with many notes)\n",
    "zip( sid[:10], hid[:10], cnt[:10] )"
   ]
  },
  {
   "cell_type": "code",
   "execution_count": 10,
   "metadata": {
    "collapsed": false
   },
   "outputs": [
    {
     "data": {
      "image/png": "[encoded data removed]",
      "text/plain": [
       "<matplotlib.figure.Figure at 0x7f3971602510>"
      ]
     },
     "metadata": {},
     "output_type": "display_data"
    }
   ],
   "source": [
    "# most patient stays have <200 notes\n",
    "_ = plt.hist(cnt[1:], bins = 100)"
   ]
  },
  {
   "cell_type": "markdown",
   "metadata": {},
   "source": [
    "###  How many (distinct) diagnoses a patient (ie. sid_hid pair) has?"
   ]
  },
  {
   "cell_type": "code",
   "execution_count": 11,
   "metadata": {
    "collapsed": false
   },
   "outputs": [
    {
     "data": {
      "image/png": "[encoded data removed]",
      "text/plain": [
       "<matplotlib.figure.Figure at 0x7f3971454090>"
      ]
     },
     "metadata": {},
     "output_type": "display_data"
    }
   ],
   "source": [
    "cur.execute('''\n",
    "    select subject_id, hadm_id, count(distinct icd9_code) as cnt\n",
    "    from t_diagnoses\n",
    "    group by subject_id, hadm_id\n",
    "    order by cnt desc''')\n",
    "sid, hid, cnt = zip(*cur.fetchall())\n",
    "\n",
    "# most of the patient has ~10 diagnoses codes\n",
    "# plt.plot(cnt)\n",
    "_ = plt.hist(cnt, bins=max(cnt))"
   ]
  },
  {
   "cell_type": "markdown",
   "metadata": {},
   "source": [
    "### How many rows do the top100/top50 most freq codes cover?"
   ]
  },
  {
   "cell_type": "code",
   "execution_count": 12,
   "metadata": {
    "collapsed": false
   },
   "outputs": [
    {
     "name": "stdout",
     "output_type": "stream",
     "text": [
      "top 100 freq diag codes covers 542.330% rows, top 50 covers 412.822%\n"
     ]
    },
    {
     "data": {
      "image/png": "[encoded data removed]",
      "text/plain": [
       "<matplotlib.figure.Figure at 0x7f399833a810>"
      ]
     },
     "metadata": {},
     "output_type": "display_data"
    }
   ],
   "source": [
    "# What is the distribution of the unique diag codes ? \n",
    "# -- how many rows do the top100/top50 most freq codes cover?\n",
    "cur.execute('''\n",
    "    select icd9_code, count(*) as cnt\n",
    "    from t_diagnoses\n",
    "    group by icd9_code \n",
    "    order by cnt desc;''')\n",
    "\n",
    "diag_icd, cnt = zip( *cur.fetchall() )\n",
    "fig, (ax1, ax2, ax3) = plt.subplots(3,1, sharey=True)\n",
    "ax1.plot(cnt)\n",
    "ax2.plot(cnt[:100])\n",
    "ax3.plot(cnt[:50])\n",
    "\n",
    "ratio100, ratio50 = sum(cnt[:100]) *100.0 / N_DIAGS, sum(cnt[:50]) *100.0 / N_DIAGS\n",
    "print 'top 100 freq diag codes covers %.3f%% rows, top 50 covers %.3f%%' % (ratio100, ratio50)"
   ]
  },
  {
   "cell_type": "markdown",
   "metadata": {},
   "source": [
    "### How many patient stays (ie. sid,hid pair) can top100/top50 most freq codes cover ? "
   ]
  },
  {
   "cell_type": "code",
   "execution_count": 13,
   "metadata": {
    "collapsed": false
   },
   "outputs": [
    {
     "name": "stderr",
     "output_type": "stream",
     "text": [
      "100%|██████████| 58328/58328 [00:00<00:00, 650792.76it/s]\n"
     ]
    },
    {
     "name": "stdout",
     "output_type": "stream",
     "text": [
      "[('4019', 17500L), ('41401', 10733L), ('42731', 10193L), ('4280', 9802L), ('5849', 7634L), ('2724', 7414L), ('25000', 7327L), ('51881', 6632L), ('5990', 5746L), ('V053', 5597L)]\n",
      "54469 out of 58328 patients are covered by top  50 icds, coverage=93.3840 %\n",
      "55849 out of 58328 patients are covered by top 100 icds, coverage=95.7499 %\n",
      "57026 out of 58328 patients are covered by top 200 icds, coverage=97.7678 %\n"
     ]
    }
   ],
   "source": [
    "# first write the icds of each sid_hid pair into a txt file\n",
    "cur.execute('''\n",
    "    select subject_id, hadm_id, string_agg(distinct icd9_code, ' ') as diag_icds\n",
    "    from t_diagnoses\n",
    "    group by subject_id, hadm_id\n",
    "    order by subject_id, hadm_id;''')\n",
    "with open('data/sid_hid_diagicds.txt', 'w') as f:\n",
    "    for sid, hid, icds in tqdm(cur, total=N_SID_HID):\n",
    "        f.write( '%s , %s, ' %(str(sid), str(hid))  + icds + '\\n' )\n",
    "\n",
    "cur.execute('''\n",
    "    select icd9_code, count(distinct subject_id) as cnt\n",
    "    from t_diagnoses\n",
    "    group by icd9_code\n",
    "    order by cnt desc;''')\n",
    "diag_icds, cnt = zip(*cur.fetchall())\n",
    "print zip( diag_icds[:10], cnt[:10] )\n",
    "\n",
    "for topn in [50, 100, 200]:\n",
    "    n_covered = 0\n",
    "    top_icds = set( diag_icds[:topn] )\n",
    "    with open('data/sid_hid_diagicds.txt') as f:\n",
    "        for line in f:\n",
    "            icds = set(line.split()[1:])\n",
    "            if len(icds & top_icds)>0:\n",
    "                n_covered += 1 \n",
    "    print '%d out of %d patients are covered by top %3d icds, coverage=%.4f %%' % \\\n",
    "                (n_covered, N_SID_HID, topn, n_covered*100.0/N_SID_HID)"
   ]
  },
  {
   "cell_type": "markdown",
   "metadata": {},
   "source": [
    "## II. Collect notes into csv files"
   ]
  },
  {
   "cell_type": "code",
   "execution_count": 15,
   "metadata": {
    "collapsed": false
   },
   "outputs": [],
   "source": [
    "import os\n",
    "import pandas as pd\n",
    "NOTES_DIR = '/local/XW/DATA/MIMIC/noteevents_by_sid_hid/'\n",
    "if not os.path.exists(NOTES_DIR): \n",
    "    os.makedirs(NOTES_DIR)\n",
    "# !rm $NOTES_DIR/*"
   ]
  },
  {
   "cell_type": "code",
   "execution_count": 16,
   "metadata": {
    "collapsed": false
   },
   "outputs": [],
   "source": [
    "CSV_HEADER = 'subject_id,hadm_id,chartdate,charttime,storetime,category,description,cgid,iserror,text'\n",
    "\n",
    "cur.execute('''\n",
    "    select %s\n",
    "    from t_noteevents\n",
    "    order by subject_id,hadm_id;''' % CSV_HEADER)\n",
    "\n",
    "_current_sid = -1\n",
    "_current_hid = -1\n",
    "_buffer = []\n",
    "\n",
    "def write_note_to_csv(fname, diry=NOTES_DIR, header=CSV_HEADER.split(',')):\n",
    "    if len(_buffer)==0: return\n",
    "    fname = os.path.join(diry,fname)\n",
    "    df = pd.DataFrame(_buffer, columns=header)\n",
    "    df.to_csv(fname, index=False, header=True)"
   ]
  },
  {
   "cell_type": "code",
   "execution_count": 17,
   "metadata": {
    "collapsed": false
   },
   "outputs": [
    {
     "name": "stderr",
     "output_type": "stream",
     "text": [
      "100%|██████████| 1846769/1846769 [02:08<00:00, 14423.65it/s]\n"
     ]
    }
   ],
   "source": [
    "for line in tqdm(cur, total=N_NOTES):\n",
    "    sid,hid = line[:2]\n",
    "    if sid != _current_sid or hid != _current_hid:\n",
    "        write_note_to_csv(\"%d_%d.csv\" % (_current_sid, _current_hid))\n",
    "        _current_sid = sid\n",
    "        _current_hid = hid\n",
    "        _buffer = []    \n",
    "    _buffer.append(line)\n",
    "\n",
    "write_note_to_csv(\"%d_%d.csv\" % (_current_sid, _current_hid))"
   ]
  },
  {
   "cell_type": "code",
   "execution_count": 18,
   "metadata": {
    "collapsed": true
   },
   "outputs": [],
   "source": [
    "cur.close()"
   ]
  }
 ],
 "metadata": {
  "anaconda-cloud": {},
  "kernelspec": {
   "display_name": "Python [conda env:thesis_nb]",
   "language": "python",
   "name": "conda-env-thesis_nb-py"
  },
  "language_info": {
   "codemirror_mode": {
    "name": "ipython",
    "version": 2
   },
   "file_extension": ".py",
   "mimetype": "text/x-python",
   "name": "python",
   "nbconvert_exporter": "python",
   "pygments_lexer": "ipython2",
   "version": "2.7.12"
  }
 },
 "nbformat": 4,
 "nbformat_minor": 1
}
