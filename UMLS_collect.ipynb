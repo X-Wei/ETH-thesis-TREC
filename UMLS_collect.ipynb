{
 "cells": [
  {
   "cell_type": "code",
   "execution_count": 25,
   "metadata": {
    "collapsed": true
   },
   "outputs": [],
   "source": [
    "import os,sys\n",
    "import numpy as np\n",
    "import pandas as pd\n",
    "from tqdm import tqdm\n",
    "from pprint import pprint\n",
    "import cPickle as pk\n",
    "np.random.seed(1) # to be reproductive"
   ]
  },
  {
   "cell_type": "code",
   "execution_count": 14,
   "metadata": {
    "collapsed": true
   },
   "outputs": [],
   "source": [
    "NOTE_DATA_DIR = '/local/XW/DATA/MIMIC/noteevents_by_sid/'\n",
    "QUICKUMLS_DATA_DIR = '/local/XW/SOFT/UMLS/quickUMLS_data/'\n",
    "UMLS_DATA_DIR = '/local/XW/DATA/MIMIC/UMLS_by_sid/'"
   ]
  },
  {
   "cell_type": "code",
   "execution_count": 3,
   "metadata": {
    "collapsed": true
   },
   "outputs": [],
   "source": [
    "from QuickUMLS.quickumls import QuickUMLS"
   ]
  },
  {
   "cell_type": "code",
   "execution_count": 5,
   "metadata": {
    "collapsed": false
   },
   "outputs": [],
   "source": [
    "matcher = QuickUMLS(QUICKUMLS_DATA_DIR)"
   ]
  },
  {
   "cell_type": "code",
   "execution_count": null,
   "metadata": {
    "collapsed": false
   },
   "outputs": [
    {
     "name": "stderr",
     "output_type": "stream",
     "text": [
      "  4%|▍         | 4/100 [00:10<02:54,  1.81s/it]"
     ]
    }
   ],
   "source": [
    "sids = []\n",
    "texts = [] # text bodies\n",
    "\n",
    "'''\n",
    "dump quickUMLS results into files in folder UMLS_DATA_DIR, each subject id has a file `sid.pk`\n",
    "\n",
    "each .pk file contains a list, each element in list corresponds to a noteevent\n",
    "\n",
    "each noteevent is represented as a list of lists of dicts (one list per sentence?), \n",
    "the concepts are stored in the dicts\n",
    "'''\n",
    "\n",
    "for fname in tqdm(os.listdir(NOTE_DATA_DIR)[:100]): # the data is 3.7G in size, can hold in memory...\n",
    "    sids.append( int(fname[:-4]) )\n",
    "    fpath = os.path.join(NOTE_DATA_DIR, fname)\n",
    "    df = pd.read_csv(fpath)\n",
    "    umls = []\n",
    "    for text in df['text']:\n",
    "        res = matcher.match(text, best_match=True, ignore_syntax=False)\n",
    "        umls.append(res)\n",
    "    fout_name = fname[:-4]+'.pk' # output name: sid.pk\n",
    "    fout_path = os.path.join(UMLS_DATA_DIR, fout_name)\n",
    "    with open(fout_path, 'wb') as f: \n",
    "        pk.dump(umls, f, pk.HIGHEST_PROTOCOL)\n",
    "#     texts.append( '\\n=======\\n\\n\\n'.join(df['text']) )\n",
    "print('found %d texts' % len(texts))"
   ]
  }
 ],
 "metadata": {
  "anaconda-cloud": {},
  "kernelspec": {
   "display_name": "Python [conda env:thesis_nb]",
   "language": "python",
   "name": "conda-env-thesis_nb-py"
  },
  "language_info": {
   "codemirror_mode": {
    "name": "ipython",
    "version": 2
   },
   "file_extension": ".py",
   "mimetype": "text/x-python",
   "name": "python",
   "nbconvert_exporter": "python",
   "pygments_lexer": "ipython2",
   "version": "2.7.12"
  }
 },
 "nbformat": 4,
 "nbformat_minor": 1
}
