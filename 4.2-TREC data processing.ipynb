{
 "cells": [
  {
   "cell_type": "code",
   "execution_count": 3,
   "metadata": {
    "collapsed": true
   },
   "outputs": [],
   "source": [
    "from tqdm import tqdm\n",
    "from lxml import etree\n",
    "import os"
   ]
  },
  {
   "cell_type": "code",
   "execution_count": 4,
   "metadata": {
    "collapsed": false
   },
   "outputs": [],
   "source": [
    "topic_tree = etree.parse('data/topics2016.xml')\n",
    "def get_topic(i):# returns the summary string of the ith topic\n",
    "    summary = topic_tree.xpath('//topic[@number=\"%d\"]/summary/text()'%i)\n",
    "    return str(summary).lower()\n",
    "\n",
    "# get_topic(1)"
   ]
  },
  {
   "cell_type": "code",
   "execution_count": 5,
   "metadata": {
    "collapsed": false,
    "scrolled": true
   },
   "outputs": [],
   "source": [
    "# build a mapping of article name (PMCID) to its file path\n",
    "\n",
    "PMC_PATH = '/local/XW/DATA/TREC/PMCs/'\n",
    "pmcid2fpath = {}\n",
    "\n",
    "for subdir1 in os.listdir(PMC_PATH):\n",
    "    for subdir2 in os.listdir(os.path.join(PMC_PATH, subdir1)):\n",
    "        diry = os.path.join(PMC_PATH, subdir1, subdir2)\n",
    "#         print diry, len(os.listdir(diry))\n",
    "        for fn in os.listdir(diry):\n",
    "            pmcid = fn[:-5]\n",
    "            fpath = os.path.join(diry, fn)\n",
    "            pmcid2fpath[pmcid] = fpath\n",
    "\n",
    "# pmcid2fpath['3539039']"
   ]
  },
  {
   "cell_type": "code",
   "execution_count": 6,
   "metadata": {
    "collapsed": true
   },
   "outputs": [],
   "source": [
    "def get_article_abstract(pmcid):\n",
    "    fpath = pmcid2fpath[pmcid]\n",
    "    tree = etree.parse(fpath)\n",
    "    abstract = tree.xpath('//abstract')[0]\n",
    "    ret = u''+abstract.xpath('string(.)')\n",
    "    return ret.lower()"
   ]
  },
  {
   "cell_type": "code",
   "execution_count": null,
   "metadata": {
    "collapsed": false,
    "scrolled": true
   },
   "outputs": [],
   "source": [
    "get_article_abstract('3535727')"
   ]
  },
  {
   "cell_type": "code",
   "execution_count": null,
   "metadata": {
    "collapsed": false
   },
   "outputs": [],
   "source": [
    "get_article_abstract('64830')"
   ]
  },
  {
   "cell_type": "code",
   "execution_count": null,
   "metadata": {
    "collapsed": false
   },
   "outputs": [],
   "source": [
    "print get_article_abstract('4798933')"
   ]
  },
  {
   "cell_type": "code",
   "execution_count": null,
   "metadata": {
    "collapsed": false,
    "scrolled": true
   },
   "outputs": [],
   "source": [
    "print get_article_abstract('107838')"
   ]
  },
  {
   "cell_type": "code",
   "execution_count": null,
   "metadata": {
    "collapsed": true
   },
   "outputs": [],
   "source": [
    "topicidx = 1"
   ]
  },
  {
   "cell_type": "code",
   "execution_count": 69,
   "metadata": {
    "collapsed": false,
    "scrolled": true
   },
   "outputs": [
    {
     "name": "stderr",
     "output_type": "stream",
     "text": [
      " 19%|█▉        | 7138/37707 [00:08<00:39, 773.81it/s]\n"
     ]
    }
   ],
   "source": [
    "corpus = []\n",
    "topicid_pmcid_2relevance = {}\n",
    "with open('data/qrels.txt') as f:\n",
    "    for line in tqdm(f, total=37707): \n",
    "        topicid, _, pmcid, relevance = line.split()\n",
    "        if int(topicid)>5: break\n",
    "        try:\n",
    "            corpus.append(get_article_abstract(pmcid))\n",
    "            topicid_pmcid_2relevance[(topicid, pmcid)] = int(relevance)\n",
    "        except: pass"
   ]
  },
  {
   "cell_type": "code",
   "execution_count": 70,
   "metadata": {
    "collapsed": false
   },
   "outputs": [
    {
     "data": {
      "text/plain": [
       "6587"
      ]
     },
     "execution_count": 70,
     "metadata": {},
     "output_type": "execute_result"
    }
   ],
   "source": [
    "len(topicid_pmcid_2relevance)"
   ]
  },
  {
   "cell_type": "code",
   "execution_count": 60,
   "metadata": {
    "collapsed": false
   },
   "outputs": [
    {
     "data": {
      "text/plain": [
       "3765"
      ]
     },
     "execution_count": 60,
     "metadata": {},
     "output_type": "execute_result"
    }
   ],
   "source": [
    "len(corpus)"
   ]
  },
  {
   "cell_type": "code",
   "execution_count": 37,
   "metadata": {
    "collapsed": false
   },
   "outputs": [],
   "source": [
    "from keras.preprocessing.text import Tokenizer\n",
    "tokenizer = Tokenizer(filters='!\"#$%&()*+,-./:;<=>?@[\\\\]^_`{|}~\\t\\n'+'0123456789')\n",
    "tokenizer.fit_on_texts(corpus)"
   ]
  },
  {
   "cell_type": "code",
   "execution_count": 38,
   "metadata": {
    "collapsed": true
   },
   "outputs": [],
   "source": [
    "seqs = tokenizer.texts_to_sequences(corpus) # turn texts into seq of ids\n",
    "# seqs is list of list of integers"
   ]
  },
  {
   "cell_type": "code",
   "execution_count": 39,
   "metadata": {
    "collapsed": true
   },
   "outputs": [],
   "source": [
    "word2idx = tokenizer.word_index # dictionary mapping words (str) ---> their index (int)"
   ]
  },
  {
   "cell_type": "code",
   "execution_count": 40,
   "metadata": {
    "collapsed": false
   },
   "outputs": [],
   "source": [
    "idx2word = {v:k for k,v in word2idx.iteritems()}"
   ]
  },
  {
   "cell_type": "code",
   "execution_count": 44,
   "metadata": {
    "collapsed": false
   },
   "outputs": [
    {
     "data": {
      "text/plain": [
       "3765"
      ]
     },
     "execution_count": 44,
     "metadata": {},
     "output_type": "execute_result"
    }
   ],
   "source": [
    "tokenizer.document_count"
   ]
  },
  {
   "cell_type": "code",
   "execution_count": 71,
   "metadata": {
    "collapsed": false
   },
   "outputs": [],
   "source": [
    "from sklearn.feature_extraction.text import TfidfVectorizer\n",
    "vectorizer = TfidfVectorizer()\n",
    "vectorizer.fit_transform(corpus)\n",
    "\n",
    "def idf(wd):\n",
    "    if wd not in vectorizer.vocabulary_: return 0.0\n",
    "    return vectorizer.idf_[ vectorizer.vocabulary_[wd] ]"
   ]
  },
  {
   "cell_type": "code",
   "execution_count": 72,
   "metadata": {
    "collapsed": false,
    "scrolled": false
   },
   "outputs": [
    {
     "data": {
      "text/plain": [
       "(6587, 34784)"
      ]
     },
     "execution_count": 72,
     "metadata": {},
     "output_type": "execute_result"
    }
   ],
   "source": [
    "X.shape"
   ]
  },
  {
   "cell_type": "code",
   "execution_count": 81,
   "metadata": {
    "collapsed": false
   },
   "outputs": [
    {
     "name": "stdout",
     "output_type": "stream",
     "text": [
      "2.97298872662\n",
      "4.37247009203\n",
      "1.0256759435\n",
      "1.06668614034\n"
     ]
    }
   ],
   "source": [
    "print idf('heart')\n",
    "print idf('head')\n",
    "print idf('the')\n",
    "print idf('in')"
   ]
  },
  {
   "cell_type": "code",
   "execution_count": 80,
   "metadata": {
    "collapsed": false
   },
   "outputs": [
    {
     "data": {
      "text/plain": [
       "[u'backgroundthis',\n",
       " u'survey',\n",
       " u\"'s\",\n",
       " u'objective',\n",
       " u'was',\n",
       " u'to',\n",
       " u'provide',\n",
       " u'planning',\n",
       " u'information',\n",
       " u'by',\n",
       " u'examining',\n",
       " u'utilization',\n",
       " u'patterns',\n",
       " u',',\n",
       " u'health',\n",
       " u'outcomes',\n",
       " u'and',\n",
       " u'costs',\n",
       " u'associated',\n",
       " u'with',\n",
       " u'existing',\n",
       " u'practices',\n",
       " u'in',\n",
       " u'the',\n",
       " u'management',\n",
       " u'of',\n",
       " u'postpartum',\n",
       " u'women',\n",
       " u'and',\n",
       " u'their',\n",
       " u'infants',\n",
       " u'.',\n",
       " u'in',\n",
       " u'particular',\n",
       " u',',\n",
       " u'this',\n",
       " u'paper',\n",
       " u'looks',\n",
       " u'at',\n",
       " u'a',\n",
       " u'subgroup',\n",
       " u'of',\n",
       " u'women',\n",
       " u'who',\n",
       " u'score',\n",
       " u'\\u2265',\n",
       " u'12',\n",
       " u'on',\n",
       " u'the',\n",
       " u'edinburgh',\n",
       " u'postnatal',\n",
       " u'depression',\n",
       " u'survey',\n",
       " u'(',\n",
       " u'epds',\n",
       " u')',\n",
       " u'.methodsthe',\n",
       " u'design',\n",
       " u'is',\n",
       " u'cross-sectional',\n",
       " u'with',\n",
       " u'follow-up',\n",
       " u'at',\n",
       " u'four',\n",
       " u'weeks',\n",
       " u'after',\n",
       " u'postpartum',\n",
       " u'hospital',\n",
       " u'discharge',\n",
       " u'.',\n",
       " u'five',\n",
       " u'ontario',\n",
       " u'hospitals',\n",
       " u',',\n",
       " u'chosen',\n",
       " u'for',\n",
       " u'their',\n",
       " u'varied',\n",
       " u'size',\n",
       " u',',\n",
       " u'practice',\n",
       " u'characteristics',\n",
       " u',',\n",
       " u'and',\n",
       " u'geographic',\n",
       " u'location',\n",
       " u',',\n",
       " u'provided',\n",
       " u'the',\n",
       " u'setting',\n",
       " u'for',\n",
       " u'the',\n",
       " u'study',\n",
       " u'.',\n",
       " u'the',\n",
       " u'subjects',\n",
       " u'were',\n",
       " u'875',\n",
       " u'women',\n",
       " u'who',\n",
       " u'had',\n",
       " u'uncomplicated',\n",
       " u'vaginal',\n",
       " u'deliveries',\n",
       " u'of',\n",
       " u'live',\n",
       " u'singleton',\n",
       " u'infants',\n",
       " u'.',\n",
       " u'the',\n",
       " u'main',\n",
       " u'outcome',\n",
       " u'measures',\n",
       " u'were',\n",
       " u'the',\n",
       " u'epds',\n",
       " u',',\n",
       " u'the',\n",
       " u'duke',\n",
       " u'unc',\n",
       " u'functional',\n",
       " u'social',\n",
       " u'support',\n",
       " u'questionnaire',\n",
       " u'and',\n",
       " u'the',\n",
       " u'health',\n",
       " u'and',\n",
       " u'social',\n",
       " u'services',\n",
       " u'utilization',\n",
       " u'questionnaire.resultsepds',\n",
       " u'scores',\n",
       " u'of',\n",
       " u'\\u2265',\n",
       " u'12',\n",
       " u'were',\n",
       " u'found',\n",
       " u'in',\n",
       " u'4.3',\n",
       " u'to',\n",
       " u'15.2',\n",
       " u'%',\n",
       " u'of',\n",
       " u'otherwise',\n",
       " u'healthy',\n",
       " u'women',\n",
       " u'.',\n",
       " u'none',\n",
       " u'of',\n",
       " u'these',\n",
       " u'women',\n",
       " u'were',\n",
       " u'being',\n",
       " u'treated',\n",
       " u'for',\n",
       " u'postpartum',\n",
       " u'depression',\n",
       " u'.',\n",
       " u'best',\n",
       " u'predictors',\n",
       " u'of',\n",
       " u'an',\n",
       " u'epds',\n",
       " u'score',\n",
       " u'of',\n",
       " u'\\u2265',\n",
       " u'12',\n",
       " u'were',\n",
       " u'lack',\n",
       " u':',\n",
       " u'of',\n",
       " u'confident',\n",
       " u'support',\n",
       " u',',\n",
       " u'lack',\n",
       " u'of',\n",
       " u'affective',\n",
       " u'support',\n",
       " u',',\n",
       " u'household',\n",
       " u'income',\n",
       " u'of',\n",
       " u'<',\n",
       " u'$',\n",
       " u'20,000',\n",
       " u',',\n",
       " u'wanting',\n",
       " u'to',\n",
       " u'stay',\n",
       " u'in',\n",
       " u'hospital',\n",
       " u'longer',\n",
       " u',',\n",
       " u'identification',\n",
       " u'of',\n",
       " u'learning',\n",
       " u'needs',\n",
       " u'while',\n",
       " u'in',\n",
       " u'hospital',\n",
       " u',',\n",
       " u'self-identified',\n",
       " u'care',\n",
       " u'needs',\n",
       " u'for',\n",
       " u'an',\n",
       " u'emotional/mental',\n",
       " u'health',\n",
       " u'problem',\n",
       " u'that',\n",
       " u'have',\n",
       " u'not',\n",
       " u'been',\n",
       " u'met',\n",
       " u'and',\n",
       " u'mother',\n",
       " u\"'s\",\n",
       " u'rating',\n",
       " u'of',\n",
       " u'own',\n",
       " u'and',\n",
       " u'baby',\n",
       " u\"'s\",\n",
       " u'health',\n",
       " u'as',\n",
       " u'fair',\n",
       " u'or',\n",
       " u'poor.conclusionsprimary',\n",
       " u'care',\n",
       " u'physicians',\n",
       " u',',\n",
       " u'midwives',\n",
       " u',',\n",
       " u'and',\n",
       " u'public',\n",
       " u'health',\n",
       " u'nurses',\n",
       " u'need',\n",
       " u'to',\n",
       " u'screen',\n",
       " u'for',\n",
       " u'depression',\n",
       " u'at',\n",
       " u'every',\n",
       " u'opportunity',\n",
       " u'early',\n",
       " u'in',\n",
       " u'the',\n",
       " u'postpartum',\n",
       " u'period',\n",
       " u'.',\n",
       " u'a',\n",
       " u'mother',\n",
       " u\"'s\",\n",
       " u'expression',\n",
       " u'of',\n",
       " u'undue',\n",
       " u'concern',\n",
       " u'about',\n",
       " u'her',\n",
       " u'own',\n",
       " u'or',\n",
       " u'her',\n",
       " u'baby',\n",
       " u\"'s\",\n",
       " u'health',\n",
       " u'may',\n",
       " u'be',\n",
       " u'predictive',\n",
       " u'of',\n",
       " u'postpartum',\n",
       " u'depression',\n",
       " u'.',\n",
       " u'flexible',\n",
       " u',',\n",
       " u'mother-focused',\n",
       " u'support',\n",
       " u'from',\n",
       " u'community',\n",
       " u'providers',\n",
       " u'may',\n",
       " u'decrease',\n",
       " u'the',\n",
       " u'prevalence',\n",
       " u'of',\n",
       " u'postpartum',\n",
       " u'depression',\n",
       " u'.']"
      ]
     },
     "execution_count": 80,
     "metadata": {},
     "output_type": "execute_result"
    }
   ],
   "source": [
    "import nltk\n",
    "nltk.word_tokenize(corpus[0])"
   ]
  },
  {
   "cell_type": "code",
   "execution_count": 77,
   "metadata": {
    "collapsed": false
   },
   "outputs": [
    {
     "name": "stdout",
     "output_type": "stream",
     "text": [
      "showing info https://raw.githubusercontent.com/nltk/nltk_data/gh-pages/index.xml\n",
      "showing info https://raw.githubusercontent.com/nltk/nltk_data/gh-pages/index.xml\n",
      "showing info https://raw.githubusercontent.com/nltk/nltk_data/gh-pages/index.xml\n"
     ]
    }
   ],
   "source": [
    "nltk.download_gui()"
   ]
  }
 ],
 "metadata": {
  "anaconda-cloud": {},
  "kernelspec": {
   "display_name": "Python [conda env:thesis_nb]",
   "language": "python",
   "name": "conda-env-thesis_nb-py"
  },
  "language_info": {
   "codemirror_mode": {
    "name": "ipython",
    "version": 2
   },
   "file_extension": ".py",
   "mimetype": "text/x-python",
   "name": "python",
   "nbconvert_exporter": "python",
   "pygments_lexer": "ipython2",
   "version": "2.7.12"
  }
 },
 "nbformat": 4,
 "nbformat_minor": 1
}
