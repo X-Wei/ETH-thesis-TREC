{
 "cells": [
  {
   "cell_type": "code",
   "execution_count": 104,
   "metadata": {
    "collapsed": true
   },
   "outputs": [],
   "source": [
    "NOTE_DATA_DIR = '/local/XW/DATA/MIMIC/noteevents_by_sid/'"
   ]
  },
  {
   "cell_type": "code",
   "execution_count": 105,
   "metadata": {
    "collapsed": false
   },
   "outputs": [],
   "source": [
    "import os,sys, re\n",
    "import numpy as np\n",
    "import pandas as pd\n",
    "from tqdm import tqdm\n",
    "import cPickle as pk\n",
    "np.random.seed(1) # to be reproductive\n"
   ]
  },
  {
   "cell_type": "code",
   "execution_count": 106,
   "metadata": {
    "collapsed": false
   },
   "outputs": [],
   "source": [
    "from stop_words import get_stop_words\n",
    "en_stop = get_stop_words('en')\n",
    "en_stop = set(en_stop)\n",
    "\n",
    "from nltk.tokenize import RegexpTokenizer\n",
    "tokenizer = RegexpTokenizer(r'\\w+|_') # underscore can't be matched by \\W+\n",
    "\n",
    "from nltk.stem.porter import PorterStemmer\n",
    "p_stemmer = PorterStemmer()\n",
    "\n",
    "import gensim\n",
    "from gensim import corpora, models"
   ]
  },
  {
   "cell_type": "code",
   "execution_count": 107,
   "metadata": {
    "collapsed": true
   },
   "outputs": [],
   "source": [
    "notes = []\n",
    "for fn in os.listdir(NOTE_DATA_DIR):\n",
    "    fpath = os.path.join(NOTE_DATA_DIR, fn)\n",
    "    df = pd.read_csv(fpath)    \n",
    "    note = '\\n'.join(df.text).lower()\n",
    "    notes.append(note)"
   ]
  },
  {
   "cell_type": "code",
   "execution_count": 108,
   "metadata": {
    "collapsed": false
   },
   "outputs": [],
   "source": [
    "# filters=r'''!\"#$%&()*+,-./:;<=>?@[\\\\]^_`{|}~\\t\\n+0123456789'''\n",
    "# re.sub(filters, '', note)"
   ]
  },
  {
   "cell_type": "code",
   "execution_count": 109,
   "metadata": {
    "collapsed": false
   },
   "outputs": [],
   "source": [
    "texts = []\n",
    "for raw_note in notes:\n",
    "    no_stop = filter( lambda tk: tk not in en_stop, tokenizer.tokenize(raw_note) )\n",
    "    filtered = filter(lambda tk: pat.match(tk) is None and len(tk)>1, no_stop)\n",
    "    stemmed = map(lambda tk: p_stemmer.stem(tk), filtered)\n",
    "    texts.append( stemmed )"
   ]
  },
  {
   "cell_type": "code",
   "execution_count": 110,
   "metadata": {
    "collapsed": false,
    "scrolled": true
   },
   "outputs": [
    {
     "name": "stdout",
     "output_type": "stream",
     "text": [
      "[u'nurs', u'transfer', u'note', u'pt', u'admit', u'nicu', u'sepsi', u'eval', u'pleas', u'see', u'attend', u'note', u'detail', u'regard', u'matern', u'histori', u'deliveri', u'detail', u'infant', u'stabl', u'ra', u'rr', u'sat', u'ls', u'clear', u'retract', u'note', u'hr', u'murmur', u'infant', u'well', u'perfus', u'bw', u'cbc', u'bc', u'sent', u'pend', u'time', u'infant', u'sepsi', u'abx', u'amp', u'gent', u'piv', u'place', u'left', u'hand', u'med', u'administ', u'order', u'stick', u'infant', u'stabl', u'transfer', u'nbn', u'continu', u'monitor', u'sepsi', u'neonatolog', u'attend', u'triag', u'note', u'babi', u'name', u'ni', u'known', u'patient', u'lastnam', u'term', u'male', u'infant', u'admit', u'nicu', u'sepsi', u'evalu', u'ask', u'evalu', u'babi', u'dr', u'first', u'name4', u'namepattern1', u'last', u'name', u'namepattern1', u'mother', u'year', u'old', u'g1', u'p0', u'pn', u'po', u'ab', u'neg', u'hbsag', u'neg', u'rpr', u'nr', u'ri', u'gb', u'neg', u'pregnanc', u'uncompl', u'deliveri', u'section', u'failur', u'progress', u'apgar', u'mother', u'treat', u'antibiot', u'matern', u'temp', u'just', u'prior', u'deliveri', u'mother', u'temp', u'lower', u'hour', u'rose', u'pe', u'babi', u'name2', u'ni', u'vigor', u'aga', u'vs', u'hr', u'rr', u'bp', u'o2', u'sat', u'ra', u'heent', u'af', u'soft', u'flat', u'mold', u'note', u'palat', u'intact', u'resp', u'breath', u'sound', u'clear', u'equal', u'cv', u's1', u's2', u'normal', u'high', u'pitch', u'systol', u'murmur', u'lsb', u'abd', u'soft', u'normal', u'bowel', u'sound', u'organomegali', u'gu', u'normal', u'male', u'test', u'descend', u'bilater', u'neuro', u'tone', u'wnl', u'symmetr', u'exam', u'ds', u'assess', u'plan', u'term', u'male', u'infant', u'increas', u'risk', u'sepsi', u'will', u'check', u'cbc', u'diff', u'plat', u'blood', u'cultur', u'will', u'cover', u'antibiot', u'least', u'hour', u'pend', u'result', u'cultur', u'work', u'possibl', u'lp', u'cultur', u'posit', u'clinic', u'sign', u'sepsi', u'develop']\n"
     ]
    }
   ],
   "source": [
    "print texts[0]"
   ]
  },
  {
   "cell_type": "code",
   "execution_count": null,
   "metadata": {
    "collapsed": false
   },
   "outputs": [],
   "source": [
    "dictionary = corpora.Dictionary(texts)"
   ]
  },
  {
   "cell_type": "code",
   "execution_count": null,
   "metadata": {
    "collapsed": false
   },
   "outputs": [],
   "source": [
    "corpus = [dictionary.doc2bow(text) for text in texts] # convert to (token_id, token_cnt) tuple"
   ]
  },
  {
   "cell_type": "code",
   "execution_count": null,
   "metadata": {
    "collapsed": false
   },
   "outputs": [],
   "source": [
    "ldamodel = gensim.models.ldamodel.LdaModel(corpus, num_topics=300, id2word = dictionary, passes=20)"
   ]
  },
  {
   "cell_type": "code",
   "execution_count": null,
   "metadata": {
    "collapsed": false
   },
   "outputs": [],
   "source": [
    "ldamodel.print_topics(20)"
   ]
  },
  {
   "cell_type": "code",
   "execution_count": null,
   "metadata": {
    "collapsed": true
   },
   "outputs": [],
   "source": []
  }
 ],
 "metadata": {
  "anaconda-cloud": {},
  "kernelspec": {
   "display_name": "Python [conda env:thesis_nb]",
   "language": "python",
   "name": "conda-env-thesis_nb-py"
  },
  "language_info": {
   "codemirror_mode": {
    "name": "ipython",
    "version": 2
   },
   "file_extension": ".py",
   "mimetype": "text/x-python",
   "name": "python",
   "nbconvert_exporter": "python",
   "pygments_lexer": "ipython2",
   "version": "2.7.12"
  }
 },
 "nbformat": 4,
 "nbformat_minor": 1
}
