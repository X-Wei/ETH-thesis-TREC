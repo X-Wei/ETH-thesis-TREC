{
 "cells": [
  {
   "cell_type": "code",
   "execution_count": 1,
   "metadata": {
    "collapsed": false
   },
   "outputs": [
    {
     "name": "stderr",
     "output_type": "stream",
     "text": [
      "Using TensorFlow backend.\n"
     ]
    }
   ],
   "source": [
    "import os, sys, time\n",
    "import numpy as np\n",
    "import pandas as pd\n",
    "from tqdm import tqdm\n",
    "import cPickle as pk\n",
    "np.random.seed(1) # to be reproductive\n",
    "\n",
    "from keras.preprocessing.text import Tokenizer\n",
    "from keras.preprocessing.sequence import pad_sequences\n",
    "from keras.layers import Dense, Input, Flatten, Dropout\n",
    "from keras.layers import Conv1D, MaxPooling1D, Embedding\n",
    "from keras.layers import Conv2D, MaxPooling2D, Reshape\n",
    "from keras.models import Sequential\n",
    "from keras.models import load_model\n",
    "from keras.utils.np_utils import to_categorical\n",
    "from keras.callbacks import TensorBoard\n",
    "from keras.callbacks import Callback, EarlyStopping\n",
    "import keras.backend as K\n",
    "from keras.layers import Input, Dense, Activation\n",
    "from keras.models import Model"
   ]
  },
  {
   "cell_type": "code",
   "execution_count": 2,
   "metadata": {
    "collapsed": true
   },
   "outputs": [],
   "source": [
    "ENCODING_DIM = 500\n",
    "INPUT_DIM = 59790\n",
    "NOISE_PORTION = 0.5 # randomly mask protion\n",
    "VALIDATION_SPLIT = 0.2\n",
    "BATCH_SZ = 128\n",
    "NB_EPOCH = 50"
   ]
  },
  {
   "cell_type": "code",
   "execution_count": 3,
   "metadata": {
    "collapsed": false
   },
   "outputs": [],
   "source": [
    "input_raw = Input(shape=(INPUT_DIM,))\n",
    "# *** for final dpvec, should I take the activations before relu ??? ***\n",
    "hiddenlayer = Dense(ENCODING_DIM, activation='relu')\n",
    "outputlayer = Dense(INPUT_DIM, activation='sigmoid')\n",
    "\n",
    "encoded = hiddenlayer(input_raw)\n",
    "decoded = outputlayer(encoded)\n",
    "\n",
    "# this model maps an input to its reconstruction\n",
    "autoencoder = Model(input=input_raw, output=decoded)\n",
    "autoencoder.compile(optimizer='adadelta', loss='binary_crossentropy')"
   ]
  },
  {
   "cell_type": "code",
   "execution_count": 4,
   "metadata": {
    "collapsed": true
   },
   "outputs": [],
   "source": [
    "X = pk.load(open('./data/umls_raw_feature.pk'))"
   ]
  },
  {
   "cell_type": "code",
   "execution_count": 5,
   "metadata": {
    "collapsed": false
   },
   "outputs": [],
   "source": [
    "# X = X[:100]"
   ]
  },
  {
   "cell_type": "code",
   "execution_count": 6,
   "metadata": {
    "collapsed": false
   },
   "outputs": [],
   "source": [
    "shuffle_index = np.arange(np.shape(X)[0])\n",
    "np.random.shuffle(shuffle_index)\n",
    "X = X[shuffle_index]"
   ]
  },
  {
   "cell_type": "code",
   "execution_count": 7,
   "metadata": {
    "collapsed": false
   },
   "outputs": [
    {
     "name": "stdout",
     "output_type": "stream",
     "text": [
      "(36916, 59790) (9230, 59790)\n"
     ]
    }
   ],
   "source": [
    "train_sz = int(X.shape[0]*(1-VALIDATION_SPLIT))\n",
    "X_train = X[:train_sz]\n",
    "X_val = X[train_sz:]\n",
    "print X_train.shape, X_val.shape"
   ]
  },
  {
   "cell_type": "code",
   "execution_count": 8,
   "metadata": {
    "collapsed": true
   },
   "outputs": [],
   "source": [
    "def add_noise(X):\n",
    "    nb_masked = int(INPUT_DIM*NOISE_PORTION)\n",
    "    masks = []\n",
    "    mask = [0]*nb_masked+[1]*(INPUT_DIM-nb_masked)\n",
    "    for i in xrange(X.shape[0]):\n",
    "        np.random.shuffle(mask)\n",
    "        masks.append(mask)\n",
    "    masks = np.array(masks)\n",
    "    X_noisy = X * masks\n",
    "    return X_noisy"
   ]
  },
  {
   "cell_type": "code",
   "execution_count": 9,
   "metadata": {
    "collapsed": true
   },
   "outputs": [],
   "source": [
    "def batch_generator(X, batch_size=BATCH_SZ): \n",
    "    shuffle_index = np.arange(X.shape[0])\n",
    "    np.random.shuffle(shuffle_index)\n",
    "    X =  X[shuffle_index, :]\n",
    "    \n",
    "    samples_per_epoch = X.shape[0]\n",
    "    number_of_batches = samples_per_epoch//batch_size\n",
    "    counter=0\n",
    "    while 1:\n",
    "        index_batch = shuffle_index[batch_size*counter: min(samples_per_epoch, batch_size*(counter+1))]\n",
    "        X_batch = np.array(X[index_batch,:].todense()) # or directly .toarray()... \n",
    "        X_batch_noisy = add_noise(X_batch)\n",
    "        counter += 1\n",
    "        if (counter >= number_of_batches):\n",
    "            np.random.shuffle(shuffle_index)\n",
    "            counter=0\n",
    "        yield ( X_batch_noisy, X_batch ) # X: corrupted, y: original "
   ]
  },
  {
   "cell_type": "code",
   "execution_count": 10,
   "metadata": {
    "collapsed": false,
    "scrolled": true
   },
   "outputs": [
    {
     "name": "stdout",
     "output_type": "stream",
     "text": [
      "Epoch 1/50\n",
      "36864/36916 [============================>.] - ETA: 0s - loss: 0.6508"
     ]
    },
    {
     "name": "stderr",
     "output_type": "stream",
     "text": [
      "/local/XW/SOFT/anaconda2/envs/thesis_nb/lib/python2.7/site-packages/keras/engine/training.py:1462: UserWarning: Epoch comprised more than `samples_per_epoch` samples, which might affect learning results. Set `samples_per_epoch` correctly to avoid this warning.\n",
      "  warnings.warn('Epoch comprised more than '\n"
     ]
    },
    {
     "name": "stdout",
     "output_type": "stream",
     "text": [
      "36992/36916 [==============================] - 672s - loss: 0.6500 - val_loss: 0.4213\n",
      "Epoch 2/50\n",
      "36992/36916 [==============================] - 672s - loss: 0.1797 - val_loss: 0.1023\n",
      "Epoch 3/50\n",
      "36992/36916 [==============================] - 710s - loss: 0.0873 - val_loss: 0.0775\n",
      "Epoch 4/50\n",
      "36992/36916 [==============================] - 753s - loss: 0.0730 - val_loss: 0.0700\n",
      "Epoch 5/50\n",
      "36992/36916 [==============================] - 784s - loss: 0.0669 - val_loss: 0.0653\n",
      "Epoch 6/50\n",
      "36992/36916 [==============================] - 806s - loss: 0.0630 - val_loss: 0.0614\n",
      "Epoch 7/50\n",
      "36992/36916 [==============================] - 786s - loss: 0.0601 - val_loss: 0.0601\n",
      "Epoch 8/50\n",
      "36992/36916 [==============================] - 704s - loss: 0.0585 - val_loss: 0.0580\n",
      "Epoch 9/50\n",
      "36992/36916 [==============================] - 678s - loss: 0.0568 - val_loss: 0.0565\n",
      "Epoch 10/50\n",
      "36992/36916 [==============================] - 674s - loss: 0.0557 - val_loss: 0.0555\n",
      "Epoch 11/50\n",
      "36992/36916 [==============================] - 684s - loss: 0.0547 - val_loss: 0.0544\n",
      "Epoch 12/50\n",
      "36992/36916 [==============================] - 680s - loss: 0.0538 - val_loss: 0.0543\n",
      "Epoch 13/50\n",
      "36992/36916 [==============================] - 694s - loss: 0.0532 - val_loss: 0.0525\n",
      "Epoch 14/50\n",
      "36992/36916 [==============================] - 690s - loss: 0.0524 - val_loss: 0.0528\n",
      "Epoch 15/50\n",
      "36992/36916 [==============================] - 688s - loss: 0.0520 - val_loss: 0.0523\n",
      "Epoch 16/50\n",
      "36992/36916 [==============================] - 688s - loss: 0.0513 - val_loss: 0.0511\n",
      "Epoch 17/50\n",
      "36992/36916 [==============================] - 695s - loss: 0.0509 - val_loss: 0.0510\n",
      "Epoch 18/50\n",
      "36992/36916 [==============================] - 699s - loss: 0.0507 - val_loss: 0.0509\n",
      "Epoch 19/50\n",
      "36992/36916 [==============================] - 695s - loss: 0.0498 - val_loss: 0.0501\n",
      "Epoch 20/50\n",
      "36992/36916 [==============================] - 695s - loss: 0.0498 - val_loss: 0.0497\n",
      "Epoch 21/50\n",
      "36992/36916 [==============================] - 686s - loss: 0.0492 - val_loss: 0.0494\n",
      "Epoch 22/50\n",
      "36992/36916 [==============================] - 674s - loss: 0.0489 - val_loss: 0.0489\n",
      "Epoch 23/50\n",
      "36992/36916 [==============================] - 676s - loss: 0.0483 - val_loss: 0.0485\n",
      "Epoch 24/50\n",
      "36992/36916 [==============================] - 676s - loss: 0.0483 - val_loss: 0.0483\n",
      "Epoch 25/50\n",
      "36992/36916 [==============================] - 657s - loss: 0.0475 - val_loss: 0.0476\n",
      "Epoch 26/50\n",
      "36992/36916 [==============================] - 587s - loss: 0.0472 - val_loss: 0.0474\n",
      "Epoch 27/50\n",
      "36992/36916 [==============================] - 578s - loss: 0.0467 - val_loss: 0.0469\n",
      "Epoch 28/50\n",
      "36992/36916 [==============================] - 581s - loss: 0.0463 - val_loss: 0.0462\n",
      "Epoch 29/50\n",
      "36992/36916 [==============================] - 575s - loss: 0.0457 - val_loss: 0.0455\n",
      "Epoch 30/50\n",
      "36992/36916 [==============================] - 575s - loss: 0.0451 - val_loss: 0.0450\n",
      "Epoch 31/50\n",
      "36992/36916 [==============================] - 576s - loss: 0.0445 - val_loss: 0.0447\n",
      "Epoch 32/50\n",
      "36992/36916 [==============================] - 576s - loss: 0.0439 - val_loss: 0.0441\n",
      "Epoch 33/50\n",
      "36992/36916 [==============================] - 577s - loss: 0.0435 - val_loss: 0.0434\n",
      "Epoch 34/50\n",
      "36992/36916 [==============================] - 578s - loss: 0.0429 - val_loss: 0.0425\n",
      "Epoch 35/50\n",
      "36992/36916 [==============================] - 575s - loss: 0.0424 - val_loss: 0.0423\n",
      "Epoch 36/50\n",
      "36992/36916 [==============================] - 575s - loss: 0.0418 - val_loss: 0.0419\n",
      "Epoch 37/50\n",
      "36992/36916 [==============================] - 575s - loss: 0.0414 - val_loss: 0.0415\n",
      "Epoch 38/50\n",
      "36992/36916 [==============================] - 575s - loss: 0.0409 - val_loss: 0.0411\n",
      "Epoch 39/50\n",
      "36992/36916 [==============================] - 577s - loss: 0.0408 - val_loss: 0.0405\n",
      "Epoch 40/50\n",
      "36992/36916 [==============================] - 576s - loss: 0.0402 - val_loss: 0.0405\n",
      "Epoch 41/50\n",
      "36992/36916 [==============================] - 579s - loss: 0.0400 - val_loss: 0.0397\n",
      "Epoch 42/50\n",
      "36992/36916 [==============================] - 575s - loss: 0.0397 - val_loss: 0.0398\n",
      "Epoch 43/50\n",
      "36992/36916 [==============================] - 575s - loss: 0.0394 - val_loss: 0.0394\n",
      "Epoch 44/50\n",
      "36992/36916 [==============================] - 575s - loss: 0.0391 - val_loss: 0.0393\n",
      "Epoch 45/50\n",
      "36992/36916 [==============================] - 578s - loss: 0.0390 - val_loss: 0.0395\n",
      "Epoch 46/50\n",
      "36992/36916 [==============================] - 578s - loss: 0.0387 - val_loss: 0.0388\n",
      "Epoch 47/50\n",
      "36992/36916 [==============================] - 580s - loss: 0.0387 - val_loss: 0.0388\n",
      "Epoch 48/50\n",
      "36992/36916 [==============================] - 575s - loss: 0.0384 - val_loss: 0.0387\n",
      "Epoch 49/50\n",
      "36992/36916 [==============================] - 576s - loss: 0.0383 - val_loss: 0.0384\n",
      "Epoch 50/50\n",
      "36992/36916 [==============================] - 575s - loss: 0.0380 - val_loss: 0.0384\n",
      "run \"tensorboard --logdir=logs/autoencoder\" to launch tensorboard\n"
     ]
    }
   ],
   "source": [
    "logdir = 'logs/autoencoder'\n",
    "_callbacks = [EarlyStopping(monitor='val_loss', patience=2),\n",
    "              TensorBoard(log_dir=logdir, histogram_freq=0, write_graph=False) # \n",
    "             ]\n",
    "# ~11G memory usage\n",
    "autoencoder.fit_generator(\n",
    "    generator=batch_generator(X_train, batch_size=BATCH_SZ),\n",
    "    samples_per_epoch=X_train.shape[0],\n",
    "    validation_data = batch_generator(X_val, batch_size=BATCH_SZ),\n",
    "    nb_val_samples = X_val.shape[0],\n",
    "    nb_epoch=NB_EPOCH, \n",
    "    callbacks = _callbacks )\n",
    "print 'run \"tensorboard --logdir=%s\" to launch tensorboard'%logdir"
   ]
  },
  {
   "cell_type": "markdown",
   "metadata": {},
   "source": [
    "# generating deep patient vectors"
   ]
  },
  {
   "cell_type": "code",
   "execution_count": 11,
   "metadata": {
    "collapsed": true
   },
   "outputs": [],
   "source": [
    "sid2dpvec = {} # maps sid(int) to the deep patient vector (dim=500, dense vector)"
   ]
  },
  {
   "cell_type": "code",
   "execution_count": 12,
   "metadata": {
    "collapsed": true
   },
   "outputs": [],
   "source": [
    "MODEL_PATH = './models/'\n",
    "model_fpath = os.path.join( MODEL_PATH, 'autoencoder.h5' )\n",
    "autoencoder.save(model_fpath)"
   ]
  },
  {
   "cell_type": "code",
   "execution_count": 16,
   "metadata": {
    "collapsed": false
   },
   "outputs": [],
   "source": [
    "Xtest = X[:10]\n",
    "Xtest = Xtest.toarray()"
   ]
  },
  {
   "cell_type": "code",
   "execution_count": 17,
   "metadata": {
    "collapsed": false
   },
   "outputs": [
    {
     "data": {
      "text/plain": [
       "array([[ 0.,  0.,  0., ...,  0.,  0.,  0.],\n",
       "       [ 0.,  0.,  0., ...,  0.,  0.,  0.],\n",
       "       [ 0.,  0.,  0., ...,  0.,  0.,  0.],\n",
       "       ..., \n",
       "       [ 0.,  0.,  0., ...,  0.,  0.,  0.],\n",
       "       [ 0.,  0.,  0., ...,  0.,  0.,  0.],\n",
       "       [ 0.,  0.,  0., ...,  0.,  0.,  0.]])"
      ]
     },
     "execution_count": 17,
     "metadata": {},
     "output_type": "execute_result"
    }
   ],
   "source": [
    "Xtest"
   ]
  },
  {
   "cell_type": "code",
   "execution_count": 18,
   "metadata": {
    "collapsed": true
   },
   "outputs": [],
   "source": [
    "encoded2 = hiddenlayer(decoded)\n",
    "decode2 =outputlayer(encoded2)\n",
    "encoded3 = hiddenlayer(decode2)"
   ]
  },
  {
   "cell_type": "code",
   "execution_count": 19,
   "metadata": {
    "collapsed": true
   },
   "outputs": [],
   "source": [
    "dpencoder = Model(input=input_raw, output=encoded3)"
   ]
  },
  {
   "cell_type": "code",
   "execution_count": 25,
   "metadata": {
    "collapsed": true
   },
   "outputs": [],
   "source": [
    "dpencoder.save(os.path.join(MODEL_PATH, 'dpencoder.h5'))"
   ]
  },
  {
   "cell_type": "code",
   "execution_count": 21,
   "metadata": {
    "collapsed": false
   },
   "outputs": [],
   "source": [
    "dpvec = dpencoder.predict(Xtest) # deep patient feature vecs"
   ]
  },
  {
   "cell_type": "code",
   "execution_count": 22,
   "metadata": {
    "collapsed": false
   },
   "outputs": [
    {
     "data": {
      "text/plain": [
       "array([[  0.05022343,   0.91315228,   2.74883175, ...,  10.09865475,\n",
       "          1.0744679 ,   0.        ],\n",
       "       [  0.0700089 ,   0.64521551,   3.30494046, ...,   7.43990088,\n",
       "          1.53842115,   0.        ],\n",
       "       [  0.07036356,   0.68368161,   3.3699851 , ...,   7.93069601,\n",
       "          1.55791414,   0.        ],\n",
       "       ..., \n",
       "       [  0.01348547,   1.03034902,   1.77273345, ...,  10.32262516,\n",
       "          0.46413344,   0.        ],\n",
       "       [  0.04973714,   0.49226749,   2.75314713, ...,   5.57210684,\n",
       "          1.22105801,   0.        ],\n",
       "       [  0.06937402,   0.64268863,   3.3057766 , ...,   7.40880632,\n",
       "          1.53373861,   0.        ]], dtype=float32)"
      ]
     },
     "execution_count": 22,
     "metadata": {},
     "output_type": "execute_result"
    }
   ],
   "source": [
    "dpvec"
   ]
  },
  {
   "cell_type": "code",
   "execution_count": 23,
   "metadata": {
    "collapsed": false
   },
   "outputs": [
    {
     "data": {
      "text/plain": [
       "array([[ 0.        ,  1.29652154,  0.97244507, ...,  9.34387779,\n",
       "         0.        ,  0.        ],\n",
       "       [ 0.05863165,  0.79796082,  1.24403846, ...,  8.36209679,\n",
       "         0.54034084,  0.        ],\n",
       "       [ 0.07767202,  0.78847355,  1.2612294 , ...,  7.23636293,\n",
       "         0.6363281 ,  0.05814032],\n",
       "       ..., \n",
       "       [ 0.03601322,  0.46379206,  0.85510164, ...,  9.61740685,\n",
       "         0.04049516,  0.        ],\n",
       "       [ 0.03429135,  0.63824004,  2.17142415, ...,  5.81032801,\n",
       "         1.15960836,  0.        ],\n",
       "       [ 0.        ,  0.77705055,  1.85124552, ...,  8.17969513,\n",
       "         0.19800772,  0.        ]], dtype=float32)"
      ]
     },
     "execution_count": 23,
     "metadata": {},
     "output_type": "execute_result"
    }
   ],
   "source": [
    "encoder = Model(input=input_raw, output=encoded) # first hidden layer\n",
    "encoder.predict(Xtest)"
   ]
  },
  {
   "cell_type": "code",
   "execution_count": 24,
   "metadata": {
    "collapsed": false
   },
   "outputs": [
    {
     "data": {
      "text/plain": [
       "array([[  9.18666087e-03,   1.03058386e+00,   1.76229382e+00, ...,\n",
       "          1.02850342e+01,   4.50387120e-01,   0.00000000e+00],\n",
       "       [  6.03783354e-02,   8.17490637e-01,   3.08688331e+00, ...,\n",
       "          9.35246086e+00,   1.34000301e+00,   0.00000000e+00],\n",
       "       [  5.16502447e-02,   8.35695267e-01,   2.89522815e+00, ...,\n",
       "          9.37288857e+00,   1.21300662e+00,   0.00000000e+00],\n",
       "       ..., \n",
       "       [  0.00000000e+00,   1.07883680e+00,   1.11776173e+00, ...,\n",
       "          1.02465630e+01,   8.53298604e-02,   0.00000000e+00],\n",
       "       [  5.39490208e-02,   5.56160033e-01,   2.89145684e+00, ...,\n",
       "          6.33792496e+00,   1.28273761e+00,   0.00000000e+00],\n",
       "       [  5.12225330e-02,   8.30166876e-01,   3.15035653e+00, ...,\n",
       "          9.40587044e+00,   1.30656862e+00,   0.00000000e+00]], dtype=float32)"
      ]
     },
     "execution_count": 24,
     "metadata": {},
     "output_type": "execute_result"
    }
   ],
   "source": [
    "encoder2 = Model(input=input_raw, output=encoded2) # 2nd hidden layer\n",
    "encoder2.predict(Xtest)"
   ]
  },
  {
   "cell_type": "code",
   "execution_count": 29,
   "metadata": {
    "collapsed": false
   },
   "outputs": [
    {
     "name": "stderr",
     "output_type": "stream",
     "text": [
      "100%|██████████| 361/361 [05:35<00:00,  1.30it/s]\n"
     ]
    }
   ],
   "source": [
    "dpvecs = []\n",
    "for i in tqdm(xrange(0, X.shape[0], BATCH_SZ)):\n",
    "    \n",
    "    x_batch = X[i:min(i+BATCH_SZ, X.shape[0])].toarray()\n",
    "    dpveci = dpencoder.predict(x_batch)\n",
    "    dpvecs.append(dpveci)\n",
    "dpvecs = np.vstack(dpvecs)"
   ]
  },
  {
   "cell_type": "code",
   "execution_count": 30,
   "metadata": {
    "collapsed": false
   },
   "outputs": [
    {
     "data": {
      "text/plain": [
       "(46146, 500)"
      ]
     },
     "execution_count": 30,
     "metadata": {},
     "output_type": "execute_result"
    }
   ],
   "source": [
    "dpvecs.shape"
   ]
  }
 ],
 "metadata": {
  "anaconda-cloud": {},
  "kernelspec": {
   "display_name": "Python [conda env:thesis_nb]",
   "language": "python",
   "name": "conda-env-thesis_nb-py"
  },
  "language_info": {
   "codemirror_mode": {
    "name": "ipython",
    "version": 2
   },
   "file_extension": ".py",
   "mimetype": "text/x-python",
   "name": "python",
   "nbconvert_exporter": "python",
   "pygments_lexer": "ipython2",
   "version": "2.7.12"
  }
 },
 "nbformat": 4,
 "nbformat_minor": 1
}
