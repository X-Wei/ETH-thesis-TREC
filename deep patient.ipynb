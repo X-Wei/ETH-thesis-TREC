{
 "cells": [
  {
   "cell_type": "code",
   "execution_count": 1,
   "metadata": {
    "collapsed": false
   },
   "outputs": [
    {
     "name": "stderr",
     "output_type": "stream",
     "text": [
      "Using TensorFlow backend.\n"
     ]
    }
   ],
   "source": [
    "import os, sys, time\n",
    "import numpy as np\n",
    "import pandas as pd\n",
    "from tqdm import tqdm\n",
    "import cPickle as pk\n",
    "np.random.seed(1) # to be reproductive\n",
    "\n",
    "from keras.preprocessing.text import Tokenizer\n",
    "from keras.preprocessing.sequence import pad_sequences\n",
    "from keras.layers import Dense, Input, Flatten, Dropout\n",
    "from keras.layers import Conv1D, MaxPooling1D, Embedding\n",
    "from keras.layers import Conv2D, MaxPooling2D, Reshape\n",
    "from keras.models import Sequential\n",
    "from keras.models import load_model\n",
    "from keras.utils.np_utils import to_categorical\n",
    "from keras.callbacks import TensorBoard\n",
    "from keras.callbacks import Callback, EarlyStopping\n",
    "import keras.backend as K\n",
    "from keras.layers import Input, Dense, Activation\n",
    "from keras.models import Model"
   ]
  },
  {
   "cell_type": "code",
   "execution_count": 2,
   "metadata": {
    "collapsed": true
   },
   "outputs": [],
   "source": [
    "ENCODING_DIM = 500\n",
    "INPUT_DIM = 59790\n",
    "NOISE_PORTION = 0.5 # randomly mask protion\n",
    "VALIDATION_SPLIT = 0.2\n",
    "BATCH_SZ = 128\n",
    "NB_EPOCH = 50"
   ]
  },
  {
   "cell_type": "code",
   "execution_count": 3,
   "metadata": {
    "collapsed": false
   },
   "outputs": [],
   "source": [
    "input_raw = Input(shape=(INPUT_DIM,))\n",
    "# *** for final dpvec, should I take the activations before relu ??? ***\n",
    "hiddenlayer = Dense(ENCODING_DIM, activation='relu')\n",
    "outputlayer = Dense(INPUT_DIM, activation='sigmoid')\n",
    "\n",
    "encoded = hiddenlayer(input_raw)\n",
    "decoded = outputlayer(encoded)\n",
    "\n",
    "# this model maps an input to its reconstruction\n",
    "autoencoder = Model(input=input_raw, output=decoded)\n",
    "autoencoder.compile(optimizer='adadelta', loss='binary_crossentropy')"
   ]
  },
  {
   "cell_type": "code",
   "execution_count": 4,
   "metadata": {
    "collapsed": true
   },
   "outputs": [],
   "source": [
    "X = pk.load(open('./data/umls_raw_feature.pk'))"
   ]
  },
  {
   "cell_type": "code",
   "execution_count": 5,
   "metadata": {
    "collapsed": false
   },
   "outputs": [],
   "source": [
    "# X = X[:100]"
   ]
  },
  {
   "cell_type": "code",
   "execution_count": 6,
   "metadata": {
    "collapsed": false
   },
   "outputs": [],
   "source": [
    "shuffle_index = np.arange(np.shape(X)[0])\n",
    "np.random.shuffle(shuffle_index)\n",
    "X = X[shuffle_index]"
   ]
  },
  {
   "cell_type": "code",
   "execution_count": 7,
   "metadata": {
    "collapsed": false
   },
   "outputs": [
    {
     "name": "stdout",
     "output_type": "stream",
     "text": [
      "(36916, 59790) (9230, 59790)\n"
     ]
    }
   ],
   "source": [
    "train_sz = int(X.shape[0]*(1-VALIDATION_SPLIT))\n",
    "X_train = X[:train_sz]\n",
    "X_val = X[train_sz:]\n",
    "print X_train.shape, X_val.shape"
   ]
  },
  {
   "cell_type": "code",
   "execution_count": 8,
   "metadata": {
    "collapsed": true
   },
   "outputs": [],
   "source": [
    "def add_noise(X):\n",
    "    nb_masked = int(INPUT_DIM*NOISE_PORTION)\n",
    "    masks = []\n",
    "    mask = [0]*nb_masked+[1]*(INPUT_DIM-nb_masked)\n",
    "    for i in xrange(X.shape[0]):\n",
    "        np.random.shuffle(mask)\n",
    "        masks.append(mask)\n",
    "    masks = np.array(masks)\n",
    "    X_noisy = X * masks\n",
    "    return X_noisy"
   ]
  },
  {
   "cell_type": "code",
   "execution_count": 9,
   "metadata": {
    "collapsed": true
   },
   "outputs": [],
   "source": [
    "def batch_generator(X, batch_size=BATCH_SZ): \n",
    "    shuffle_index = np.arange(X.shape[0])\n",
    "    np.random.shuffle(shuffle_index)\n",
    "    X =  X[shuffle_index, :]\n",
    "    \n",
    "    samples_per_epoch = X.shape[0]\n",
    "    number_of_batches = samples_per_epoch//batch_size\n",
    "    counter=0\n",
    "    while 1:\n",
    "        index_batch = shuffle_index[batch_size*counter: min(samples_per_epoch, batch_size*(counter+1))]\n",
    "        X_batch = np.array(X[index_batch,:].todense())\n",
    "        X_batch_noisy = add_noise(X_batch)\n",
    "        counter += 1\n",
    "        if (counter >= number_of_batches):\n",
    "            np.random.shuffle(shuffle_index)\n",
    "            counter=0\n",
    "        yield ( X_batch_noisy, X_batch ) # X: corrupted, y: original "
   ]
  },
  {
   "cell_type": "code",
   "execution_count": null,
   "metadata": {
    "collapsed": false
   },
   "outputs": [
    {
     "name": "stdout",
     "output_type": "stream",
     "text": [
      "Epoch 1/50\n",
      "  896/36916 [..............................] - ETA: 744s - loss: 0.6931"
     ]
    }
   ],
   "source": [
    "logdir = 'logs/autoencoder'\n",
    "_callbacks = [EarlyStopping(monitor='val_loss', patience=2),\n",
    "              TensorBoard(log_dir=logdir, histogram_freq=0, write_graph=False) # \n",
    "             ]\n",
    "# ~11G memory usage\n",
    "autoencoder.fit_generator(\n",
    "    generator=batch_generator(X_train, batch_size=BATCH_SZ),\n",
    "    samples_per_epoch=X_train.shape[0],\n",
    "    validation_data = batch_generator(X_val, batch_size=BATCH_SZ),\n",
    "    nb_val_samples = X_val.shape[0],\n",
    "    nb_epoch=NB_EPOCH, \n",
    "    callbacks = _callbacks )\n",
    "print 'run \"tensorboard --logdir=%s\" to launch tensorboard'%logdir"
   ]
  },
  {
   "cell_type": "code",
   "execution_count": null,
   "metadata": {
    "collapsed": true
   },
   "outputs": [],
   "source": [
    "sid2dpvec = {} # maps sid(int) to the deep patient vector (dim=500, dense vector)"
   ]
  },
  {
   "cell_type": "code",
   "execution_count": null,
   "metadata": {
    "collapsed": true
   },
   "outputs": [],
   "source": []
  }
 ],
 "metadata": {
  "anaconda-cloud": {},
  "kernelspec": {
   "display_name": "Python [conda env:thesis_nb]",
   "language": "python",
   "name": "conda-env-thesis_nb-py"
  },
  "language_info": {
   "codemirror_mode": {
    "name": "ipython",
    "version": 2
   },
   "file_extension": ".py",
   "mimetype": "text/x-python",
   "name": "python",
   "nbconvert_exporter": "python",
   "pygments_lexer": "ipython2",
   "version": "2.7.12"
  }
 },
 "nbformat": 4,
 "nbformat_minor": 1
}
