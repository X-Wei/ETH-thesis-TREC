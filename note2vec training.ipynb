{
 "cells": [
  {
   "cell_type": "code",
   "execution_count": 1,
   "metadata": {
    "collapsed": false
   },
   "outputs": [
    {
     "name": "stderr",
     "output_type": "stream",
     "text": [
      "Using TensorFlow backend.\n"
     ]
    }
   ],
   "source": [
    "import os,sys\n",
    "import numpy as np\n",
    "import pandas as pd\n",
    "from tqdm import tqdm\n",
    "import cPickle as pk\n",
    "np.random.seed(1) # to be reproductive\n",
    "\n",
    "from keras.preprocessing.text import Tokenizer\n",
    "from keras.preprocessing.sequence import pad_sequences\n",
    "from keras.layers import Dense, Input, Flatten\n",
    "from keras.layers import Conv1D, MaxPooling1D, Embedding\n",
    "from keras.models import Model"
   ]
  },
  {
   "cell_type": "code",
   "execution_count": 2,
   "metadata": {
    "collapsed": false
   },
   "outputs": [],
   "source": [
    "# paths\n",
    "NOTE_DATA_DIR = '/local/XW/DATA/MIMIC/noteevents_by_sid/'\n",
    "ICD_FPATH = './subject_icds.txt'\n",
    "# constants\n",
    "N_LABELS = 40\n",
    "K_ICDS_TOKEEP = N_LABELS - 1 # predict only on top K frequent icd codes\n",
    "N_SUBJECTS = 41886\n",
    "# word2vec configurations\n",
    "GLOVE_DIR = '/local/XW/DATA/glove.6B/'\n",
    "MAX_SEQ_LEN = 1000\n",
    "MAX_NB_WORDS = 20000 # top 20k most freq words\n",
    "EMBEDDING_DIM = 100\n",
    "# learning configurations\n",
    "VALIDATION_SPLIT = 0.2\n",
    "N_EPOCHS = 10\n",
    "SZ_BATCH = 128"
   ]
  },
  {
   "cell_type": "markdown",
   "metadata": {},
   "source": [
    "# 1. Data preparation"
   ]
  },
  {
   "cell_type": "markdown",
   "metadata": {},
   "source": [
    "## prepare label: k-hot encoding for icd code "
   ]
  },
  {
   "cell_type": "code",
   "execution_count": 3,
   "metadata": {
    "collapsed": false
   },
   "outputs": [
    {
     "name": "stderr",
     "output_type": "stream",
     "text": [
      "100%|██████████| 41886/41886 [00:00<00:00, 100579.90it/s]\n"
     ]
    }
   ],
   "source": [
    "# load the icd code into a defaultdict\n",
    "from collections import Counter\n",
    "sid2icds = {} # map subject_id ---> icd codes of this patient\n",
    "icd_ctr = Counter()\n",
    "with open(ICD_FPATH) as f: \n",
    "    for line in tqdm(f, total=N_SUBJECTS): \n",
    "        codes = map(int, line.split())\n",
    "        sid, _icds = codes[0], codes[1:]\n",
    "        icd_ctr.update(_icds)\n",
    "        sid2icds[sid] = set(_icds)\n",
    "#         print sid, icd[sid]"
   ]
  },
  {
   "cell_type": "code",
   "execution_count": 4,
   "metadata": {
    "collapsed": false
   },
   "outputs": [
    {
     "name": "stdout",
     "output_type": "stream",
     "text": [
      "[(3893, 14631), (9604, 10234), (966, 9245), (9671, 8983), (9904, 7235), (3961, 6831), (9672, 5973), (9955, 5748), (8856, 5324), (3891, 4669), (3615, 4397), (9915, 4228), (8872, 3536), (3722, 3306), (3995, 3235), (3324, 3222), (4513, 2911), (9390, 2721), (3723, 2702), (9983, 2391), (5491, 2209), (331, 2198), (8853, 2112), (640, 2084), (9907, 2026), (3612, 1901), (3491, 1825), (3895, 1812), (311, 1768), (9920, 1737), (3404, 1705), (3897, 1667), (40, 1646), (8841, 1564), (4311, 1530), (3613, 1502), (3521, 1419), (66, 1321), (3606, 1255)]\n"
     ]
    }
   ],
   "source": [
    "print icd_ctr.most_common(K_ICDS_TOKEEP)"
   ]
  },
  {
   "cell_type": "code",
   "execution_count": 7,
   "metadata": {
    "collapsed": false
   },
   "outputs": [
    {
     "name": "stdout",
     "output_type": "stream",
     "text": [
      "(3893, 9604, 966, 9671, 9904, 3961, 9672, 9955, 8856, 3891, 3615, 9915, 8872, 3722, 3995, 3324, 4513, 9390, 3723, 9983, 5491, 331, 8853, 640, 9907, 3612, 3491, 3895, 311, 9920, 3404, 3897, 40, 8841, 4311, 3613, 3521, 66, 3606, 'other')\n"
     ]
    }
   ],
   "source": [
    "icds = zip( *icd_ctr.most_common(K_ICDS_TOKEEP) )[0] + ('other',)\n",
    "print icds # these are icds to predict"
   ]
  },
  {
   "cell_type": "code",
   "execution_count": 8,
   "metadata": {
    "collapsed": false,
    "scrolled": true
   },
   "outputs": [
    {
     "name": "stdout",
     "output_type": "stream",
     "text": [
      "[[ 0.  0.  0.  0.  0.  0.  0.  1.  0.  0.  0.  0.  0.  0.  0.  0.  0.  0.\n",
      "   0.  0.  0.  0.  0.  0.  0.  0.  0.  0.  0.  0.  0.  0.  0.  0.  0.  0.\n",
      "   0.  0.  0.  0.]\n",
      " [ 1.  1.  1.  0.  0.  0.  1.  0.  0.  0.  0.  0.  0.  0.  0.  0.  0.  0.\n",
      "   0.  0.  0.  0.  0.  0.  0.  0.  0.  0.  0.  0.  0.  0.  0.  0.  0.  0.\n",
      "   0.  0.  0.  1.]]\n"
     ]
    }
   ],
   "source": [
    "# now turn each subject into a k-hot vector\n",
    "sid2khot = {} # map subject_id to k-hot vector\n",
    "\n",
    "for sid in sid2icds.keys():\n",
    "    _khot = np.zeros(N_LABELS)\n",
    "    for _icd in sid2icds[sid]:\n",
    "        if _icd in icds: \n",
    "            _khot[icds.index(_icd)] = 1\n",
    "        else: # label 'other icds'\n",
    "            _khot[-1] = 1\n",
    "    sid2khot[sid] = _khot\n",
    "\n",
    "print np.array( [sid2khot[i] for i in [2,3]] )\n",
    "\n",
    "    "
   ]
  },
  {
   "cell_type": "code",
   "execution_count": 9,
   "metadata": {
    "collapsed": false,
    "scrolled": true
   },
   "outputs": [],
   "source": [
    "# Y = np.zeros( (N_SUBJECTS, N_LABELS) )\n",
    "# for i,sid in enumerate(sorted(sid2icds.keys())):\n",
    "#     for _icd in sid2icds[sid]:\n",
    "#         if _icd in icds: \n",
    "#             Y[i,icds.index(_icd)] = 1\n",
    "#         else: # label 'other icds'\n",
    "#             Y[i, -1] = 1\n",
    "# # a small check\n",
    "# print sid2icds.items()[:2]\n",
    "# print icds\n",
    "# print Y[:2,]"
   ]
  },
  {
   "cell_type": "markdown",
   "metadata": {},
   "source": [
    "## prepare `X`: each note to be a (fixe-length) sequence of word ids"
   ]
  },
  {
   "cell_type": "code",
   "execution_count": 10,
   "metadata": {
    "collapsed": false
   },
   "outputs": [
    {
     "name": "stderr",
     "output_type": "stream",
     "text": [
      "100%|██████████| 41886/41886 [01:24<00:00, 496.91it/s]"
     ]
    },
    {
     "name": "stdout",
     "output_type": "stream",
     "text": [
      "found 41886 texts\n"
     ]
    },
    {
     "name": "stderr",
     "output_type": "stream",
     "text": [
      "\n"
     ]
    }
   ],
   "source": [
    "# prepare text\n",
    "texts = [] # text bodies\n",
    "labels = [] # k-hot labels\n",
    "for fname in tqdm(os.listdir(NOTE_DATA_DIR)): # the data is 3.7G in size, can be hold in memory...\n",
    "    sid = int(fname[:-4]) \n",
    "    labels.append(sid2khot[sid])\n",
    "    fpath = os.path.join(NOTE_DATA_DIR, fname)\n",
    "    df = pd.read_csv(fpath)\n",
    "    texts.append( '\\n=======\\n\\n\\n'.join(df['text']) )\n",
    "print('found %d texts' % len(texts))"
   ]
  },
  {
   "cell_type": "markdown",
   "metadata": {},
   "source": [
    "**Now vectorize the notes**"
   ]
  },
  {
   "cell_type": "code",
   "execution_count": null,
   "metadata": {
    "collapsed": true
   },
   "outputs": [],
   "source": [
    "tokenizer = Tokenizer(nb_words=MAX_NB_WORDS, # filter out numbers, otherwise lots of numbers\n",
    "                     filters='!\"#$%&()*+,-./:;<=>?@[\\\\]^_`{|}~\\t\\n'+'0123456789') \n",
    "tokenizer.fit_on_texts(texts) # this is required before using `texts_to_sequences`, might take time\n",
    "seqs = tokenizer.texts_to_sequences(texts) # turn article into list of ids\n",
    "word_index = tokenizer.word_index # dictionary mapping words (str) to their index (int)"
   ]
  },
  {
   "cell_type": "markdown",
   "metadata": {},
   "source": [
    "** let's do some stat on seq length**"
   ]
  },
  {
   "cell_type": "code",
   "execution_count": 10,
   "metadata": {
    "collapsed": false
   },
   "outputs": [
    {
     "data": {
      "image/png": "[encoded data removed]",
      "text/plain": [
       "<matplotlib.figure.Figure at 0x7fef727265d0>"
      ]
     },
     "metadata": {},
     "output_type": "display_data"
    }
   ],
   "source": [
    "seqlen = map(len, seqs)\n",
    "import matplotlib.pyplot as plt\n",
    "%matplotlib inline \n",
    "import pylab\n",
    "pylab.rcParams['figure.figsize'] = (10, 5)\n",
    "h = plt.hist(seqlen, bins=200)"
   ]
  },
  {
   "cell_type": "code",
   "execution_count": 11,
   "metadata": {
    "collapsed": false
   },
   "outputs": [
    {
     "data": {
      "text/plain": [
       "[<matplotlib.lines.Line2D at 0x7fef51913bd0>]"
      ]
     },
     "execution_count": 11,
     "metadata": {},
     "output_type": "execute_result"
    },
    {
     "data": {
      "image/png": "[encoded data removed]",
      "text/plain": [
       "<matplotlib.figure.Figure at 0x7fef71e46550>"
      ]
     },
     "metadata": {},
     "output_type": "display_data"
    }
   ],
   "source": [
    "plt.plot(sorted(seqlen, reverse=True))"
   ]
  },
  {
   "cell_type": "markdown",
   "metadata": {},
   "source": [
    "So set MAX_SEQ_LENGTH=1000 should make sense.."
   ]
  },
  {
   "cell_type": "code",
   "execution_count": 12,
   "metadata": {
    "collapsed": false,
    "scrolled": true
   },
   "outputs": [
    {
     "name": "stdout",
     "output_type": "stream",
     "text": [
      "found 363215 unique tokens, use most frequent 20000 of them\n"
     ]
    }
   ],
   "source": [
    "# for seq in seqs[:2]:\n",
    "#     print seq\n",
    "#     print '======'\n",
    "\n",
    "print 'found %s unique tokens, use most frequent %d of them'%(len(word_index), MAX_NB_WORDS)"
   ]
  },
  {
   "cell_type": "code",
   "execution_count": 13,
   "metadata": {
    "collapsed": false
   },
   "outputs": [
    {
     "name": "stdout",
     "output_type": "stream",
     "text": [
      "[('and', 1), ('to', 2), ('the', 3), ('of', 4), ('with', 5), ('for', 6), ('in', 7), ('no', 8), ('is', 9), ('on', 10), ('a', 11), ('was', 12), ('pt', 13), ('at', 14), ('am', 15), ('name', 16), ('s', 17), ('mg', 18), ('o', 19), ('left', 20), ('this', 21), ('as', 22), ('right', 23), ('ml', 24), ('patient', 25), ('pm', 26), ('p', 27), ('l', 28), ('last', 29), ('there', 30), ('not', 31), ('are', 32), ('or', 33), ('w', 34), ('from', 35), ('c', 36), ('chest', 37), ('plan', 38), ('normal', 39), ('hr', 40), ('po', 41), ('reason', 42), ('t', 43), ('clip', 44), ('pain', 45), ('dl', 46), ('be', 47), ('d', 48), ('has', 49), ('ct', 50), ('continue', 51), ('he', 52), ('cc', 53), ('blood', 54), ('assessment', 55), ('x', 56), ('location', 57), ('status', 58), ('by', 59), ('stable', 60), ('day', 61), ('but', 62), ('year', 63), ('noted', 64), ('tube', 65), ('she', 66), ('well', 67), ('history', 68), ('hospital', 69), ('given', 70), ('contrast', 71), ('will', 72), ('old', 73), ('iv', 74), ('cont', 75), ('examination', 76), ('medical', 77), ('radiology', 78), ('respiratory', 79), ('care', 80), ('monitor', 81), ('r', 82), ('other', 83), ('q', 84), ('report', 85), ('fluid', 86), ('clear', 87), ('acute', 88), ('number', 89), ('bp', 90), ('seen', 91), ('first', 92), ('final', 93), ('were', 94), ('small', 95), ('now', 96), ('valve', 97), ('kg', 98), ('had', 99), ('meq', 100)]\n"
     ]
    }
   ],
   "source": [
    "print sorted(word_index.items(), key=lambda (k,v): v)[:100] # TODO: remove stopwords"
   ]
  },
  {
   "cell_type": "code",
   "execution_count": 14,
   "metadata": {
    "collapsed": false
   },
   "outputs": [],
   "source": [
    "data = pad_sequences(seqs, maxlen=MAX_SEQ_LEN)\n",
    "labels = np.array(labels)"
   ]
  },
  {
   "cell_type": "code",
   "execution_count": 15,
   "metadata": {
    "collapsed": false
   },
   "outputs": [
    {
     "name": "stdout",
     "output_type": "stream",
     "text": [
      "('shape of data tensor:', (41886, 1000))\n",
      "('shape of label tensor:', (41886, 40))\n"
     ]
    }
   ],
   "source": [
    "print('shape of data tensor:', data.shape)\n",
    "print('shape of label tensor:', labels.shape)"
   ]
  },
  {
   "cell_type": "markdown",
   "metadata": {},
   "source": [
    "## Split training and testing data"
   ]
  },
  {
   "cell_type": "code",
   "execution_count": 16,
   "metadata": {
    "collapsed": true
   },
   "outputs": [],
   "source": [
    "# split data\n",
    "indices = np.arange(data.shape[0])\n",
    "np.random.shuffle(indices)\n",
    "data, labels = data[indices], labels[indices]\n",
    "validset_sz = int(VALIDATION_SPLIT*data.shape[0])\n",
    "\n",
    "X_train, Y_train = data[:-validset_sz], labels[:-validset_sz]\n",
    "X_val, Y_val = data[-validset_sz:], labels[-validset_sz:]"
   ]
  },
  {
   "cell_type": "markdown",
   "metadata": {},
   "source": [
    "## Prepare embedding matrix(vector of each wd in dictionary)"
   ]
  },
  {
   "cell_type": "code",
   "execution_count": 17,
   "metadata": {
    "collapsed": false
   },
   "outputs": [
    {
     "name": "stderr",
     "output_type": "stream",
     "text": [
      "100%|██████████| 400000/400000 [00:07<00:00, 53447.82it/s]"
     ]
    },
    {
     "name": "stdout",
     "output_type": "stream",
     "text": [
      "found 400000 word vectors.\n"
     ]
    },
    {
     "name": "stderr",
     "output_type": "stream",
     "text": [
      "\n"
     ]
    }
   ],
   "source": [
    "# build index mapping: map word to its vector\n",
    "\n",
    "word2vec = {} # maps word ---> embedding vector\n",
    "with open(os.path.join(GLOVE_DIR, 'glove.6B.100d.txt')) as f:\n",
    "    for line in tqdm(f, total=400000):\n",
    "        vals = line.split()\n",
    "        word = vals[0]\n",
    "        word2vec[word] = np.asarray(vals[1:], dtype='float')\n",
    "print 'found %d word vectors.' % len(word2vec)"
   ]
  },
  {
   "cell_type": "code",
   "execution_count": 18,
   "metadata": {
    "collapsed": false
   },
   "outputs": [
    {
     "name": "stderr",
     "output_type": "stream",
     "text": [
      "100%|██████████| 363215/363215 [00:00<00:00, 2098307.41it/s]\n"
     ]
    }
   ],
   "source": [
    "nb_words = min(MAX_NB_WORDS, len(word_index))\n",
    "embedding_matrix = np.zeros( (nb_words+1, EMBEDDING_DIM) ) # +1 because ids in sequences starts from 1 ?\n",
    "for word,wd_id in tqdm(word_index.items()): \n",
    "    if wd_id > MAX_NB_WORDS or word not in word2vec: # there might be 0 rows in embedding matrix\n",
    "        continue # word_id>MAX_NB_WORDS, this id is not in the generated sequences, discard\n",
    "    embedding_matrix[wd_id,:] = word2vec[word]"
   ]
  },
  {
   "cell_type": "markdown",
   "metadata": {
    "collapsed": true
   },
   "source": [
    "---"
   ]
  },
  {
   "cell_type": "markdown",
   "metadata": {},
   "source": [
    "# 2. Model training"
   ]
  },
  {
   "cell_type": "code",
   "execution_count": 19,
   "metadata": {
    "collapsed": true
   },
   "outputs": [],
   "source": [
    "from keras.models import Sequential"
   ]
  },
  {
   "cell_type": "code",
   "execution_count": 20,
   "metadata": {
    "collapsed": false
   },
   "outputs": [],
   "source": [
    "model = Sequential([\n",
    "        Embedding(input_dim=nb_words+1,output_dim=EMBEDDING_DIM, weights=[embedding_matrix],\n",
    "          input_length=MAX_SEQ_LEN, trainable=False #keep the embeddings fixed\n",
    "         ),# embedding layer\n",
    "        Conv1D(128, 5, activation='relu'),\n",
    "        MaxPooling1D(5),\n",
    "        Conv1D(128, 5, activation='relu'),\n",
    "        MaxPooling1D(5),\n",
    "        Flatten(),\n",
    "        Dense(N_LABELS, activation='softmax') # candidate: sigmoid/tanh?\n",
    "    ])\n"
   ]
  },
  {
   "cell_type": "code",
   "execution_count": 21,
   "metadata": {
    "collapsed": false
   },
   "outputs": [],
   "source": [
    "# define our own metrics \n",
    "\n",
    "import keras.backend as K\n",
    "\n",
    "def relax_acc(y_true, y_pred): # shape: (None,N_LABELS)\n",
    "    '''relaxed accuracy for the case when y_true is K-hot \n",
    "    if the predicted icd code is in the patient's icds, then it's good\n",
    "    \n",
    "    **note:**\n",
    "    the y_pred is the softmax output, we need to make it into 1-hot encoding \n",
    "    * via K.round() -- doesn't work well , lots of 0s\n",
    "    * by hand -- doesn't work either: \n",
    "    >InvalidArgumentError: You must feed a value for placeholder tensor 'embedding_input_4' with dtype int32\n",
    "    \n",
    "    ==> so the output is not the accuracy as we defined, but a *continus relaxation* version...\n",
    "    '''\n",
    "#     y_pred =K.round(y_pred) # doesn't work well, lots of 0s\n",
    "\n",
    "#     onehot = np.zeros_like(y_pred)\n",
    "#     onehot[:, K.eval(K.argmax(y_pred, axis=1))] = 1.0\n",
    "#     import tensorflow as tf\n",
    "#     y_pred = tf.constant(onehot)\n",
    "    \n",
    "#     idx = range(K.int_shape(y_pred)[0])\n",
    "#     K.equal( y_true[idx,K.argmax(y_pred, axis=1)],\n",
    "#             K.ones_like(idx) )\n",
    "\n",
    "    \n",
    "    y_int = y_pred * y_true # element-wise mul, intersection\n",
    "    return K.mean( K.sum(y_int, axis=-1) )\n",
    "\n",
    "# TODO: custom loss function suitable for multi-label senarios ??\n",
    "# example: element-wise mul of softmax and y_true ? \n",
    "\n",
    "model.compile(loss='categorical_crossentropy',\n",
    "             optimizer='rmsprop',\n",
    "             metrics=[relax_acc])"
   ]
  },
  {
   "cell_type": "code",
   "execution_count": 22,
   "metadata": {
    "collapsed": false
   },
   "outputs": [
    {
     "name": "stdout",
     "output_type": "stream",
     "text": [
      "Train on 33509 samples, validate on 8377 samples\n",
      "Epoch 1/10\n",
      "33509/33509 [==============================] - 587s - loss: 11.4102 - relax_acc: 0.3099 - val_loss: 11.0087 - val_relax_acc: 0.3432\n",
      "Epoch 2/10\n",
      "33509/33509 [==============================] - 592s - loss: 10.4760 - relax_acc: 0.3848 - val_loss: 10.4518 - val_relax_acc: 0.4043\n",
      "Epoch 3/10\n",
      "33509/33509 [==============================] - 590s - loss: 10.0962 - relax_acc: 0.4203 - val_loss: 10.3279 - val_relax_acc: 0.4277\n",
      "Epoch 4/10\n",
      "33509/33509 [==============================] - 593s - loss: 9.8169 - relax_acc: 0.4493 - val_loss: 10.2577 - val_relax_acc: 0.4435\n",
      "Epoch 5/10\n",
      "33509/33509 [==============================] - 596s - loss: 9.5505 - relax_acc: 0.4770 - val_loss: 10.2421 - val_relax_acc: 0.4441\n",
      "Epoch 6/10\n",
      "33509/33509 [==============================] - 596s - loss: 9.2863 - relax_acc: 0.5055 - val_loss: 10.5523 - val_relax_acc: 0.5039\n",
      "Epoch 7/10\n",
      "33509/33509 [==============================] - 597s - loss: 9.0282 - relax_acc: 0.5350 - val_loss: 10.4115 - val_relax_acc: 0.4469\n",
      "Epoch 8/10\n",
      "33509/33509 [==============================] - 599s - loss: 8.7711 - relax_acc: 0.5642 - val_loss: 10.6411 - val_relax_acc: 0.4404\n",
      "Epoch 9/10\n",
      "33509/33509 [==============================] - 604s - loss: 8.5373 - relax_acc: 0.5922 - val_loss: 10.8667 - val_relax_acc: 0.4717\n",
      "Epoch 10/10\n",
      "33509/33509 [==============================] - 600s - loss: 8.3266 - relax_acc: 0.6197 - val_loss: 11.0068 - val_relax_acc: 0.4804\n"
     ]
    },
    {
     "data": {
      "text/plain": [
       "<keras.callbacks.History at 0x7fef447f3f90>"
      ]
     },
     "execution_count": 22,
     "metadata": {},
     "output_type": "execute_result"
    }
   ],
   "source": [
    "model.fit(X_train, Y_train, \n",
    "          validation_data=(X_val, Y_val),\n",
    "          nb_epoch=N_EPOCHS,\n",
    "          batch_size=SZ_BATCH\n",
    "         )\n"
   ]
  },
  {
   "cell_type": "code",
   "execution_count": 23,
   "metadata": {
    "collapsed": false
   },
   "outputs": [
    {
     "name": "stdout",
     "output_type": "stream",
     "text": [
      "8377/8377 [==============================] - 58s    \n"
     ]
    },
    {
     "name": "stderr",
     "output_type": "stream",
     "text": [
      "8377it [00:00, 245121.28it/s]"
     ]
    },
    {
     "name": "stdout",
     "output_type": "stream",
     "text": [
      "8377 cases checked, 6148 correct, accuracy=0.733914289\n"
     ]
    },
    {
     "name": "stderr",
     "output_type": "stream",
     "text": [
      "\n"
     ]
    }
   ],
   "source": [
    "n_correct = 0\n",
    "for i,y_pred in tqdm(enumerate(model.predict_classes(X_val))):\n",
    "    y_true = Y_val[i,:]\n",
    "    y_true = np.where(y_true==1)[0]\n",
    "#     print y_pred, y_true, ('correct' if y_pred in y_true else 'wrong')\n",
    "    if y_pred in y_true: \n",
    "        n_correct +=1 \n",
    "\n",
    "print '%d cases checked, %d correct, accuracy=%.9f' % (X_val.shape[0], n_correct, float(n_correct)/X_val.shape[0] )"
   ]
  },
  {
   "cell_type": "code",
   "execution_count": 24,
   "metadata": {
    "collapsed": false
   },
   "outputs": [],
   "source": [
    "def evaluate_model(model):\n",
    "    from keras.utils.np_utils import to_categorical\n",
    "    print K.eval(\n",
    "        relax_acc(K.variable(Y_val), \n",
    "                  K.variable((to_categorical(model.predict_classes(X_val)))) )\n",
    "        )"
   ]
  },
  {
   "cell_type": "code",
   "execution_count": 25,
   "metadata": {
    "collapsed": false,
    "scrolled": false
   },
   "outputs": [
    {
     "name": "stdout",
     "output_type": "stream",
     "text": [
      "Train on 33509 samples, validate on 8377 samples\n",
      "Epoch 1/10\n",
      "33509/33509 [==============================] - 493s - loss: 12.0296 - relax_acc: 0.3068 - val_loss: 10.7525 - val_relax_acc: 0.3820\n",
      "Epoch 2/10\n",
      "33509/33509 [==============================] - 489s - loss: 10.2422 - relax_acc: 0.4098 - val_loss: 10.6882 - val_relax_acc: 0.4061\n",
      "Epoch 3/10\n",
      "33509/33509 [==============================] - 489s - loss: 9.5775 - relax_acc: 0.4779 - val_loss: 10.7519 - val_relax_acc: 0.3967\n",
      "Epoch 4/10\n",
      "33509/33509 [==============================] - 491s - loss: 9.0290 - relax_acc: 0.5410 - val_loss: 11.0375 - val_relax_acc: 0.4311\n",
      "Epoch 5/10\n",
      "33509/33509 [==============================] - 496s - loss: 8.5848 - relax_acc: 0.5959 - val_loss: 11.6918 - val_relax_acc: 0.4913\n",
      "Epoch 6/10\n",
      "33509/33509 [==============================] - 493s - loss: 8.2238 - relax_acc: 0.6438 - val_loss: 13.0898 - val_relax_acc: 0.5593\n",
      "Epoch 7/10\n",
      "33509/33509 [==============================] - 492s - loss: 7.9526 - relax_acc: 0.6826 - val_loss: 12.8081 - val_relax_acc: 0.5301\n",
      "Epoch 8/10\n",
      "33509/33509 [==============================] - 493s - loss: 7.7240 - relax_acc: 0.7157 - val_loss: 12.5785 - val_relax_acc: 0.4744\n",
      "Epoch 9/10\n",
      "33509/33509 [==============================] - 493s - loss: 7.5430 - relax_acc: 0.7435 - val_loss: 12.8284 - val_relax_acc: 0.4394\n",
      "Epoch 10/10\n",
      "33509/33509 [==============================] - 489s - loss: 7.3945 - relax_acc: 0.7666 - val_loss: 13.6053 - val_relax_acc: 0.5205\n"
     ]
    },
    {
     "data": {
      "text/plain": [
       "<keras.callbacks.History at 0x7fef445c5ad0>"
      ]
     },
     "execution_count": 25,
     "metadata": {},
     "output_type": "execute_result"
    }
   ],
   "source": [
    "# with only 1 conv1d layer\n",
    "model = Sequential([\n",
    "        Embedding(input_dim=nb_words+1,output_dim=EMBEDDING_DIM, weights=[embedding_matrix],\n",
    "          input_length=MAX_SEQ_LEN, trainable=False #keep the embeddings fixed\n",
    "         ),# embedding layer\n",
    "        Conv1D(128, 5, activation='relu'),\n",
    "        MaxPooling1D(5),\n",
    "        Flatten(),\n",
    "        Dense(N_LABELS, activation='softmax') # candidate: sigmoid/tanh?\n",
    "    ])\n",
    "model.compile(loss='categorical_crossentropy',\n",
    "             optimizer='rmsprop',\n",
    "             metrics=[relax_acc])\n",
    "model.fit(X_train, Y_train, \n",
    "          validation_data=(X_val, Y_val),\n",
    "          nb_epoch=N_EPOCHS,\n",
    "          batch_size=SZ_BATCH\n",
    "         )"
   ]
  },
  {
   "cell_type": "code",
   "execution_count": 26,
   "metadata": {
    "collapsed": false,
    "scrolled": true
   },
   "outputs": [
    {
     "name": "stdout",
     "output_type": "stream",
     "text": [
      "8377/8377 [==============================] - 50s    \n",
      "0.665871\n"
     ]
    }
   ],
   "source": [
    "evaluate_model(model)"
   ]
  },
  {
   "cell_type": "code",
   "execution_count": 27,
   "metadata": {
    "collapsed": false
   },
   "outputs": [
    {
     "name": "stdout",
     "output_type": "stream",
     "text": [
      "Train on 33509 samples, validate on 8377 samples\n",
      "Epoch 1/10\n",
      "33509/33509 [==============================] - 613s - loss: 11.5490 - relax_acc: 0.2994 - val_loss: 10.9064 - val_relax_acc: 0.3420\n",
      "Epoch 2/10\n",
      "33509/33509 [==============================] - 611s - loss: 10.6765 - relax_acc: 0.3678 - val_loss: 10.4984 - val_relax_acc: 0.3623\n",
      "Epoch 3/10\n",
      "33509/33509 [==============================] - 607s - loss: 10.2979 - relax_acc: 0.4011 - val_loss: 10.2817 - val_relax_acc: 0.4080\n",
      "Epoch 4/10\n",
      "33509/33509 [==============================] - 616s - loss: 10.0537 - relax_acc: 0.4257 - val_loss: 10.2419 - val_relax_acc: 0.4019\n",
      "Epoch 5/10\n",
      "33509/33509 [==============================] - 618s - loss: 9.8760 - relax_acc: 0.4441 - val_loss: 10.1074 - val_relax_acc: 0.4512\n",
      "Epoch 6/10\n",
      "33509/33509 [==============================] - 619s - loss: 9.7114 - relax_acc: 0.4612 - val_loss: 10.3502 - val_relax_acc: 0.4634\n",
      "Epoch 7/10\n",
      "33509/33509 [==============================] - 621s - loss: 9.5664 - relax_acc: 0.4763 - val_loss: 10.0526 - val_relax_acc: 0.4610\n",
      "Epoch 8/10\n",
      "33509/33509 [==============================] - 624s - loss: 9.4201 - relax_acc: 0.4911 - val_loss: 10.5454 - val_relax_acc: 0.5371\n",
      "Epoch 9/10\n",
      "33509/33509 [==============================] - 620s - loss: 9.2697 - relax_acc: 0.5075 - val_loss: 10.1138 - val_relax_acc: 0.4162\n",
      "Epoch 10/10\n",
      "33509/33509 [==============================] - 621s - loss: 9.1147 - relax_acc: 0.5246 - val_loss: 10.2256 - val_relax_acc: 0.4808\n"
     ]
    },
    {
     "data": {
      "text/plain": [
       "<keras.callbacks.History at 0x7fef402bbfd0>"
      ]
     },
     "execution_count": 27,
     "metadata": {},
     "output_type": "execute_result"
    }
   ],
   "source": [
    "# a 3-convlayer model\n",
    "model = Sequential([\n",
    "        Embedding(input_dim=nb_words+1,output_dim=EMBEDDING_DIM, weights=[embedding_matrix],\n",
    "          input_length=MAX_SEQ_LEN, trainable=False \n",
    "         ),# embedding layer\n",
    "        Conv1D(128, 5, activation='relu'),\n",
    "        MaxPooling1D(5),\n",
    "        Conv1D(128, 5, activation='relu'),\n",
    "        MaxPooling1D(5),\n",
    "        Conv1D(128, 5, activation='relu'),\n",
    "        MaxPooling1D(5),\n",
    "        Flatten(),\n",
    "        Dense(N_LABELS, activation='softmax') \n",
    "    ])\n",
    "\n",
    "model.compile(loss='categorical_crossentropy',\n",
    "             optimizer='rmsprop',\n",
    "             metrics=[relax_acc])\n",
    "model.fit(X_train, Y_train, \n",
    "          validation_data=(X_val, Y_val),\n",
    "          nb_epoch=N_EPOCHS,\n",
    "          batch_size=SZ_BATCH\n",
    "         )"
   ]
  },
  {
   "cell_type": "code",
   "execution_count": null,
   "metadata": {
    "collapsed": false
   },
   "outputs": [
    {
     "name": "stdout",
     "output_type": "stream",
     "text": [
      "8377/8377 [==============================] - 60s    \n",
      "0.794198\n"
     ]
    }
   ],
   "source": [
    "evaluate_model(model)"
   ]
  },
  {
   "cell_type": "code",
   "execution_count": null,
   "metadata": {
    "collapsed": false
   },
   "outputs": [
    {
     "name": "stdout",
     "output_type": "stream",
     "text": [
      "Train on 33509 samples, validate on 8377 samples\n",
      "Epoch 1/10\n"
     ]
    }
   ],
   "source": [
    "# 2d conv models\n",
    "from keras.layers import Conv2D, MaxPooling2D, Reshape\n",
    "model = Sequential([\n",
    "        Embedding(input_dim=nb_words+1,output_dim=EMBEDDING_DIM, weights=[embedding_matrix],\n",
    "          input_length=MAX_SEQ_LEN, trainable=False \n",
    "         ),# embedding layer\n",
    "        Reshape( (MAX_SEQ_LEN, EMBEDDING_DIM, 1) ),\n",
    "        Conv2D(128, 5, 5, activation='relu', input_shape=(None, MAX_SEQ_LEN, EMBEDDING_DIM, 1) ),\n",
    "        MaxPooling2D((2,2)),\n",
    "        Flatten(),\n",
    "        Dense(N_LABELS, activation='softmax') \n",
    "    ])\n",
    "\n",
    "model.compile(loss='categorical_crossentropy',\n",
    "             optimizer='rmsprop',\n",
    "             metrics=[relax_acc])\n",
    "\n",
    "## fitting this model uses up all memory...\n",
    "# model.fit(X_train, Y_train, \n",
    "#           validation_data=(X_val, Y_val),\n",
    "#           nb_epoch=N_EPOCHS,\n",
    "#           batch_size=SZ_BATCH\n",
    "#          )\n",
    "# evaluate_model(model)"
   ]
  },
  {
   "cell_type": "code",
   "execution_count": null,
   "metadata": {
    "collapsed": true
   },
   "outputs": [],
   "source": []
  }
 ],
 "metadata": {
  "anaconda-cloud": {},
  "kernelspec": {
   "display_name": "Python [conda env:thesis_nb]",
   "language": "python",
   "name": "conda-env-thesis_nb-py"
  },
  "language_info": {
   "codemirror_mode": {
    "name": "ipython",
    "version": 2
   },
   "file_extension": ".py",
   "mimetype": "text/x-python",
   "name": "python",
   "nbconvert_exporter": "python",
   "pygments_lexer": "ipython2",
   "version": "2.7.12"
  }
 },
 "nbformat": 4,
 "nbformat_minor": 1
}
